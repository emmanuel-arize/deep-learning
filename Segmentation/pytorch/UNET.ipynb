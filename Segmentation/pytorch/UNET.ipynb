{
 "cells": [
  {
   "cell_type": "markdown",
   "id": "bb26fa2d",
   "metadata": {
    "id": "bb26fa2d",
    "toc": true
   },
   "source": [
    "<h1>Table of Contents<span class=\"tocSkip\"></span></h1>\n",
    "<div class=\"toc\"><ul class=\"toc-item\"></ul></div>"
   ]
  },
  {
   "cell_type": "markdown",
   "id": "52aee230",
   "metadata": {
    "id": "52aee230"
   },
   "source": [
    "## Image segmentation with a U-Net-like architecture"
   ]
  },
  {
   "cell_type": "code",
   "execution_count": 1,
   "id": "1088fec6",
   "metadata": {
    "id": "1088fec6"
   },
   "outputs": [],
   "source": [
    "import matplotlib.pyplot as plt\n",
    "import os,math, random\n",
    "import cv2\n",
    "import numpy as np\n",
    "from IPython.display import Image, display\n",
    "from tensorflow.keras.preprocessing.image import load_img\n",
    "import torch.nn as nn\n",
    "from torchsummary import summary\n",
    "from torch.utils.data import DataLoader,TensorDataset,Dataset\n",
    "import torch"
   ]
  },
  {
   "cell_type": "code",
   "execution_count": 2,
   "id": "91583b9a",
   "metadata": {},
   "outputs": [
    {
     "data": {
      "text/plain": [
       "<torch._C.Generator at 0x284971d0690>"
      ]
     },
     "execution_count": 2,
     "metadata": {},
     "output_type": "execute_result"
    }
   ],
   "source": [
    "%matplotlib inline\n",
    "np.random.seed(1000)\n",
    "torch.manual_seed(1000)"
   ]
  },
  {
   "cell_type": "code",
   "execution_count": null,
   "id": "4126ffe2",
   "metadata": {},
   "outputs": [],
   "source": []
  },
  {
   "cell_type": "code",
   "execution_count": 3,
   "id": "47cce43e",
   "metadata": {
    "colab": {
     "base_uri": "https://localhost:8080/"
    },
    "id": "47cce43e",
    "outputId": "dd3bd864-13ad-4fec-bf03-967c3a88f2b0"
   },
   "outputs": [],
   "source": [
    "#!curl -O https://www.robots.ox.ac.uk/~vgg/data/pets/data/images.tar.gz\n",
    "#!curl -O https://www.robots.ox.ac.uk/~vgg/data/pets/data/annotations.tar.gz\n",
    "#!tar -xf images.tar.gz\n",
    "#!tar -xf annotations.tar.gz"
   ]
  },
  {
   "cell_type": "code",
   "execution_count": 4,
   "id": "cd4b4483",
   "metadata": {
    "colab": {
     "base_uri": "https://localhost:8080/"
    },
    "id": "cd4b4483",
    "outputId": "d05bdfea-9477-4626-eb8d-581b050eadf9"
   },
   "outputs": [
    {
     "data": {
      "text/plain": [
       "7390"
      ]
     },
     "execution_count": 4,
     "metadata": {},
     "output_type": "execute_result"
    }
   ],
   "source": [
    "input_dir = \"../data/images/\"\n",
    "target_dir = \"../data/annotations/trimaps/\"\n",
    "input_img_paths=sorted(\n",
    "                    [ os.path.join(input_dir,img_name)for img_name in os.listdir(input_dir) if img_name.endswith('.jpg') ]\n",
    "                    )\n",
    "\n",
    "target_img_paths=sorted(\n",
    "                  [ os.path.join(target_dir,tar_img_name) for tar_img_name in os.listdir(target_dir)\n",
    "                   if tar_img_name.endswith('.png') and not tar_img_name.startswith('.')\n",
    "                  ])\n",
    "len(input_img_paths)"
   ]
  },
  {
   "cell_type": "code",
   "execution_count": 5,
   "id": "793d356d",
   "metadata": {},
   "outputs": [],
   "source": [
    "\n",
    "img_size = (160,160)\n",
    "num_classes = 3\n",
    "batch_size = 50"
   ]
  },
  {
   "cell_type": "code",
   "execution_count": 6,
   "id": "6d6d2ac4",
   "metadata": {},
   "outputs": [],
   "source": [
    "class OxfordPetsDateset(Dataset):\n",
    "    def __init__(self,img_size,input_img_paths,target_img_paths):\n",
    "        self.img_size=img_size\n",
    "        self.input_img_paths=input_img_paths\n",
    "        self.target_img_paths=target_img_paths   \n",
    "        \n",
    "    def __len__(self):\n",
    "        return len(self.target_img_paths)\n",
    "    \n",
    "    def __getitem__(self,idx):\n",
    "        img_=self.input_img_paths[idx]\n",
    "        label_=self.target_img_paths[idx]\n",
    "        \n",
    "        img=load_img(img_, target_size=self.img_size)\n",
    "        img/=np.max(img)\n",
    "        img=np.reshape(img,(3,160,160))\n",
    "                    \n",
    "        label=load_img(label_, target_size=self.img_size, color_mode=\"grayscale\")\n",
    "        label=np.expand_dims(label,axis=0)\n",
    "        # Ground truth labels are 1, 2, 3. Subtract one to make them 0, 1, 2:\n",
    "        label-=1\n",
    "        \n",
    "        return torch.tensor(img),torch.tensor(label)"
   ]
  },
  {
   "cell_type": "code",
   "execution_count": 7,
   "id": "2b49e193",
   "metadata": {},
   "outputs": [],
   "source": [
    "\n",
    "# Split our img paths into a training and a validation set\n",
    "val_samples = 1000\n",
    "train_input_img_paths = input_img_paths[:-val_samples]\n",
    "train_target_img_paths = target_img_paths[:-val_samples]\n",
    "val_input_img_paths = input_img_paths[-val_samples:]\n",
    "val_target_img_paths = target_img_paths[-val_samples:]\n",
    "# Instantiate data Sequences for each split\n",
    "train_data = OxfordPetsDateset( img_size, train_input_img_paths, train_target_img_paths)\n",
    "val_data = OxfordPetsDateset(img_size, val_input_img_paths, val_target_img_paths)"
   ]
  },
  {
   "cell_type": "code",
   "execution_count": 8,
   "id": "3a906156",
   "metadata": {},
   "outputs": [
    {
     "name": "stdout",
     "output_type": "stream",
     "text": [
      "torch.Size([1, 160, 160])\n",
      "torch.Size([3, 160, 160])\n"
     ]
    }
   ],
   "source": [
    "for x,y in train_data:\n",
    "    print(y.shape)\n",
    "    print(x.shape)\n",
    "    break"
   ]
  },
  {
   "cell_type": "code",
   "execution_count": 9,
   "id": "4ca717cf",
   "metadata": {},
   "outputs": [
    {
     "data": {
      "text/plain": [
       "(6390, 1000)"
      ]
     },
     "execution_count": 9,
     "metadata": {},
     "output_type": "execute_result"
    }
   ],
   "source": [
    "len(train_data),len(val_data)"
   ]
  },
  {
   "cell_type": "code",
   "execution_count": 10,
   "id": "8f5b1efc",
   "metadata": {},
   "outputs": [],
   "source": [
    "train_data_iter=DataLoader(train_data,batch_size=batch_size,shuffle=True)\n",
    "val_data_iter=DataLoader(val_data,batch_size=batch_size,shuffle=True)"
   ]
  },
  {
   "cell_type": "code",
   "execution_count": 11,
   "id": "13bf29b7",
   "metadata": {},
   "outputs": [
    {
     "name": "stdout",
     "output_type": "stream",
     "text": [
      "torch.Size([50, 1, 160, 160])\n",
      "torch.Size([50, 3, 160, 160])\n"
     ]
    }
   ],
   "source": [
    "for x,y in train_data_iter:\n",
    "    print(y.shape)\n",
    "    print(x.shape)\n",
    "    break"
   ]
  },
  {
   "cell_type": "code",
   "execution_count": null,
   "id": "5c5724e8",
   "metadata": {},
   "outputs": [],
   "source": []
  },
  {
   "cell_type": "code",
   "execution_count": null,
   "id": "34c644b3",
   "metadata": {},
   "outputs": [],
   "source": []
  },
  {
   "cell_type": "code",
   "execution_count": null,
   "id": "64ef596f",
   "metadata": {},
   "outputs": [],
   "source": []
  },
  {
   "cell_type": "markdown",
   "id": "f8bb2116",
   "metadata": {
    "id": "f8bb2116"
   },
   "source": [
    "# MODEL\n",
    "We will implement a U-Net-like architecture but with fewer layers"
   ]
  },
  {
   "cell_type": "code",
   "execution_count": 12,
   "id": "bf70959b",
   "metadata": {},
   "outputs": [],
   "source": [
    "def block(in_channel,out_channel):\n",
    "    return nn.Sequential(\n",
    "        nn.Conv2d(in_channels=in_channel,out_channels=out_channel,kernel_size=3,padding=1,bias=False),\n",
    "        nn.BatchNorm2d(out_channel),\n",
    "        nn.ReLU(inplace=True),\n",
    "        nn.Conv2d(in_channels=out_channel,out_channels=out_channel,kernel_size=3,padding=1,bias=False),\n",
    "        nn.BatchNorm2d(out_channel),\n",
    "        nn.ReLU(inplace=True)\n",
    "       )   "
   ]
  },
  {
   "cell_type": "code",
   "execution_count": 13,
   "id": "72f6481a",
   "metadata": {},
   "outputs": [],
   "source": [
    "class encoder(nn.Module):\n",
    "    def __init__(self,in_channel,out_channel):\n",
    "        super().__init__() \n",
    "        self.in_ch=in_channel\n",
    "        self.out_ch=out_channel\n",
    "        self.block=block(self.in_ch,self.out_ch)\n",
    "        self.m_pool=nn.MaxPool2d(kernel_size=2,stride=2)\n",
    "        \n",
    "    def forward(self,x):\n",
    "        en_block=self.block(x)\n",
    "        m_pool=self.m_pool(en_block)\n",
    "        return en_block,m_pool\n"
   ]
  },
  {
   "cell_type": "code",
   "execution_count": 14,
   "id": "8d753741",
   "metadata": {},
   "outputs": [],
   "source": [
    "class decoder(nn.Module):\n",
    "    def __init__(self,in_ch,out_ch,shrink=False):\n",
    "        super(decoder,self).__init__() \n",
    "        self.in_ch=in_ch\n",
    "        self.shrink=shrink\n",
    "        self.out_ch=out_ch\n",
    "        self.up=nn.UpsamplingBilinear2d(scale_factor=2)\n",
    "        self.conv=nn.Conv2d(self.in_ch,self.out_ch,3,2,padding=1,bias=False)\n",
    "        self.conv1=nn.Conv2d(self.in_ch,self.out_ch,3,4,bias=False)\n",
    "        self.block=block(self.out_ch,self.out_ch)\n",
    "        self.relu=nn.ReLU()\n",
    "    def forward(self,x,skips):\n",
    "        x=self.up(x)\n",
    "        if self.shrink==True:\n",
    "            x=self.relu(self.conv1(x))\n",
    "        else:\n",
    "            x=self.relu(self.conv(x))\n",
    "        merge=torch.cat([x,skips])\n",
    "        output=self.block(merge)\n",
    "        return output"
   ]
  },
  {
   "cell_type": "code",
   "execution_count": 15,
   "id": "70c468a4",
   "metadata": {
    "id": "70c468a4"
   },
   "outputs": [],
   "source": [
    "class Reshape(nn.Module):\n",
    "    def __init__(self):\n",
    "        super().__init__()\n",
    "    def forward(self, x):\n",
    "        return x.view(-1,3,160,160)\n",
    "class Unet(nn.Module):\n",
    "    def __init__(self):\n",
    "        super(Unet,self).__init__() \n",
    "\n",
    "        self.encoder1=encoder(3,20)\n",
    "        self.encoder2=encoder(20,160)\n",
    "        self.encoder3=encoder(160,100)\n",
    "        self.block1=block(100,10)\n",
    "        \n",
    "        self.decoder1=decoder(10,100,shrink=True)\n",
    "        self.decoder2=decoder(100,160)\n",
    "        self.decoder3=decoder(160,20)\n",
    "        self.up=nn.UpsamplingBilinear2d(scale_factor=2)\n",
    "        self.conv1=nn.Conv2d(20,3,3,padding=1,bias=False)\n",
    "        self.softmax=nn.Softmax()\n",
    "\n",
    "    def forward(self,x):\n",
    "        #x=Reshape(x)\n",
    "        x=x.reshape(-1,3,160,160)\n",
    "        # encoder\n",
    "        enc1,skip1=self.encoder1(x)\n",
    "        enc2,skip2=self.encoder2(enc1)\n",
    "        enc3,skip3=self.encoder3(enc2)\n",
    "        # bottlenect\n",
    "        bk1=self.block1(enc3)\n",
    "        #decoder\n",
    "        dec1=self.decoder1(bk1,skip3)\n",
    "        dec2=self.decoder2(dec1,skip2)\n",
    "        dec3=self.decoder3(dec2,skip1)\n",
    "        up=self.up(dec3)\n",
    "        output=self.softmax(self.conv1(up))\n",
    "        return output\n",
    "      \n",
    "unet=Unet()"
   ]
  },
  {
   "cell_type": "code",
   "execution_count": 20,
   "id": "d5ca637f",
   "metadata": {},
   "outputs": [
    {
     "name": "stdout",
     "output_type": "stream",
     "text": [
      "==========================================================================================\n",
      "Layer (type:depth-idx)                   Output Shape              Param #\n",
      "==========================================================================================\n",
      "├─encoder: 1-1                           [-1, 20, 160, 160]        --\n",
      "|    └─Sequential: 2-1                   [-1, 20, 160, 160]        --\n",
      "|    |    └─Conv2d: 3-1                  [-1, 20, 160, 160]        540\n",
      "|    |    └─BatchNorm2d: 3-2             [-1, 20, 160, 160]        40\n",
      "|    |    └─ReLU: 3-3                    [-1, 20, 160, 160]        --\n",
      "|    |    └─Conv2d: 3-4                  [-1, 20, 160, 160]        3,600\n",
      "|    |    └─BatchNorm2d: 3-5             [-1, 20, 160, 160]        40\n",
      "|    |    └─ReLU: 3-6                    [-1, 20, 160, 160]        --\n",
      "|    └─MaxPool2d: 2-2                    [-1, 20, 80, 80]          --\n",
      "├─encoder: 1-2                           [-1, 160, 160, 160]       --\n",
      "|    └─Sequential: 2-3                   [-1, 160, 160, 160]       --\n",
      "|    |    └─Conv2d: 3-7                  [-1, 160, 160, 160]       28,800\n",
      "|    |    └─BatchNorm2d: 3-8             [-1, 160, 160, 160]       320\n",
      "|    |    └─ReLU: 3-9                    [-1, 160, 160, 160]       --\n",
      "|    |    └─Conv2d: 3-10                 [-1, 160, 160, 160]       230,400\n",
      "|    |    └─BatchNorm2d: 3-11            [-1, 160, 160, 160]       320\n",
      "|    |    └─ReLU: 3-12                   [-1, 160, 160, 160]       --\n",
      "|    └─MaxPool2d: 2-4                    [-1, 160, 80, 80]         --\n",
      "├─encoder: 1-3                           [-1, 100, 160, 160]       --\n",
      "|    └─Sequential: 2-5                   [-1, 100, 160, 160]       --\n",
      "|    |    └─Conv2d: 3-13                 [-1, 100, 160, 160]       144,000\n",
      "|    |    └─BatchNorm2d: 3-14            [-1, 100, 160, 160]       200\n",
      "|    |    └─ReLU: 3-15                   [-1, 100, 160, 160]       --\n",
      "|    |    └─Conv2d: 3-16                 [-1, 100, 160, 160]       90,000\n",
      "|    |    └─BatchNorm2d: 3-17            [-1, 100, 160, 160]       200\n",
      "|    |    └─ReLU: 3-18                   [-1, 100, 160, 160]       --\n",
      "|    └─MaxPool2d: 2-6                    [-1, 100, 80, 80]         --\n",
      "├─Sequential: 1-4                        [-1, 10, 160, 160]        --\n",
      "|    └─Conv2d: 2-7                       [-1, 10, 160, 160]        9,000\n",
      "|    └─BatchNorm2d: 2-8                  [-1, 10, 160, 160]        20\n",
      "|    └─ReLU: 2-9                         [-1, 10, 160, 160]        --\n",
      "|    └─Conv2d: 2-10                      [-1, 10, 160, 160]        900\n",
      "|    └─BatchNorm2d: 2-11                 [-1, 10, 160, 160]        20\n",
      "|    └─ReLU: 2-12                        [-1, 10, 160, 160]        --\n",
      "├─decoder: 1-5                           [-1, 100, 80, 80]         --\n",
      "|    └─UpsamplingBilinear2d: 2-13        [-1, 10, 320, 320]        --\n",
      "|    └─Conv2d: 2-14                      [-1, 100, 80, 80]         9,000\n",
      "|    └─ReLU: 2-15                        [-1, 100, 80, 80]         --\n",
      "|    └─Sequential: 2-16                  [-1, 100, 80, 80]         --\n",
      "|    |    └─Conv2d: 3-19                 [-1, 100, 80, 80]         90,000\n",
      "|    |    └─BatchNorm2d: 3-20            [-1, 100, 80, 80]         200\n",
      "|    |    └─ReLU: 3-21                   [-1, 100, 80, 80]         --\n",
      "|    |    └─Conv2d: 3-22                 [-1, 100, 80, 80]         90,000\n",
      "|    |    └─BatchNorm2d: 3-23            [-1, 100, 80, 80]         200\n",
      "|    |    └─ReLU: 3-24                   [-1, 100, 80, 80]         --\n",
      "├─decoder: 1-6                           [-1, 160, 80, 80]         --\n",
      "|    └─UpsamplingBilinear2d: 2-17        [-1, 100, 160, 160]       --\n",
      "|    └─Conv2d: 2-18                      [-1, 160, 80, 80]         144,000\n",
      "|    └─ReLU: 2-19                        [-1, 160, 80, 80]         --\n",
      "|    └─Sequential: 2-20                  [-1, 160, 80, 80]         --\n",
      "|    |    └─Conv2d: 3-25                 [-1, 160, 80, 80]         230,400\n",
      "|    |    └─BatchNorm2d: 3-26            [-1, 160, 80, 80]         320\n",
      "|    |    └─ReLU: 3-27                   [-1, 160, 80, 80]         --\n",
      "|    |    └─Conv2d: 3-28                 [-1, 160, 80, 80]         230,400\n",
      "|    |    └─BatchNorm2d: 3-29            [-1, 160, 80, 80]         320\n",
      "|    |    └─ReLU: 3-30                   [-1, 160, 80, 80]         --\n",
      "├─decoder: 1-7                           [-1, 20, 80, 80]          --\n",
      "|    └─UpsamplingBilinear2d: 2-21        [-1, 160, 160, 160]       --\n",
      "|    └─Conv2d: 2-22                      [-1, 20, 80, 80]          28,800\n",
      "|    └─ReLU: 2-23                        [-1, 20, 80, 80]          --\n",
      "|    └─Sequential: 2-24                  [-1, 20, 80, 80]          --\n",
      "|    |    └─Conv2d: 3-31                 [-1, 20, 80, 80]          3,600\n",
      "|    |    └─BatchNorm2d: 3-32            [-1, 20, 80, 80]          40\n",
      "|    |    └─ReLU: 3-33                   [-1, 20, 80, 80]          --\n",
      "|    |    └─Conv2d: 3-34                 [-1, 20, 80, 80]          3,600\n",
      "|    |    └─BatchNorm2d: 3-35            [-1, 20, 80, 80]          40\n",
      "|    |    └─ReLU: 3-36                   [-1, 20, 80, 80]          --\n",
      "├─UpsamplingBilinear2d: 1-8              [-1, 20, 160, 160]        --\n",
      "├─Conv2d: 1-9                            [-1, 3, 160, 160]         540\n",
      "├─Softmax: 1-10                          [-1, 3, 160, 160]         --\n",
      "==========================================================================================\n",
      "Total params: 1,339,860\n",
      "Trainable params: 1,339,860\n",
      "Non-trainable params: 0\n",
      "Total mult-adds (G): 18.31\n",
      "==========================================================================================\n",
      "Input size (MB): 0.29\n",
      "Forward/backward pass size (MB): 295.51\n",
      "Params size (MB): 5.11\n",
      "Estimated Total Size (MB): 300.91\n",
      "==========================================================================================\n",
      "==========================================================================================\n",
      "Layer (type:depth-idx)                   Output Shape              Param #\n",
      "==========================================================================================\n",
      "├─encoder: 1-1                           [-1, 20, 160, 160]        --\n",
      "|    └─Sequential: 2-1                   [-1, 20, 160, 160]        --\n",
      "|    |    └─Conv2d: 3-1                  [-1, 20, 160, 160]        540\n",
      "|    |    └─BatchNorm2d: 3-2             [-1, 20, 160, 160]        40\n",
      "|    |    └─ReLU: 3-3                    [-1, 20, 160, 160]        --\n",
      "|    |    └─Conv2d: 3-4                  [-1, 20, 160, 160]        3,600\n",
      "|    |    └─BatchNorm2d: 3-5             [-1, 20, 160, 160]        40\n",
      "|    |    └─ReLU: 3-6                    [-1, 20, 160, 160]        --\n",
      "|    └─MaxPool2d: 2-2                    [-1, 20, 80, 80]          --\n",
      "├─encoder: 1-2                           [-1, 160, 160, 160]       --\n",
      "|    └─Sequential: 2-3                   [-1, 160, 160, 160]       --\n",
      "|    |    └─Conv2d: 3-7                  [-1, 160, 160, 160]       28,800\n",
      "|    |    └─BatchNorm2d: 3-8             [-1, 160, 160, 160]       320\n",
      "|    |    └─ReLU: 3-9                    [-1, 160, 160, 160]       --\n",
      "|    |    └─Conv2d: 3-10                 [-1, 160, 160, 160]       230,400\n",
      "|    |    └─BatchNorm2d: 3-11            [-1, 160, 160, 160]       320\n",
      "|    |    └─ReLU: 3-12                   [-1, 160, 160, 160]       --\n",
      "|    └─MaxPool2d: 2-4                    [-1, 160, 80, 80]         --\n",
      "├─encoder: 1-3                           [-1, 100, 160, 160]       --\n",
      "|    └─Sequential: 2-5                   [-1, 100, 160, 160]       --\n",
      "|    |    └─Conv2d: 3-13                 [-1, 100, 160, 160]       144,000\n",
      "|    |    └─BatchNorm2d: 3-14            [-1, 100, 160, 160]       200\n",
      "|    |    └─ReLU: 3-15                   [-1, 100, 160, 160]       --\n",
      "|    |    └─Conv2d: 3-16                 [-1, 100, 160, 160]       90,000\n",
      "|    |    └─BatchNorm2d: 3-17            [-1, 100, 160, 160]       200\n",
      "|    |    └─ReLU: 3-18                   [-1, 100, 160, 160]       --\n",
      "|    └─MaxPool2d: 2-6                    [-1, 100, 80, 80]         --\n",
      "├─Sequential: 1-4                        [-1, 10, 160, 160]        --\n",
      "|    └─Conv2d: 2-7                       [-1, 10, 160, 160]        9,000\n",
      "|    └─BatchNorm2d: 2-8                  [-1, 10, 160, 160]        20\n",
      "|    └─ReLU: 2-9                         [-1, 10, 160, 160]        --\n",
      "|    └─Conv2d: 2-10                      [-1, 10, 160, 160]        900\n",
      "|    └─BatchNorm2d: 2-11                 [-1, 10, 160, 160]        20\n",
      "|    └─ReLU: 2-12                        [-1, 10, 160, 160]        --\n",
      "├─decoder: 1-5                           [-1, 100, 80, 80]         --\n",
      "|    └─UpsamplingBilinear2d: 2-13        [-1, 10, 320, 320]        --\n",
      "|    └─Conv2d: 2-14                      [-1, 100, 80, 80]         9,000\n",
      "|    └─ReLU: 2-15                        [-1, 100, 80, 80]         --\n",
      "|    └─Sequential: 2-16                  [-1, 100, 80, 80]         --\n",
      "|    |    └─Conv2d: 3-19                 [-1, 100, 80, 80]         90,000\n",
      "|    |    └─BatchNorm2d: 3-20            [-1, 100, 80, 80]         200\n",
      "|    |    └─ReLU: 3-21                   [-1, 100, 80, 80]         --\n",
      "|    |    └─Conv2d: 3-22                 [-1, 100, 80, 80]         90,000\n",
      "|    |    └─BatchNorm2d: 3-23            [-1, 100, 80, 80]         200\n",
      "|    |    └─ReLU: 3-24                   [-1, 100, 80, 80]         --\n",
      "├─decoder: 1-6                           [-1, 160, 80, 80]         --\n",
      "|    └─UpsamplingBilinear2d: 2-17        [-1, 100, 160, 160]       --\n",
      "|    └─Conv2d: 2-18                      [-1, 160, 80, 80]         144,000\n",
      "|    └─ReLU: 2-19                        [-1, 160, 80, 80]         --\n",
      "|    └─Sequential: 2-20                  [-1, 160, 80, 80]         --\n",
      "|    |    └─Conv2d: 3-25                 [-1, 160, 80, 80]         230,400\n",
      "|    |    └─BatchNorm2d: 3-26            [-1, 160, 80, 80]         320\n",
      "|    |    └─ReLU: 3-27                   [-1, 160, 80, 80]         --\n",
      "|    |    └─Conv2d: 3-28                 [-1, 160, 80, 80]         230,400\n",
      "|    |    └─BatchNorm2d: 3-29            [-1, 160, 80, 80]         320\n",
      "|    |    └─ReLU: 3-30                   [-1, 160, 80, 80]         --\n",
      "├─decoder: 1-7                           [-1, 20, 80, 80]          --\n",
      "|    └─UpsamplingBilinear2d: 2-21        [-1, 160, 160, 160]       --\n",
      "|    └─Conv2d: 2-22                      [-1, 20, 80, 80]          28,800\n",
      "|    └─ReLU: 2-23                        [-1, 20, 80, 80]          --\n",
      "|    └─Sequential: 2-24                  [-1, 20, 80, 80]          --\n",
      "|    |    └─Conv2d: 3-31                 [-1, 20, 80, 80]          3,600\n",
      "|    |    └─BatchNorm2d: 3-32            [-1, 20, 80, 80]          40\n",
      "|    |    └─ReLU: 3-33                   [-1, 20, 80, 80]          --\n",
      "|    |    └─Conv2d: 3-34                 [-1, 20, 80, 80]          3,600\n",
      "|    |    └─BatchNorm2d: 3-35            [-1, 20, 80, 80]          40\n",
      "|    |    └─ReLU: 3-36                   [-1, 20, 80, 80]          --\n",
      "├─UpsamplingBilinear2d: 1-8              [-1, 20, 160, 160]        --\n",
      "├─Conv2d: 1-9                            [-1, 3, 160, 160]         540\n",
      "├─Softmax: 1-10                          [-1, 3, 160, 160]         --\n",
      "==========================================================================================\n",
      "Total params: 1,339,860\n",
      "Trainable params: 1,339,860\n",
      "Non-trainable params: 0\n",
      "Total mult-adds (G): 18.31\n",
      "==========================================================================================\n",
      "Input size (MB): 0.29\n",
      "Forward/backward pass size (MB): 295.51\n",
      "Params size (MB): 5.11\n",
      "Estimated Total Size (MB): 300.91\n",
      "==========================================================================================\n"
     ]
    },
    {
     "name": "stderr",
     "output_type": "stream",
     "text": [
      "C:\\Users\\arize\\AppData\\Local\\Temp/ipykernel_3144/4103391357.py:36: UserWarning: Implicit dimension choice for softmax has been deprecated. Change the call to include dim=X as an argument.\n",
      "  output=self.softmax(self.conv1(up))\n"
     ]
    }
   ],
   "source": [
    "#X = torch.randn(size=(1, 3, 160, 160), dtype=torch.float32)\n",
    "print(summary(unet,(1, 3, 160, 160)))"
   ]
  },
  {
   "cell_type": "code",
   "execution_count": 31,
   "id": "ce14a37e",
   "metadata": {},
   "outputs": [],
   "source": [
    "loss_fc =nn.CrossEntropyLoss()\n",
    "optimizer=torch.optim.Adam(unet.parameters(),lr=1e-4)\n",
    "def evaluate_accuracy(output,label):\n",
    "    pred = output.argmax(dim=1,keepdim=True)\n",
    "    return (pred==label.float()).float().sum()"
   ]
  },
  {
   "cell_type": "code",
   "execution_count": null,
   "id": "90ffc6f0",
   "metadata": {},
   "outputs": [],
   "source": [
    "train_loss=0.\n",
    "val_loss=0.\n",
    "train_acc=0.\n",
    "val_acc = 0.    \n",
    "epochs=10\n",
    "for epoch in range(epochs):\n",
    "    unet.train()\n",
    "    for inputs,targets in train_data:\n",
    "            optimizer.zero_grad()\n",
    "            output=unet(inputs)\n",
    "            loss=loss_fc(output,targets)\n",
    "            loss.backward()\n",
    "            optimizer.step()\n",
    "            train_acc+=evaluate_accuracy(output,targets)\n",
    "            train_loss+=loss\n",
    "            \n",
    "            \n",
    "    unet.eval()\n",
    "    for inputs,label in val_data:\n",
    "        output=unet(inputs)\n",
    "        loss=loss_fc(output,torch.max(targets,1)[1])\n",
    "        val_loss+=loss\n",
    "        val_acc+=evaluate_accuracy(output,label)\n",
    "    # taking averages\n",
    "    train_acc/=len(train_data)\n",
    "    train_loss/=len(train_data)\n",
    "    val_acc/=len(val_data)\n",
    "    val_loss/=len(val_data)\n",
    "    print(\"Epoch %d: train loss %.3f, train acc %.3f, val loss %.3f, val acc %.3f\" % (\n",
    "    epoch+1, train_loss.detach().numpy(), train_acc.detach().numpy(),\n",
    "    val_loss.detach().numpy(), val_acc.detach().numpy()))\n",
    "            "
   ]
  },
  {
   "cell_type": "markdown",
   "id": "f3a1cef6",
   "metadata": {
    "id": "f3a1cef6"
   },
   "source": [
    "# References\n",
    "\n",
    "[U-Net: Convolutional Networks for Biomedical Image Segmentation, 2015](https://arxiv.org/pdf/1505.04597.pdf)\n",
    "\n",
    "[Image segmentation with a U-Net-like architecture](https://keras.io/examples/vision/oxford_pets_image_segmentation/)\n",
    "\n",
    "[A guide to convolution arithmetic for deep learning,2018](https://arxiv.org/abs/1603.07285)\n",
    "\n",
    "[Is the deconvolution layer the same as a convolutional layer?,2016](https://arxiv.org/ftp/arxiv/papers/1609/1609.07009.pdf)\n",
    "\n",
    "[13.11. Fully Convolutional Networks](https://d2l.ai/chapter_computer-vision/fcn.html)\n",
    "\n",
    "\n"
   ]
  },
  {
   "cell_type": "code",
   "execution_count": null,
   "id": "8734c322",
   "metadata": {
    "id": "8734c322"
   },
   "outputs": [],
   "source": []
  }
 ],
 "metadata": {
  "accelerator": "GPU",
  "colab": {
   "name": "unet1-2.ipynb",
   "provenance": []
  },
  "kernelspec": {
   "display_name": "Python 3 (ipykernel)",
   "language": "python",
   "name": "python3"
  },
  "language_info": {
   "codemirror_mode": {
    "name": "ipython",
    "version": 3
   },
   "file_extension": ".py",
   "mimetype": "text/x-python",
   "name": "python",
   "nbconvert_exporter": "python",
   "pygments_lexer": "ipython3",
   "version": "3.9.7"
  },
  "latex_envs": {
   "LaTeX_envs_menu_present": true,
   "autoclose": false,
   "autocomplete": true,
   "bibliofile": "biblio.bib",
   "cite_by": "apalike",
   "current_citInitial": 1,
   "eqLabelWithNumbers": true,
   "eqNumInitial": 1,
   "hotkeys": {
    "equation": "Ctrl-E",
    "itemize": "Ctrl-I"
   },
   "labels_anchors": false,
   "latex_user_defs": false,
   "report_style_numbering": false,
   "user_envs_cfg": false
  },
  "nbTranslate": {
   "displayLangs": [
    "*"
   ],
   "hotkey": "alt-t",
   "langInMainMenu": true,
   "sourceLang": "en",
   "targetLang": "fr",
   "useGoogleTranslate": true
  },
  "toc": {
   "base_numbering": 1,
   "nav_menu": {},
   "number_sections": true,
   "sideBar": true,
   "skip_h1_title": true,
   "title_cell": "Table of Contents",
   "title_sidebar": "Contents",
   "toc_cell": true,
   "toc_position": {},
   "toc_section_display": true,
   "toc_window_display": true
  }
 },
 "nbformat": 4,
 "nbformat_minor": 5
}
