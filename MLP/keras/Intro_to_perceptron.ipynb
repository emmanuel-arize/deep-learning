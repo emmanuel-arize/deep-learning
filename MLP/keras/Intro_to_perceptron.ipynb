{
 "cells": [
  {
   "cell_type": "markdown",
   "metadata": {},
   "source": [
    "\n",
    "<h1 style=\"color:blue;text-align: center;\">PERCEPTRON</h1>\n",
    "\n",
    "Perceptron is a single layer neural network used for learning a binary classifier using a threshold function. During training the weights and bias are initialized randomly and examples are then presented. These examples are weighted by the corresponding weights and bias to produce a weighted sum and then transformed through a threshold function to produce an output.\n",
    "\n",
    "let define the weighted sum to be $V=\\sum_{i}^{n}W^{T}X+b$ and the threshold function to be $F$. The threshold function classify an output as belonging to either the positive class (class A or 1) or the negative class (class B or 0) using the using the defined function below\n",
    "\n",
    "$$F=\\begin{cases} 1 \\quad if \\ \\ V  \\geq 0 \\\\ 0 \\quad otherwise\\end{cases}$$"
   ]
  },
  {
   "cell_type": "markdown",
   "metadata": {},
   "source": [
    "<h1 style=\"color:blue;text-align: center;\">MULTILAYER PERCEPTRON (Deep feedforward networks)</h1>\n",
    "\n",
    "A multilayer perceptron (MLP) is a neural network composed of more than one perceptron. They are composed of an input layer, an, arbitrary number of hidden layers and output layer which are stacked on top of each other. An output from a layer serves as an imput for the next layer above it and in that order, until the model generate a output from the output layer. The output from the output layer serve as the predicted output by the model. MLP is defined as\n",
    "\n",
    "$$ h_1 = \\sigma(W_1\\boldsymbol{x} + b_1) $$\n",
    "$$ h_2 = \\sigma(W_2\\boldsymbol{h_1} + b_2) $$\n",
    "$$ h_3 = \\sigma(W_3\\boldsymbol{h_2} + b_3) $$\n",
    "$$...$$\n",
    "$$ h_n = \\sigma(W_n\\boldsymbol{h_{n-1}} + b_n) $$\n",
    "$$ \\hat{y} = \\phi (W_y \\boldsymbol{h}_n + b_y)$$ $$OR$$\n",
    "$$ \\hat{y} = W_y \\boldsymbol{h}_n + b_y$$\n",
    "\n",
    "where $\\sigma$ is some nonlinear activation functions. $\\phi$ is also a nonlinear function which depends on the target variable. Note that each layer requires its own set of parameters and all these parameters are updated during training. For each layer the model first calculate its value by first applying a linear function before applying an element-wise nonlinear activation function. \n",
    "\n"
   ]
  },
  {
   "cell_type": "markdown",
   "metadata": {},
   "source": [
    "\n",
    "\n",
    "\n",
    "\n"
   ]
  },
  {
   "cell_type": "markdown",
   "metadata": {},
   "source": [
    "<b style=\"color:red\">\"The final layer of a feedforward network is called the output layer. During neural network training, we drive f(x) to match f∗(x). The training data provides us with noisy, approximate examples of f ∗(x) evaluated at different training points. Each example x is accompanied by a label y ≈ f ∗(x). The training examples specify directly what the output layer must do at each point x; it must produce a value that is close to y. The behavior of the other layers is not directly specified by the training data. The learning algorithm must decide how to use those layers to produce the desired output, but the training data does not say what each individual layer should do. Instead, the learning algorithm must decide how to use these layers to best implement an approximation of f∗. Because the training data does not show the desired output for each of these layers, these layers are called hidden layers. The dimensionality of these hidden layers determines the width of the model\"</b>\n",
    "\n",
    "\n",
    "<b>(source: From the book, Deep Learning by Ian Goodfellow,Yoshua Bengio and Aaron Courville Chapter 6 (Deep Feedforward Networks) page 169) </b>"
   ]
  },
  {
   "cell_type": "markdown",
   "metadata": {},
   "source": [
    "<h1 style=\"background-color:DodgerBlue;\"><img src=\"images/mlp.png\" alt=\"Smiley face\" style=\"float:right;width:400px;height:300px;\">A multilayer perceptron with 4 inputs, a hidden layer with 4 hidden units and 2 outputs</h1>\n"
   ]
  },
  {
   "cell_type": "markdown",
   "metadata": {},
   "source": [
    "<h1 style=\"color:blue;text-align: center;\">Activation Functions</h1>\n",
    "\n",
    "Activation functions are used to introduce non-linearity to the neural network without neural networks could do little to learn non-linear functions and as such play important roles in neural networks. A chosen activation function for a node is responsible for transforming the summed weighted input of that node and it determines the output of that node. These activation functions help the networks in predicting a desirable output based on the learned patterns within datasets by the parameters. Activation functions are also chosen for input-hidden layers and hidden-output layer and a primary considerations for choosing activation function the differentiability nature of the function since back-propagated used in updating model parameters requires the gradient of the activation function. There are different types of activation functions but we will only briefly survey some common activation functions."
   ]
  },
  {
   "cell_type": "markdown",
   "metadata": {},
   "source": [
    "<h1 style=\"color:blue;text-align: center;\">Reactified Linear Unit (ReLU) Function</h1>\n",
    "\n",
    "Relu has become the default activation function for many types of neural networks due to its simplicity of implementation, easier to train and often achieves better performance on a variety of predictive tasks. When apply to an output from a linear transformation yields a nonlinear transformation and this simple nonlinear transformation is defined to returns 0 if it receives a negative input (discards all negative elements) and if a positive value is received, returns the same the positive value, that is given the element $\\textbf{z}$, the function is defined as the maximum of that element and 0.\n",
    "\n",
    "$$Relu(z)=max(0,z)  $$\n",
    "\n"
   ]
  },
  {
   "cell_type": "markdown",
   "metadata": {},
   "source": [
    "Using inputs X defined as\n",
    "$$X=\\left [\\begin{array}{ccc}\n",
    "0& 0 \\\\\n",
    "0 & 1\\\\\n",
    "2 &5 \\\\\n",
    "4&-3\n",
    "\\end{array}\\right ]$$\n",
    "and a hidden layer h defined by\n",
    "$$h=f(WX+b0)$$\n",
    "\n",
    "where \n",
    "$f=Relu$\n",
    "$$b0=\\left[\\begin{array}{ccc}\n",
    "0\\\\\n",
    "-1 \n",
    "\\end{array}\\right]$$\n",
    "\n",
    "$$W=\\left [\\begin{array}{ccc}\n",
    "1 &5\\\\\n",
    "3 &1\n",
    "\\end{array}\\right]$$\n",
    "\n",
    "and an output layer defined by\n",
    "\n",
    "$$ O=wh+b1 $$\n",
    "where\n",
    "$$w=\\left[\\begin{array}{ccc}\n",
    "2\\\\\n",
    "3\n",
    "\\end{array}\\right]$$\n",
    "$$b1=\\left[\\begin{array}{ccc}\n",
    "0\\\\\n",
    "0 \n",
    "\\end{array}\\right]$$\n",
    "\n",
    "we want to compute the output"
   ]
  },
  {
   "cell_type": "code",
   "execution_count": 6,
   "metadata": {
    "ExecuteTime": {
     "end_time": "2020-08-31T21:35:21.876057Z",
     "start_time": "2020-08-31T21:35:21.872058Z"
    }
   },
   "outputs": [],
   "source": [
    "import numpy as np\n",
    "import tensorflow as tf"
   ]
  },
  {
   "cell_type": "code",
   "execution_count": 7,
   "metadata": {
    "ExecuteTime": {
     "end_time": "2020-08-31T21:35:22.756725Z",
     "start_time": "2020-08-31T21:35:22.751751Z"
    }
   },
   "outputs": [],
   "source": [
    "b0=tf.constant([0,-1])\n",
    "W=tf.constant([[1,5],[3,1]])\n",
    "w=tf.constant([[2],[3]])"
   ]
  },
  {
   "cell_type": "markdown",
   "metadata": {},
   "source": [
    "<h1>transpose(input, dim0, dim1) </h1>\n",
    " \n",
    " dim0 (int): the first dimension to be transposed\n",
    "\n",
    "dim1 (int): the second dimension to be transposed"
   ]
  },
  {
   "cell_type": "code",
   "execution_count": 8,
   "metadata": {
    "ExecuteTime": {
     "end_time": "2020-08-31T21:35:23.943141Z",
     "start_time": "2020-08-31T21:35:23.925132Z"
    }
   },
   "outputs": [
    {
     "data": {
      "text/plain": [
       "<tf.Tensor: shape=(4, 2), dtype=int32, numpy=\n",
       "array([[ 0,  0],\n",
       "       [ 0,  1],\n",
       "       [ 2,  5],\n",
       "       [ 4, -3]])>"
      ]
     },
     "execution_count": 8,
     "metadata": {},
     "output_type": "execute_result"
    }
   ],
   "source": [
    "x=tf.constant([[0,0,2,4],[0,1,5,-3]])\n",
    "x=tf.transpose(x)\n",
    "x"
   ]
  },
  {
   "cell_type": "code",
   "execution_count": 9,
   "metadata": {
    "ExecuteTime": {
     "end_time": "2020-08-31T21:35:24.479275Z",
     "start_time": "2020-08-31T21:35:24.460280Z"
    }
   },
   "outputs": [
    {
     "data": {
      "text/plain": [
       "<tf.Tensor: shape=(4, 2), dtype=int32, numpy=\n",
       "array([[ 0, -1],\n",
       "       [ 3,  0],\n",
       "       [17, 14],\n",
       "       [-5, 16]])>"
      ]
     },
     "execution_count": 9,
     "metadata": {},
     "output_type": "execute_result"
    }
   ],
   "source": [
    "h=x@W+b0\n",
    "h"
   ]
  },
  {
   "cell_type": "code",
   "execution_count": 12,
   "metadata": {
    "ExecuteTime": {
     "end_time": "2020-08-31T21:35:58.903229Z",
     "start_time": "2020-08-31T21:35:58.896235Z"
    }
   },
   "outputs": [
    {
     "data": {
      "text/plain": [
       "<tf.Tensor: shape=(4, 2), dtype=int32, numpy=\n",
       "array([[ 0,  0],\n",
       "       [ 3,  0],\n",
       "       [17, 14],\n",
       "       [ 0, 16]])>"
      ]
     },
     "execution_count": 12,
     "metadata": {},
     "output_type": "execute_result"
    }
   ],
   "source": [
    "tf.math.maximum(0,h)"
   ]
  },
  {
   "cell_type": "code",
   "execution_count": 13,
   "metadata": {
    "ExecuteTime": {
     "end_time": "2020-08-31T21:36:14.872510Z",
     "start_time": "2020-08-31T21:36:14.860508Z"
    }
   },
   "outputs": [
    {
     "data": {
      "text/plain": [
       "<tf.Tensor: shape=(4, 2), dtype=int32, numpy=\n",
       "array([[ 0,  0],\n",
       "       [ 3,  0],\n",
       "       [17, 14],\n",
       "       [ 0, 16]])>"
      ]
     },
     "execution_count": 13,
     "metadata": {},
     "output_type": "execute_result"
    }
   ],
   "source": [
    "h_relu=tf.maximum(0,h)\n",
    "h_relu"
   ]
  },
  {
   "cell_type": "code",
   "execution_count": 14,
   "metadata": {
    "ExecuteTime": {
     "end_time": "2020-08-31T21:36:15.741757Z",
     "start_time": "2020-08-31T21:36:15.730759Z"
    }
   },
   "outputs": [
    {
     "data": {
      "text/plain": [
       "<tf.Tensor: shape=(4, 1), dtype=int32, numpy=\n",
       "array([[ 0],\n",
       "       [ 6],\n",
       "       [76],\n",
       "       [48]])>"
      ]
     },
     "execution_count": 14,
     "metadata": {},
     "output_type": "execute_result"
    }
   ],
   "source": [
    "output=h_relu@w\n",
    "output"
   ]
  },
  {
   "cell_type": "code",
   "execution_count": 15,
   "metadata": {
    "ExecuteTime": {
     "end_time": "2020-08-31T21:36:17.794006Z",
     "start_time": "2020-08-31T21:36:17.776073Z"
    }
   },
   "outputs": [],
   "source": [
    "import numpy as np\n",
    "import matplotlib.pyplot as plt\n",
    "%matplotlib inline"
   ]
  },
  {
   "cell_type": "code",
   "execution_count": 16,
   "metadata": {
    "ExecuteTime": {
     "end_time": "2020-08-31T21:36:18.442367Z",
     "start_time": "2020-08-31T21:36:18.433364Z"
    }
   },
   "outputs": [],
   "source": [
    "def plot_activation(x_data,y_data,xlabel='x',ylabel='y'):\n",
    "    plt.figure(figsize=(4,3))\n",
    "    plt.plot(x_data.numpy(),y_data.numpy())\n",
    "    plt.xlabel(xlabel)\n",
    "    plt.ylabel(ylabel)\n",
    "    plt.grid()\n",
    "    plt.show()"
   ]
  },
  {
   "cell_type": "code",
   "execution_count": 20,
   "metadata": {
    "ExecuteTime": {
     "end_time": "2020-08-31T21:37:01.133870Z",
     "start_time": "2020-08-31T21:37:00.974611Z"
    }
   },
   "outputs": [
    {
     "data": {
      "image/png": "[encoded data removed]",
      "text/plain": [
       "<Figure size 288x216 with 1 Axes>"
      ]
     },
     "metadata": {},
     "output_type": "display_data"
    }
   ],
   "source": [
    "x=tf.range(-8.0,8.0,0.1)\n",
    "y=tf.maximum(x,0)\n",
    "plot_activation(x,y,xlabel='x-values',ylabel='Relu(x)')"
   ]
  },
  {
   "cell_type": "code",
   "execution_count": 21,
   "metadata": {
    "ExecuteTime": {
     "end_time": "2020-08-31T21:37:03.003376Z",
     "start_time": "2020-08-31T21:37:02.839849Z"
    }
   },
   "outputs": [
    {
     "data": {
      "image/png": "[encoded data removed]",
      "text/plain": [
       "<Figure size 288x216 with 1 Axes>"
      ]
     },
     "metadata": {},
     "output_type": "display_data"
    }
   ],
   "source": [
    "x=tf.range(-8.0,8.0,0.1)\n",
    "with tf.GradientTape() as g:\n",
    "    g.watch(x)\n",
    "    y=tf.maximum(x,0)\n",
    "    x_grad=g.gradient(y,x)\n",
    "    \n",
    "plot_activation(x, x_grad, 'x', 'grad of Relu')"
   ]
  },
  {
   "cell_type": "markdown",
   "metadata": {},
   "source": [
    "# NOTE  \n",
    "## Relu has many variants including \n",
    "$\\bullet$LeakyReLU \n",
    "\n",
    "$\\bullet$parameterized ReLU (pReLU)\n"
   ]
  },
  {
   "cell_type": "markdown",
   "metadata": {},
   "source": [
    "<h1 style=\"color:blue;text-align: center;\">Sigmoid Function</h1>\n",
    "\n",
    "The sigmoid function transforms its inputs, which values lie in the domain R, to outputs that lie\n",
    "on the interval (0; 1). The function has a lower bound of $\\textbf{0}$ and an upper bound of $\\textbf{1}$ which means that the function output values range is  [0,1] Because it squashes any input in the range (-inf, inf) to some value in the range (0, 1), the sigmoid function is often called a squashing function: \n",
    "The function is defined as\n",
    "\n",
    "$$\\boldsymbol{\\sigma(z)}=\\frac{1}{1+\\exp(-z)} $$ "
   ]
  },
  {
   "cell_type": "code",
   "execution_count": null,
   "metadata": {},
   "outputs": [],
   "source": [
    "tf.sigmoid()"
   ]
  },
  {
   "cell_type": "code",
   "execution_count": 24,
   "metadata": {
    "ExecuteTime": {
     "end_time": "2020-08-31T21:38:06.034262Z",
     "start_time": "2020-08-31T21:38:05.821262Z"
    }
   },
   "outputs": [
    {
     "data": {
      "image/png": "[encoded data removed]",
      "text/plain": [
       "<Figure size 288x216 with 1 Axes>"
      ]
     },
     "metadata": {},
     "output_type": "display_data"
    }
   ],
   "source": [
    "x=tf.range(-8.0,8.0,0.1)\n",
    "y=tf.sigmoid(x)\n",
    "plot_activation(x,y,xlabel='x-values',ylabel='sigmoid(x)')"
   ]
  },
  {
   "cell_type": "code",
   "execution_count": 25,
   "metadata": {
    "ExecuteTime": {
     "end_time": "2020-08-31T21:38:06.389411Z",
     "start_time": "2020-08-31T21:38:06.214393Z"
    }
   },
   "outputs": [
    {
     "data": {
      "image/png": "[encoded data removed]",
      "text/plain": [
       "<Figure size 288x216 with 1 Axes>"
      ]
     },
     "metadata": {},
     "output_type": "display_data"
    }
   ],
   "source": [
    "x=tf.range(-8.0,8.0,0.1)\n",
    "with tf.GradientTape() as g:\n",
    "    g.watch(x)\n",
    "    y=tf.sigmoid(x)\n",
    "    x_grad=g.gradient(y,x)\n",
    "plot_activation(x,x_grad,xlabel='x-values',ylabel='grad of sigmoid')"
   ]
  },
  {
   "cell_type": "markdown",
   "metadata": {
    "ExecuteTime": {
     "end_time": "2020-07-30T03:05:54.386262Z",
     "start_time": "2020-07-30T03:05:54.379259Z"
    }
   },
   "source": [
    "<h1 style=\"color:blue;text-align: center;\">Hyperbolic Tangent (Tanh) Function</h1>\n",
    "\n",
    "The hyperbolic tangent function denoted as tanh(z) function is\n",
    "a re-scaled version of the logistic sigmoid function, which is bounded below and above by [−1; 1] and\n",
    "hence output values within the range of [−1; 1]. The function is defined as\n",
    "\n",
    "$$tahn(z)=\\frac{exp(z)-exp(-z)}{exp(z)+exp(-z)}=\\frac{1-exp(-2z)}{1+exp(-2z)}$$"
   ]
  },
  {
   "cell_type": "code",
   "execution_count": 26,
   "metadata": {
    "ExecuteTime": {
     "end_time": "2020-08-31T21:38:14.176492Z",
     "start_time": "2020-08-31T21:38:13.996794Z"
    }
   },
   "outputs": [
    {
     "data": {
      "image/png": "[encoded data removed]",
      "text/plain": [
       "<Figure size 288x216 with 1 Axes>"
      ]
     },
     "metadata": {},
     "output_type": "display_data"
    }
   ],
   "source": [
    "x=tf.range(-8.0,8.0,0.1)\n",
    "y=tf.tanh(x)\n",
    "plot_activation(x,y,xlabel='x-values',ylabel='tanh(x)')"
   ]
  },
  {
   "cell_type": "code",
   "execution_count": 27,
   "metadata": {
    "ExecuteTime": {
     "end_time": "2020-08-31T21:38:18.577554Z",
     "start_time": "2020-08-31T21:38:18.389221Z"
    }
   },
   "outputs": [
    {
     "data": {
      "image/png": "[encoded data removed]",
      "text/plain": [
       "<Figure size 288x216 with 1 Axes>"
      ]
     },
     "metadata": {},
     "output_type": "display_data"
    }
   ],
   "source": [
    "x=tf.range(-8.0,8.0,0.1)\n",
    "with tf.GradientTape() as g:\n",
    "    g.watch(x)\n",
    "    y=tf.tanh(x)\n",
    "    x_grad=g.gradient(y,x)\n",
    "plot_activation(x,x_grad,xlabel='x-values',ylabel='grad of tanh')"
   ]
  },
  {
   "cell_type": "markdown",
   "metadata": {},
   "source": [
    "# note\n",
    "$$ tanh(x)+1=2sigmoid(2x)$$"
   ]
  },
  {
   "cell_type": "code",
   "execution_count": 28,
   "metadata": {
    "ExecuteTime": {
     "end_time": "2020-08-31T21:38:21.363012Z",
     "start_time": "2020-08-31T21:38:21.354012Z"
    }
   },
   "outputs": [
    {
     "data": {
      "text/plain": [
       "1.762"
      ]
     },
     "execution_count": 28,
     "metadata": {},
     "output_type": "execute_result"
    }
   ],
   "source": [
    "np.round(np.tanh(1)+1,3)"
   ]
  },
  {
   "cell_type": "code",
   "execution_count": 29,
   "metadata": {
    "ExecuteTime": {
     "end_time": "2020-08-31T21:38:21.771493Z",
     "start_time": "2020-08-31T21:38:21.760495Z"
    }
   },
   "outputs": [
    {
     "data": {
      "text/plain": [
       "1.762"
      ]
     },
     "execution_count": 29,
     "metadata": {},
     "output_type": "execute_result"
    }
   ],
   "source": [
    "def f(x):\n",
    "    return 2/(1+np.exp(-2*x))\n",
    "np.round(f(1),3)"
   ]
  },
  {
   "cell_type": "markdown",
   "metadata": {},
   "source": [
    "<h1 style='text-align:center;'>Implementation of Multilayer Perceptron from Scratch using Softmax as the output activation function </h1>"
   ]
  },
  {
   "cell_type": "markdown",
   "metadata": {},
   "source": [
    "<h1>importing the needed packages</h1>"
   ]
  },
  {
   "cell_type": "code",
   "execution_count": 1,
   "metadata": {
    "ExecuteTime": {
     "end_time": "2020-08-31T22:05:27.759394Z",
     "start_time": "2020-08-31T22:05:16.693167Z"
    }
   },
   "outputs": [
    {
     "name": "stderr",
     "output_type": "stream",
     "text": [
      "Using TensorFlow backend.\n"
     ]
    }
   ],
   "source": [
    "import tensorflow as tf\n",
    "from keras.datasets import mnist\n",
    "from keras.utils import to_categorical\n",
    "import numpy as np\n",
    "import matplotlib.pyplot as plt\n",
    "%matplotlib inline"
   ]
  },
  {
   "cell_type": "markdown",
   "metadata": {},
   "source": [
    "# Loading the data"
   ]
  },
  {
   "cell_type": "code",
   "execution_count": 2,
   "metadata": {
    "ExecuteTime": {
     "end_time": "2020-08-31T22:05:28.264039Z",
     "start_time": "2020-08-31T22:05:27.771305Z"
    }
   },
   "outputs": [],
   "source": [
    "(x_train, y_train), (x_test, y_test) = mnist.load_data()"
   ]
  },
  {
   "cell_type": "code",
   "execution_count": 3,
   "metadata": {
    "ExecuteTime": {
     "end_time": "2020-08-31T22:05:28.651709Z",
     "start_time": "2020-08-31T22:05:28.264039Z"
    }
   },
   "outputs": [],
   "source": [
    "batch_size = 256\n",
    "train_data = tf.data.Dataset.from_tensor_slices((x_train.reshape(60000, 784).astype(\"float32\") / 255,\n",
    "                                              y_train.astype(\"float32\")))\n",
    "train_data = train_data.shuffle(buffer_size=1024).batch(batch_size)\n",
    "\n",
    "\n",
    "\n",
    "test_data = tf.data.Dataset.from_tensor_slices((x_test.reshape(10000, 784).astype(\"float32\") / 255,\n",
    "                                         y_test.astype(\"float32\")))\n",
    "test_data = test_data.shuffle(buffer_size=1024).batch(batch_size)"
   ]
  },
  {
   "cell_type": "markdown",
   "metadata": {},
   "source": [
    "# Making new layers and models via subclassing\n",
    "\n",
    "Creating layers by subclassing the keras Layer class this layer encapsulates weights"
   ]
  },
  {
   "cell_type": "code",
   "execution_count": 4,
   "metadata": {
    "ExecuteTime": {
     "end_time": "2020-08-31T22:05:28.663715Z",
     "start_time": "2020-08-31T22:05:28.655716Z"
    }
   },
   "outputs": [],
   "source": [
    "class Linear(tf.keras.layers.Layer):\n",
    "    def __init__(self, units=20, input_dim=32,**kwargs):\n",
    "        super().__init__(**kwargs)\n",
    "        self.w = self.add_weight(shape=(input_dim, units), initializer=\"random_normal\", trainable=True)\n",
    "        self.b = self.add_weight(shape=(units,), initializer=\"zeros\", trainable=True)\n",
    "\n",
    "    def call(self, inputs):\n",
    "        return tf.matmul(inputs, self.w) + self.b"
   ]
  },
  {
   "cell_type": "markdown",
   "metadata": {},
   "source": [
    "## MLP\n",
    "MLP with two hidden layers each with 256 hidden units in the first layer 100 hidden units in the second hidden layer and since the target variable contain 10 categories we will set the number of output to 10"
   ]
  },
  {
   "cell_type": "code",
   "execution_count": null,
   "metadata": {},
   "outputs": [],
   "source": []
  },
  {
   "cell_type": "code",
   "execution_count": 5,
   "metadata": {
    "ExecuteTime": {
     "end_time": "2020-08-31T22:05:28.682717Z",
     "start_time": "2020-08-31T22:05:28.669714Z"
    }
   },
   "outputs": [],
   "source": [
    "num_inputs, num_outputs, num_hidden_1,num_hidden_2 = 784, 10, 256,200\n",
    "class MLP(tf.keras.layers.Layer):\n",
    "    def __init__(self):\n",
    "        super().__init__()\n",
    "        self.layer1=Linear(input_dim=num_inputs,units=num_hidden_1)\n",
    "        self.layer2=Linear(input_dim=num_hidden_1,units=num_hidden_2)\n",
    "        self.layer3=Linear(input_dim=num_hidden_2,units=num_outputs)\n",
    "    def call(self,inputs):\n",
    "        #h_1=tf.nn.relu(self.layer1(inputs))\n",
    "        h_1=tf.maximum(self.layer1(inputs),0)\n",
    "        #h_2=tf.nn.relu(self.layer2(h_1))\n",
    "        h_2=tf.maximum(self.layer2(h_1),0)\n",
    "        #output=tf.nn.softmax(self.layer3(h_2))\n",
    "        output=tf.math.softmax(self.layer3(h_2))\n",
    "        return output"
   ]
  },
  {
   "cell_type": "code",
   "execution_count": 6,
   "metadata": {
    "ExecuteTime": {
     "end_time": "2020-08-31T22:05:28.724711Z",
     "start_time": "2020-08-31T22:05:28.689713Z"
    }
   },
   "outputs": [],
   "source": [
    "mlp=MLP()"
   ]
  },
  {
   "cell_type": "code",
   "execution_count": null,
   "metadata": {},
   "outputs": [],
   "source": []
  },
  {
   "cell_type": "code",
   "execution_count": 7,
   "metadata": {
    "ExecuteTime": {
     "end_time": "2020-08-31T22:05:28.801713Z",
     "start_time": "2020-08-31T22:05:28.729714Z"
    }
   },
   "outputs": [
    {
     "name": "stdout",
     "output_type": "stream",
     "text": [
      "(256,)\n"
     ]
    }
   ],
   "source": [
    "for x,y in test_data:\n",
    "    print(y.shape)\n",
    "    break"
   ]
  },
  {
   "cell_type": "code",
   "execution_count": 8,
   "metadata": {
    "ExecuteTime": {
     "end_time": "2020-08-31T22:05:28.914713Z",
     "start_time": "2020-08-31T22:05:28.807714Z"
    }
   },
   "outputs": [
    {
     "name": "stdout",
     "output_type": "stream",
     "text": [
      "int64\n",
      "<dtype: 'int64'>\n"
     ]
    }
   ],
   "source": [
    "for x,y in test_data:\n",
    "    y=y.numpy()\n",
    "    y=y.astype('int64')\n",
    "    print(y.dtype)\n",
    "    print(tf.keras.backend.argmax(tf.nn.softmax(x)).dtype)\n",
    "    break\n",
    "    "
   ]
  },
  {
   "cell_type": "markdown",
   "metadata": {},
   "source": [
    "# evaluation function to evaluate our model"
   ]
  },
  {
   "cell_type": "code",
   "execution_count": 9,
   "metadata": {
    "ExecuteTime": {
     "end_time": "2020-08-31T22:05:28.933714Z",
     "start_time": "2020-08-31T22:05:28.922715Z"
    }
   },
   "outputs": [],
   "source": [
    "def evaluate_accuracy(data_iterator, net):\n",
    "    pred_correct = 0.\n",
    "    for i ,(data,label) in enumerate(data_iterator):\n",
    "        output=net(data)\n",
    "        output=output.numpy()\n",
    "        pred=np.argmax(output,axis=1)\n",
    "        pred_correct=np.sum(pred==label)\n",
    "        return (pred_correct/len(data))"
   ]
  },
  {
   "cell_type": "code",
   "execution_count": 10,
   "metadata": {
    "ExecuteTime": {
     "end_time": "2020-08-31T22:05:28.961712Z",
     "start_time": "2020-08-31T22:05:28.941714Z"
    }
   },
   "outputs": [],
   "source": [
    "# Instantiate a metric object\n",
    "accuracy = tf.keras.metrics.SparseCategoricalAccuracy()\n",
    "loss_fn = tf.keras.losses.SparseCategoricalCrossentropy(from_logits=True)\n",
    "optimizer = tf.keras.optimizers.Adam(learning_rate=1e-3)"
   ]
  },
  {
   "cell_type": "markdown",
   "metadata": {},
   "source": [
    "# Training loop"
   ]
  },
  {
   "cell_type": "code",
   "execution_count": 11,
   "metadata": {
    "ExecuteTime": {
     "end_time": "2020-08-31T22:06:22.220040Z",
     "start_time": "2020-08-31T22:05:28.966714Z"
    },
    "scrolled": true
   },
   "outputs": [
    {
     "name": "stdout",
     "output_type": "stream",
     "text": [
      "epoch 0, loss 1.578574,train acc 0.847656,test acc 0.816406\n",
      "epoch 1, loss 1.572802,train acc 0.878906,test acc 0.863281\n",
      "epoch 2, loss 1.574329,train acc 0.878906,test acc 0.859375\n",
      "epoch 3, loss 1.473423,train acc 0.972656,test acc 0.980469\n",
      "epoch 4, loss 1.476168,train acc 0.980469,test acc 0.964844\n",
      "epoch 5, loss 1.488854,train acc 0.984375,test acc 0.949219\n",
      "epoch 6, loss 1.471262,train acc 0.976562,test acc 0.953125\n",
      "epoch 7, loss 1.471734,train acc 0.964844,test acc 0.968750\n",
      "epoch 8, loss 1.473144,train acc 0.964844,test acc 0.953125\n",
      "epoch 9, loss 1.474965,train acc 0.988281,test acc 0.976562\n"
     ]
    }
   ],
   "source": [
    "epochs=10\n",
    "for e in range(epochs):\n",
    "    train_acc,test_acc=0,0\n",
    "    cumulative_loss = 0\n",
    "    # Iterate over the batches of a dataset.\n",
    "    for step, (x, y) in enumerate(train_data):\n",
    "        with tf.GradientTape() as tape:\n",
    "            logits = mlp(x)\n",
    "            # Compute the loss value for this batch.\n",
    "            loss_value = loss_fn(y, logits)\n",
    "        # Update the state of the `accuracy` metric.\n",
    "        acc_c=accuracy.update_state(y, logits)\n",
    "        # Update the weights of the model to minimize the loss value.\n",
    "        gradients = tape.gradient(loss_value, mlp.trainable_weights)\n",
    "        optimizer.apply_gradients(zip(gradients, mlp.trainable_weights))\n",
    "    train_accuracy = evaluate_accuracy(train_data, mlp)\n",
    "    test_accuracy = evaluate_accuracy(test_data, mlp)\n",
    "    train_acc+=train_accuracy\n",
    "    test_acc+=test_accuracy\n",
    "    print('epoch %d, loss %f,train acc %f,test acc %f'%(e,loss_value,train_acc,test_acc))     \n",
    "    # Result the metric's state at the end of an epoch\n",
    "    accuracy.reset_states()"
   ]
  },
  {
   "cell_type": "code",
   "execution_count": null,
   "metadata": {},
   "outputs": [],
   "source": []
  }
 ],
 "metadata": {
  "kernelspec": {
   "display_name": "Python 3 (ipykernel)",
   "language": "python",
   "name": "python3"
  },
  "language_info": {
   "codemirror_mode": {
    "name": "ipython",
    "version": 3
   },
   "file_extension": ".py",
   "mimetype": "text/x-python",
   "name": "python",
   "nbconvert_exporter": "python",
   "pygments_lexer": "ipython3",
   "version": "3.9.7"
  }
 },
 "nbformat": 4,
 "nbformat_minor": 2
}
