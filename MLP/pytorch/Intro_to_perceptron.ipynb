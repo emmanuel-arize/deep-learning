{
 "cells": [
  {
   "cell_type": "markdown",
   "metadata": {},
   "source": [
    "\n",
    "<h1 style=\"color:blue;text-align: center;\">PERCEPTRON</h1>\n",
    "\n",
    "Perceptron is a single layer neural network used for learning a binary classifier using a threshold function. During training the weights and bias are initialized randomly and examples are then presented. These examples are weighted by the corresponding weights and bias to produce a weighted sum and then transformed through a threshold function to produce an output.\n",
    "\n",
    "let define the weighted sum to be $V=\\sum_{i}^{n}W^{T}X+b$ and the threshold function to be $F$. The threshold function classify an output as belonging to either the positive class (class A or 1) or the negative class (class B or 0) using the using the defined function below\n",
    "\n",
    "$$F=\\begin{cases} 1 \\quad if \\ \\ V  \\geq 0 \\\\ 0 \\quad otherwise\\end{cases}$$"
   ]
  },
  {
   "cell_type": "markdown",
   "metadata": {},
   "source": [
    "<h1 style=\"color:blue;text-align: center;\">MULTILAYER PERCEPTRON (Deep feedforward networks)</h1>\n",
    "\n",
    "A multilayer perceptron (MLP) is a neural network composed of more than one perceptron. They are composed of an input layer, an, arbitrary number of hidden layers and output layer which are stacked on top of each other. An output from a layer serves as an imput for the next layer above it and in that order, until the model generate a output from the output layer. The output from the output layer serve as the predicted output by the model. MLP is defined as\n",
    "\n",
    "$$ h_1 = \\sigma(W_1\\boldsymbol{x} + b_1) $$\n",
    "$$ h_2 = \\sigma(W_2\\boldsymbol{h_1} + b_2) $$\n",
    "$$ h_3 = \\sigma(W_3\\boldsymbol{h_2} + b_3) $$\n",
    "$$...$$\n",
    "$$ h_n = \\sigma(W_n\\boldsymbol{h_{n-1}} + b_n) $$\n",
    "$$ \\hat{y} = \\phi (W_y \\boldsymbol{h}_n + b_y)$$ $$OR$$\n",
    "$$ \\hat{y} = W_y \\boldsymbol{h}_n + b_y$$\n",
    "\n",
    "where $\\sigma$ is some nonlinear activation functions. $\\phi$ is also a nonlinear function which depends on the target variable. Note that each layer requires its own set of parameters and all these parameters are updated during training. For each layer the model first calculate its value by first applying a linear function before applying an element-wise nonlinear activation function. \n",
    "\n"
   ]
  },
  {
   "cell_type": "markdown",
   "metadata": {},
   "source": [
    "\n",
    "\n",
    "\n",
    "\n"
   ]
  },
  {
   "cell_type": "markdown",
   "metadata": {},
   "source": [
    "<b style=\"color:red\">\"The final layer of a feedforward network is called the output layer. During neural network training, we drive f(x) to match f∗(x). The training data provides us with noisy, approximate examples of f ∗(x) evaluated at different training points. Each example x is accompanied by a label y ≈ f ∗(x). The training examples specify directly what the output layer must do at each point x; it must produce a value that is close to y. The behavior of the other layers is not directly specified by the training data. The learning algorithm must decide how to use those layers to produce the desired output, but the training data does not say what each individual layer should do. Instead, the learning algorithm must decide how to use these layers to best implement an approximation of f∗. Because the training data does not show the desired output for each of these layers, these layers are called hidden layers. The dimensionality of these hidden layers determines the width of the model\"</b>\n",
    "\n",
    "\n",
    "<b>(source: From the book, Deep Learning by Ian Goodfellow,Yoshua Bengio and Aaron Courville Chapter 6 (Deep Feedforward Networks) page 169) </b>"
   ]
  },
  {
   "cell_type": "markdown",
   "metadata": {},
   "source": [
    "<h1 style=\"background-color:DodgerBlue;\"><img src=\"images/mlp.png\" alt=\"Smiley face\" style=\"float:right;width:400px;height:300px;\">A multilayer perceptron with 4 inputs, a hidden layer with 4 hidden units and 2 outputs</h1>\n"
   ]
  },
  {
   "cell_type": "markdown",
   "metadata": {},
   "source": [
    "<h1 style=\"color:blue;text-align: center;\">Activation Functions</h1>\n",
    "\n",
    "Activation functions are used to introduce non-linearity to the neural network without neural networks could do little to learn non-linear functions and as such play important roles in neural networks. A chosen activation function for a node is responsible for transforming the summed weighted input of that node and it determines the output of that node. These activation functions help the networks in predicting a desirable output based on the learned patterns within datasets by the parameters. Activation functions are also chosen for input-hidden layers and hidden-output layer and a primary considerations for choosing activation function the differentiability nature of the function since back-propagated used in updating model parameters requires the gradient of the activation function. There are different types of activation functions but we will only briefly survey some common activation functions."
   ]
  },
  {
   "cell_type": "markdown",
   "metadata": {},
   "source": [
    "<h1 style=\"color:blue;text-align: center;\">Reactified Linear Unit (ReLU) Function</h1>\n",
    "\n",
    "Relu has become the default activation function for many types of neural networks due to its simplicity of implementation, easier to train and often achieves better performance on a variety of predictive tasks. When apply to an output from a linear transformation yields a nonlinear transformation and this simple nonlinear transformation is defined to returns 0 if it receives a negative input (discards all negative elements) and if a positive value is received, returns the same the positive value, that is given the element $\\textbf{z}$, the function is defined as the maximum of that element and 0.\n",
    "\n",
    "$$Relu(z)=max(0,z)  $$\n",
    "\n"
   ]
  },
  {
   "cell_type": "markdown",
   "metadata": {},
   "source": [
    "Using inputs X defined as\n",
    "$$X=\\left [\\begin{array}{ccc}\n",
    "0& 0 \\\\\n",
    "0 & 1\\\\\n",
    "2 &5 \\\\\n",
    "4&-3\n",
    "\\end{array}\\right ]$$\n",
    "and a hidden layer h defined by\n",
    "$$h=f(WX+b0)$$\n",
    "\n",
    "where \n",
    "$f=Relu$\n",
    "$$b0=\\left[\\begin{array}{ccc}\n",
    "0\\\\\n",
    "-1 \n",
    "\\end{array}\\right]$$\n",
    "\n",
    "$$W=\\left [\\begin{array}{ccc}\n",
    "1 &5\\\\\n",
    "3 &1\n",
    "\\end{array}\\right]$$\n",
    "\n",
    "and an output layer defined by\n",
    "\n",
    "$$ O=wh+b1 $$\n",
    "where\n",
    "$$w=\\left[\\begin{array}{ccc}\n",
    "2\\\\\n",
    "3\n",
    "\\end{array}\\right]$$\n",
    "$$b1=\\left[\\begin{array}{ccc}\n",
    "0\\\\\n",
    "0 \n",
    "\\end{array}\\right]$$\n",
    "\n",
    "we want to compute the output"
   ]
  },
  {
   "cell_type": "code",
   "execution_count": 1,
   "metadata": {
    "ExecuteTime": {
     "end_time": "2020-08-26T23:22:29.299162Z",
     "start_time": "2020-08-26T23:22:26.979160Z"
    }
   },
   "outputs": [],
   "source": [
    "import numpy as np\n",
    "import torch"
   ]
  },
  {
   "cell_type": "code",
   "execution_count": 2,
   "metadata": {
    "ExecuteTime": {
     "end_time": "2020-08-26T23:22:29.322161Z",
     "start_time": "2020-08-26T23:22:29.306163Z"
    }
   },
   "outputs": [],
   "source": [
    "b0=torch.Tensor([0,-1])\n",
    "W=torch.Tensor([[1,5],[3,1]])\n",
    "w=torch.Tensor([2,3])"
   ]
  },
  {
   "cell_type": "markdown",
   "metadata": {},
   "source": [
    "<h1>transpose(input, dim0, dim1) </h1>\n",
    " \n",
    " dim0 (int): the first dimension to be transposed\n",
    "\n",
    "dim1 (int): the second dimension to be transposed"
   ]
  },
  {
   "cell_type": "code",
   "execution_count": 3,
   "metadata": {
    "ExecuteTime": {
     "end_time": "2020-08-26T23:22:29.530162Z",
     "start_time": "2020-08-26T23:22:29.430163Z"
    }
   },
   "outputs": [
    {
     "data": {
      "text/plain": [
       "tensor([[ 0.,  0.],\n",
       "        [ 0.,  1.],\n",
       "        [ 2.,  5.],\n",
       "        [ 4., -3.]])"
      ]
     },
     "execution_count": 3,
     "metadata": {},
     "output_type": "execute_result"
    }
   ],
   "source": [
    "x=torch.Tensor([[0,0,2,4],[0,1,5,-3]])\n",
    "x=x.transpose(0,1)\n",
    "x"
   ]
  },
  {
   "cell_type": "code",
   "execution_count": 4,
   "metadata": {
    "ExecuteTime": {
     "end_time": "2020-08-26T23:22:29.834160Z",
     "start_time": "2020-08-26T23:22:29.803161Z"
    }
   },
   "outputs": [
    {
     "data": {
      "text/plain": [
       "tensor([[ 0., -1.],\n",
       "        [ 3.,  0.],\n",
       "        [17., 14.],\n",
       "        [-5., 16.]])"
      ]
     },
     "execution_count": 4,
     "metadata": {},
     "output_type": "execute_result"
    }
   ],
   "source": [
    "h=x@W+b0\n",
    "h"
   ]
  },
  {
   "cell_type": "code",
   "execution_count": 5,
   "metadata": {
    "ExecuteTime": {
     "end_time": "2020-08-26T23:22:30.327162Z",
     "start_time": "2020-08-26T23:22:30.316163Z"
    }
   },
   "outputs": [
    {
     "data": {
      "text/plain": [
       "tensor([[ 0.,  0.],\n",
       "        [ 3.,  0.],\n",
       "        [17., 14.],\n",
       "        [ 0., 16.]])"
      ]
     },
     "execution_count": 5,
     "metadata": {},
     "output_type": "execute_result"
    }
   ],
   "source": [
    "h_relu=np.maximum(0,h)\n",
    "h_relu"
   ]
  },
  {
   "cell_type": "code",
   "execution_count": 6,
   "metadata": {
    "ExecuteTime": {
     "end_time": "2020-08-26T23:22:30.575164Z",
     "start_time": "2020-08-26T23:22:30.564162Z"
    }
   },
   "outputs": [
    {
     "data": {
      "text/plain": [
       "tensor([ 0.,  6., 76., 48.])"
      ]
     },
     "execution_count": 6,
     "metadata": {},
     "output_type": "execute_result"
    }
   ],
   "source": [
    "output=h_relu@w\n",
    "output"
   ]
  },
  {
   "cell_type": "code",
   "execution_count": 7,
   "metadata": {
    "ExecuteTime": {
     "end_time": "2020-08-26T23:22:32.241159Z",
     "start_time": "2020-08-26T23:22:31.079162Z"
    }
   },
   "outputs": [],
   "source": [
    "from torch.autograd import Variable\n",
    "import torch\n",
    "import torch.nn.functional as F\n",
    "import numpy as np\n",
    "import matplotlib.pyplot as plt\n",
    "%matplotlib inline"
   ]
  },
  {
   "cell_type": "code",
   "execution_count": 8,
   "metadata": {
    "ExecuteTime": {
     "end_time": "2020-08-26T23:22:32.260161Z",
     "start_time": "2020-08-26T23:22:32.251162Z"
    }
   },
   "outputs": [],
   "source": [
    "def plot_activation(x_data,y_data,xlabel='x',ylabel='y'):\n",
    "    plt.figure(figsize=(4,3))\n",
    "    plt.plot(x_data.data.numpy(),y_data.data.numpy())\n",
    "    plt.xlabel(xlabel)\n",
    "    plt.ylabel(ylabel)\n",
    "    plt.grid()\n",
    "    plt.show()"
   ]
  },
  {
   "cell_type": "code",
   "execution_count": 9,
   "metadata": {
    "ExecuteTime": {
     "end_time": "2020-08-26T23:22:33.038164Z",
     "start_time": "2020-08-26T23:22:32.604163Z"
    }
   },
   "outputs": [
    {
     "data": {
      "image/png": "[encoded data removed]",
      "text/plain": [
       "<Figure size 288x216 with 1 Axes>"
      ]
     },
     "metadata": {},
     "output_type": "display_data"
    }
   ],
   "source": [
    "x=Variable(torch.arange(-8.0,8.0,0.1),requires_grad=True)\n",
    "y=F.relu(x)\n",
    "plot_activation(x,y,xlabel='x-values',ylabel='Relu(x)')"
   ]
  },
  {
   "cell_type": "code",
   "execution_count": 10,
   "metadata": {
    "ExecuteTime": {
     "end_time": "2020-08-26T23:22:33.459164Z",
     "start_time": "2020-08-26T23:22:33.065164Z"
    }
   },
   "outputs": [
    {
     "data": {
      "image/png": "[encoded data removed]",
      "text/plain": [
       "<Figure size 288x216 with 1 Axes>"
      ]
     },
     "metadata": {},
     "output_type": "display_data"
    }
   ],
   "source": [
    "y.backward(torch.ones_like(x),retain_graph=True)\n",
    "plot_activation(x, x.grad, 'x', 'grad of Relu')"
   ]
  },
  {
   "cell_type": "markdown",
   "metadata": {},
   "source": [
    "# NOTE  \n",
    "## Relu has many variants including \n",
    "$\\bullet$LeakyReLU \n",
    "\n",
    "$\\bullet$parameterized ReLU (pReLU)\n"
   ]
  },
  {
   "cell_type": "markdown",
   "metadata": {},
   "source": [
    "<h1 style=\"color:blue;text-align: center;\">Sigmoid Function</h1>\n",
    "\n",
    "The sigmoid function transforms its inputs, which values lie in the domain R, to outputs that lie\n",
    "on the interval (0; 1). The function has a lower bound of $\\textbf{0}$ and an upper bound of $\\textbf{1}$ which means that the function output values range is  [0,1] Because it squashes any input in the range (-inf, inf) to some value in the range (0, 1), the sigmoid function is often called a squashing function: \n",
    "The function is defined as\n",
    "\n",
    "$$\\boldsymbol{\\sigma(z)}=\\frac{1}{1+\\exp(-z)} $$ "
   ]
  },
  {
   "cell_type": "code",
   "execution_count": 11,
   "metadata": {
    "ExecuteTime": {
     "end_time": "2020-08-26T23:22:33.955163Z",
     "start_time": "2020-08-26T23:22:33.646163Z"
    }
   },
   "outputs": [
    {
     "name": "stderr",
     "output_type": "stream",
     "text": [
      "C:\\Anaconda3\\lib\\site-packages\\torch\\nn\\functional.py:1386: UserWarning: nn.functional.sigmoid is deprecated. Use torch.sigmoid instead.\n",
      "  warnings.warn(\"nn.functional.sigmoid is deprecated. Use torch.sigmoid instead.\")\n"
     ]
    },
    {
     "data": {
      "image/png": "[encoded data removed]",
      "text/plain": [
       "<Figure size 288x216 with 1 Axes>"
      ]
     },
     "metadata": {},
     "output_type": "display_data"
    }
   ],
   "source": [
    "x=Variable(torch.arange(-8.0,8.0,0.1),requires_grad=True)\n",
    "y=F.sigmoid(x)\n",
    "plot_activation(x,y,xlabel='x-values',ylabel='sigmoid(x)')"
   ]
  },
  {
   "cell_type": "code",
   "execution_count": 12,
   "metadata": {
    "ExecuteTime": {
     "end_time": "2020-08-26T23:22:34.252161Z",
     "start_time": "2020-08-26T23:22:33.961164Z"
    }
   },
   "outputs": [
    {
     "data": {
      "image/png": "[encoded data removed]",
      "text/plain": [
       "<Figure size 288x216 with 1 Axes>"
      ]
     },
     "metadata": {},
     "output_type": "display_data"
    }
   ],
   "source": [
    "y.backward(torch.ones_like(x),retain_graph=True)\n",
    "plot_activation(x,x.grad,xlabel='x-values',ylabel='grad of sigmoid')"
   ]
  },
  {
   "cell_type": "markdown",
   "metadata": {
    "ExecuteTime": {
     "end_time": "2020-07-30T03:05:54.386262Z",
     "start_time": "2020-07-30T03:05:54.379259Z"
    }
   },
   "source": [
    "<h1 style=\"color:blue;text-align: center;\">Hyperbolic Tangent (Tanh) Function</h1>\n",
    "\n",
    "The hyperbolic tangent function denoted as tanh(z) function is\n",
    "a re-scaled version of the logistic sigmoid function, which is bounded below and above by [−1; 1] and\n",
    "hence output values within the range of [−1; 1]. The function is defined as\n",
    "\n",
    "$$tahn(z)=\\frac{exp(z)-exp(-z)}{exp(z)+exp(-z)}=\\frac{1-exp(-2z)}{1+exp(-2z)}$$"
   ]
  },
  {
   "cell_type": "code",
   "execution_count": 13,
   "metadata": {
    "ExecuteTime": {
     "end_time": "2020-08-26T23:22:34.571162Z",
     "start_time": "2020-08-26T23:22:34.257163Z"
    }
   },
   "outputs": [
    {
     "name": "stderr",
     "output_type": "stream",
     "text": [
      "C:\\Anaconda3\\lib\\site-packages\\torch\\nn\\functional.py:1374: UserWarning: nn.functional.tanh is deprecated. Use torch.tanh instead.\n",
      "  warnings.warn(\"nn.functional.tanh is deprecated. Use torch.tanh instead.\")\n"
     ]
    },
    {
     "data": {
      "image/png": "[encoded data removed]",
      "text/plain": [
       "<Figure size 288x216 with 1 Axes>"
      ]
     },
     "metadata": {},
     "output_type": "display_data"
    }
   ],
   "source": [
    "x=Variable(torch.arange(-8.0,8.0,0.1),requires_grad=True)\n",
    "y=F.tanh(x)\n",
    "plot_activation(x,y,xlabel='x-values',ylabel='tanh(x)')"
   ]
  },
  {
   "cell_type": "code",
   "execution_count": 14,
   "metadata": {
    "ExecuteTime": {
     "end_time": "2020-08-26T23:22:34.840162Z",
     "start_time": "2020-08-26T23:22:34.578161Z"
    }
   },
   "outputs": [
    {
     "data": {
      "image/png": "[encoded data removed]",
      "text/plain": [
       "<Figure size 288x216 with 1 Axes>"
      ]
     },
     "metadata": {},
     "output_type": "display_data"
    }
   ],
   "source": [
    "y.backward(torch.ones_like(x),retain_graph=True)\n",
    "plot_activation(x,x.grad,xlabel='x-values',ylabel='grad of tanh')"
   ]
  },
  {
   "cell_type": "markdown",
   "metadata": {},
   "source": [
    "# note\n",
    "$$ tanh(x)+1=2sigmoid(2x)$$"
   ]
  },
  {
   "cell_type": "code",
   "execution_count": 15,
   "metadata": {
    "ExecuteTime": {
     "end_time": "2020-08-26T23:22:35.049161Z",
     "start_time": "2020-08-26T23:22:35.040162Z"
    }
   },
   "outputs": [
    {
     "data": {
      "text/plain": [
       "1.762"
      ]
     },
     "execution_count": 15,
     "metadata": {},
     "output_type": "execute_result"
    }
   ],
   "source": [
    "np.round(np.tanh(1)+1,3)"
   ]
  },
  {
   "cell_type": "code",
   "execution_count": 16,
   "metadata": {
    "ExecuteTime": {
     "end_time": "2020-08-26T23:22:35.151162Z",
     "start_time": "2020-08-26T23:22:35.141161Z"
    }
   },
   "outputs": [
    {
     "data": {
      "text/plain": [
       "1.762"
      ]
     },
     "execution_count": 16,
     "metadata": {},
     "output_type": "execute_result"
    }
   ],
   "source": [
    "def f(x):\n",
    "    return 2/(1+np.exp(-2*x))\n",
    "np.round(f(1),3)"
   ]
  },
  {
   "cell_type": "markdown",
   "metadata": {},
   "source": [
    "<h1 style='text-align:center;'>Implementation of Multilayer Perceptron from Scratch using Softmax as the output activation function </h1>"
   ]
  },
  {
   "cell_type": "markdown",
   "metadata": {},
   "source": [
    "<h1>importing the needed packages</h1>"
   ]
  },
  {
   "cell_type": "code",
   "execution_count": 1,
   "metadata": {
    "ExecuteTime": {
     "end_time": "2020-08-27T14:34:06.806230Z",
     "start_time": "2020-08-27T14:34:05.241715Z"
    }
   },
   "outputs": [],
   "source": [
    "import torch.nn as nn\n",
    "import matplotlib.pyplot as plt\n",
    "import torch.nn.functional as f\n",
    "from torch.utils.data import DataLoader,TensorDataset\n",
    "import torch\n",
    "import torch.utils.data as Data\n",
    "import torchvision.transforms as transforms\n",
    "import torchvision.datasets as datasets\n",
    "import numpy as np\n",
    "%matplotlib inline"
   ]
  },
  {
   "cell_type": "markdown",
   "metadata": {},
   "source": [
    "# Loading the data"
   ]
  },
  {
   "cell_type": "code",
   "execution_count": 2,
   "metadata": {
    "ExecuteTime": {
     "end_time": "2020-08-27T14:34:14.699719Z",
     "start_time": "2020-08-27T14:34:14.620716Z"
    }
   },
   "outputs": [],
   "source": [
    "# MNIST Dataset\n",
    "train_dataset = datasets.MNIST(root='./data/',train=True,transform=transforms.ToTensor(),download=True)\n",
    "test_dataset = datasets.MNIST(root='./data/',train=False,transform=transforms.ToTensor())"
   ]
  },
  {
   "cell_type": "markdown",
   "metadata": {
    "ExecuteTime": {
     "end_time": "2020-08-21T23:27:42.914316Z",
     "start_time": "2020-08-21T23:27:42.896316Z"
    }
   },
   "source": [
    "train_dataset=train_dataset.data.reshape([-1,784]).shape\n",
    "test_dataset=test_dataset.data.reshape(-1,784).shape"
   ]
  },
  {
   "cell_type": "code",
   "execution_count": 3,
   "metadata": {
    "ExecuteTime": {
     "end_time": "2020-08-27T14:34:15.931010Z",
     "start_time": "2020-08-27T14:34:15.921081Z"
    }
   },
   "outputs": [],
   "source": [
    "batch_size=265\n",
    "train_loader=DataLoader(dataset=train_dataset,batch_size=batch_size,shuffle=True)\n",
    "test_loader=DataLoader(dataset=test_dataset,batch_size=batch_size,shuffle=True)"
   ]
  },
  {
   "cell_type": "code",
   "execution_count": 4,
   "metadata": {
    "ExecuteTime": {
     "end_time": "2020-08-27T14:34:16.696759Z",
     "start_time": "2020-08-27T14:34:16.591156Z"
    }
   },
   "outputs": [
    {
     "name": "stdout",
     "output_type": "stream",
     "text": [
      "torch.Size([265, 1, 28, 28])\n"
     ]
    }
   ],
   "source": [
    "for x,y in train_loader:\n",
    "    print(x.shape)\n",
    "    break"
   ]
  },
  {
   "cell_type": "markdown",
   "metadata": {
    "ExecuteTime": {
     "end_time": "2020-07-31T22:54:07.220977Z",
     "start_time": "2020-07-31T22:54:07.211979Z"
    }
   },
   "source": [
    "<h1> Defining and initializing our model with the parameters  </h1>MODEL</h1>\n",
    "we are defining our model to be \n",
    "$$ h_1 = \\sigma(W_1\\boldsymbol{x} + b_1) $$\n",
    "$$ h_2 = \\sigma(W_2\\boldsymbol{h_1} + b_2) $$\n",
    "$$ \\hat{y} = softmax(W_3\\boldsymbol{h}_2 + b_3)$$\n",
    "where $\\sigma$ is defined to be relu activation function\n",
    "\n",
    "\n",
    " MLP with two hidden layers each with 256 hidden units in the first layer,  100 hidden units in the second layer and since the target variable contain 10 categories we will set the number of output to 10"
   ]
  },
  {
   "cell_type": "markdown",
   "metadata": {
    "ExecuteTime": {
     "end_time": "2020-08-27T01:27:04.569326Z",
     "start_time": "2020-08-27T01:27:04.553326Z"
    }
   },
   "source": [
    "weight_scale = .01\n",
    "num_inputs, num_outputs, num_hidden_1,num_hidden_2 = 784, 10, 256,100\n",
    "\n",
    "class MLP(nn.Module):\n",
    "    def __init__(self):\n",
    "        super().__init__()\n",
    "        # parameters of the first hidden layer\n",
    "        self.w1=nn.Parameter(torch.rand(num_inputs,num_hidden_1,requires_grad=True)*weight_scale)\n",
    "        self.b1=nn.Parameter(torch.zeros(num_hidden_1,requires_grad=True))\n",
    "        \n",
    "        # parameters of the  second hidden layer\n",
    "        self.w2=nn.Parameter(torch.rand(num_hidden_1,num_hidden_2,requires_grad=True)*weight_scale)\n",
    "        self.b2=nn.Parameter(torch.zeros(num_hidden_2,requires_grad=True))\n",
    "        \n",
    "        # parameters of the  third hidden layer\n",
    "        self.w3=nn.Parameter(torch.rand(num_hidden_2,num_outputs,requires_grad=True)*weight_scale)\n",
    "        self.b3=nn.Parameter(torch.zeros(num_outputs,requires_grad=True))\n",
    "        \n",
    "    def relu(self,s):\n",
    "        a=torch.zeros_like(s)\n",
    "        return torch.max(a,s)\n",
    "    \n",
    "    def softmax(self,z):\n",
    "        exp_num=torch.exp(z)\n",
    "        deno=torch.sum(exp_num,dim=1,keepdim=True)\n",
    "        return exp_num/deno\n",
    "        \n",
    "    def forward(self,x):\n",
    "        x=x.reshape(-1,784)\n",
    "        h_1=self.relu(x@self.w1 +self.b1)\n",
    "        h_2=self.relu(h_1@self.w2 +self.b2)\n",
    "        out=h_2@self.w3 +self.b3\n",
    "        logits=self.softmax(out)\n",
    "        return logits"
   ]
  },
  {
   "cell_type": "code",
   "execution_count": 5,
   "metadata": {
    "ExecuteTime": {
     "end_time": "2020-08-27T14:34:24.945985Z",
     "start_time": "2020-08-27T14:34:24.936986Z"
    }
   },
   "outputs": [],
   "source": [
    "weight_scale = .01\n",
    "num_inputs, num_outputs, num_hidden_1,num_hidden_2 = 784, 10, 256,100\n",
    "\n",
    "\n",
    "class MLP(nn.Module):\n",
    "    def __init__(self):\n",
    "        super().__init__()\n",
    "        self.linear1=nn.Linear(784,256)\n",
    "        self.linear2=nn.Linear(256,100)\n",
    "        self.linear3=nn.Linear(100,10)\n",
    "    def forward(self,x):\n",
    "        x=x.reshape(-1,784)\n",
    "        h_1=f.relu(self.linear1(x))\n",
    "        h_2=f.relu(self.linear2(h_1))\n",
    "        #h_3=f.relu(self.linear3(h_2))\n",
    "        #probs=f.softmax(h_3)\n",
    "        return self.linear3(h_2)"
   ]
  },
  {
   "cell_type": "code",
   "execution_count": 6,
   "metadata": {
    "ExecuteTime": {
     "end_time": "2020-08-27T14:34:25.778563Z",
     "start_time": "2020-08-27T14:34:25.767565Z"
    }
   },
   "outputs": [],
   "source": [
    "mlp=MLP()"
   ]
  },
  {
   "cell_type": "code",
   "execution_count": 8,
   "metadata": {
    "ExecuteTime": {
     "end_time": "2020-08-27T14:34:44.400957Z",
     "start_time": "2020-08-27T14:34:44.395959Z"
    }
   },
   "outputs": [],
   "source": [
    "optimizer=torch.optim.SGD(mlp.parameters(), lr=0.1)"
   ]
  },
  {
   "cell_type": "code",
   "execution_count": 10,
   "metadata": {
    "ExecuteTime": {
     "end_time": "2020-08-27T14:35:04.664184Z",
     "start_time": "2020-08-27T14:35:04.656187Z"
    }
   },
   "outputs": [],
   "source": [
    "def evaluate_accuracy(net,data_iterator):\n",
    "    pred_correct,n  = 0,0\n",
    "    for  data,label in data_iterator:\n",
    "        data=data.reshape(-1,784)\n",
    "        output=net(data)\n",
    "        pred = output.argmax(dim=1)\n",
    "        pred_correct += (pred==label).float().sum().item()\n",
    "        return pred_correct/len(data)"
   ]
  },
  {
   "cell_type": "code",
   "execution_count": 11,
   "metadata": {
    "ExecuteTime": {
     "end_time": "2020-08-27T14:35:05.733396Z",
     "start_time": "2020-08-27T14:35:05.647402Z"
    }
   },
   "outputs": [
    {
     "data": {
      "text/plain": [
       "0.12830188679245283"
      ]
     },
     "execution_count": 11,
     "metadata": {},
     "output_type": "execute_result"
    }
   ],
   "source": [
    "evaluate_accuracy(mlp,test_loader)"
   ]
  },
  {
   "cell_type": "markdown",
   "metadata": {},
   "source": [
    "<h1>defining our loss function to be categorical cross entropy loss</h1>"
   ]
  },
  {
   "cell_type": "code",
   "execution_count": 13,
   "metadata": {
    "ExecuteTime": {
     "end_time": "2020-08-27T14:35:45.154758Z",
     "start_time": "2020-08-27T14:35:45.149767Z"
    }
   },
   "outputs": [],
   "source": [
    "loss=nn.CrossEntropyLoss()"
   ]
  },
  {
   "cell_type": "markdown",
   "metadata": {},
   "source": [
    "# Training loop"
   ]
  },
  {
   "cell_type": "code",
   "execution_count": 15,
   "metadata": {
    "ExecuteTime": {
     "end_time": "2020-08-27T14:39:54.267064Z",
     "start_time": "2020-08-27T14:36:53.430547Z"
    }
   },
   "outputs": [
    {
     "name": "stdout",
     "output_type": "stream",
     "text": [
      "epoch 0, loss 0.366002,train acc 0.898113,test acc 0.924528\n",
      "epoch 1, loss 0.259787,train acc 0.943396,test acc 0.916981\n",
      "epoch 2, loss 0.200525,train acc 0.954717,test acc 0.909434\n",
      "epoch 3, loss 0.203040,train acc 0.935849,test acc 0.928302\n",
      "epoch 4, loss 0.212847,train acc 0.958491,test acc 0.950943\n",
      "epoch 5, loss 0.186630,train acc 0.943396,test acc 0.969811\n",
      "epoch 6, loss 0.100806,train acc 0.977358,test acc 0.962264\n",
      "epoch 7, loss 0.146771,train acc 0.966038,test acc 0.954717\n",
      "epoch 8, loss 0.086980,train acc 0.973585,test acc 0.981132\n",
      "epoch 9, loss 0.069046,train acc 0.981132,test acc 0.969811\n",
      "epoch 10, loss 0.110185,train acc 0.962264,test acc 0.973585\n"
     ]
    }
   ],
   "source": [
    "num_epochs = 10\n",
    "for epoch in range(num_epochs+1):\n",
    "    test_acc,train_acc=0,0\n",
    "    for X,y in train_loader:\n",
    "        y_hat=mlp(X)\n",
    "        l=loss(y_hat,y)\n",
    "        optimizer.zero_grad() \n",
    "        l.backward() \n",
    "        optimizer.step() \n",
    "    acc_te=evaluate_accuracy(mlp,test_loader)\n",
    "    acc_tr=evaluate_accuracy(mlp,train_loader)\n",
    "    test_acc+=acc_te\n",
    "    train_acc+=acc_tr\n",
    "    print('epoch %d, loss %f,train acc %f,test acc %f'%(epoch,l,train_acc,test_acc))"
   ]
  },
  {
   "cell_type": "code",
   "execution_count": null,
   "metadata": {},
   "outputs": [],
   "source": []
  }
 ],
 "metadata": {
  "kernelspec": {
   "display_name": "Python 3",
   "language": "python",
   "name": "python3"
  },
  "language_info": {
   "codemirror_mode": {
    "name": "ipython",
    "version": 3
   },
   "file_extension": ".py",
   "mimetype": "text/x-python",
   "name": "python",
   "nbconvert_exporter": "python",
   "pygments_lexer": "ipython3",
   "version": "3.6.5"
  }
 },
 "nbformat": 4,
 "nbformat_minor": 2
}
