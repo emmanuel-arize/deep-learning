{
 "cells": [
  {
   "cell_type": "markdown",
   "metadata": {},
   "source": [
    "# Linear Regression\n",
    "linear regression is one of the most widely used regression models.This asserts that the is a linear function betweent the target variable (response) and the inputs variables (features) and it is a useful tool for predicting a quantitative response. \n",
    "\n",
    "\n",
    "# Linear Model\n",
    " \n",
    " Suppose as a data scientist in your company, you are tasked to predict the price of houses based on the age and area of a housing data presented to you because your comapny wants to purchase a company house next year. In machine learning, our goal is generalized well so to have a good predictions on newly unseen data so we mostly divided the dataset into training data or training set (mostly 70-80% of the dataset) which will be used in training our model and the rest as test set on which we will test our model to sea good the model is when predicting newly unseen data becuase after training our model what we will be predictions are going to be similar (new) but unseen inputs. The rows of the dataset are called instances (observations or examples) and what we want to predict is called a target or label or dependent variable or response. The variables upon which the predictions are based are called features or covariates or independent variables (any column value in the input dataset).\n",
    " \n",
    " \n",
    "# As a data scientist you first task is to ask\n",
    " \n",
    " $\\bullet$ Is there a relationship between age and price of a house or area and price of a house.Are these relations negative (negative in the sense that when one increase the other decrease and vise versa) or positive (when one increases the other increases).\n",
    " \n",
    " Does new or old houses have high or low prices and vice versa\n",
    " \n",
    " $\\bullet$ How strong is the relationship between these features and the price of a house. Which feature contribute most to the price of a house\n",
    " \n",
    " $\\bullet$ Is the relationship linear?\n",
    " \n",
    "Using linear regression assumes that there is approximately a linear relationship between features and the target variables and this linearity assumption says that the target (price) can be expressed as a weighted sum of the features"
   ]
  },
  {
   "cell_type": "markdown",
   "metadata": {},
   "source": [
    " \n",
    "using age and area of a house as features in predictint the price of a house the linearity assumption  says that the target (price) can be expressed as a weighted sum of the features (area and age) given by:\n",
    "\n",
    "$$ price = w_{1} *area + w_{2} * age + b$$\n",
    "\n",
    "let assume we have 3 rows then\n",
    "\n",
    "$$\n",
    "\\begin{array}{ccc}\n",
    "price_{1} = w_{0} + w_{1} *area_{1,1} + w_{2} * age_{1,2} \\\\\n",
    "price_{2} = w_{0} + w_{1} *area_{2,1} + w_{2} * age_{2,2} \\\\\n",
    "price_{3} = w_{0} + w_{1} *area_{3,1} + w_{2} * age_{3,2}\n",
    "\\end{array}$$\n",
    "\n",
    "$$price = \\left|\\begin{array}{ccc}\n",
    "1&area_{1,1} &  age_{1,2} \\\\\n",
    "1&area_{2,1} &  age_{2,2}\\\\\n",
    "1&area_{3,1} & age_{3,2}  \n",
    "\\end{array}\\right| \\left|\\begin{array}{ccc}\n",
    "w_{0} \\\\\n",
    "w_{1}\\\\\n",
    "w_{2}\n",
    "\\end{array}\\right|=X*w\n",
    "$$\n",
    "\n",
    "where $w_{1}$ and $w_{2}$ are weights(parameters) associted with area and age respectively and determine the influence of each feature on our prediction, and $b (w_{0}$ is called a bias(parameter) (also called an offset or intercept) which accounts for factors that are not accounted for by the input variables\n",
    "\n",
    "When our inputs consist of\n",
    "d features, we express our prediction $\\hat y$ as\n",
    "$\\hat y = w_{1}·x_{1} +... + w_{d} · x_{d} + b$\n",
    "Collecting all features into a vector $x$ and all weights into a vector w, we can express our model\n",
    "compactly using a dot product:\n",
    "$$\\hat y = w^{T} X + b=Xw + b$$ or $$\\hat y = w^{T} X$$ here the $$w_{o}= bias$$\n",
    "\n",
    "here $X$ is the data points and $w$ is the weight vector\n",
    "\n",
    "\n",
    "Even if the best model for predicting y given x is linear, we would not expect to find real-world data where $y_{i}$ exactly equals $w^{⊤}x + b$ for all points $(x, y)$. For example, whatever instruments we use to observe the features X and labels y might suffer small amount of measurement error. Thus, even when we are confident that the underlying relationship is linear, we will incorporate a noise term to account for such errors.\n",
    "\n",
    "\n",
    "$\\textbf{Before} $ we can go about searching for the best parameters w and b which will generalized well, we will need two more things:\n",
    "(i) a quality measure for some given model; and (ii) a procedure for updating the model parameters to improve its quality predictions"
   ]
  },
  {
   "cell_type": "markdown",
   "metadata": {
    "ExecuteTime": {
     "end_time": "2020-05-11T18:07:32.972157Z",
     "start_time": "2020-05-11T18:07:32.945151Z"
    }
   },
   "source": [
    "# Loss Function\n",
    "Our next step is to select a performance measure that will determine how good our model fit the data by measuring the closeness of our predictions to their real values. The loss function quantifies the distance between the actual or real and predicted value with a goal to minimize the prediction error for data points not used during training. The loss will usually be a non-negative number where smaller values are better and perfect predictions incur a loss of 0\n",
    "\n",
    "\n",
    "\n",
    "# sum of squared errors\n",
    "\n",
    "the sum of squared errors is the most popular loss function in regression problems and is given by\n",
    "\n",
    "$$\\ell_{i}(w,b)=\\frac{1}{2}(y_{i}-\\hat y_{i})^{2}$$ \n",
    "\n",
    " The fraction 1⁄2 is arbitrary, and is used for mathematical convenience\n",
    "\n",
    "in general to measure the quality of our model on the entire dataset, we simply average the losses on the training set\n",
    "$$\\ell(w,b)=\\frac{1}{2n} \\sum_{1}^{n}(w^{T} X_{i}+b -y_{i})^{2}$$\n",
    "\n",
    "during training we want to find the best parameters $(w∗,b∗)$ that minimize the total loss across all training samples:\n",
    "$$w∗, b∗ = argmin_{w,b}L(w, b)$$"
   ]
  },
  {
   "cell_type": "markdown",
   "metadata": {},
   "source": [
    "\n",
    "\n",
    "\n",
    "# Analytic Solution\n",
    "Linear regression happens to be a simple optimization problem\n",
    "\n",
    "$$\\ell(w)=(w^{T} X -y_{i})^{2}$$\n",
    "$$\\ell(w)=(w X -y)^{T}(w^{T} X -y)$$\n",
    "\n",
    "$$\\ell=ww^{T}x_{T}x-2w^{T}xy+yy^{T} $$\n",
    "\n",
    "$$ \\frac{\\partial \\ell}{\\partial  w} =2wx^{T}x-2xy=0$$\n",
    "$$w=(x^{T}x)^{-1}xy$$\n"
   ]
  },
  {
   "cell_type": "markdown",
   "metadata": {},
   "source": [
    "\n",
    "# UPDATING PARAMETERS\n",
    "during trainiing we want to automatically update the parameters in order the find the best parameters that minimize the error. We use Gradient descent in updating the parameters\n",
    "\n",
    "# Learning with the Delta Rule\n",
    "Now suppose we have $$\\hat y=u=w_{1}x$$\n",
    "\n",
    "then the error is given as\n",
    "$$ E=y- \\hat y$$\n",
    "\n",
    "and the square error $\\epsilon$ for an input is given as\n",
    "$$ \\epsilon =\\frac{1}{2}E^{2}=\\frac{1}{2}(y- \\hat y)^{2} $$\n",
    "\n",
    "\n",
    "To find the gradient at a particular weight we differentiate the square error function with respect to that particular weight  (here we are have w1), yielding\n",
    "$$\\frac{d \\epsilon}{dw_{1}} =\\frac{2}{2}(y- w_{1}x)(-x)=-Ex $$\n",
    "\n",
    "\n",
    "Using the delta rule, a change in weight is proportional to the negative of the error gradient because it is necessary to go down the error curve in order to minimize the error; therefore, the weight change is given by:\n",
    "\n",
    "$$ \\Delta w_{1}\\propto -Ex$$\n",
    "\n",
    "where $\\propto$ denotes proportionality, which can be replaced with learning rate $\\beta$.\n",
    "\n",
    "The learning rate is tuning parameter which determines \n",
    "\n",
    "how big a step is taking along the gradient in order to find a better weight. A too high value for $\\beta$ will make the learning jump over  the minima but smaller values slow it down and will take too long to converge.Using\n",
    "$\\beta$ the eqution becomes\n",
    "$$ \\Delta w_{1}=-\\beta Ex$$\n",
    "\n",
    " The new weight after the ith iteration canbe expressed as\n",
    "\n",
    "$$ W_{1}^{i+1}=W_{1}^{i}- \\Delta w_{1}=W_{1}^{i}-\\beta Ex $$\n",
    "\n",
    "\n",
    "using the same idea we can extend to\n",
    "$$ W_{j}^{i+1}=W_{j}^{i}-\\Delta w_{j}^{i}=W_{j}^{i}-\\beta Ex_{j}$$ \n",
    "$$ W_{0}^{i+1}=W_{0}^{i}-\\beta E$$\n",
    "where $W_{0}$ is the bias"
   ]
  },
  {
   "cell_type": "markdown",
   "metadata": {},
   "source": []
  },
  {
   "cell_type": "markdown",
   "metadata": {},
   "source": [
    "# Gradient Descent\n",
    "\n",
    "Gradient Descent is generic optimization algorithm capable of finding optimal solutions to a wide range of problems with th goal\n",
    "of iteratively reducing the error by tweaking (updating) the parameters in the direction that incrementally lowers the loss function.\n",
    "\n",
    "# stochastic gradient descent\n",
    "When training the model, it is preferable to wait use the whole training set to compute the gradients at every step and this is known as $\\textbf{Batch Gradient Descent}$ but this can slow the training of our model when the training set is large so instead we mostly used a random sample of the training set in updating the parameters and is  called $\\textbf{stochastic gradient descent}$.\n",
    "\n",
    "\n",
    "$\\textbf{stochastic gradient descent}$ is a stochastic approximation proximation of the gradient descent with the fact that the gradient is precisely not know, but instead so we make a rough approximation to the gradient in order to minimize an objective function which is written as a sum of differentiable functions\n",
    "\n",
    "\n",
    "\n",
    "\n",
    "$$ \\Delta w_{1}=\\beta (\\frac{1}{n} \\sum^{n}Ex_{i})  $$\n",
    "where n is the batch size\n",
    "\n",
    "# hyper-parameters\n",
    "\n",
    "the batch size and learning rate are manually pre-specified and not typically learned through model training. These parameters\n",
    "that are tunable but not updated in the training loop are called hyper-parameters.\n",
    "\n",
    "Hyperparameter tuning is the process by which pre-specified parameter are chosen, and typically requires that we adjust the hyperparameters based on the results of the inner (training) loop as assessed on a separate validation\n",
    "split of the data.\n",
    "\n",
    "\n"
   ]
  },
  {
   "cell_type": "markdown",
   "metadata": {},
   "source": [
    "# GRADIENT DESCENT AND BACKPROPAGATION"
   ]
  },
  {
   "cell_type": "code",
   "execution_count": 1,
   "metadata": {
    "ExecuteTime": {
     "end_time": "2020-06-20T17:01:39.284966Z",
     "start_time": "2020-06-20T17:01:38.285446Z"
    }
   },
   "outputs": [
    {
     "name": "stderr",
     "output_type": "stream",
     "text": [
      "C:\\Anaconda3\\lib\\site-packages\\numpy\\_distributor_init.py:32: UserWarning: loaded more than 1 DLL from .libs:\n",
      "C:\\Anaconda3\\lib\\site-packages\\numpy\\.libs\\libopenblas.PYQHXLVVQ7VESDPUVUADXEVJOBGHJPAY.gfortran-win_amd64.dll\n",
      "C:\\Anaconda3\\lib\\site-packages\\numpy\\.libs\\libopenblas.TXA6YQSD3GCQQC22GEQ54J2UDCXDXHWN.gfortran-win_amd64.dll\n",
      "  stacklevel=1)\n"
     ]
    }
   ],
   "source": [
    "import matplotlib.pyplot as plt\n",
    "import numpy as np\n",
    "%matplotlib inline"
   ]
  },
  {
   "cell_type": "code",
   "execution_count": 2,
   "metadata": {
    "ExecuteTime": {
     "end_time": "2020-06-20T17:01:40.248988Z",
     "start_time": "2020-06-20T17:01:39.863988Z"
    },
    "scrolled": true
   },
   "outputs": [
    {
     "data": {
      "image/png": "[encoded data removed]",
      "text/plain": [
       "<Figure size 432x288 with 1 Axes>"
      ]
     },
     "metadata": {},
     "output_type": "display_data"
    }
   ],
   "source": [
    "back=plt.imread('back.png')\n",
    "plt.imshow(back)\n",
    "plt.show()"
   ]
  },
  {
   "cell_type": "markdown",
   "metadata": {},
   "source": [
    "suppose we have a model of the form\n",
    "$$f(w1,w2,w3)=(w1+w2)w3$$ and $$q=w1+w2$$ with initial values\n",
    "w1=-1,w2=2 and w3=-2 \n",
    "\n",
    "using these initial values for the first iteration\n",
    "$$q=-1+2=1$$\n",
    "and $$f=q*w3=1*-2=-2$$\n",
    "\n",
    "in order to update the weights we will differentiate f with respect to the variables\n",
    "\n",
    "$ \\frac{\\partial q}{\\partial w1}=1 $, $  \\frac{\\partial q}{\\partial w2}=1 $, $  \\frac{\\partial f}{\\partial q}=w3=-2 $,\n",
    "$  \\frac{\\partial f}{\\partial w3}=q=1 $,\n",
    "$ \\frac{\\partial f }{\\partial w1}=\\frac{\\partial f }{\\partial q}\\frac{\\partial q}{\\partial w1}=-2*1=-2$,\n",
    "$ \\frac{\\partial f }{\\partial w2}=\\frac{\\partial f }{\\partial q}\\frac{\\partial q}{\\partial w2}=-2*1=-2$\n",
    "\n",
    "After updating the weights, the new weights becomes\n",
    "$$w1=\\frac{\\partial f }{\\partial w1}=\\frac{\\partial f }{\\partial q}\\frac{\\partial q}{\\partial w1}=-2*1=-2$$\n",
    "$$w2= \\frac{\\partial f }{\\partial w2}=\\frac{\\partial f }{\\partial q}\\frac{\\partial q}{\\partial w2}=-2*1=-2$$\n",
    "\n",
    "$$q= \\frac{\\partial f}{\\partial q}=w3=-2 $$\n",
    "$  w3=\\frac{\\partial f}{\\partial w3}=q=1 $\n"
   ]
  },
  {
   "cell_type": "markdown",
   "metadata": {},
   "source": [
    "# Normal Distribution\n",
    "---\n",
    "\n",
    "\n",
    "$$  p(y)=\\frac{1}{ \\sqrt[]{2 \\pi \\sigma^2}} \\exp(-\\frac{1}{2 \\sigma^2}(y-\\mu )^{2} )$$\n",
    "\n",
    "\n",
    "\n",
    "One way to motivate linear regression with the mean squared error loss function is to formally\n",
    "assume that observations arise from noisy observations, where the noise is normally distributed\n",
    "as follows\n",
    "$$ y = w^{T} X + b + \\varepsilon= Xw + b$$ where $\\varepsilon \\backsim N(\\mu(x), \\sigma^{2}) $\n",
    "\n",
    "We often assume $E(\\varepsilon)=\\mu(x) = 0$ and $var(\\varepsilon) = \\sigma ^{2}$. It is the random error  reflecting the difference between the observed and fitted linear relationship. \n",
    "\n",
    "\n",
    "\n",
    "Thus, we can now write out the likelihood of seeing a particular y for a given x via\n",
    "\n",
    "$$p(y|x)=\\frac{1}{\\sqrt{2 \\pi \\sigma^{2}}} \\exp( \\frac{-1}{ 2  \\sigma^{2}}(y-w^{T}x-b)^{2})$$\n",
    "\n",
    "connecting linear regression and Gaussians, we can rewrite\n",
    "the model in the following form:\n",
    "$$ p(y|x,\\theta)=N(y | \\mu(x), \\sigma^{2}(x))  $$\n",
    "\n",
    "where y is a noisy function values (targets) and x is the inputs\n",
    "\n",
    "This shows that the model is a conditional probability density. If we assume $\\mu$ is a linear function of x, then $\\mu = w^{T} x$,  the noise is fixed, $\\sigma^{2}(x) =\\sigma^{2}$ and $\\theta = (w, \\sigma^{2})$ are the parameters of the model.\n",
    "\n",
    "\n",
    "the  relationship between x and y is given as\n",
    "\n",
    "$$ y =\\mu(x) + \\varepsilon= Xw + b +\\varepsilon $$ where $\\varepsilon \\backsim N(\\mu(x), \\sigma^{2})$\n",
    "\n",
    "Our objective now is to find a function that is close or similar to the unknown function $\\mu$ that generated the dataset and that generalizes well\n",
    "\n",
    "\n",
    "Now, according to the maximum likelihood principle, the best values of b and w are those that maximize the likelihood of the entire dataset:\n",
    "\n",
    "\n",
    "$$P(Y|X)=\\prod_{i}^{n}p(y^{i}|x^{i} ) $$\n",
    "\n",
    " While, maximizing the product of many exponential functions, might look difficult, we can simplify things significantly, without changing the objective, by maximizing the log of the likelihood instead.  optimizations are more often expressed as minimization rather than maximization. So, without changing anything we can minimize the Negative Log-Likelihood (NLL) $-logp(y|x)$\n",
    " \n",
    " \n",
    "$$-logp(y|x)=\\sum_{i}^{n} \\frac{1}{2}log(2 \\pi \\sigma^{2}  + \\frac{1}{2\\sigma^{2}}(y^{i}-w^{T}x^{i}-b)^{2}$$\n",
    "\n",
    "\n",
    " $\\sigma$ is some fixed constant and we can ignore the first term since it does not depend on w or b. Now the second term is identical to the squared error objective introduced earlier, but for the multiplicative constant $\\frac{1}{2 \\sigma^{2}}$ the solution does not depend on it so this follows that minimizing squared error is equivalent to maximum likelihood estimation of a linear model under the assumption of additive Gaussian noise"
   ]
  },
  {
   "cell_type": "code",
   "execution_count": 4,
   "metadata": {
    "ExecuteTime": {
     "end_time": "2020-05-26T00:03:50.091590Z",
     "start_time": "2020-05-26T00:03:49.470590Z"
    }
   },
   "outputs": [],
   "source": [
    "import math\n",
    "import numpy as np\n",
    "import torch\n",
    "import matplotlib.pyplot as plt\n",
    "%matplotlib inline"
   ]
  },
  {
   "cell_type": "code",
   "execution_count": 5,
   "metadata": {
    "ExecuteTime": {
     "end_time": "2020-05-26T00:03:51.325350Z",
     "start_time": "2020-05-26T00:03:51.319350Z"
    }
   },
   "outputs": [],
   "source": [
    "def normal(z,mu,sigma):\n",
    "    p=1/np.sqrt(2*math.pi * sigma**2)\n",
    "    q=-0.5/ sigma**2\n",
    "    return p*torch.exp( q*(z-mu)**2)\n",
    "    "
   ]
  },
  {
   "cell_type": "code",
   "execution_count": 6,
   "metadata": {
    "ExecuteTime": {
     "end_time": "2020-05-26T00:03:51.472351Z",
     "start_time": "2020-05-26T00:03:51.454347Z"
    }
   },
   "outputs": [
    {
     "data": {
      "text/plain": [
       "tensor([-7.0000, -6.9900, -6.9800,  ...,  6.9700,  6.9800,  6.9900])"
      ]
     },
     "execution_count": 6,
     "metadata": {},
     "output_type": "execute_result"
    }
   ],
   "source": [
    "x=torch.arange(-7,7, 0.01)\n",
    "b=normal(x,mu=0,sigma=1)\n",
    "x"
   ]
  },
  {
   "cell_type": "code",
   "execution_count": 7,
   "metadata": {
    "ExecuteTime": {
     "end_time": "2020-05-26T00:03:51.725849Z",
     "start_time": "2020-05-26T00:03:51.715856Z"
    }
   },
   "outputs": [
    {
     "data": {
      "text/plain": [
       "tensor([-7.0000, -6.9900, -6.9800,  ...,  6.9700,  6.9800,  6.9900])"
      ]
     },
     "execution_count": 7,
     "metadata": {},
     "output_type": "execute_result"
    }
   ],
   "source": [
    "x.data"
   ]
  },
  {
   "cell_type": "code",
   "execution_count": 8,
   "metadata": {
    "ExecuteTime": {
     "end_time": "2020-05-26T00:03:51.865667Z",
     "start_time": "2020-05-26T00:03:51.856667Z"
    }
   },
   "outputs": [
    {
     "data": {
      "text/plain": [
       "array([-7.  , -6.99, -6.98, ...,  6.97,  6.98,  6.99], dtype=float32)"
      ]
     },
     "execution_count": 8,
     "metadata": {},
     "output_type": "execute_result"
    }
   ],
   "source": [
    "# return tensor as a NumPy\n",
    "x.data.numpy()"
   ]
  },
  {
   "cell_type": "code",
   "execution_count": 9,
   "metadata": {
    "ExecuteTime": {
     "end_time": "2020-05-26T00:03:52.083669Z",
     "start_time": "2020-05-26T00:03:52.073665Z"
    }
   },
   "outputs": [
    {
     "data": {
      "text/plain": [
       "tensor([9.1347e-12, 9.7966e-12, 1.0505e-11,  ..., 1.1264e-11, 1.0505e-11,\n",
       "        9.7966e-12])"
      ]
     },
     "execution_count": 9,
     "metadata": {},
     "output_type": "execute_result"
    }
   ],
   "source": [
    "b"
   ]
  },
  {
   "cell_type": "code",
   "execution_count": 10,
   "metadata": {
    "ExecuteTime": {
     "end_time": "2020-05-26T00:03:52.718353Z",
     "start_time": "2020-05-26T00:03:52.249667Z"
    }
   },
   "outputs": [
    {
     "data": {
      "image/png": "[encoded data removed]",
      "text/plain": [
       "<Figure size 432x288 with 1 Axes>"
      ]
     },
     "metadata": {},
     "output_type": "display_data"
    }
   ],
   "source": [
    "parameters = [(-3, 1), (0, 2),(4, 1)]\n",
    "for mu, sigma in parameters:\n",
    "    plt.plot(x.data.numpy(),normal(x,mu,sigma).data.numpy(),label=['mean',mu,'var',sigma])\n",
    "    plt.legend()"
   ]
  },
  {
   "cell_type": "markdown",
   "metadata": {},
   "source": [
    "you can check for the effects of the mean and variance by changing their values and plot them again"
   ]
  },
  {
   "cell_type": "markdown",
   "metadata": {},
   "source": [
    "from the diagram above one can see that changing the mean corresponds to a shift along the x axis, and increasing the\n",
    "variance spreads the distribution out, lowering its peak."
   ]
  },
  {
   "cell_type": "markdown",
   "metadata": {},
   "source": [
    "# Linear Regression Implementation from Scratch"
   ]
  },
  {
   "cell_type": "code",
   "execution_count": 1,
   "metadata": {
    "ExecuteTime": {
     "end_time": "2020-06-18T22:32:06.005425Z",
     "start_time": "2020-06-18T22:32:04.535283Z"
    }
   },
   "outputs": [
    {
     "name": "stderr",
     "output_type": "stream",
     "text": [
      "C:\\Anaconda3\\lib\\site-packages\\numpy\\_distributor_init.py:32: UserWarning: loaded more than 1 DLL from .libs:\n",
      "C:\\Anaconda3\\lib\\site-packages\\numpy\\.libs\\libopenblas.PYQHXLVVQ7VESDPUVUADXEVJOBGHJPAY.gfortran-win_amd64.dll\n",
      "C:\\Anaconda3\\lib\\site-packages\\numpy\\.libs\\libopenblas.TXA6YQSD3GCQQC22GEQ54J2UDCXDXHWN.gfortran-win_amd64.dll\n",
      "  stacklevel=1)\n"
     ]
    }
   ],
   "source": [
    "import torch\n",
    "import numpy as np\n",
    "import torch.nn as nn\n",
    "from torch.autograd import Variable\n",
    "import random\n",
    "import matplotlib.pyplot as plt\n",
    "%matplotlib inline"
   ]
  },
  {
   "cell_type": "markdown",
   "metadata": {},
   "source": [
    "# Generating the Dataset\n",
    "\n",
    "Synthetic dataset generated will be an object $ X\\in R^{1000×2}.$\n",
    "where 1000 is the number of examples (observations) and 2 is the number of features"
   ]
  },
  {
   "cell_type": "code",
   "execution_count": 2,
   "metadata": {
    "ExecuteTime": {
     "end_time": "2020-06-18T22:32:06.032429Z",
     "start_time": "2020-06-18T22:32:06.010429Z"
    }
   },
   "outputs": [
    {
     "data": {
      "text/plain": [
       "tensor([[1.0561e-38, 9.6429e-39],\n",
       "        [1.1112e-38, 9.2755e-39],\n",
       "        [1.0102e-38, 9.9184e-39]])"
      ]
     },
     "execution_count": 2,
     "metadata": {},
     "output_type": "execute_result"
    }
   ],
   "source": [
    "#Returns a tensor filled with uninitialized data\n",
    "torch.empty(3,2)"
   ]
  },
  {
   "cell_type": "code",
   "execution_count": 3,
   "metadata": {
    "ExecuteTime": {
     "end_time": "2020-06-18T22:32:06.058434Z",
     "start_time": "2020-06-18T22:32:06.044430Z"
    }
   },
   "outputs": [
    {
     "data": {
      "text/plain": [
       "tensor([[-1.2500, -0.0135,  0.0202],\n",
       "        [ 0.6926,  0.2843,  1.5679]])"
      ]
     },
     "execution_count": 3,
     "metadata": {},
     "output_type": "execute_result"
    }
   ],
   "source": [
    "torch.empty(2,3).normal_(0,1)"
   ]
  },
  {
   "cell_type": "code",
   "execution_count": 4,
   "metadata": {
    "ExecuteTime": {
     "end_time": "2020-06-18T22:32:06.076431Z",
     "start_time": "2020-06-18T22:32:06.063429Z"
    }
   },
   "outputs": [],
   "source": [
    "# Saved in the d2l package for later use\n",
    "def synthetic_data(w, b, num_examples):\n",
    "    \"\"\"Generate y = X w + b + noise.\"\"\"\n",
    "    #generate a normally distributed data for x\n",
    "    X=torch.empty(size=(num_examples, len(w))).normal_(0,1)\n",
    "    y= torch.matmul(X, w) + b\n",
    "    # add noise to the y data\n",
    "    y+=torch.empty(size=(y.shape)).normal_(0,0.01)\n",
    "    return X, y.reshape(-1,1)\n",
    "true_w = torch.tensor([2, -3.4])\n",
    "true_b = 4.2\n",
    "features, labels = synthetic_data(true_w, true_b, 1000)"
   ]
  },
  {
   "cell_type": "code",
   "execution_count": 5,
   "metadata": {
    "ExecuteTime": {
     "end_time": "2020-06-18T22:32:06.095428Z",
     "start_time": "2020-06-18T22:32:06.081429Z"
    }
   },
   "outputs": [
    {
     "name": "stdout",
     "output_type": "stream",
     "text": [
      "the data contain 1000 observations with 2 features(dimension) \n",
      " hence a 1000 by 2 matrix\n"
     ]
    }
   ],
   "source": [
    "print('the data contain '+ str(features.shape[0])+' observations with ' + \n",
    "      str(features.shape[1]) +' features(dimension) \\n hence a '+ str(features.shape[0]) \n",
    "      +\" by \" + str(features.shape[1])+' matrix' )"
   ]
  },
  {
   "cell_type": "code",
   "execution_count": 6,
   "metadata": {
    "ExecuteTime": {
     "end_time": "2020-06-18T22:32:06.118431Z",
     "start_time": "2020-06-18T22:32:06.104433Z"
    }
   },
   "outputs": [
    {
     "data": {
      "text/plain": [
       "tensor([[-0.0343,  0.4075],\n",
       "        [ 0.2138, -1.1962],\n",
       "        [-0.4328,  1.4054]])"
      ]
     },
     "execution_count": 6,
     "metadata": {},
     "output_type": "execute_result"
    }
   ],
   "source": [
    "#first 3 observations\n",
    "features[:3]"
   ]
  },
  {
   "cell_type": "code",
   "execution_count": 7,
   "metadata": {
    "ExecuteTime": {
     "end_time": "2020-06-18T22:32:06.232428Z",
     "start_time": "2020-06-18T22:32:06.222429Z"
    }
   },
   "outputs": [
    {
     "data": {
      "text/plain": [
       "tensor([[ 0.2138, -1.1962],\n",
       "        [-0.4328,  1.4054],\n",
       "        [ 1.1632, -0.6426]])"
      ]
     },
     "execution_count": 7,
     "metadata": {},
     "output_type": "execute_result"
    }
   ],
   "source": [
    "features[1:4]"
   ]
  },
  {
   "cell_type": "code",
   "execution_count": 8,
   "metadata": {
    "ExecuteTime": {
     "end_time": "2020-06-18T22:32:06.749865Z",
     "start_time": "2020-06-18T22:32:06.739887Z"
    }
   },
   "outputs": [
    {
     "data": {
      "text/plain": [
       "tensor([[2.7610],\n",
       "        [8.6809]])"
      ]
     },
     "execution_count": 8,
     "metadata": {},
     "output_type": "execute_result"
    }
   ],
   "source": [
    "# first 2 observations within the target variable\n",
    "labels[:2]"
   ]
  },
  {
   "cell_type": "markdown",
   "metadata": {},
   "source": [
    "# RELATIONS BETWEEN FEATURES AND THE LABEL (TARGET)"
   ]
  },
  {
   "cell_type": "code",
   "execution_count": 9,
   "metadata": {
    "ExecuteTime": {
     "end_time": "2020-06-18T22:32:08.490151Z",
     "start_time": "2020-06-18T22:32:08.223151Z"
    }
   },
   "outputs": [
    {
     "data": {
      "image/png": "[encoded data removed]",
      "text/plain": [
       "<Figure size 432x288 with 1 Axes>"
      ]
     },
     "metadata": {},
     "output_type": "display_data"
    }
   ],
   "source": [
    "plt.scatter(features[:, 0], labels,s=2);# s=marker size"
   ]
  },
  {
   "cell_type": "markdown",
   "metadata": {},
   "source": [
    " from the diagram above there seems to be  a positive correlation (relation) between the first feature and \n",
    "the target variable(labels)  "
   ]
  },
  {
   "cell_type": "code",
   "execution_count": 10,
   "metadata": {
    "ExecuteTime": {
     "end_time": "2020-06-18T22:32:10.308511Z",
     "start_time": "2020-06-18T22:32:10.072512Z"
    },
    "scrolled": false
   },
   "outputs": [
    {
     "data": {
      "image/png": "[encoded data removed]",
      "text/plain": [
       "<Figure size 432x288 with 1 Axes>"
      ]
     },
     "metadata": {},
     "output_type": "display_data"
    }
   ],
   "source": [
    "plt.scatter(features[:, 1], labels, 1);"
   ]
  },
  {
   "cell_type": "markdown",
   "metadata": {
    "ExecuteTime": {
     "end_time": "2020-05-15T17:26:37.282272Z",
     "start_time": "2020-05-15T17:26:37.275295Z"
    }
   },
   "source": [
    "from the diagram the second feature seems to be negatively correlated witg the target variable(labels) "
   ]
  },
  {
   "cell_type": "code",
   "execution_count": null,
   "metadata": {},
   "outputs": [],
   "source": []
  },
  {
   "cell_type": "markdown",
   "metadata": {
    "ExecuteTime": {
     "end_time": "2020-05-25T23:07:15.721367Z",
     "start_time": "2020-05-25T23:07:15.712367Z"
    }
   },
   "source": [
    "a function to randomly sample (minbatch) from the dataset"
   ]
  },
  {
   "cell_type": "code",
   "execution_count": 11,
   "metadata": {
    "ExecuteTime": {
     "end_time": "2020-06-18T22:32:12.678718Z",
     "start_time": "2020-06-18T22:32:12.670719Z"
    }
   },
   "outputs": [],
   "source": [
    "def data_iter(batch_size, features, labels):\n",
    "    num_examples=len(features)# features.shape[0]\n",
    "    indices=list(range(num_examples))\n",
    "    # The examples are read at random, in no particular order\n",
    "    random.shuffle(indices)\n",
    "    for i in range(0,num_examples,batch_size):\n",
    "        batch_indices=torch.tensor(indices[i:min(i+batch_size,num_examples)])\n",
    "        yield features[batch_indices],labels[batch_indices]"
   ]
  },
  {
   "cell_type": "code",
   "execution_count": 12,
   "metadata": {
    "ExecuteTime": {
     "end_time": "2020-06-18T22:32:12.821719Z",
     "start_time": "2020-06-18T22:32:12.797716Z"
    }
   },
   "outputs": [
    {
     "name": "stdout",
     "output_type": "stream",
     "text": [
      "tensor([[ 1.5087,  1.6253],\n",
      "        [ 0.3378,  1.7641],\n",
      "        [ 0.6952, -0.3452],\n",
      "        [-1.0408,  1.3530],\n",
      "        [ 0.6298,  1.3128],\n",
      "        [ 1.6248,  1.0332],\n",
      "        [ 0.4952,  0.6356],\n",
      "        [ 0.5267,  0.3277],\n",
      "        [-0.9463, -0.0998],\n",
      "        [-0.5999,  2.4747]]) \n",
      " \n",
      " tensor([[ 1.6849],\n",
      "        [-1.1183],\n",
      "        [ 6.7751],\n",
      "        [-2.4983],\n",
      "        [ 1.0148],\n",
      "        [ 3.9421],\n",
      "        [ 3.0276],\n",
      "        [ 4.1410],\n",
      "        [ 2.6388],\n",
      "        [-5.4052]])\n"
     ]
    }
   ],
   "source": [
    "# letʼs read and print the first small batch of data examples\n",
    "batch_size = 10\n",
    "for X, y in data_iter(batch_size, features, labels):\n",
    "    print(X, '\\n \\n', y)\n",
    "    break"
   ]
  },
  {
   "cell_type": "markdown",
   "metadata": {},
   "source": [
    "# Initializing Model Parameters"
   ]
  },
  {
   "cell_type": "markdown",
   "metadata": {},
   "source": [
    " initializing the weights by sampling random numbers from a normal distribution with mean 0 and a standard deviation of 0:01,\n",
    "setting the bias b to 0. These are the parameters that will be updating automatically during training"
   ]
  },
  {
   "cell_type": "code",
   "execution_count": 13,
   "metadata": {
    "ExecuteTime": {
     "end_time": "2020-06-18T22:32:14.412701Z",
     "start_time": "2020-06-18T22:32:14.407704Z"
    }
   },
   "outputs": [],
   "source": [
    "w = torch.empty(size=(2,1)).normal_(mean=0,std=0.01)\n",
    "b = torch.zeros(size=(1,))"
   ]
  },
  {
   "cell_type": "markdown",
   "metadata": {},
   "source": [
    "The parameters are now initialized , so our next task is to find a way to adjust the the various weights and biases until they fit our data sufficiently well so as to minimize the error prediction. Adjusting the parameters requires taking the gradient (a multi-dimensional derivative) of our loss function with respect to the  various parameters (weights and bias). Given this gradient, we can update each parameter in the direction that reduces the loss."
   ]
  },
  {
   "cell_type": "code",
   "execution_count": 14,
   "metadata": {
    "ExecuteTime": {
     "end_time": "2020-06-18T22:32:15.216725Z",
     "start_time": "2020-06-18T22:32:15.208732Z"
    }
   },
   "outputs": [
    {
     "data": {
      "text/plain": [
       "tensor([0.], requires_grad=True)"
      ]
     },
     "execution_count": 14,
     "metadata": {},
     "output_type": "execute_result"
    }
   ],
   "source": [
    "w.requires_grad_(True)\n",
    "b.requires_grad_(True)"
   ]
  },
  {
   "cell_type": "code",
   "execution_count": 15,
   "metadata": {
    "ExecuteTime": {
     "end_time": "2020-06-18T22:32:15.544631Z",
     "start_time": "2020-06-18T22:32:15.533630Z"
    }
   },
   "outputs": [
    {
     "data": {
      "text/plain": [
       "(tensor([[0.0108],\n",
       "         [0.0009]]), tensor([0.]))"
      ]
     },
     "execution_count": 15,
     "metadata": {},
     "output_type": "execute_result"
    }
   ],
   "source": [
    "w.data,b.data"
   ]
  },
  {
   "cell_type": "code",
   "execution_count": null,
   "metadata": {},
   "outputs": [],
   "source": []
  },
  {
   "cell_type": "markdown",
   "metadata": {},
   "source": [
    "# Defining the Model\n",
    "\n",
    "Collecting all features into a vector $\\textbf{X}$ and all weights into a vector $\\textbf{w}$, we can express our model\n",
    "compactly using a matrix-vector dot product notation and add a scalar value $\\textbf{b}$ elementwise to the vector product:\n",
    "\n",
    "$$y=Xw+b$$"
   ]
  },
  {
   "cell_type": "code",
   "execution_count": 16,
   "metadata": {
    "ExecuteTime": {
     "end_time": "2020-06-18T22:32:16.899831Z",
     "start_time": "2020-06-18T22:32:16.893830Z"
    }
   },
   "outputs": [],
   "source": [
    "def linreg(X, w, b):\n",
    "    return torch.matmul(X, w) + b"
   ]
  },
  {
   "cell_type": "markdown",
   "metadata": {},
   "source": [
    "# Defining the Loss Function\n",
    "we nedd a loss function to quantify the prediction of our model in order to know how far or close are our predicted values from that of the target (real) values. When predicted values are far from the target values our models parameters need to be updated.\n",
    " y represent the true values whilst the predicted valueʼs\n",
    "are y_hat\n",
    "\n",
    "our loss function is defined to be the $ \\textbf{MEAN SQUARED ERROR} $ which is given as\n",
    "\n",
    "$$MSE=\\frac{1}{n}\\sum_{i}^{n}(y_{i}-\\hat y_{i})^{2}$$\n",
    "\n",
    "instead of\n",
    "\n",
    "the sum of squared errors which is defined :\n",
    "\n",
    "$$\\ell_{i}(y,\\hat y)=\\frac{1}{2}\\sum_{i}^{n}(y_{i}-\\hat y_{i})^{2}$$"
   ]
  },
  {
   "cell_type": "code",
   "execution_count": 17,
   "metadata": {
    "ExecuteTime": {
     "end_time": "2020-06-18T22:32:17.295942Z",
     "start_time": "2020-06-18T22:32:17.288941Z"
    }
   },
   "outputs": [],
   "source": [
    "def Mean_squared_loss(y_hat, y):\n",
    "    squared_def=(y_hat - y.reshape(y_hat.shape)) ** 2 \n",
    "    return squared_def.mean()"
   ]
  },
  {
   "cell_type": "markdown",
   "metadata": {},
   "source": [
    "# Defining the Optimization Algorithm\n",
    "---"
   ]
  },
  {
   "cell_type": "markdown",
   "metadata": {},
   "source": [
    " # stochastic gradient descent\n",
    " stochastic gradient descent is used as our optimization algorithm"
   ]
  },
  {
   "cell_type": "code",
   "execution_count": 18,
   "metadata": {
    "ExecuteTime": {
     "end_time": "2020-06-18T22:32:17.765199Z",
     "start_time": "2020-06-18T22:32:17.752202Z"
    }
   },
   "outputs": [
    {
     "data": {
      "text/plain": [
       "(tensor([0.0108], grad_fn=<SelectBackward>),\n",
       " tensor([0.0009], grad_fn=<SelectBackward>))"
      ]
     },
     "execution_count": 18,
     "metadata": {},
     "output_type": "execute_result"
    }
   ],
   "source": [
    "w1,w2=w\n",
    "w1,w2"
   ]
  },
  {
   "cell_type": "code",
   "execution_count": 19,
   "metadata": {
    "ExecuteTime": {
     "end_time": "2020-06-18T22:32:18.063195Z",
     "start_time": "2020-06-18T22:32:18.054194Z"
    }
   },
   "outputs": [],
   "source": [
    "def sgd(params, lr, batch_size):\n",
    "    for param in params:\n",
    "        param.data=param.data -lr*param.grad/batch_size\n",
    "        # zero the gradients after updating\n",
    "        param.grad.data.zero_()"
   ]
  },
  {
   "cell_type": "code",
   "execution_count": 20,
   "metadata": {
    "ExecuteTime": {
     "end_time": "2020-06-18T22:32:19.096197Z",
     "start_time": "2020-06-18T22:32:18.187193Z"
    }
   },
   "outputs": [
    {
     "name": "stdout",
     "output_type": "stream",
     "text": [
      "epoch 1, loss 9.947459\n",
      "epoch 2, loss 3.002439\n",
      "epoch 3, loss 0.907900\n",
      "epoch 4, loss 0.275014\n",
      "epoch 5, loss 0.083514\n",
      "epoch 6, loss 0.025464\n",
      "epoch 7, loss 0.007824\n",
      "epoch 8, loss 0.002458\n",
      "epoch 9, loss 0.000819\n",
      "epoch 10, loss 0.000318\n"
     ]
    }
   ],
   "source": [
    "lr = 0.03  # Learning rate\n",
    "num_epochs = 10  # Number of iterations\n",
    "net = linreg  # Our fancy linear model\n",
    "loss = Mean_squared_loss  # 0.5 (y-y')^2\n",
    "\n",
    "for epoch in range(num_epochs):\n",
    "    for X, y in data_iter(batch_size, features, labels):\n",
    "        y_hat=net(X, w, b)\n",
    "        l = loss(y_hat, y)  # Minibatch loss in X and y\n",
    "        l.mean().backward()  # Compute gradient on l(loss) with respect to [w,b]\n",
    "        sgd([w, b], lr, batch_size)  # Update parameters using their gradient\n",
    "    with torch.no_grad():\n",
    "        train_l = loss(net(features, w, b), labels)\n",
    "        print('epoch %d, loss %f' % (epoch + 1, train_l.mean().numpy()))"
   ]
  },
  {
   "cell_type": "markdown",
   "metadata": {},
   "source": [
    " because we synthesized the data ourselves, we know precisely what the true parameters are. Thus, we can evaluate our success in training by comparing the true parameters with those that we learned through our training loop."
   ]
  },
  {
   "cell_type": "code",
   "execution_count": 21,
   "metadata": {
    "ExecuteTime": {
     "end_time": "2020-06-18T22:32:19.125195Z",
     "start_time": "2020-06-18T22:32:19.101194Z"
    }
   },
   "outputs": [
    {
     "name": "stdout",
     "output_type": "stream",
     "text": [
      "Error in estimating w tensor([ 0.0046, -0.0116], grad_fn=<SubBackward0>)\n",
      "Error in estimating b tensor([0.0080], grad_fn=<RsubBackward1>)\n"
     ]
    }
   ],
   "source": [
    "print('Error in estimating w', true_w - w.reshape(true_w.shape))\n",
    "print('Error in estimating b', true_b - b)"
   ]
  },
  {
   "cell_type": "code",
   "execution_count": null,
   "metadata": {},
   "outputs": [],
   "source": []
  },
  {
   "cell_type": "markdown",
   "metadata": {},
   "source": [
    "# Concise Implementation of Linear Regression\n",
    "----"
   ]
  },
  {
   "cell_type": "code",
   "execution_count": 22,
   "metadata": {
    "ExecuteTime": {
     "end_time": "2020-06-18T22:32:21.318424Z",
     "start_time": "2020-06-18T22:32:20.540372Z"
    }
   },
   "outputs": [],
   "source": [
    "import torch\n",
    "import numpy as np\n",
    "import torch.nn as nn\n",
    "import os\n",
    "import pandas as pd\n",
    "from torch.autograd import Variable\n",
    "from torch.utils.data import TensorDataset,DataLoader,Dataset"
   ]
  },
  {
   "cell_type": "code",
   "execution_count": 23,
   "metadata": {
    "ExecuteTime": {
     "end_time": "2020-06-18T22:32:21.330362Z",
     "start_time": "2020-06-18T22:32:21.322363Z"
    }
   },
   "outputs": [],
   "source": [
    "def load_array(features,labels, batch_size):\n",
    "    dataset=TensorDataset(*(features,labels))\n",
    "    dataloader = DataLoader(dataset=dataset,batch_size=batch_size,shuffle=True)\n",
    "    return dataloader"
   ]
  },
  {
   "cell_type": "code",
   "execution_count": 24,
   "metadata": {
    "ExecuteTime": {
     "end_time": "2020-06-18T22:32:21.421361Z",
     "start_time": "2020-06-18T22:32:21.401362Z"
    },
    "scrolled": true
   },
   "outputs": [
    {
     "name": "stdout",
     "output_type": "stream",
     "text": [
      "tensor([[ 1.4080, -0.0512],\n",
      "        [-0.7220,  0.7641],\n",
      "        [ 0.5763,  1.1969],\n",
      "        [ 0.0106,  0.4490],\n",
      "        [-0.0470,  2.1675],\n",
      "        [ 2.5908,  0.3114],\n",
      "        [-0.3720,  0.7760],\n",
      "        [ 0.6711,  0.0186],\n",
      "        [-1.0268, -0.4841],\n",
      "        [ 2.4069, -0.0714]])\n",
      "tensor([[ 7.1831],\n",
      "        [ 0.1588],\n",
      "        [ 1.2642],\n",
      "        [ 2.6922],\n",
      "        [-3.2658],\n",
      "        [ 8.3320],\n",
      "        [ 0.8089],\n",
      "        [ 5.4642],\n",
      "        [ 3.7960],\n",
      "        [ 9.2620]])\n"
     ]
    }
   ],
   "source": [
    "batch_size = 10\n",
    "data_iter=load_array(features=features, labels=labels,batch_size=batch_size)\n",
    "# letʼs read and print the first small batch of data examples\n",
    "for X, y in data_iter:\n",
    "    print(X)\n",
    "    print( y)\n",
    "    break"
   ]
  },
  {
   "cell_type": "markdown",
   "metadata": {},
   "source": [
    "# Defining the Model\n",
    "\n",
    "PyTorch allows to build a Custom nn Modules. this is a linear regression with fully single conneted layer"
   ]
  },
  {
   "cell_type": "code",
   "execution_count": 25,
   "metadata": {
    "ExecuteTime": {
     "end_time": "2020-06-18T22:32:22.385580Z",
     "start_time": "2020-06-18T22:32:22.379576Z"
    }
   },
   "outputs": [],
   "source": [
    "class Linear_reg(nn.Module):\n",
    "    def __init__(self, in_features, out_features):\n",
    "        super(Linear_reg,self).__init__()\n",
    "        self.single_layer=nn.Linear(in_features,out_features,bias=True)\n",
    "    def forward(self,inputs):\n",
    "        return self.single_layer(inputs)"
   ]
  },
  {
   "cell_type": "markdown",
   "metadata": {},
   "source": [
    "Instantiating our linear regression object with input feature size of two and out feature size of 1."
   ]
  },
  {
   "cell_type": "code",
   "execution_count": 26,
   "metadata": {
    "ExecuteTime": {
     "end_time": "2020-06-18T22:32:23.322038Z",
     "start_time": "2020-06-18T22:32:23.316053Z"
    }
   },
   "outputs": [],
   "source": [
    "net=Linear_reg(in_features=2,out_features=1)"
   ]
  },
  {
   "cell_type": "markdown",
   "metadata": {},
   "source": [
    "# Initializing Model Parameters"
   ]
  },
  {
   "cell_type": "code",
   "execution_count": 27,
   "metadata": {
    "ExecuteTime": {
     "end_time": "2020-06-18T22:32:23.786130Z",
     "start_time": "2020-06-18T22:32:23.779122Z"
    }
   },
   "outputs": [
    {
     "data": {
      "text/plain": [
       "(torch.Size([1, 2]), torch.Size([1]))"
      ]
     },
     "execution_count": 27,
     "metadata": {},
     "output_type": "execute_result"
    }
   ],
   "source": [
    "# shape of the weights and bias\n",
    "net.single_layer.weight.shape,net.single_layer.bias.shape"
   ]
  },
  {
   "cell_type": "markdown",
   "metadata": {},
   "source": [
    "initializing the parameter (weights and bias) randomly from a normal distribution with mean 0 and standard deviation 0:01.\n",
    "Both the weight vector and bias will have attached gradients"
   ]
  },
  {
   "cell_type": "code",
   "execution_count": 28,
   "metadata": {
    "ExecuteTime": {
     "end_time": "2020-06-18T22:32:24.462582Z",
     "start_time": "2020-06-18T22:32:24.457588Z"
    }
   },
   "outputs": [],
   "source": [
    "net.single_layer.weight.data=torch.empty(size=(1,2)).normal_(mean=0,std=0.01)\n",
    "net.single_layer.bias.data=torch.zeros(size=(1,))"
   ]
  },
  {
   "cell_type": "markdown",
   "metadata": {},
   "source": [
    "#  Defining the Loss Function\n",
    "\n",
    "\n",
    "we will be using PyTorch inbuilt mean squared error which is within\n",
    "\n",
    "$\\textbf{class torch.nn.MSELoss(size_average=True)}$ whichthat measures the mean squared error between n elements in the input x and target y:\n"
   ]
  },
  {
   "cell_type": "code",
   "execution_count": 29,
   "metadata": {
    "ExecuteTime": {
     "end_time": "2020-06-18T22:32:25.120756Z",
     "start_time": "2020-06-18T22:32:25.116757Z"
    }
   },
   "outputs": [],
   "source": [
    "mse_loss=nn.MSELoss()"
   ]
  },
  {
   "cell_type": "markdown",
   "metadata": {},
   "source": [
    "# Defining the Optimization Algorithm"
   ]
  },
  {
   "cell_type": "code",
   "execution_count": 30,
   "metadata": {
    "ExecuteTime": {
     "end_time": "2020-06-18T22:32:25.576606Z",
     "start_time": "2020-06-18T22:32:25.571600Z"
    }
   },
   "outputs": [],
   "source": [
    "optm=torch.optim.SGD(net.parameters(), lr=0.03)"
   ]
  },
  {
   "cell_type": "markdown",
   "metadata": {},
   "source": [
    "# Training"
   ]
  },
  {
   "cell_type": "code",
   "execution_count": 31,
   "metadata": {
    "ExecuteTime": {
     "end_time": "2020-06-18T22:32:27.286689Z",
     "start_time": "2020-06-18T22:32:26.467055Z"
    }
   },
   "outputs": [
    {
     "name": "stdout",
     "output_type": "stream",
     "text": [
      "epoch 1, loss 0.00023116204829420894\n",
      "epoch 2, loss 9.62547492235899e-05\n",
      "epoch 3, loss 9.667618724051863e-05\n",
      "epoch 4, loss 9.576097363606095e-05\n",
      "epoch 5, loss 9.677340858615935e-05\n",
      "epoch 6, loss 9.587805834598839e-05\n",
      "epoch 7, loss 9.620454511605203e-05\n",
      "epoch 8, loss 9.607223910279572e-05\n",
      "epoch 9, loss 9.64375285548158e-05\n",
      "epoch 10, loss 9.63019992923364e-05\n"
     ]
    }
   ],
   "source": [
    "for epoch in range(10): \n",
    "    for X,y in data_iter:\n",
    "        y_hat=net(X)\n",
    "        loss=mse_loss(y_hat ,y)\n",
    "        # zero the gradients\n",
    "        # this will clear the gradient for the next traing\n",
    "        optm.zero_grad() \n",
    "        # compute the gradient \n",
    "        loss.backward() \n",
    "        # apply the gradient\n",
    "        optm.step() \n",
    "    l_tr = mse_loss(net(features), labels) \n",
    "    print('epoch {}, loss {}'.format(epoch+1, l_tr)) "
   ]
  },
  {
   "cell_type": "code",
   "execution_count": 32,
   "metadata": {
    "ExecuteTime": {
     "end_time": "2020-06-18T22:32:27.309138Z",
     "start_time": "2020-06-18T22:32:27.294686Z"
    }
   },
   "outputs": [
    {
     "data": {
      "text/plain": [
       "(Parameter containing:\n",
       " tensor([[ 1.9996, -3.3997]], requires_grad=True), Parameter containing:\n",
       " tensor([4.2003], requires_grad=True))"
      ]
     },
     "execution_count": 32,
     "metadata": {},
     "output_type": "execute_result"
    }
   ],
   "source": [
    "# weights and bias  after training\n",
    "w,b=net.parameters()\n",
    "w,b"
   ]
  },
  {
   "cell_type": "code",
   "execution_count": 43,
   "metadata": {
    "ExecuteTime": {
     "end_time": "2020-05-26T00:04:20.042758Z",
     "start_time": "2020-05-26T00:04:20.018779Z"
    }
   },
   "outputs": [
    {
     "name": "stdout",
     "output_type": "stream",
     "text": [
      "Error in estimating w tensor([[0.0004, 0.0012]], grad_fn=<SubBackward0>)\n",
      "Error in estimating b tensor(-0.0009, grad_fn=<RsubBackward1>)\n"
     ]
    }
   ],
   "source": [
    "\n",
    "print('Error in estimating w', true_w.reshape(w.shape) - w)\n",
    "b = list(net.parameters())[1][0]\n",
    "print('Error in estimating b', true_b - b)"
   ]
  },
  {
   "cell_type": "code",
   "execution_count": null,
   "metadata": {},
   "outputs": [],
   "source": []
  },
  {
   "cell_type": "markdown",
   "metadata": {},
   "source": [
    "# PREDICTION OF SALES USING LINEAR REGRESSION\n",
    "\n",
    "we are going to use a toy dataset to predict sales based on advertisement"
   ]
  },
  {
   "cell_type": "markdown",
   "metadata": {
    "ExecuteTime": {
     "end_time": "2020-05-31T09:48:57.069355Z",
     "start_time": "2020-05-31T09:48:57.063357Z"
    }
   },
   "source": [
    "loading the needed packages"
   ]
  },
  {
   "cell_type": "code",
   "execution_count": 1,
   "metadata": {
    "ExecuteTime": {
     "end_time": "2020-06-14T19:54:34.471336Z",
     "start_time": "2020-06-14T19:54:30.292516Z"
    }
   },
   "outputs": [],
   "source": [
    "import torch\n",
    "import numpy as np\n",
    "import torch.nn as nn\n",
    "from torch.autograd import Variable\n",
    "import random\n",
    "from torch.utils.data import Dataset, DataLoader,TensorDataset\n",
    "import matplotlib.pyplot as plt\n",
    "import pandas as pd\n",
    "import os\n",
    "%matplotlib inline"
   ]
  },
  {
   "cell_type": "markdown",
   "metadata": {},
   "source": [
    "checking for files within the data folder"
   ]
  },
  {
   "cell_type": "code",
   "execution_count": 2,
   "metadata": {
    "ExecuteTime": {
     "end_time": "2020-06-14T19:54:36.679235Z",
     "start_time": "2020-06-14T19:54:36.442063Z"
    },
    "scrolled": true
   },
   "outputs": [
    {
     "name": "stdout",
     "output_type": "stream",
     "text": [
      "Advertising.csv\n",
      "Lemonade.csv\n"
     ]
    }
   ],
   "source": [
    "!ls \"./data\""
   ]
  },
  {
   "cell_type": "markdown",
   "metadata": {},
   "source": [
    "below is a function to load the needed dataset"
   ]
  },
  {
   "cell_type": "code",
   "execution_count": 11,
   "metadata": {
    "ExecuteTime": {
     "end_time": "2020-06-14T19:59:28.995240Z",
     "start_time": "2020-06-14T19:59:28.982239Z"
    }
   },
   "outputs": [],
   "source": [
    "\n",
    "def load_data(path='./data'):\n",
    "    data=os.path.join(path,'Advertising.csv')\n",
    "    return pd.read_csv(data,index_col=0)#index_col=0 means to use column 1 as rows labe \n",
    "\n",
    "data=load_data()"
   ]
  },
  {
   "cell_type": "markdown",
   "metadata": {},
   "source": [
    "Showing the first 7 examples of the dataset (both the features and target variable)"
   ]
  },
  {
   "cell_type": "code",
   "execution_count": 12,
   "metadata": {
    "ExecuteTime": {
     "end_time": "2020-06-14T19:59:40.941744Z",
     "start_time": "2020-06-14T19:59:40.924739Z"
    }
   },
   "outputs": [
    {
     "data": {
      "text/html": [
       "<div>\n",
       "<style scoped>\n",
       "    .dataframe tbody tr th:only-of-type {\n",
       "        vertical-align: middle;\n",
       "    }\n",
       "\n",
       "    .dataframe tbody tr th {\n",
       "        vertical-align: top;\n",
       "    }\n",
       "\n",
       "    .dataframe thead th {\n",
       "        text-align: right;\n",
       "    }\n",
       "</style>\n",
       "<table border=\"1\" class=\"dataframe\">\n",
       "  <thead>\n",
       "    <tr style=\"text-align: right;\">\n",
       "      <th></th>\n",
       "      <th>TV</th>\n",
       "      <th>Radio</th>\n",
       "      <th>Newspaper</th>\n",
       "      <th>Sales</th>\n",
       "    </tr>\n",
       "  </thead>\n",
       "  <tbody>\n",
       "    <tr>\n",
       "      <th>1</th>\n",
       "      <td>230.1</td>\n",
       "      <td>37.8</td>\n",
       "      <td>69.2</td>\n",
       "      <td>22.1</td>\n",
       "    </tr>\n",
       "    <tr>\n",
       "      <th>2</th>\n",
       "      <td>44.5</td>\n",
       "      <td>39.3</td>\n",
       "      <td>45.1</td>\n",
       "      <td>10.4</td>\n",
       "    </tr>\n",
       "    <tr>\n",
       "      <th>3</th>\n",
       "      <td>17.2</td>\n",
       "      <td>45.9</td>\n",
       "      <td>69.3</td>\n",
       "      <td>9.3</td>\n",
       "    </tr>\n",
       "    <tr>\n",
       "      <th>4</th>\n",
       "      <td>151.5</td>\n",
       "      <td>41.3</td>\n",
       "      <td>58.5</td>\n",
       "      <td>18.5</td>\n",
       "    </tr>\n",
       "    <tr>\n",
       "      <th>5</th>\n",
       "      <td>180.8</td>\n",
       "      <td>10.8</td>\n",
       "      <td>58.4</td>\n",
       "      <td>12.9</td>\n",
       "    </tr>\n",
       "    <tr>\n",
       "      <th>6</th>\n",
       "      <td>8.7</td>\n",
       "      <td>48.9</td>\n",
       "      <td>75.0</td>\n",
       "      <td>7.2</td>\n",
       "    </tr>\n",
       "    <tr>\n",
       "      <th>7</th>\n",
       "      <td>57.5</td>\n",
       "      <td>32.8</td>\n",
       "      <td>23.5</td>\n",
       "      <td>11.8</td>\n",
       "    </tr>\n",
       "  </tbody>\n",
       "</table>\n",
       "</div>"
      ],
      "text/plain": [
       "      TV  Radio  Newspaper  Sales\n",
       "1  230.1   37.8       69.2   22.1\n",
       "2   44.5   39.3       45.1   10.4\n",
       "3   17.2   45.9       69.3    9.3\n",
       "4  151.5   41.3       58.5   18.5\n",
       "5  180.8   10.8       58.4   12.9\n",
       "6    8.7   48.9       75.0    7.2\n",
       "7   57.5   32.8       23.5   11.8"
      ]
     },
     "execution_count": 12,
     "metadata": {},
     "output_type": "execute_result"
    }
   ],
   "source": [
    "data.head(7)"
   ]
  },
  {
   "cell_type": "markdown",
   "metadata": {
    "ExecuteTime": {
     "end_time": "2020-05-31T09:54:52.389678Z",
     "start_time": "2020-05-31T09:54:52.375061Z"
    }
   },
   "source": [
    "showing first few examples of the features"
   ]
  },
  {
   "cell_type": "code",
   "execution_count": 13,
   "metadata": {
    "ExecuteTime": {
     "end_time": "2020-06-14T19:59:47.451354Z",
     "start_time": "2020-06-14T19:59:47.429348Z"
    }
   },
   "outputs": [
    {
     "data": {
      "text/html": [
       "<div>\n",
       "<style scoped>\n",
       "    .dataframe tbody tr th:only-of-type {\n",
       "        vertical-align: middle;\n",
       "    }\n",
       "\n",
       "    .dataframe tbody tr th {\n",
       "        vertical-align: top;\n",
       "    }\n",
       "\n",
       "    .dataframe thead th {\n",
       "        text-align: right;\n",
       "    }\n",
       "</style>\n",
       "<table border=\"1\" class=\"dataframe\">\n",
       "  <thead>\n",
       "    <tr style=\"text-align: right;\">\n",
       "      <th></th>\n",
       "      <th>TV</th>\n",
       "      <th>Radio</th>\n",
       "      <th>Newspaper</th>\n",
       "    </tr>\n",
       "  </thead>\n",
       "  <tbody>\n",
       "    <tr>\n",
       "      <th>1</th>\n",
       "      <td>230.1</td>\n",
       "      <td>37.8</td>\n",
       "      <td>69.2</td>\n",
       "    </tr>\n",
       "    <tr>\n",
       "      <th>2</th>\n",
       "      <td>44.5</td>\n",
       "      <td>39.3</td>\n",
       "      <td>45.1</td>\n",
       "    </tr>\n",
       "    <tr>\n",
       "      <th>3</th>\n",
       "      <td>17.2</td>\n",
       "      <td>45.9</td>\n",
       "      <td>69.3</td>\n",
       "    </tr>\n",
       "    <tr>\n",
       "      <th>4</th>\n",
       "      <td>151.5</td>\n",
       "      <td>41.3</td>\n",
       "      <td>58.5</td>\n",
       "    </tr>\n",
       "    <tr>\n",
       "      <th>5</th>\n",
       "      <td>180.8</td>\n",
       "      <td>10.8</td>\n",
       "      <td>58.4</td>\n",
       "    </tr>\n",
       "  </tbody>\n",
       "</table>\n",
       "</div>"
      ],
      "text/plain": [
       "      TV  Radio  Newspaper\n",
       "1  230.1   37.8       69.2\n",
       "2   44.5   39.3       45.1\n",
       "3   17.2   45.9       69.3\n",
       "4  151.5   41.3       58.5\n",
       "5  180.8   10.8       58.4"
      ]
     },
     "execution_count": 13,
     "metadata": {},
     "output_type": "execute_result"
    }
   ],
   "source": [
    "data.iloc[:,:-1].head()"
   ]
  },
  {
   "cell_type": "markdown",
   "metadata": {
    "ExecuteTime": {
     "end_time": "2020-05-31T09:56:29.155033Z",
     "start_time": "2020-05-31T09:56:29.147040Z"
    }
   },
   "source": [
    "showing first few examples of the target variable"
   ]
  },
  {
   "cell_type": "code",
   "execution_count": 14,
   "metadata": {
    "ExecuteTime": {
     "end_time": "2020-06-14T19:59:51.587142Z",
     "start_time": "2020-06-14T19:59:51.575147Z"
    }
   },
   "outputs": [
    {
     "data": {
      "text/html": [
       "<div>\n",
       "<style scoped>\n",
       "    .dataframe tbody tr th:only-of-type {\n",
       "        vertical-align: middle;\n",
       "    }\n",
       "\n",
       "    .dataframe tbody tr th {\n",
       "        vertical-align: top;\n",
       "    }\n",
       "\n",
       "    .dataframe thead th {\n",
       "        text-align: right;\n",
       "    }\n",
       "</style>\n",
       "<table border=\"1\" class=\"dataframe\">\n",
       "  <thead>\n",
       "    <tr style=\"text-align: right;\">\n",
       "      <th></th>\n",
       "      <th>Sales</th>\n",
       "    </tr>\n",
       "  </thead>\n",
       "  <tbody>\n",
       "    <tr>\n",
       "      <th>1</th>\n",
       "      <td>22.1</td>\n",
       "    </tr>\n",
       "    <tr>\n",
       "      <th>2</th>\n",
       "      <td>10.4</td>\n",
       "    </tr>\n",
       "    <tr>\n",
       "      <th>3</th>\n",
       "      <td>9.3</td>\n",
       "    </tr>\n",
       "    <tr>\n",
       "      <th>4</th>\n",
       "      <td>18.5</td>\n",
       "    </tr>\n",
       "    <tr>\n",
       "      <th>5</th>\n",
       "      <td>12.9</td>\n",
       "    </tr>\n",
       "  </tbody>\n",
       "</table>\n",
       "</div>"
      ],
      "text/plain": [
       "   Sales\n",
       "1   22.1\n",
       "2   10.4\n",
       "3    9.3\n",
       "4   18.5\n",
       "5   12.9"
      ]
     },
     "execution_count": 14,
     "metadata": {},
     "output_type": "execute_result"
    }
   ],
   "source": [
    "data.iloc[:,[-1]].head()"
   ]
  },
  {
   "cell_type": "code",
   "execution_count": 15,
   "metadata": {
    "ExecuteTime": {
     "end_time": "2020-06-14T19:59:58.970422Z",
     "start_time": "2020-06-14T19:59:58.961422Z"
    }
   },
   "outputs": [
    {
     "name": "stdout",
     "output_type": "stream",
     "text": [
      "the dataset has 200 examples with 3 features\n"
     ]
    }
   ],
   "source": [
    "\n",
    "print( 'the dataset has '+str(data.iloc[:,:-1].shape[0])+\" examples with \" +str(data.iloc[:,:-1].shape[1])+ \" features\")"
   ]
  },
  {
   "cell_type": "code",
   "execution_count": 16,
   "metadata": {
    "ExecuteTime": {
     "end_time": "2020-06-14T20:00:05.200120Z",
     "start_time": "2020-06-14T20:00:05.107843Z"
    }
   },
   "outputs": [
    {
     "name": "stdout",
     "output_type": "stream",
     "text": [
      "features    % (percentage) of missing values within each feature \n",
      " \n",
      "TV           0.0\n",
      "Radio        0.0\n",
      "Newspaper    0.0\n",
      "Sales        0.0\n",
      "dtype: float64\n"
     ]
    }
   ],
   "source": [
    "print('features    % (percentage) of missing values within each feature \\n \\n'+str(np.sum(data.isnull()/len(data))))"
   ]
  },
  {
   "cell_type": "markdown",
   "metadata": {},
   "source": [
    "from the above results we  can see that the data contain no missing values"
   ]
  },
  {
   "cell_type": "markdown",
   "metadata": {},
   "source": [
    "# checking for correlation between the inputs and the target variable"
   ]
  },
  {
   "cell_type": "code",
   "execution_count": 17,
   "metadata": {
    "ExecuteTime": {
     "end_time": "2020-06-14T20:01:05.267136Z",
     "start_time": "2020-06-14T20:01:05.261131Z"
    }
   },
   "outputs": [],
   "source": [
    "from pandas.plotting import scatter_matrix"
   ]
  },
  {
   "cell_type": "code",
   "execution_count": 18,
   "metadata": {
    "ExecuteTime": {
     "end_time": "2020-06-14T20:01:07.015995Z",
     "start_time": "2020-06-14T20:01:05.921529Z"
    },
    "scrolled": false
   },
   "outputs": [
    {
     "data": {
      "image/png": "[encoded data removed]",
      "text/plain": [
       "<Figure size 720x720 with 16 Axes>"
      ]
     },
     "metadata": {},
     "output_type": "display_data"
    }
   ],
   "source": [
    "scatter_matrix(data,alpha=0.36,figsize=(10,10))\n",
    "plt.show()"
   ]
  },
  {
   "cell_type": "code",
   "execution_count": 22,
   "metadata": {
    "ExecuteTime": {
     "end_time": "2020-06-14T20:04:42.024957Z",
     "start_time": "2020-06-14T20:04:41.832852Z"
    }
   },
   "outputs": [
    {
     "data": {
      "image/png": "[encoded data removed]",
      "text/plain": [
       "<Figure size 432x288 with 1 Axes>"
      ]
     },
     "metadata": {},
     "output_type": "display_data"
    }
   ],
   "source": [
    "plt.scatter(x=data['TV'],y=data['Sales'])\n",
    "plt.title('scatter plot of TV VRS SALES')\n",
    "plt.ylabel('SALES')\n",
    "plt.xlabel('TV')\n",
    "plt.show()"
   ]
  },
  {
   "cell_type": "markdown",
   "metadata": {},
   "source": [
    "from the above diagram we can see that there is $\\textbf{positive correlation between TV advertisement and sales}$  that is sales seems to increase with high TV dvertisement and so for the company to increase  it sales it has to adopt TV dvertisement as one of it strategy"
   ]
  },
  {
   "cell_type": "code",
   "execution_count": 25,
   "metadata": {
    "ExecuteTime": {
     "end_time": "2020-06-14T20:12:26.956990Z",
     "start_time": "2020-06-14T20:12:26.773990Z"
    },
    "scrolled": true
   },
   "outputs": [
    {
     "data": {
      "image/png": "[encoded data removed]",
      "text/plain": [
       "<Figure size 432x288 with 1 Axes>"
      ]
     },
     "metadata": {},
     "output_type": "display_data"
    }
   ],
   "source": [
    "plt.scatter(x=data['Radio'],y=data['Sales'])\n",
    "plt.title('scatter plot of Radio VRS SALES')\n",
    "plt.ylabel('SALES')\n",
    "plt.xlabel('Radio')\n",
    "plt.show()"
   ]
  },
  {
   "cell_type": "markdown",
   "metadata": {},
   "source": [
    "from the above diagram we can see that there  $\\textbf{correlation between Radio advertisement and sales}$ is some how positive and that sales seems to increase with high radio dvertisement but care has to be taken when adopting Radio advertisement as a strategy to increase sales because from the diagram we can see that sometimes sales falls with increased Radio advertisement"
   ]
  },
  {
   "cell_type": "code",
   "execution_count": 28,
   "metadata": {
    "ExecuteTime": {
     "end_time": "2020-06-14T20:19:16.172644Z",
     "start_time": "2020-06-14T20:19:15.973624Z"
    }
   },
   "outputs": [
    {
     "data": {
      "image/png": "[encoded data removed]",
      "text/plain": [
       "<Figure size 432x288 with 1 Axes>"
      ]
     },
     "metadata": {},
     "output_type": "display_data"
    }
   ],
   "source": [
    "plt.scatter(x=data['Newspaper'],y=data['Sales'])\n",
    "plt.title('scatter plot of Newspaper VRS SALES')\n",
    "plt.ylabel('SALES')\n",
    "plt.xlabel('Newspaper')\n",
    "plt.show()"
   ]
  },
  {
   "cell_type": "markdown",
   "metadata": {},
   "source": [
    "from the above diagram we can see that there\n",
    "seems to be no $\\textbf{correlation between Newspaper advertisement and sales}$ as a company we can decide to drop Newspaper advertisement as a strategy to increase sales"
   ]
  },
  {
   "cell_type": "markdown",
   "metadata": {},
   "source": [
    "# correlated numerical value between variables"
   ]
  },
  {
   "cell_type": "code",
   "execution_count": 29,
   "metadata": {
    "ExecuteTime": {
     "end_time": "2020-06-14T20:22:16.285298Z",
     "start_time": "2020-06-14T20:22:16.268306Z"
    }
   },
   "outputs": [
    {
     "data": {
      "text/html": [
       "<div>\n",
       "<style scoped>\n",
       "    .dataframe tbody tr th:only-of-type {\n",
       "        vertical-align: middle;\n",
       "    }\n",
       "\n",
       "    .dataframe tbody tr th {\n",
       "        vertical-align: top;\n",
       "    }\n",
       "\n",
       "    .dataframe thead th {\n",
       "        text-align: right;\n",
       "    }\n",
       "</style>\n",
       "<table border=\"1\" class=\"dataframe\">\n",
       "  <thead>\n",
       "    <tr style=\"text-align: right;\">\n",
       "      <th></th>\n",
       "      <th>TV</th>\n",
       "      <th>Radio</th>\n",
       "      <th>Newspaper</th>\n",
       "      <th>Sales</th>\n",
       "    </tr>\n",
       "  </thead>\n",
       "  <tbody>\n",
       "    <tr>\n",
       "      <th>TV</th>\n",
       "      <td>1.000000</td>\n",
       "      <td>0.054809</td>\n",
       "      <td>0.056648</td>\n",
       "      <td>0.782224</td>\n",
       "    </tr>\n",
       "    <tr>\n",
       "      <th>Radio</th>\n",
       "      <td>0.054809</td>\n",
       "      <td>1.000000</td>\n",
       "      <td>0.354104</td>\n",
       "      <td>0.576223</td>\n",
       "    </tr>\n",
       "    <tr>\n",
       "      <th>Newspaper</th>\n",
       "      <td>0.056648</td>\n",
       "      <td>0.354104</td>\n",
       "      <td>1.000000</td>\n",
       "      <td>0.228299</td>\n",
       "    </tr>\n",
       "    <tr>\n",
       "      <th>Sales</th>\n",
       "      <td>0.782224</td>\n",
       "      <td>0.576223</td>\n",
       "      <td>0.228299</td>\n",
       "      <td>1.000000</td>\n",
       "    </tr>\n",
       "  </tbody>\n",
       "</table>\n",
       "</div>"
      ],
      "text/plain": [
       "                 TV     Radio  Newspaper     Sales\n",
       "TV         1.000000  0.054809   0.056648  0.782224\n",
       "Radio      0.054809  1.000000   0.354104  0.576223\n",
       "Newspaper  0.056648  0.354104   1.000000  0.228299\n",
       "Sales      0.782224  0.576223   0.228299  1.000000"
      ]
     },
     "execution_count": 29,
     "metadata": {},
     "output_type": "execute_result"
    }
   ],
   "source": [
    "data.corr()"
   ]
  },
  {
   "cell_type": "code",
   "execution_count": 32,
   "metadata": {
    "ExecuteTime": {
     "end_time": "2020-06-14T20:24:28.542858Z",
     "start_time": "2020-06-14T20:24:28.535853Z"
    }
   },
   "outputs": [],
   "source": [
    "data.drop(['Newspaper'],axis=1,inplace=True)"
   ]
  },
  {
   "cell_type": "code",
   "execution_count": 33,
   "metadata": {
    "ExecuteTime": {
     "end_time": "2020-06-14T20:24:38.255192Z",
     "start_time": "2020-06-14T20:24:38.237192Z"
    }
   },
   "outputs": [
    {
     "data": {
      "text/html": [
       "<div>\n",
       "<style scoped>\n",
       "    .dataframe tbody tr th:only-of-type {\n",
       "        vertical-align: middle;\n",
       "    }\n",
       "\n",
       "    .dataframe tbody tr th {\n",
       "        vertical-align: top;\n",
       "    }\n",
       "\n",
       "    .dataframe thead th {\n",
       "        text-align: right;\n",
       "    }\n",
       "</style>\n",
       "<table border=\"1\" class=\"dataframe\">\n",
       "  <thead>\n",
       "    <tr style=\"text-align: right;\">\n",
       "      <th></th>\n",
       "      <th>TV</th>\n",
       "      <th>Radio</th>\n",
       "      <th>Sales</th>\n",
       "    </tr>\n",
       "  </thead>\n",
       "  <tbody>\n",
       "    <tr>\n",
       "      <th>1</th>\n",
       "      <td>230.1</td>\n",
       "      <td>37.8</td>\n",
       "      <td>22.1</td>\n",
       "    </tr>\n",
       "    <tr>\n",
       "      <th>2</th>\n",
       "      <td>44.5</td>\n",
       "      <td>39.3</td>\n",
       "      <td>10.4</td>\n",
       "    </tr>\n",
       "    <tr>\n",
       "      <th>3</th>\n",
       "      <td>17.2</td>\n",
       "      <td>45.9</td>\n",
       "      <td>9.3</td>\n",
       "    </tr>\n",
       "    <tr>\n",
       "      <th>4</th>\n",
       "      <td>151.5</td>\n",
       "      <td>41.3</td>\n",
       "      <td>18.5</td>\n",
       "    </tr>\n",
       "  </tbody>\n",
       "</table>\n",
       "</div>"
      ],
      "text/plain": [
       "      TV  Radio  Sales\n",
       "1  230.1   37.8   22.1\n",
       "2   44.5   39.3   10.4\n",
       "3   17.2   45.9    9.3\n",
       "4  151.5   41.3   18.5"
      ]
     },
     "execution_count": 33,
     "metadata": {},
     "output_type": "execute_result"
    }
   ],
   "source": [
    "data.head(4)"
   ]
  },
  {
   "cell_type": "code",
   "execution_count": 34,
   "metadata": {
    "ExecuteTime": {
     "end_time": "2020-06-14T20:24:46.509098Z",
     "start_time": "2020-06-14T20:24:46.505104Z"
    }
   },
   "outputs": [],
   "source": [
    "from sklearn.preprocessing import StandardScaler"
   ]
  },
  {
   "cell_type": "code",
   "execution_count": 35,
   "metadata": {
    "ExecuteTime": {
     "end_time": "2020-06-14T20:24:47.588560Z",
     "start_time": "2020-06-14T20:24:47.568569Z"
    }
   },
   "outputs": [
    {
     "data": {
      "text/html": [
       "<div>\n",
       "<style scoped>\n",
       "    .dataframe tbody tr th:only-of-type {\n",
       "        vertical-align: middle;\n",
       "    }\n",
       "\n",
       "    .dataframe tbody tr th {\n",
       "        vertical-align: top;\n",
       "    }\n",
       "\n",
       "    .dataframe thead th {\n",
       "        text-align: right;\n",
       "    }\n",
       "</style>\n",
       "<table border=\"1\" class=\"dataframe\">\n",
       "  <thead>\n",
       "    <tr style=\"text-align: right;\">\n",
       "      <th></th>\n",
       "      <th>TV</th>\n",
       "      <th>Radio</th>\n",
       "    </tr>\n",
       "  </thead>\n",
       "  <tbody>\n",
       "    <tr>\n",
       "      <th>1</th>\n",
       "      <td>230.1</td>\n",
       "      <td>37.8</td>\n",
       "    </tr>\n",
       "    <tr>\n",
       "      <th>2</th>\n",
       "      <td>44.5</td>\n",
       "      <td>39.3</td>\n",
       "    </tr>\n",
       "    <tr>\n",
       "      <th>3</th>\n",
       "      <td>17.2</td>\n",
       "      <td>45.9</td>\n",
       "    </tr>\n",
       "    <tr>\n",
       "      <th>4</th>\n",
       "      <td>151.5</td>\n",
       "      <td>41.3</td>\n",
       "    </tr>\n",
       "    <tr>\n",
       "      <th>5</th>\n",
       "      <td>180.8</td>\n",
       "      <td>10.8</td>\n",
       "    </tr>\n",
       "  </tbody>\n",
       "</table>\n",
       "</div>"
      ],
      "text/plain": [
       "      TV  Radio\n",
       "1  230.1   37.8\n",
       "2   44.5   39.3\n",
       "3   17.2   45.9\n",
       "4  151.5   41.3\n",
       "5  180.8   10.8"
      ]
     },
     "execution_count": 35,
     "metadata": {},
     "output_type": "execute_result"
    }
   ],
   "source": [
    "imputs=data.iloc[:,:-1]\n",
    "imputs.head()"
   ]
  },
  {
   "cell_type": "markdown",
   "metadata": {
    "ExecuteTime": {
     "end_time": "2020-05-31T12:33:13.495423Z",
     "start_time": "2020-05-31T12:33:13.477445Z"
    }
   },
   "source": [
    "Scaling the features so that all values are within the same range"
   ]
  },
  {
   "cell_type": "code",
   "execution_count": 36,
   "metadata": {
    "ExecuteTime": {
     "end_time": "2020-06-14T20:24:54.097524Z",
     "start_time": "2020-06-14T20:24:54.089521Z"
    }
   },
   "outputs": [],
   "source": [
    "# creating a scaling object\n",
    "scaler=StandardScaler()\n",
    "imputs=scaler.fit_transform(imputs)"
   ]
  },
  {
   "cell_type": "code",
   "execution_count": 37,
   "metadata": {
    "ExecuteTime": {
     "end_time": "2020-06-14T20:24:57.411547Z",
     "start_time": "2020-06-14T20:24:57.406546Z"
    }
   },
   "outputs": [],
   "source": [
    "def load_array(features,labels, batch_size):\n",
    "    dataset=TensorDataset(*(features,labels))\n",
    "    dataloader = DataLoader(dataset=dataset,batch_size=batch_size,shuffle=True)\n",
    "    return dataloader"
   ]
  },
  {
   "cell_type": "code",
   "execution_count": 38,
   "metadata": {
    "ExecuteTime": {
     "end_time": "2020-06-14T20:24:59.460048Z",
     "start_time": "2020-06-14T20:24:59.446044Z"
    }
   },
   "outputs": [],
   "source": [
    "inputs=torch.from_numpy(imputs)\n",
    "target=torch.from_numpy(np.array(data.iloc[:,[-1]]))\n",
    "train_loader=load_array(features=inputs,labels=target,batch_size=100)"
   ]
  },
  {
   "cell_type": "code",
   "execution_count": 39,
   "metadata": {
    "ExecuteTime": {
     "end_time": "2020-06-14T20:25:00.717989Z",
     "start_time": "2020-06-14T20:25:00.654995Z"
    },
    "scrolled": true
   },
   "outputs": [
    {
     "name": "stdout",
     "output_type": "stream",
     "text": [
      "tensor([[ 0.7760,  1.3326],\n",
      "        [-0.2492,  0.9208],\n",
      "        [-0.5446, -0.9226],\n",
      "        [ 0.0310,  0.8330],\n",
      "        [ 0.7433,  0.4211],\n",
      "        [ 1.5607, -0.6323],\n",
      "        [ 1.5946,  1.2651],\n",
      "        [-0.6696, -0.9024],\n",
      "        [-0.7805, -1.5709],\n",
      "        [ 0.6079,  0.4954],\n",
      "        [ 0.2973, -0.3487],\n",
      "        [-1.4881, -0.2136],\n",
      "        [-1.5162,  1.5285],\n",
      "        [ 0.8332,  0.2995],\n",
      "        [-0.8599, -0.4230],\n",
      "        [ 0.9196, -1.0172],\n",
      "        [ 0.9699,  0.9815],\n",
      "        [-1.3492,  0.0902],\n",
      "        [-0.1068,  1.5622],\n",
      "        [-0.0671,  0.2388],\n",
      "        [-0.6170, -1.2400],\n",
      "        [ 0.9360, -0.5040],\n",
      "        [ 1.1835,  0.4683],\n",
      "        [ 0.4771, -0.4095],\n",
      "        [ 1.3996,  1.3867],\n",
      "        [-0.3987, -0.3960],\n",
      "        [-0.0881, -1.4291],\n",
      "        [ 1.0551, -1.2265],\n",
      "        [-0.9113, -0.9429],\n",
      "        [-0.3041, -1.0037],\n",
      "        [ 0.2307,  1.2651],\n",
      "        [ 0.2704, -1.0442],\n",
      "        [ 0.1898,  0.5629],\n",
      "        [ 0.2833,  1.1098],\n",
      "        [ 0.8251,  0.6912],\n",
      "        [ 0.6663,  0.6507],\n",
      "        [-0.5995, -1.4763],\n",
      "        [-1.5080,  0.9680],\n",
      "        [-0.9895, -0.7201],\n",
      "        [-1.5197,  1.3799],\n",
      "        [ 0.4421,  1.3934],\n",
      "        [-1.2709, -1.3210],\n",
      "        [ 0.1922,  0.9140],\n",
      "        [-1.1950,  0.1712],\n",
      "        [-1.1332, -0.7876],\n",
      "        [-1.4251, -0.8281],\n",
      "        [ 0.0322, -1.4831],\n",
      "        [-1.2149,  0.1780],\n",
      "        [-0.8354, -0.8416],\n",
      "        [ 1.5163,  1.7310],\n",
      "        [-0.6614, -1.5506],\n",
      "        [ 0.7900,  0.0497],\n",
      "        [-1.4905, -0.4905],\n",
      "        [ 1.2466, -0.1326],\n",
      "        [-0.9253,  0.9005],\n",
      "        [ 1.5140, -1.4156],\n",
      "        [-0.6205,  1.3664],\n",
      "        [ 1.3529, -1.3345],\n",
      "        [ 0.3346, -0.5310],\n",
      "        [ 1.3844, -0.2204],\n",
      "        [ 0.7445,  1.7783],\n",
      "        [ 1.0831, -1.2940],\n",
      "        [ 0.5448,  0.8195],\n",
      "        [-1.2137,  0.2320],\n",
      "        [-1.4181,  1.0626],\n",
      "        [-0.3134, -0.2474],\n",
      "        [-1.4986, -0.7538],\n",
      "        [ 1.0644,  0.7452],\n",
      "        [-0.4349, -0.6053],\n",
      "        [-1.0608, -1.1860],\n",
      "        [-0.1383,  1.2449],\n",
      "        [-0.8377, -0.2001],\n",
      "        [-0.8249,  0.2320],\n",
      "        [-1.6154,  1.7310],\n",
      "        [ 0.5390, -0.3284],\n",
      "        [ 0.1116, -1.3953],\n",
      "        [-0.8249, -1.5168],\n",
      "        [-1.1974,  1.0828],\n",
      "        [ 1.1053,  0.9950],\n",
      "        [-0.0904, -0.5918],\n",
      "        [-1.3830, -1.4696],\n",
      "        [ 0.6989, -1.0037],\n",
      "        [-0.8261,  0.2860],\n",
      "        [-1.4041,  0.6574],\n",
      "        [ 1.7113,  0.2995],\n",
      "        [ 0.7982,  0.0227],\n",
      "        [ 0.6978, -1.2197],\n",
      "        [-0.9183,  1.4339],\n",
      "        [-1.6691, -0.7876],\n",
      "        [-0.4629, -0.6255],\n",
      "        [-0.5820, -1.4696],\n",
      "        [ 0.5904, -1.3345],\n",
      "        [ 1.6226, -0.6323],\n",
      "        [ 0.4421, -0.1529],\n",
      "        [ 0.3498, -0.9429],\n",
      "        [-1.2733,  1.1503],\n",
      "        [-0.1792, -0.3284],\n",
      "        [ 0.7748,  0.0902],\n",
      "        [ 1.3797, -1.3750],\n",
      "        [ 1.4790,  0.3806]], dtype=torch.float64)\n"
     ]
    }
   ],
   "source": [
    "for x,y in train_loader:\n",
    "    print(x)\n",
    "    break"
   ]
  },
  {
   "cell_type": "markdown",
   "metadata": {},
   "source": [
    "# Create customize linear_regression Class"
   ]
  },
  {
   "cell_type": "code",
   "execution_count": 40,
   "metadata": {
    "ExecuteTime": {
     "end_time": "2020-06-14T20:25:25.523232Z",
     "start_time": "2020-06-14T20:25:25.514651Z"
    }
   },
   "outputs": [],
   "source": [
    "class LinearReg(nn.Module):\n",
    "    # Constructor\n",
    "    def __init__(self,input_dim,output_dim):\n",
    "        super(LinearReg,self).__init__()\n",
    "        self.layer1=nn.Linear(input_dim,5)\n",
    "        self.layer2=nn.Linear(5,output_dim)\n",
    "    \n",
    "    def forward(self,features):\n",
    "        result1=self.layer1(features)\n",
    "        y_pred=self.layer2(result1)\n",
    "        return y_pred\n",
    "    \n",
    "input_dim=inputs.shape[1]"
   ]
  },
  {
   "cell_type": "markdown",
   "metadata": {},
   "source": [
    "instantiating a linear regression object"
   ]
  },
  {
   "cell_type": "code",
   "execution_count": 41,
   "metadata": {
    "ExecuteTime": {
     "end_time": "2020-06-14T20:25:27.977533Z",
     "start_time": "2020-06-14T20:25:27.971528Z"
    }
   },
   "outputs": [],
   "source": [
    "lreg=LinearReg(input_dim=input_dim,output_dim=1)\n",
    "        "
   ]
  },
  {
   "cell_type": "code",
   "execution_count": 42,
   "metadata": {
    "ExecuteTime": {
     "end_time": "2020-06-14T20:25:30.606728Z",
     "start_time": "2020-06-14T20:25:30.578727Z"
    }
   },
   "outputs": [
    {
     "name": "stdout",
     "output_type": "stream",
     "text": [
      "model parameters:  [Parameter containing:\n",
      "tensor([[-0.1008, -0.6387],\n",
      "        [-0.3243, -0.2607],\n",
      "        [-0.6176,  0.0154],\n",
      "        [-0.6893,  0.6350],\n",
      "        [ 0.3501,  0.2661]], requires_grad=True), Parameter containing:\n",
      "tensor([-0.5342,  0.5031, -0.2361,  0.3675,  0.4880], requires_grad=True), Parameter containing:\n",
      "tensor([[0.2831, 0.3647, 0.2012, 0.3391, 0.0157]], requires_grad=True), Parameter containing:\n",
      "tensor([0.3492], requires_grad=True)]\n"
     ]
    }
   ],
   "source": [
    "# printing the initiazed model parameter\n",
    "\n",
    "print(\"model parameters: \", list(lreg.parameters()))"
   ]
  },
  {
   "cell_type": "code",
   "execution_count": 43,
   "metadata": {
    "ExecuteTime": {
     "end_time": "2020-06-14T20:25:31.673297Z",
     "start_time": "2020-06-14T20:25:31.654847Z"
    },
    "scrolled": false
   },
   "outputs": [
    {
     "name": "stdout",
     "output_type": "stream",
     "text": [
      "model parameters:  OrderedDict([('layer1.weight', tensor([[-0.1008, -0.6387],\n",
      "        [-0.3243, -0.2607],\n",
      "        [-0.6176,  0.0154],\n",
      "        [-0.6893,  0.6350],\n",
      "        [ 0.3501,  0.2661]])), ('layer1.bias', tensor([-0.5342,  0.5031, -0.2361,  0.3675,  0.4880])), ('layer2.weight', tensor([[0.2831, 0.3647, 0.2012, 0.3391, 0.0157]])), ('layer2.bias', tensor([0.3492]))])\n"
     ]
    }
   ],
   "source": [
    "# or\n",
    "print(\"model parameters: \", lreg.state_dict())"
   ]
  },
  {
   "cell_type": "markdown",
   "metadata": {},
   "source": [
    "# defining the loss function to be the mean square error"
   ]
  },
  {
   "cell_type": "code",
   "execution_count": 44,
   "metadata": {
    "ExecuteTime": {
     "end_time": "2020-06-14T20:25:34.434300Z",
     "start_time": "2020-06-14T20:25:34.429301Z"
    }
   },
   "outputs": [],
   "source": [
    "loss_fun=nn.MSELoss()"
   ]
  },
  {
   "cell_type": "markdown",
   "metadata": {},
   "source": [
    "# using socastic gradient descent as our optimizing algorithm\n",
    "\n",
    "this is the algorithm that will be used in updating the model parameters with a learning rate of .01"
   ]
  },
  {
   "cell_type": "code",
   "execution_count": 45,
   "metadata": {
    "ExecuteTime": {
     "end_time": "2020-06-14T20:25:36.276916Z",
     "start_time": "2020-06-14T20:25:36.270914Z"
    }
   },
   "outputs": [],
   "source": [
    "opt=torch.optim.SGD(lreg.parameters(),lr=0.01)"
   ]
  },
  {
   "cell_type": "code",
   "execution_count": 46,
   "metadata": {
    "ExecuteTime": {
     "end_time": "2020-06-14T20:25:37.796947Z",
     "start_time": "2020-06-14T20:25:37.628923Z"
    },
    "scrolled": true
   },
   "outputs": [],
   "source": [
    "Loss=[]\n",
    " \n",
    "num_epochs=20\n",
    "   \n",
    "for epoch in range(num_epochs+1):\n",
    "    for x,y in train_loader:\n",
    "        #make a prediction usinf the created model\n",
    "        yhat=lreg(x.float())\n",
    "        #calculate the loss\n",
    "        loss=loss_fun(yhat,y.float())\n",
    "        #store loss  \n",
    "        Loss.append(loss.item())\n",
    "        #print(f'epoch: {epoch:2} loss: {loss.item():3.8f}')\n",
    "        #clear or zero the gradient \n",
    "        opt.zero_grad()\n",
    "        #Backward pass: compute gradient of the loss with respect to all the learnable parameters\n",
    "        loss.backward()\n",
    "        #update the model parameters\n",
    "        opt.step()\n",
    "    #loss_f=loss_fun(lreg(inputs.float()),target.float())\n",
    "    #print('epoch %d, loss: %f' % (epoch, loss_f.mean()))\n",
    "    "
   ]
  },
  {
   "cell_type": "code",
   "execution_count": 47,
   "metadata": {
    "ExecuteTime": {
     "end_time": "2020-06-14T20:25:42.881531Z",
     "start_time": "2020-06-14T20:25:42.874552Z"
    }
   },
   "outputs": [
    {
     "data": {
      "text/plain": [
       "<bound method Module.named_parameters of LinearReg(\n",
       "  (layer1): Linear(in_features=2, out_features=5, bias=True)\n",
       "  (layer2): Linear(in_features=5, out_features=1, bias=True)\n",
       ")>"
      ]
     },
     "execution_count": 47,
     "metadata": {},
     "output_type": "execute_result"
    }
   ],
   "source": [
    "lreg.named_parameters"
   ]
  },
  {
   "cell_type": "code",
   "execution_count": 48,
   "metadata": {
    "ExecuteTime": {
     "end_time": "2020-06-14T20:25:44.126103Z",
     "start_time": "2020-06-14T20:25:43.961598Z"
    }
   },
   "outputs": [
    {
     "data": {
      "image/png": "[encoded data removed]",
      "text/plain": [
       "<Figure size 432x288 with 1 Axes>"
      ]
     },
     "metadata": {},
     "output_type": "display_data"
    }
   ],
   "source": [
    "plt.plot(Loss)\n",
    "plt.title('loss curve')\n",
    "plt.ylabel(\"toal loss \")\n",
    "plt.show()"
   ]
  },
  {
   "cell_type": "markdown",
   "metadata": {},
   "source": [
    "# NOTE\n",
    "in real application you need to evaluate with unseen data to see  how the model performs on newly unseen data"
   ]
  },
  {
   "cell_type": "code",
   "execution_count": null,
   "metadata": {},
   "outputs": [],
   "source": []
  },
  {
   "cell_type": "code",
   "execution_count": null,
   "metadata": {},
   "outputs": [],
   "source": []
  },
  {
   "cell_type": "code",
   "execution_count": null,
   "metadata": {},
   "outputs": [],
   "source": []
  }
 ],
 "metadata": {
  "kernelspec": {
   "display_name": "Python 3",
   "language": "python",
   "name": "python3"
  },
  "language_info": {
   "codemirror_mode": {
    "name": "ipython",
    "version": 3
   },
   "file_extension": ".py",
   "mimetype": "text/x-python",
   "name": "python",
   "nbconvert_exporter": "python",
   "pygments_lexer": "ipython3",
   "version": "3.6.5"
  }
 },
 "nbformat": 4,
 "nbformat_minor": 2
}
