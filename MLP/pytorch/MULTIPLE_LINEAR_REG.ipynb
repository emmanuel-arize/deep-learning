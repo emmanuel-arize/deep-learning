{
 "cells": [
  {
   "cell_type": "code",
   "execution_count": 71,
   "metadata": {},
   "outputs": [],
   "source": [
    "import torch\n",
    "import numpy as np\n",
    "import torch.nn as nn\n",
    "import os\n",
    "import pandas as pd\n",
    "from torch.autograd import Variable"
   ]
  },
  {
   "cell_type": "code",
   "execution_count": 72,
   "metadata": {},
   "outputs": [],
   "source": [
    "# a function to load the data\n",
    "def load_data(path='data'):\n",
    "    data=os.path.join(path,'Lemonade.csv')\n",
    "    return pd.read_csv(data)\n",
    "\n",
    "data=load_data()"
   ]
  },
  {
   "cell_type": "code",
   "execution_count": 73,
   "metadata": {},
   "outputs": [
    {
     "data": {
      "text/html": [
       "<div>\n",
       "<style scoped>\n",
       "    .dataframe tbody tr th:only-of-type {\n",
       "        vertical-align: middle;\n",
       "    }\n",
       "\n",
       "    .dataframe tbody tr th {\n",
       "        vertical-align: top;\n",
       "    }\n",
       "\n",
       "    .dataframe thead th {\n",
       "        text-align: right;\n",
       "    }\n",
       "</style>\n",
       "<table border=\"1\" class=\"dataframe\">\n",
       "  <thead>\n",
       "    <tr style=\"text-align: right;\">\n",
       "      <th></th>\n",
       "      <th>Date</th>\n",
       "      <th>Day</th>\n",
       "      <th>Temperature</th>\n",
       "      <th>Rainfall</th>\n",
       "      <th>Flyers</th>\n",
       "      <th>Price</th>\n",
       "      <th>Sales</th>\n",
       "    </tr>\n",
       "  </thead>\n",
       "  <tbody>\n",
       "    <tr>\n",
       "      <th>0</th>\n",
       "      <td>01/01/2017</td>\n",
       "      <td>Sunday</td>\n",
       "      <td>27.0</td>\n",
       "      <td>2.00</td>\n",
       "      <td>15</td>\n",
       "      <td>0.3</td>\n",
       "      <td>10</td>\n",
       "    </tr>\n",
       "    <tr>\n",
       "      <th>1</th>\n",
       "      <td>02/01/2017</td>\n",
       "      <td>Monday</td>\n",
       "      <td>28.9</td>\n",
       "      <td>1.33</td>\n",
       "      <td>15</td>\n",
       "      <td>0.3</td>\n",
       "      <td>13</td>\n",
       "    </tr>\n",
       "    <tr>\n",
       "      <th>2</th>\n",
       "      <td>03/01/2017</td>\n",
       "      <td>Tuesday</td>\n",
       "      <td>34.5</td>\n",
       "      <td>1.33</td>\n",
       "      <td>27</td>\n",
       "      <td>0.3</td>\n",
       "      <td>15</td>\n",
       "    </tr>\n",
       "  </tbody>\n",
       "</table>\n",
       "</div>"
      ],
      "text/plain": [
       "         Date      Day  Temperature  Rainfall  Flyers  Price  Sales\n",
       "0  01/01/2017   Sunday         27.0      2.00      15    0.3     10\n",
       "1  02/01/2017   Monday         28.9      1.33      15    0.3     13\n",
       "2  03/01/2017  Tuesday         34.5      1.33      27    0.3     15"
      ]
     },
     "execution_count": 73,
     "metadata": {},
     "output_type": "execute_result"
    }
   ],
   "source": [
    "data.head(3)"
   ]
  },
  {
   "cell_type": "code",
   "execution_count": 74,
   "metadata": {},
   "outputs": [
    {
     "name": "stdout",
     "output_type": "stream",
     "text": [
      "<class 'pandas.core.frame.DataFrame'>\n",
      "RangeIndex: 365 entries, 0 to 364\n",
      "Data columns (total 7 columns):\n",
      "Date           365 non-null object\n",
      "Day            365 non-null object\n",
      "Temperature    365 non-null float64\n",
      "Rainfall       365 non-null float64\n",
      "Flyers         365 non-null int64\n",
      "Price          365 non-null float64\n",
      "Sales          365 non-null int64\n",
      "dtypes: float64(3), int64(2), object(2)\n",
      "memory usage: 20.0+ KB\n"
     ]
    }
   ],
   "source": [
    "data.info()"
   ]
  },
  {
   "cell_type": "code",
   "execution_count": 75,
   "metadata": {},
   "outputs": [
    {
     "data": {
      "text/plain": [
       "Date           0\n",
       "Day            0\n",
       "Temperature    0\n",
       "Rainfall       0\n",
       "Flyers         0\n",
       "Price          0\n",
       "Sales          0\n",
       "dtype: int64"
      ]
     },
     "execution_count": 75,
     "metadata": {},
     "output_type": "execute_result"
    }
   ],
   "source": [
    "# checking for the number of missing values within the data\n",
    "#from the result the data does not contain missing values\n",
    "data.isnull().sum()"
   ]
  },
  {
   "cell_type": "code",
   "execution_count": 76,
   "metadata": {},
   "outputs": [],
   "source": [
    "# dropping the date and day column since we do not need them\n",
    "data.drop(['Date','Day'],axis=1,inplace=True)"
   ]
  },
  {
   "cell_type": "code",
   "execution_count": 77,
   "metadata": {},
   "outputs": [],
   "source": [
    "\n",
    "data[['Temperature','Rainfall','Flyers','Price','Sales']]=data[['Temperature','Rainfall','Flyers','Price','Sales']].astype('float64')"
   ]
  },
  {
   "cell_type": "code",
   "execution_count": 78,
   "metadata": {},
   "outputs": [
    {
     "name": "stdout",
     "output_type": "stream",
     "text": [
      "<class 'pandas.core.frame.DataFrame'>\n",
      "RangeIndex: 365 entries, 0 to 364\n",
      "Data columns (total 5 columns):\n",
      "Temperature    365 non-null float64\n",
      "Rainfall       365 non-null float64\n",
      "Flyers         365 non-null float64\n",
      "Price          365 non-null float64\n",
      "Sales          365 non-null float64\n",
      "dtypes: float64(5)\n",
      "memory usage: 14.3 KB\n"
     ]
    }
   ],
   "source": [
    "data.info()"
   ]
  },
  {
   "cell_type": "code",
   "execution_count": 79,
   "metadata": {},
   "outputs": [
    {
     "data": {
      "text/html": [
       "<div>\n",
       "<style scoped>\n",
       "    .dataframe tbody tr th:only-of-type {\n",
       "        vertical-align: middle;\n",
       "    }\n",
       "\n",
       "    .dataframe tbody tr th {\n",
       "        vertical-align: top;\n",
       "    }\n",
       "\n",
       "    .dataframe thead th {\n",
       "        text-align: right;\n",
       "    }\n",
       "</style>\n",
       "<table border=\"1\" class=\"dataframe\">\n",
       "  <thead>\n",
       "    <tr style=\"text-align: right;\">\n",
       "      <th></th>\n",
       "      <th>Temperature</th>\n",
       "      <th>Rainfall</th>\n",
       "      <th>Flyers</th>\n",
       "      <th>Price</th>\n",
       "    </tr>\n",
       "  </thead>\n",
       "  <tbody>\n",
       "    <tr>\n",
       "      <th>0</th>\n",
       "      <td>27.0</td>\n",
       "      <td>2.00</td>\n",
       "      <td>15.0</td>\n",
       "      <td>0.3</td>\n",
       "    </tr>\n",
       "    <tr>\n",
       "      <th>1</th>\n",
       "      <td>28.9</td>\n",
       "      <td>1.33</td>\n",
       "      <td>15.0</td>\n",
       "      <td>0.3</td>\n",
       "    </tr>\n",
       "    <tr>\n",
       "      <th>2</th>\n",
       "      <td>34.5</td>\n",
       "      <td>1.33</td>\n",
       "      <td>27.0</td>\n",
       "      <td>0.3</td>\n",
       "    </tr>\n",
       "  </tbody>\n",
       "</table>\n",
       "</div>"
      ],
      "text/plain": [
       "   Temperature  Rainfall  Flyers  Price\n",
       "0         27.0      2.00    15.0    0.3\n",
       "1         28.9      1.33    15.0    0.3\n",
       "2         34.5      1.33    27.0    0.3"
      ]
     },
     "execution_count": 79,
     "metadata": {},
     "output_type": "execute_result"
    }
   ],
   "source": [
    "x_train_data=data.loc[:,['Temperature','Rainfall','Flyers','Price']]\n",
    "y_train_data=data.loc[:,'Sales']\n",
    "x_train_data[:3]"
   ]
  },
  {
   "cell_type": "code",
   "execution_count": 80,
   "metadata": {},
   "outputs": [
    {
     "data": {
      "text/plain": [
       "(365, 4)"
      ]
     },
     "execution_count": 80,
     "metadata": {},
     "output_type": "execute_result"
    }
   ],
   "source": [
    "x_train_data.shape"
   ]
  },
  {
   "cell_type": "code",
   "execution_count": 81,
   "metadata": {},
   "outputs": [],
   "source": [
    "#y=torch.Tensor(y_train_data)\n",
    "#y_train_data=np.array(y_train_data)\n",
    "x=np.array(x_train_data)\n",
    "y=np.array(y_train_data)"
   ]
  },
  {
   "cell_type": "code",
   "execution_count": null,
   "metadata": {},
   "outputs": [],
   "source": []
  },
  {
   "cell_type": "code",
   "execution_count": 82,
   "metadata": {},
   "outputs": [],
   "source": [
    "y=torch.from_numpy(y)\n",
    "x=torch.from_numpy(x)"
   ]
  },
  {
   "cell_type": "code",
   "execution_count": 83,
   "metadata": {},
   "outputs": [],
   "source": [
    "x=Variable(x)"
   ]
  },
  {
   "cell_type": "code",
   "execution_count": 84,
   "metadata": {},
   "outputs": [],
   "source": [
    "y=y.reshape(-1,1)"
   ]
  },
  {
   "cell_type": "code",
   "execution_count": 85,
   "metadata": {},
   "outputs": [
    {
     "data": {
      "text/plain": [
       "torch.Size([365, 1])"
      ]
     },
     "execution_count": 85,
     "metadata": {},
     "output_type": "execute_result"
    }
   ],
   "source": [
    "y.shape"
   ]
  },
  {
   "cell_type": "code",
   "execution_count": 86,
   "metadata": {},
   "outputs": [],
   "source": [
    "y=Variable(y)"
   ]
  },
  {
   "cell_type": "code",
   "execution_count": 87,
   "metadata": {},
   "outputs": [
    {
     "data": {
      "text/plain": [
       "torch.Size([365, 4])"
      ]
     },
     "execution_count": 87,
     "metadata": {},
     "output_type": "execute_result"
    }
   ],
   "source": [
    "x.shape"
   ]
  },
  {
   "cell_type": "code",
   "execution_count": null,
   "metadata": {},
   "outputs": [],
   "source": []
  },
  {
   "cell_type": "code",
   "execution_count": 95,
   "metadata": {},
   "outputs": [],
   "source": [
    "class L_regression(nn.Module):\n",
    "    def __init__(self,n_features):\n",
    "        super(L_regression,self).__init__()\n",
    "        #self.linear=nn.Linear(input_dim,output_dim)\n",
    "        self.linear=nn.Linear(in_features=n_features,out_features=1)\n",
    "        \n",
    "    def forward(self,x_in):\n",
    "        return self.linear(x_in)\n",
    "        \n",
    "l_reg=L_regression(n_features=4)\n",
    "'''\n",
    "class torch.nn.MSELoss(size_average=True)\n",
    "Creates a criterion that measures the mean squared error between n elements in the input x and target y:\n",
    "'''\n",
    "loss_fu=nn.MSELoss()\n",
    "#  stochastic gradient descent with a leaning rate (lr) of 0.05\n",
    "#opt=torch.optim.SGD(l_reg.parameters(),lr=0.01,momentum=0.7)\n",
    "opt=torch.optim.Adam(l_reg.parameters(),lr=1e-4,weight_decay=1e-5)"
   ]
  },
  {
   "cell_type": "code",
   "execution_count": null,
   "metadata": {},
   "outputs": [],
   "source": [
    "\n"
   ]
  },
  {
   "cell_type": "code",
   "execution_count": 96,
   "metadata": {},
   "outputs": [
    {
     "name": "stdout",
     "output_type": "stream",
     "text": [
      "epoch \n",
      " 0 \n",
      " loss \n",
      " tensor(1817.2639)\n",
      "epoch \n",
      " 1 \n",
      " loss \n",
      " tensor(1816.3539)\n",
      "epoch \n",
      " 2 \n",
      " loss \n",
      " tensor(1815.4440)\n",
      "epoch \n",
      " 3 \n",
      " loss \n",
      " tensor(1814.5344)\n",
      "epoch \n",
      " 4 \n",
      " loss \n",
      " tensor(1813.6251)\n",
      "epoch \n",
      " 5 \n",
      " loss \n",
      " tensor(1812.7161)\n",
      "epoch \n",
      " 6 \n",
      " loss \n",
      " tensor(1811.8073)\n",
      "epoch \n",
      " 7 \n",
      " loss \n",
      " tensor(1810.8986)\n",
      "epoch \n",
      " 8 \n",
      " loss \n",
      " tensor(1809.9902)\n",
      "epoch \n",
      " 9 \n",
      " loss \n",
      " tensor(1809.0822)\n",
      "epoch \n",
      " 10 \n",
      " loss \n",
      " tensor(1808.1743)\n",
      "epoch \n",
      " 11 \n",
      " loss \n",
      " tensor(1807.2666)\n",
      "epoch \n",
      " 12 \n",
      " loss \n",
      " tensor(1806.3594)\n",
      "epoch \n",
      " 13 \n",
      " loss \n",
      " tensor(1805.4524)\n",
      "epoch \n",
      " 14 \n",
      " loss \n",
      " tensor(1804.5457)\n",
      "epoch \n",
      " 15 \n",
      " loss \n",
      " tensor(1803.6392)\n",
      "epoch \n",
      " 16 \n",
      " loss \n",
      " tensor(1802.7329)\n",
      "epoch \n",
      " 17 \n",
      " loss \n",
      " tensor(1801.8271)\n",
      "epoch \n",
      " 18 \n",
      " loss \n",
      " tensor(1800.9216)\n",
      "epoch \n",
      " 19 \n",
      " loss \n",
      " tensor(1800.0162)\n",
      "epoch \n",
      " 20 \n",
      " loss \n",
      " tensor(1799.1112)\n",
      "epoch \n",
      " 21 \n",
      " loss \n",
      " tensor(1798.2065)\n",
      "epoch \n",
      " 22 \n",
      " loss \n",
      " tensor(1797.3021)\n",
      "epoch \n",
      " 23 \n",
      " loss \n",
      " tensor(1796.3979)\n",
      "epoch \n",
      " 24 \n",
      " loss \n",
      " tensor(1795.4941)\n",
      "epoch \n",
      " 25 \n",
      " loss \n",
      " tensor(1794.5907)\n",
      "epoch \n",
      " 26 \n",
      " loss \n",
      " tensor(1793.6875)\n",
      "epoch \n",
      " 27 \n",
      " loss \n",
      " tensor(1792.7845)\n",
      "epoch \n",
      " 28 \n",
      " loss \n",
      " tensor(1791.8821)\n",
      "epoch \n",
      " 29 \n",
      " loss \n",
      " tensor(1790.9799)\n",
      "epoch \n",
      " 30 \n",
      " loss \n",
      " tensor(1790.0779)\n",
      "epoch \n",
      " 31 \n",
      " loss \n",
      " tensor(1789.1763)\n",
      "epoch \n",
      " 32 \n",
      " loss \n",
      " tensor(1788.2750)\n",
      "epoch \n",
      " 33 \n",
      " loss \n",
      " tensor(1787.3739)\n",
      "epoch \n",
      " 34 \n",
      " loss \n",
      " tensor(1786.4734)\n",
      "epoch \n",
      " 35 \n",
      " loss \n",
      " tensor(1785.5731)\n",
      "epoch \n",
      " 36 \n",
      " loss \n",
      " tensor(1784.6730)\n",
      "epoch \n",
      " 37 \n",
      " loss \n",
      " tensor(1783.7733)\n",
      "epoch \n",
      " 38 \n",
      " loss \n",
      " tensor(1782.8740)\n",
      "epoch \n",
      " 39 \n",
      " loss \n",
      " tensor(1781.9749)\n",
      "epoch \n",
      " 40 \n",
      " loss \n",
      " tensor(1781.0762)\n",
      "epoch \n",
      " 41 \n",
      " loss \n",
      " tensor(1780.1779)\n",
      "epoch \n",
      " 42 \n",
      " loss \n",
      " tensor(1779.2798)\n",
      "epoch \n",
      " 43 \n",
      " loss \n",
      " tensor(1778.3821)\n",
      "epoch \n",
      " 44 \n",
      " loss \n",
      " tensor(1777.4846)\n",
      "epoch \n",
      " 45 \n",
      " loss \n",
      " tensor(1776.5876)\n",
      "epoch \n",
      " 46 \n",
      " loss \n",
      " tensor(1775.6909)\n",
      "epoch \n",
      " 47 \n",
      " loss \n",
      " tensor(1774.7944)\n",
      "epoch \n",
      " 48 \n",
      " loss \n",
      " tensor(1773.8984)\n",
      "epoch \n",
      " 49 \n",
      " loss \n",
      " tensor(1773.0028)\n"
     ]
    }
   ],
   "source": [
    "\n",
    "for eporch in range(50):\n",
    "    # predicting y\n",
    "    y_pred=l_reg(x.float())\n",
    "    # computing the loss\n",
    "    loss=loss_fu(y_pred,y.float())\n",
    "    print('epoch \\n',eporch,'\\n loss \\n',loss.data)\n",
    "    # Zero gradients, perform a backward pass, and update the weights.\n",
    "    \n",
    "    # zero the gradients\n",
    "    opt.zero_grad()\n",
    "    #perform backward-propagation\n",
    "    loss.backward()\n",
    "    # All optimizers implement a step() method, that updates the parameters. It can be used as:\n",
    "    #optimizer.step()\n",
    "    opt.step()"
   ]
  },
  {
   "cell_type": "code",
   "execution_count": null,
   "metadata": {},
   "outputs": [],
   "source": []
  },
  {
   "cell_type": "code",
   "execution_count": null,
   "metadata": {},
   "outputs": [],
   "source": []
  }
 ],
 "metadata": {
  "kernelspec": {
   "display_name": "Python 3",
   "language": "python",
   "name": "python3"
  },
  "language_info": {
   "codemirror_mode": {
    "name": "ipython",
    "version": 3
   },
   "file_extension": ".py",
   "mimetype": "text/x-python",
   "name": "python",
   "nbconvert_exporter": "python",
   "pygments_lexer": "ipython3",
   "version": "3.6.5"
  }
 },
 "nbformat": 4,
 "nbformat_minor": 2
}
