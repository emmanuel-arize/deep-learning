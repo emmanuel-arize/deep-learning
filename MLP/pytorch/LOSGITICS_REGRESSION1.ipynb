{
 "cells": [
  {
   "cell_type": "markdown",
   "metadata": {},
   "source": [
    "# CLASSIFICATION PROBLEM\n",
    " \n",
    "In the previious section we talked about regression which deals with quatitative target variable answering\n",
    "questions such as how much? or how many?. Regression problems include predicting the price of a house, the age of students and  the salary of an employee. \n",
    "\n",
    "\n",
    "$\\textbf{In practice, we are more often interested in making categorical assignments: asking not how much? but which one (boy or girl)?}$. We consider a problem to be a classification problem when dealing with qualitative (categorical) target variable with the aim of assigning an input described by vector x to one of the n discrete categories (class) $C_{i}$  where $i = 1,2 \\cdots,n$.\n",
    "\n",
    "\n",
    "A classifier is a map $f(x) \\rightarrow C_{i}$\n",
    "\n",
    "\n",
    "There are numerous classification methods that can be used to predict categorical outcomes, including logistic regression,\n",
    "support vector machines (SVM) ,decision trees and neural networks"
   ]
  },
  {
   "cell_type": "markdown",
   "metadata": {},
   "source": [
    "# Logistic regression\n",
    "\n",
    "\n",
    "The simplest classification problems involves only two classes which are usually lablled $\\textbf{1}$for positive ($y=1|x$) and  $\\textbf{O}$ for negatice class ($y=0|x$). Classification problems which involving only two categories are often called $\\textbf{binary classification}$.\n",
    "\n",
    "\n",
    "$\\textbf{Logistic regression}$ is a probabilistic binary classifier which estimates, for each data point, the conditional probability that it belongs to one of the class.\n",
    "\n",
    "This can be used to classify an observation into one of two classes (like ‘positive sentiment’ and ‘negative sentiment’, perished and survived, yes and no), from a set of continuous or categorical predictor variables. By choosing a threshold value, we classified output with probability greater than the threshold as one class usually the class labelled $\\textbf{1}$ and values below the threshold as belonging to the other class labeled $\\textbf{0}$. \n",
    "\n",
    "Recall from linear regression\n",
    "$$\\hat y= w^{T}x+b $$\n",
    "\n",
    "here we are interested in asking the question \"what is the probability that given an input vector x the predicted class will be a positive class\" so instead of outputting values from the linear model we will modify the output by running the linear function through a sigmoid activation function $\\sigma$ to output values with the range of [1,2]\n",
    "\n",
    "$\\hat y$ is then defined to be\n",
    "$$ \\hat{y} =\\sigma(\\boldsymbol{w}^T \\boldsymbol{x} + b). $$\n",
    "where\n",
    "$$\\boldsymbol{\\sigma(z)}=\\frac{1}{1+\\exp(-z)} $$ and  z is linear function consisting of the input data and their associated\n",
    "weights and biases. Thus\n",
    " $$z=\\sum_{i=1}^{n}W_{i}^{T}X_{i} +b_{i}$$\n",
    "\n",
    "\n",
    "\n",
    "\n",
    "\n",
    "\n",
    "Logistic regression classifies an input by learning from a training set. The model uses the learned weights and biases from the training data, to make a classification on newly unseen but similar instance or example. Each weight $w_{i}$ is a real number, and is associated with one of the input features $x_{i}$. \n",
    "\n",
    "$\\bullet$We can generalize linear regression to Binary classification by replacing the Gaussian distribution for y with a Bernoulli distribution since the response is binary, $y \\in \\{0,1 \\}$. where\n",
    "\n",
    "\n",
    "$$ P(y|x,w)=Ber(y|\\mu(x)) $$ where $\\mu(x)=E[y|x]=P(y=1|X)$\n",
    "$$\\hat y=\\mu(x)=\\frac{1}{1+\\exp(-z)} $$\n",
    "\n",
    "where x is an input data ,$p(y = 1|x)$ is the probability that the input data belong to class 1 and $p(y = 0|x)=1-p(y = 1|x)$  belonging to the class labelled $0$\n",
    "\n",
    "\n",
    "\n",
    "\n",
    "The function has a lower bound of zero and an upper bound of 1 and hence the function output values within the\n",
    "range of $[0,1]$. Logistic sigmoid function is defined as\n",
    "\n",
    "\n",
    "Using maximum likelihood principle,  for a dataset of $(x_{i},y_{i})$ where $y_{i} \\in \\{0,1\\}$\n",
    "the likelihood function can be written as\n",
    "\n",
    "\n",
    "\n",
    "$$P(y|x,w)=\\prod_{i}^{n} \\hat y^{y_{i}} (1-\\hat y)^{1-y_{i}}) $$\n",
    "\n"
   ]
  },
  {
   "cell_type": "code",
   "execution_count": 9,
   "metadata": {
    "ExecuteTime": {
     "end_time": "2020-06-21T22:34:52.888838Z",
     "start_time": "2020-06-21T22:34:52.869836Z"
    }
   },
   "outputs": [],
   "source": [
    "import torch\n",
    "import torch.nn as nn\n",
    "import matplotlib.pyplot as plt\n",
    "%matplotlib inline"
   ]
  },
  {
   "cell_type": "code",
   "execution_count": 10,
   "metadata": {
    "ExecuteTime": {
     "end_time": "2020-06-21T22:34:53.021843Z",
     "start_time": "2020-06-21T22:34:53.007838Z"
    }
   },
   "outputs": [
    {
     "data": {
      "text/plain": [
       "tensor([0.7311, 0.6261, 0.5433])"
      ]
     },
     "execution_count": 10,
     "metadata": {},
     "output_type": "execute_result"
    }
   ],
   "source": [
    "m= nn.Sigmoid()\n",
    "inputs = torch.randn(3)\n",
    "m(inputs)\n"
   ]
  },
  {
   "cell_type": "code",
   "execution_count": 11,
   "metadata": {
    "ExecuteTime": {
     "end_time": "2020-06-21T22:34:53.268615Z",
     "start_time": "2020-06-21T22:34:53.255615Z"
    }
   },
   "outputs": [
    {
     "data": {
      "text/plain": [
       "tensor([0.7311, 0.6261, 0.5433])"
      ]
     },
     "execution_count": 11,
     "metadata": {},
     "output_type": "execute_result"
    }
   ],
   "source": [
    "def sigmoid(z):\n",
    "    return 1/(1+torch.exp(-z))\n",
    "sigmoid(inputs)"
   ]
  },
  {
   "cell_type": "code",
   "execution_count": 12,
   "metadata": {
    "ExecuteTime": {
     "end_time": "2020-06-21T22:34:53.383611Z",
     "start_time": "2020-06-21T22:34:53.373608Z"
    }
   },
   "outputs": [
    {
     "name": "stdout",
     "output_type": "stream",
     "text": [
      "['bmh', 'classic', 'dark_background', 'fast', 'fivethirtyeight', 'ggplot', 'grayscale', 'seaborn-bright', 'seaborn-colorblind', 'seaborn-dark-palette', 'seaborn-dark', 'seaborn-darkgrid', 'seaborn-deep', 'seaborn-muted', 'seaborn-notebook', 'seaborn-paper', 'seaborn-pastel', 'seaborn-poster', 'seaborn-talk', 'seaborn-ticks', 'seaborn-white', 'seaborn-whitegrid', 'seaborn', 'Solarize_Light2', 'tableau-colorblind10', '_classic_test']\n"
     ]
    }
   ],
   "source": [
    "print(plt.style.available)"
   ]
  },
  {
   "cell_type": "code",
   "execution_count": 13,
   "metadata": {
    "ExecuteTime": {
     "end_time": "2020-06-21T22:34:54.000616Z",
     "start_time": "2020-06-21T22:34:53.658608Z"
    }
   },
   "outputs": [
    {
     "name": "stderr",
     "output_type": "stream",
     "text": [
      "C:\\Anaconda3\\lib\\site-packages\\ipykernel_launcher.py:2: UserWarning: torch.range is deprecated in favor of torch.arange and will be removed in 0.5. Note that arange generates values in [start; end), not [start; end].\n",
      "  \n"
     ]
    },
    {
     "data": {
      "image/png": "[encoded data removed]",
      "text/plain": [
       "<Figure size 432x288 with 1 Axes>"
      ]
     },
     "metadata": {},
     "output_type": "display_data"
    }
   ],
   "source": [
    "with plt.style.context('seaborn-whitegrid'):\n",
    "    x = torch.range(-10,10,0.4)\n",
    "    y=sigmoid(x)\n",
    "    plt.plot(x.data.numpy(),y.data.numpy(),'r-o')\n",
    "    plt.xlabel('x')\n",
    "    plt.ylabel('sigmoid(x)')\n",
    "    plt.title('sigmoid activation function')\n",
    "    plt.show()"
   ]
  },
  {
   "cell_type": "markdown",
   "metadata": {},
   "source": [
    "# LOSS FUNCTION\n",
    "The loss function measures how close the classifier output $\\hat y$ is to the correct output y\n",
    "\n",
    "We want to train our model such that it learned parameters (weights and biases) maximizes the probability of the correct \n",
    "label prediction $p(y|x)$.\n",
    "Since only two discrete outcomes are invovled, this is a Bernoulli distribution, Using maximum likelihood principle,  for a dataset of $(x_{i},y_{i})$ where $y_{i} \\in \\{0,1\\}$ the likelihood function can be written as\n",
    "\n",
    "\n",
    "\n",
    "$$P(y|x,w)=\\prod_{i}^{n} \\hat y^{y_{i}} (1-\\hat y)^{1-y_{i}} $$\n",
    "\n",
    "\n",
    "when we take the log on both side it becomes\n",
    "\n",
    "$$logP(y|x,w)=log ( \\hat y^{y_{i}} (1-\\hat y)^{1-y_{i}}) $$\n",
    "$$logP(y|x,w)=y_{i}log \\hat y + (1-y_{i})log(1 -\\hat y) $$\n",
    "\n",
    "\n",
    "which is a log likelihood function that should be maximized. In order to turn this\n",
    "into loss function that need to be minimized we negate it which then becomes a minimization problem\n",
    "\n",
    "$$-logP(y|x,w)=-[y_{i}log \\hat y + (1-y_{i})log(1 -\\hat y)] $$\n",
    "\n",
    "\n",
    "We defined error to be the mean of the errors and hence the binary crossentropy error is defined to be\n",
    "$$ loss=E(y, \\hat y)=-InP(y|x,w)=\\frac{-1}{n} \\sum_{i=1}^{n}( y_{i} \\log \\hat{y}_{i} + (1-y_{i}) \\log (1- \\hat{y}_{i}))$$\n",
    " "
   ]
  },
  {
   "cell_type": "code",
   "execution_count": 14,
   "metadata": {
    "ExecuteTime": {
     "end_time": "2020-06-21T22:34:54.131611Z",
     "start_time": "2020-06-21T22:34:54.115613Z"
    }
   },
   "outputs": [
    {
     "data": {
      "text/plain": [
       "tensor(1.0270)"
      ]
     },
     "execution_count": 14,
     "metadata": {},
     "output_type": "execute_result"
    }
   ],
   "source": [
    "target = torch.empty(3).random_(2)\n",
    "loss=nn.BCELoss()\n",
    "output = loss(m(inputs), target)\n",
    "output"
   ]
  },
  {
   "cell_type": "code",
   "execution_count": 15,
   "metadata": {
    "ExecuteTime": {
     "end_time": "2020-06-21T22:34:54.536610Z",
     "start_time": "2020-06-21T22:34:54.516611Z"
    }
   },
   "outputs": [
    {
     "data": {
      "text/plain": [
       "tensor(1.0270)"
      ]
     },
     "execution_count": 15,
     "metadata": {},
     "output_type": "execute_result"
    }
   ],
   "source": [
    "def BCE(y_hat,y):\n",
    "    los=-(y*torch.log(y_hat) + (1-y)*torch.log(1-y_hat))\n",
    "    return torch.mean(los)\n",
    "BCE(sigmoid(inputs),target)"
   ]
  },
  {
   "cell_type": "markdown",
   "metadata": {
    "ExecuteTime": {
     "end_time": "2020-06-20T17:00:04.006993Z",
     "start_time": "2020-06-20T17:00:04.001991Z"
    }
   },
   "source": [
    "# GRADIENT DESCENT AND BACKPROPAGATION"
   ]
  },
  {
   "cell_type": "code",
   "execution_count": 6,
   "metadata": {
    "ExecuteTime": {
     "end_time": "2020-06-21T21:50:02.273392Z",
     "start_time": "2020-06-21T21:50:02.049433Z"
    }
   },
   "outputs": [
    {
     "data": {
      "image/png": "[encoded data removed]",
      "text/plain": [
       "<Figure size 432x288 with 1 Axes>"
      ]
     },
     "metadata": {},
     "output_type": "display_data"
    }
   ],
   "source": [
    "import matplotlib.pyplot as plt\n",
    "import numpy as np\n",
    "%matplotlib inline\n",
    "back=plt.imread('sigmoid.jpeg')\n",
    "plt.imshow(back)\n",
    "plt.show()"
   ]
  },
  {
   "cell_type": "markdown",
   "metadata": {},
   "source": [
    "from the diagram above let \n",
    "$$  Z=w_{0} +w_{1}x $$\n",
    "\n",
    "$$ \\hat y=\\sigma(Z)=\\frac{1}{1 + \\exp (-Z) } $$\n",
    "\n",
    "$$ \\frac{-1}{n} \\sum_{i=1}^{n}( y_{i} \\log \\hat{y}_{i} + (1-y_{i}) \\log (1- \\hat{y}_{i})) $$\n",
    "\n",
    "According to the chain rule, the error derivative for w1 will be\n",
    "\n",
    "$$ \\frac{\\partial \\epsilon }{\\partial w_{1}}=\\frac{\\partial \\epsilon }{\\partial \\hat y} \\frac{\\partial \\hat y }{\\partial Z }\\frac{\\partial Z }{\\partial w_{1}}$$\n",
    "\n",
    "# NOTE\n",
    "from\n",
    "\n",
    "# Quotient Rule\n",
    "If the two functions f(x) and g(x) are differentiable (i.e. the derivative exist) then the quotient is\n",
    "differentiable and,\n",
    "$$ (\\frac{f}{g})' =\\frac{f'g-g'f}{g^{2}} $$\n",
    "\n",
    "$\\frac{d}{dz}  exp(z) =z'exp(z)=exp(z) $ because $z'=1$,      $\\frac{d}{dz}  exp(-z) =-exp(z) $\n",
    "\n",
    " $$\\sigma^{'}(z)= \\frac{0-(-exp(-z))}{(1 + exp(-z))^{2}}= \\frac{exp(-z))}{(1 + exp(-z))^{2}}=\n",
    " \\frac{1}{1 + exp(-z)}\\frac{exp(-z))}{1 + exp(-z)} = \\frac{1}{1 + exp(-z)}(1-\\frac{1}{1 + exp(-z)})=\\sigma(1-\\sigma)$$\n",
    "\n"
   ]
  },
  {
   "cell_type": "code",
   "execution_count": 7,
   "metadata": {
    "ExecuteTime": {
     "end_time": "2020-06-21T21:50:49.249645Z",
     "start_time": "2020-06-21T21:50:48.947798Z"
    }
   },
   "outputs": [
    {
     "data": {
      "image/png": "[encoded data removed]",
      "text/plain": [
       "<Figure size 1440x720 with 1 Axes>"
      ]
     },
     "metadata": {},
     "output_type": "display_data"
    }
   ],
   "source": [
    "exp=plt.imread('exp.jpg')\n",
    "plt.figure(figsize=(20,10))\n",
    "plt.imshow(exp)\n",
    "plt.show()"
   ]
  },
  {
   "cell_type": "code",
   "execution_count": null,
   "metadata": {},
   "outputs": [],
   "source": []
  },
  {
   "cell_type": "code",
   "execution_count": null,
   "metadata": {},
   "outputs": [],
   "source": []
  },
  {
   "cell_type": "markdown",
   "metadata": {},
   "source": [
    "# IMPLEMENTING LOSGISTIC REGRESSION"
   ]
  },
  {
   "cell_type": "code",
   "execution_count": 19,
   "metadata": {
    "ExecuteTime": {
     "end_time": "2020-06-20T17:59:17.476215Z",
     "start_time": "2020-06-20T17:59:14.418676Z"
    }
   },
   "outputs": [],
   "source": [
    "from sklearn.datasets import load_iris\n",
    "import torch\n",
    "import torch.nn as nn\n",
    "import pandas as pd\n",
    "import random\n",
    "from torch.utils.data import DataLoader,TensorDataset\n",
    "import numpy as np\n",
    "from sklearn.preprocessing import StandardScaler\n",
    "import torch.nn.functional as f"
   ]
  },
  {
   "cell_type": "markdown",
   "metadata": {},
   "source": [
    "# NOTE\n",
    "\n",
    "$X \\in R^{n \\times d}$, weights $W \\in R^{d\\times q}$, and the bias satisfies $b \\in R^{q}$\n"
   ]
  },
  {
   "cell_type": "markdown",
   "metadata": {},
   "source": [
    "# loading the dataset"
   ]
  },
  {
   "cell_type": "code",
   "execution_count": 20,
   "metadata": {
    "ExecuteTime": {
     "end_time": "2020-06-20T17:59:17.515241Z",
     "start_time": "2020-06-20T17:59:17.482219Z"
    }
   },
   "outputs": [],
   "source": [
    "from sklearn.datasets import load_iris\n",
    "# loading the data\n",
    "data=load_iris()"
   ]
  },
  {
   "cell_type": "code",
   "execution_count": 21,
   "metadata": {
    "ExecuteTime": {
     "end_time": "2020-06-20T17:59:17.534218Z",
     "start_time": "2020-06-20T17:59:17.521216Z"
    }
   },
   "outputs": [
    {
     "data": {
      "text/plain": [
       "array([4.9, 3. , 1.4, 0.2])"
      ]
     },
     "execution_count": 21,
     "metadata": {},
     "output_type": "execute_result"
    }
   ],
   "source": [
    "data.data[1]"
   ]
  },
  {
   "cell_type": "code",
   "execution_count": 22,
   "metadata": {
    "ExecuteTime": {
     "end_time": "2020-06-20T17:59:17.617218Z",
     "start_time": "2020-06-20T17:59:17.542219Z"
    }
   },
   "outputs": [
    {
     "data": {
      "text/html": [
       "<div>\n",
       "<style scoped>\n",
       "    .dataframe tbody tr th:only-of-type {\n",
       "        vertical-align: middle;\n",
       "    }\n",
       "\n",
       "    .dataframe tbody tr th {\n",
       "        vertical-align: top;\n",
       "    }\n",
       "\n",
       "    .dataframe thead th {\n",
       "        text-align: right;\n",
       "    }\n",
       "</style>\n",
       "<table border=\"1\" class=\"dataframe\">\n",
       "  <thead>\n",
       "    <tr style=\"text-align: right;\">\n",
       "      <th></th>\n",
       "      <th>sepal length (cm)</th>\n",
       "      <th>sepal width (cm)</th>\n",
       "      <th>petal length (cm)</th>\n",
       "      <th>petal width (cm)</th>\n",
       "      <th>species</th>\n",
       "    </tr>\n",
       "  </thead>\n",
       "  <tbody>\n",
       "    <tr>\n",
       "      <th>145</th>\n",
       "      <td>6.7</td>\n",
       "      <td>3.0</td>\n",
       "      <td>5.2</td>\n",
       "      <td>2.3</td>\n",
       "      <td>2</td>\n",
       "    </tr>\n",
       "    <tr>\n",
       "      <th>146</th>\n",
       "      <td>6.3</td>\n",
       "      <td>2.5</td>\n",
       "      <td>5.0</td>\n",
       "      <td>1.9</td>\n",
       "      <td>2</td>\n",
       "    </tr>\n",
       "    <tr>\n",
       "      <th>147</th>\n",
       "      <td>6.5</td>\n",
       "      <td>3.0</td>\n",
       "      <td>5.2</td>\n",
       "      <td>2.0</td>\n",
       "      <td>2</td>\n",
       "    </tr>\n",
       "    <tr>\n",
       "      <th>148</th>\n",
       "      <td>6.2</td>\n",
       "      <td>3.4</td>\n",
       "      <td>5.4</td>\n",
       "      <td>2.3</td>\n",
       "      <td>2</td>\n",
       "    </tr>\n",
       "    <tr>\n",
       "      <th>149</th>\n",
       "      <td>5.9</td>\n",
       "      <td>3.0</td>\n",
       "      <td>5.1</td>\n",
       "      <td>1.8</td>\n",
       "      <td>2</td>\n",
       "    </tr>\n",
       "  </tbody>\n",
       "</table>\n",
       "</div>"
      ],
      "text/plain": [
       "     sepal length (cm)  sepal width (cm)  petal length (cm)  petal width (cm)  \\\n",
       "145                6.7               3.0                5.2               2.3   \n",
       "146                6.3               2.5                5.0               1.9   \n",
       "147                6.5               3.0                5.2               2.0   \n",
       "148                6.2               3.4                5.4               2.3   \n",
       "149                5.9               3.0                5.1               1.8   \n",
       "\n",
       "     species  \n",
       "145        2  \n",
       "146        2  \n",
       "147        2  \n",
       "148        2  \n",
       "149        2  "
      ]
     },
     "execution_count": 22,
     "metadata": {},
     "output_type": "execute_result"
    }
   ],
   "source": [
    "# converting the data into a dataframe\n",
    "train_data=pd.DataFrame(data.data,columns=data.feature_names)\n",
    "# converting the target variable into a dataframe\n",
    "y_data=pd.DataFrame(data.target,columns=['species'])\n",
    "# concatinating both the target and the input features into a single dataframe\n",
    "train_data[['species']]=y_data[['species']]\n",
    "train_data.tail()"
   ]
  },
  {
   "cell_type": "code",
   "execution_count": 23,
   "metadata": {
    "ExecuteTime": {
     "end_time": "2020-06-20T17:59:17.634219Z",
     "start_time": "2020-06-20T17:59:17.624217Z"
    }
   },
   "outputs": [
    {
     "data": {
      "text/plain": [
       "(150, 5)"
      ]
     },
     "execution_count": 23,
     "metadata": {},
     "output_type": "execute_result"
    }
   ],
   "source": [
    "train_data.shape"
   ]
  },
  {
   "cell_type": "code",
   "execution_count": 24,
   "metadata": {
    "ExecuteTime": {
     "end_time": "2020-06-20T17:59:17.669219Z",
     "start_time": "2020-06-20T17:59:17.641216Z"
    }
   },
   "outputs": [
    {
     "data": {
      "text/html": [
       "<div>\n",
       "<style scoped>\n",
       "    .dataframe tbody tr th:only-of-type {\n",
       "        vertical-align: middle;\n",
       "    }\n",
       "\n",
       "    .dataframe tbody tr th {\n",
       "        vertical-align: top;\n",
       "    }\n",
       "\n",
       "    .dataframe thead th {\n",
       "        text-align: right;\n",
       "    }\n",
       "</style>\n",
       "<table border=\"1\" class=\"dataframe\">\n",
       "  <thead>\n",
       "    <tr style=\"text-align: right;\">\n",
       "      <th></th>\n",
       "      <th>sepal length (cm)</th>\n",
       "      <th>sepal width (cm)</th>\n",
       "      <th>petal length (cm)</th>\n",
       "      <th>petal width (cm)</th>\n",
       "      <th>species</th>\n",
       "    </tr>\n",
       "  </thead>\n",
       "  <tbody>\n",
       "    <tr>\n",
       "      <th>97</th>\n",
       "      <td>6.2</td>\n",
       "      <td>2.9</td>\n",
       "      <td>4.3</td>\n",
       "      <td>1.3</td>\n",
       "      <td>1</td>\n",
       "    </tr>\n",
       "    <tr>\n",
       "      <th>98</th>\n",
       "      <td>5.1</td>\n",
       "      <td>2.5</td>\n",
       "      <td>3.0</td>\n",
       "      <td>1.1</td>\n",
       "      <td>1</td>\n",
       "    </tr>\n",
       "    <tr>\n",
       "      <th>99</th>\n",
       "      <td>5.7</td>\n",
       "      <td>2.8</td>\n",
       "      <td>4.1</td>\n",
       "      <td>1.3</td>\n",
       "      <td>1</td>\n",
       "    </tr>\n",
       "  </tbody>\n",
       "</table>\n",
       "</div>"
      ],
      "text/plain": [
       "    sepal length (cm)  sepal width (cm)  petal length (cm)  petal width (cm)  \\\n",
       "97                6.2               2.9                4.3               1.3   \n",
       "98                5.1               2.5                3.0               1.1   \n",
       "99                5.7               2.8                4.1               1.3   \n",
       "\n",
       "    species  \n",
       "97        1  \n",
       "98        1  \n",
       "99        1  "
      ]
     },
     "execution_count": 24,
     "metadata": {},
     "output_type": "execute_result"
    }
   ],
   "source": [
    "# turning the data into a binary classification problem by dropping the virginica (with value=2) rows from the data\n",
    "train_data=train_data[train_data['species'] <2]\n",
    "train_data.tail(3)"
   ]
  },
  {
   "cell_type": "code",
   "execution_count": 25,
   "metadata": {
    "ExecuteTime": {
     "end_time": "2020-06-20T17:59:17.692218Z",
     "start_time": "2020-06-20T17:59:17.674223Z"
    }
   },
   "outputs": [
    {
     "data": {
      "text/html": [
       "<div>\n",
       "<style scoped>\n",
       "    .dataframe tbody tr th:only-of-type {\n",
       "        vertical-align: middle;\n",
       "    }\n",
       "\n",
       "    .dataframe tbody tr th {\n",
       "        vertical-align: top;\n",
       "    }\n",
       "\n",
       "    .dataframe thead th {\n",
       "        text-align: right;\n",
       "    }\n",
       "</style>\n",
       "<table border=\"1\" class=\"dataframe\">\n",
       "  <thead>\n",
       "    <tr style=\"text-align: right;\">\n",
       "      <th></th>\n",
       "      <th>sepal length (cm)</th>\n",
       "      <th>sepal width (cm)</th>\n",
       "      <th>petal length (cm)</th>\n",
       "      <th>petal width (cm)</th>\n",
       "      <th>species</th>\n",
       "    </tr>\n",
       "  </thead>\n",
       "  <tbody>\n",
       "    <tr>\n",
       "      <th>0</th>\n",
       "      <td>5.1</td>\n",
       "      <td>3.5</td>\n",
       "      <td>1.4</td>\n",
       "      <td>0.2</td>\n",
       "      <td>0</td>\n",
       "    </tr>\n",
       "    <tr>\n",
       "      <th>1</th>\n",
       "      <td>4.9</td>\n",
       "      <td>3.0</td>\n",
       "      <td>1.4</td>\n",
       "      <td>0.2</td>\n",
       "      <td>0</td>\n",
       "    </tr>\n",
       "  </tbody>\n",
       "</table>\n",
       "</div>"
      ],
      "text/plain": [
       "   sepal length (cm)  sepal width (cm)  petal length (cm)  petal width (cm)  \\\n",
       "0                5.1               3.5                1.4               0.2   \n",
       "1                4.9               3.0                1.4               0.2   \n",
       "\n",
       "   species  \n",
       "0        0  \n",
       "1        0  "
      ]
     },
     "execution_count": 25,
     "metadata": {},
     "output_type": "execute_result"
    }
   ],
   "source": [
    "train_data.head(2)"
   ]
  },
  {
   "cell_type": "code",
   "execution_count": 26,
   "metadata": {
    "ExecuteTime": {
     "end_time": "2020-06-20T17:59:17.727225Z",
     "start_time": "2020-06-20T17:59:17.698219Z"
    }
   },
   "outputs": [
    {
     "data": {
      "text/html": [
       "<div>\n",
       "<style scoped>\n",
       "    .dataframe tbody tr th:only-of-type {\n",
       "        vertical-align: middle;\n",
       "    }\n",
       "\n",
       "    .dataframe tbody tr th {\n",
       "        vertical-align: top;\n",
       "    }\n",
       "\n",
       "    .dataframe thead th {\n",
       "        text-align: right;\n",
       "    }\n",
       "</style>\n",
       "<table border=\"1\" class=\"dataframe\">\n",
       "  <thead>\n",
       "    <tr style=\"text-align: right;\">\n",
       "      <th></th>\n",
       "      <th>sepal length (cm)</th>\n",
       "      <th>sepal width (cm)</th>\n",
       "      <th>petal length (cm)</th>\n",
       "      <th>petal width (cm)</th>\n",
       "    </tr>\n",
       "  </thead>\n",
       "  <tbody>\n",
       "    <tr>\n",
       "      <th>0</th>\n",
       "      <td>5.1</td>\n",
       "      <td>3.5</td>\n",
       "      <td>1.4</td>\n",
       "      <td>0.2</td>\n",
       "    </tr>\n",
       "    <tr>\n",
       "      <th>1</th>\n",
       "      <td>4.9</td>\n",
       "      <td>3.0</td>\n",
       "      <td>1.4</td>\n",
       "      <td>0.2</td>\n",
       "    </tr>\n",
       "  </tbody>\n",
       "</table>\n",
       "</div>"
      ],
      "text/plain": [
       "   sepal length (cm)  sepal width (cm)  petal length (cm)  petal width (cm)\n",
       "0                5.1               3.5                1.4               0.2\n",
       "1                4.9               3.0                1.4               0.2"
      ]
     },
     "execution_count": 26,
     "metadata": {},
     "output_type": "execute_result"
    }
   ],
   "source": [
    "input_features=train_data.iloc[:,:-1]\n",
    "labels=train_data.iloc[:,[-1]]\n",
    "input_features.head(2)"
   ]
  },
  {
   "cell_type": "code",
   "execution_count": 27,
   "metadata": {
    "ExecuteTime": {
     "end_time": "2020-06-20T17:59:17.743219Z",
     "start_time": "2020-06-20T17:59:17.732223Z"
    }
   },
   "outputs": [
    {
     "data": {
      "text/html": [
       "<div>\n",
       "<style scoped>\n",
       "    .dataframe tbody tr th:only-of-type {\n",
       "        vertical-align: middle;\n",
       "    }\n",
       "\n",
       "    .dataframe tbody tr th {\n",
       "        vertical-align: top;\n",
       "    }\n",
       "\n",
       "    .dataframe thead th {\n",
       "        text-align: right;\n",
       "    }\n",
       "</style>\n",
       "<table border=\"1\" class=\"dataframe\">\n",
       "  <thead>\n",
       "    <tr style=\"text-align: right;\">\n",
       "      <th></th>\n",
       "      <th>species</th>\n",
       "    </tr>\n",
       "  </thead>\n",
       "  <tbody>\n",
       "    <tr>\n",
       "      <th>0</th>\n",
       "      <td>0</td>\n",
       "    </tr>\n",
       "    <tr>\n",
       "      <th>1</th>\n",
       "      <td>0</td>\n",
       "    </tr>\n",
       "  </tbody>\n",
       "</table>\n",
       "</div>"
      ],
      "text/plain": [
       "   species\n",
       "0        0\n",
       "1        0"
      ]
     },
     "execution_count": 27,
     "metadata": {},
     "output_type": "execute_result"
    }
   ],
   "source": [
    "labels.head(2)"
   ]
  },
  {
   "cell_type": "code",
   "execution_count": 28,
   "metadata": {
    "ExecuteTime": {
     "end_time": "2020-06-20T17:59:17.760602Z",
     "start_time": "2020-06-20T17:59:17.749217Z"
    }
   },
   "outputs": [
    {
     "data": {
      "text/plain": [
       "array([[4.9, 3. , 1.4, 0.2],\n",
       "       [4.7, 3.2, 1.3, 0.2]])"
      ]
     },
     "execution_count": 28,
     "metadata": {},
     "output_type": "execute_result"
    }
   ],
   "source": [
    "input_features=np.array(input_features)\n",
    "labels=np.array(labels)\n",
    "input_features[1:3]"
   ]
  },
  {
   "cell_type": "markdown",
   "metadata": {
    "ExecuteTime": {
     "end_time": "2020-06-18T21:25:47.801061Z",
     "start_time": "2020-06-18T21:25:47.796072Z"
    }
   },
   "source": [
    "# creating a scaling object"
   ]
  },
  {
   "cell_type": "code",
   "execution_count": 29,
   "metadata": {
    "ExecuteTime": {
     "end_time": "2020-06-20T17:59:17.771602Z",
     "start_time": "2020-06-20T17:59:17.765602Z"
    }
   },
   "outputs": [],
   "source": [
    "z_scale=StandardScaler()"
   ]
  },
  {
   "cell_type": "code",
   "execution_count": 30,
   "metadata": {
    "ExecuteTime": {
     "end_time": "2020-06-20T17:59:17.786602Z",
     "start_time": "2020-06-20T17:59:17.777604Z"
    }
   },
   "outputs": [],
   "source": [
    "input_features=z_scale.fit_transform(input_features)"
   ]
  },
  {
   "cell_type": "code",
   "execution_count": 31,
   "metadata": {
    "ExecuteTime": {
     "end_time": "2020-06-20T17:59:17.803600Z",
     "start_time": "2020-06-20T17:59:17.792600Z"
    }
   },
   "outputs": [
    {
     "data": {
      "text/plain": [
       "array([[-0.89430898, -0.2078351 , -1.01297765, -1.04211089],\n",
       "       [-1.20755205,  0.21203379, -1.08231219, -1.04211089]])"
      ]
     },
     "execution_count": 31,
     "metadata": {},
     "output_type": "execute_result"
    }
   ],
   "source": [
    "input_features[1:3]"
   ]
  },
  {
   "cell_type": "markdown",
   "metadata": {},
   "source": [
    " converting the data from numpy arrays to tensors"
   ]
  },
  {
   "cell_type": "code",
   "execution_count": 32,
   "metadata": {
    "ExecuteTime": {
     "end_time": "2020-06-20T17:59:17.815599Z",
     "start_time": "2020-06-20T17:59:17.808602Z"
    }
   },
   "outputs": [],
   "source": [
    "input_features=torch.FloatTensor(input_features)\n",
    "labels=torch.FloatTensor(labels)"
   ]
  },
  {
   "cell_type": "code",
   "execution_count": 33,
   "metadata": {
    "ExecuteTime": {
     "end_time": "2020-06-20T17:59:18.130811Z",
     "start_time": "2020-06-20T17:59:18.120810Z"
    }
   },
   "outputs": [
    {
     "data": {
      "text/plain": [
       "tensor([-1.6774, -0.4178, -1.0130, -1.0421])"
      ]
     },
     "execution_count": 33,
     "metadata": {},
     "output_type": "execute_result"
    }
   ],
   "source": [
    "input_features[8]"
   ]
  },
  {
   "cell_type": "markdown",
   "metadata": {},
   "source": [
    "# Defining Logistic regression"
   ]
  },
  {
   "cell_type": "code",
   "execution_count": 34,
   "metadata": {
    "ExecuteTime": {
     "end_time": "2020-06-20T17:59:18.457812Z",
     "start_time": "2020-06-20T17:59:18.451818Z"
    }
   },
   "outputs": [],
   "source": [
    "def Logistic_Regression(x,w,b):\n",
    "    linear=torch.matmul(x,w) + b\n",
    "    probs=1/(1+torch.exp(-linear))\n",
    "    return probs"
   ]
  },
  {
   "cell_type": "markdown",
   "metadata": {},
   "source": [
    "# initializing the model parameters"
   ]
  },
  {
   "cell_type": "code",
   "execution_count": 35,
   "metadata": {
    "ExecuteTime": {
     "end_time": "2020-06-20T17:59:18.803813Z",
     "start_time": "2020-06-20T17:59:18.798814Z"
    }
   },
   "outputs": [],
   "source": [
    "w=torch.zeros((4,1),requires_grad=True)\n",
    "b=torch.zeros((1,),requires_grad=True)"
   ]
  },
  {
   "cell_type": "markdown",
   "metadata": {},
   "source": [
    "# defininf our loss function which is Binary Cross Entropy"
   ]
  },
  {
   "cell_type": "code",
   "execution_count": 36,
   "metadata": {
    "ExecuteTime": {
     "end_time": "2020-06-20T17:59:19.138097Z",
     "start_time": "2020-06-20T17:59:19.132099Z"
    }
   },
   "outputs": [],
   "source": [
    "def BCE(y_hat,y):\n",
    "    loss=-(y*torch.log(y_hat) + (1-y)*torch.log(1-y_hat))\n",
    "    return torch.mean(loss)"
   ]
  },
  {
   "cell_type": "markdown",
   "metadata": {
    "ExecuteTime": {
     "end_time": "2020-06-18T21:29:43.636933Z",
     "start_time": "2020-06-18T21:29:43.628953Z"
    }
   },
   "source": [
    "Defining stochastic gradient descent as the Optimization Algorithm"
   ]
  },
  {
   "cell_type": "code",
   "execution_count": 37,
   "metadata": {
    "ExecuteTime": {
     "end_time": "2020-06-20T17:59:19.475911Z",
     "start_time": "2020-06-20T17:59:19.468931Z"
    }
   },
   "outputs": [],
   "source": [
    "def sgd(params, lr, batch_size):\n",
    "    for param in params:\n",
    "        param.data=param.data -lr*param.grad/batch_size\n",
    "        # zero the gradients after updating\n",
    "        param.grad.data.zero_()"
   ]
  },
  {
   "cell_type": "code",
   "execution_count": 38,
   "metadata": {
    "ExecuteTime": {
     "end_time": "2020-06-20T17:59:19.555908Z",
     "start_time": "2020-06-20T17:59:19.547908Z"
    }
   },
   "outputs": [],
   "source": [
    "def data_iter(batch_size, features, labels):\n",
    "    num_examples=len(features)# features.shape[0]\n",
    "    indices=list(range(num_examples))\n",
    "    # The examples are read at random, in no particular order\n",
    "    random.shuffle(indices)\n",
    "    for i in range(0,num_examples,batch_size):\n",
    "        batch_indices=torch.tensor(indices[i:min(i+batch_size,num_examples)])\n",
    "        yield features[batch_indices],labels[batch_indices]"
   ]
  },
  {
   "cell_type": "code",
   "execution_count": 39,
   "metadata": {
    "ExecuteTime": {
     "end_time": "2020-06-20T17:59:20.099910Z",
     "start_time": "2020-06-20T17:59:19.815909Z"
    }
   },
   "outputs": [
    {
     "name": "stdout",
     "output_type": "stream",
     "text": [
      "epoch 0/50, loss 0.691714\n",
      "epoch 5/50, loss 0.684610\n",
      "epoch 10/50, loss 0.677614\n",
      "epoch 15/50, loss 0.670724\n",
      "epoch 20/50, loss 0.663937\n",
      "epoch 25/50, loss 0.657252\n",
      "epoch 30/50, loss 0.650668\n",
      "epoch 35/50, loss 0.644183\n",
      "epoch 40/50, loss 0.637796\n",
      "epoch 45/50, loss 0.631504\n",
      "epoch 50/50, loss 0.625307\n"
     ]
    }
   ],
   "source": [
    "lr = .05  # Learning rate\n",
    "num_epochs = 50  # Number of iterations\n",
    "batch_size=50\n",
    "for epoch in range(num_epochs+1):\n",
    "    for X, y in data_iter(batch_size, input_features, labels):\n",
    "        y_hat=Logistic_Regression(X, w, b)\n",
    "        l = BCE(y_hat, y)  # Minibatch loss in X and y\n",
    "        l.mean().backward()  # Compute gradient on l(loss) with respect to [w,b]\n",
    "        sgd([w, b], lr, batch_size)  # Update parameters using their gradient\n",
    "    train_l = BCE(Logistic_Regression(input_features, w, b), labels) \n",
    "    if epoch%5==0:\n",
    "        print('epoch %d/50, loss %f' % (epoch , train_l.mean()))\n",
    "    "
   ]
  },
  {
   "cell_type": "markdown",
   "metadata": {},
   "source": [
    "# Concise Implementation of Logistic Regression"
   ]
  },
  {
   "cell_type": "markdown",
   "metadata": {},
   "source": [
    "# Defining our model"
   ]
  },
  {
   "cell_type": "code",
   "execution_count": 73,
   "metadata": {
    "ExecuteTime": {
     "end_time": "2020-06-20T16:13:01.712237Z",
     "start_time": "2020-06-20T16:13:01.704236Z"
    }
   },
   "outputs": [],
   "source": [
    "class Logistic_Regression1(nn.Module):\n",
    "    def __init__(self):\n",
    "        super().__init__()\n",
    "        self.layer1=nn.Linear(4,1)\n",
    "        \n",
    "    def forward(self,x):\n",
    "        y_pred=f.sigmoid(self.layer1(x))\n",
    "        return y_pred\n",
    "        "
   ]
  },
  {
   "cell_type": "code",
   "execution_count": 74,
   "metadata": {
    "ExecuteTime": {
     "end_time": "2020-06-20T16:13:03.794900Z",
     "start_time": "2020-06-20T16:13:03.787895Z"
    }
   },
   "outputs": [],
   "source": [
    "model=Logistic_Regression1()"
   ]
  },
  {
   "cell_type": "code",
   "execution_count": 75,
   "metadata": {
    "ExecuteTime": {
     "end_time": "2020-06-20T16:13:04.564351Z",
     "start_time": "2020-06-20T16:13:04.555351Z"
    }
   },
   "outputs": [
    {
     "data": {
      "text/plain": [
       "(torch.Size([1, 4]), torch.Size([1]))"
      ]
     },
     "execution_count": 75,
     "metadata": {},
     "output_type": "execute_result"
    }
   ],
   "source": [
    "model.layer1.weight.shape,model.layer1.bias.shape"
   ]
  },
  {
   "cell_type": "code",
   "execution_count": 76,
   "metadata": {
    "ExecuteTime": {
     "end_time": "2020-06-20T16:13:05.416694Z",
     "start_time": "2020-06-20T16:13:05.402806Z"
    }
   },
   "outputs": [
    {
     "data": {
      "text/plain": [
       "(torch.Size([1, 4]), torch.Size([1]))"
      ]
     },
     "execution_count": 76,
     "metadata": {},
     "output_type": "execute_result"
    }
   ],
   "source": [
    "model.layer1.weight.data=torch.zeros(1,4)\n",
    "model.layer1.bias.data=torch.zeros(1)\n",
    "model.layer1.weight.shape,model.layer1.bias.shape"
   ]
  },
  {
   "cell_type": "markdown",
   "metadata": {},
   "source": [
    "# Binary Cross Entropy as the our loss function"
   ]
  },
  {
   "cell_type": "code",
   "execution_count": 77,
   "metadata": {
    "ExecuteTime": {
     "end_time": "2020-06-20T16:13:09.549012Z",
     "start_time": "2020-06-20T16:13:09.543013Z"
    }
   },
   "outputs": [],
   "source": [
    "loss=nn.BCELoss()"
   ]
  },
  {
   "cell_type": "markdown",
   "metadata": {},
   "source": [
    "# OPTIMIZER"
   ]
  },
  {
   "cell_type": "code",
   "execution_count": 79,
   "metadata": {
    "ExecuteTime": {
     "end_time": "2020-06-20T16:13:43.039538Z",
     "start_time": "2020-06-20T16:13:43.034541Z"
    }
   },
   "outputs": [],
   "source": [
    "optimizer=torch.optim.SGD(model.parameters(),lr = 0.05 )"
   ]
  },
  {
   "cell_type": "markdown",
   "metadata": {},
   "source": [
    "# a function to randomly sample (minbatch) from the dataset"
   ]
  },
  {
   "cell_type": "code",
   "execution_count": 80,
   "metadata": {
    "ExecuteTime": {
     "end_time": "2020-06-20T16:13:44.868653Z",
     "start_time": "2020-06-20T16:13:44.863662Z"
    }
   },
   "outputs": [],
   "source": [
    "def Load_array(x_data,y_data,batch_size):\n",
    "    data=TensorDataset(*(x_data,y_data))\n",
    "    data_loader=DataLoader(dataset=data,batch_size=batch_size,shuffle=True)\n",
    "    return data_loader"
   ]
  },
  {
   "cell_type": "code",
   "execution_count": 81,
   "metadata": {
    "ExecuteTime": {
     "end_time": "2020-06-20T16:13:46.906686Z",
     "start_time": "2020-06-20T16:13:46.901689Z"
    }
   },
   "outputs": [],
   "source": [
    "batch_size = 50\n",
    "data_loader=Load_array(input_features,labels,batch_size=batch_size)"
   ]
  },
  {
   "cell_type": "markdown",
   "metadata": {},
   "source": [
    "# A TRAINING LOOP"
   ]
  },
  {
   "cell_type": "code",
   "execution_count": 82,
   "metadata": {
    "ExecuteTime": {
     "end_time": "2020-06-20T16:13:49.128368Z",
     "start_time": "2020-06-20T16:13:48.819875Z"
    },
    "scrolled": true
   },
   "outputs": [
    {
     "name": "stderr",
     "output_type": "stream",
     "text": [
      "C:\\Anaconda3\\lib\\site-packages\\torch\\nn\\functional.py:1386: UserWarning: nn.functional.sigmoid is deprecated. Use torch.sigmoid instead.\n",
      "  warnings.warn(\"nn.functional.sigmoid is deprecated. Use torch.sigmoid instead.\")\n"
     ]
    },
    {
     "name": "stdout",
     "output_type": "stream",
     "text": [
      "epoch 0/50, loss 0.625312\n",
      "epoch 5/50, loss 0.404279\n",
      "epoch 10/50, loss 0.291203\n",
      "epoch 15/50, loss 0.225721\n",
      "epoch 20/50, loss 0.183780\n",
      "epoch 25/50, loss 0.154878\n",
      "epoch 30/50, loss 0.133832\n",
      "epoch 35/50, loss 0.117855\n",
      "epoch 40/50, loss 0.105331\n",
      "epoch 45/50, loss 0.095253\n",
      "epoch 50/50, loss 0.086969\n"
     ]
    }
   ],
   "source": [
    "num_epochs = 50\n",
    "for epoch in range(num_epochs+1): \n",
    "    for X,y in data_loader:\n",
    "        y_hat=model(X)\n",
    "        l=loss( y_hat,y)\n",
    "    #if epoch %10==0:\n",
    "     #   print('epoch{}/{}, loss {}'.format(epoch,num_epochs,l))\n",
    "        \n",
    "        optimizer.zero_grad() \n",
    "        l.backward() \n",
    "        optimizer.step() \n",
    "    l_epoch = loss(model(input_features), labels) \n",
    "    if epoch %5==0:\n",
    "        print('epoch %d/50, loss %f'%(epoch,l_epoch))\n",
    " \n",
    "\n",
    "    \n"
   ]
  },
  {
   "cell_type": "code",
   "execution_count": null,
   "metadata": {},
   "outputs": [],
   "source": []
  },
  {
   "cell_type": "markdown",
   "metadata": {
    "ExecuteTime": {
     "end_time": "2020-06-18T22:52:14.051448Z",
     "start_time": "2020-06-18T22:52:14.044451Z"
    }
   },
   "source": [
    "# you can define a multilayer logistic regression model as below"
   ]
  },
  {
   "cell_type": "code",
   "execution_count": 84,
   "metadata": {
    "ExecuteTime": {
     "end_time": "2020-06-20T16:15:47.794584Z",
     "start_time": "2020-06-20T16:15:47.786591Z"
    }
   },
   "outputs": [],
   "source": [
    "class Multilayer_Logistic_Regression(nn.Module):\n",
    "    def __init__(self,d_in,h_1,d_out):\n",
    "        super().__init__()\n",
    "        self.layer1=nn.Linear(d_in,h_1)\n",
    "        self.layer2=nn.Linear(h,5)\n",
    "        self.layer3=nn.Linear(5,3)\n",
    "        self.layer4=nn.Linear(3,d_out)\n",
    "    def forward(self,x):\n",
    "        y_hat1=f.sigmoid(self.layer1(x))\n",
    "        y_hat2=f.sigmoid(self.layer2(y_hat1))\n",
    "        y_hat3=f.sigmoid(self.layer3(y_hat2))\n",
    "        y_pred=f.sigmoid(self.layer4(y_hat3))\n",
    "        return y_pred\n",
    "        "
   ]
  },
  {
   "cell_type": "code",
   "execution_count": null,
   "metadata": {},
   "outputs": [],
   "source": []
  },
  {
   "cell_type": "code",
   "execution_count": null,
   "metadata": {},
   "outputs": [],
   "source": []
  }
 ],
 "metadata": {
  "kernelspec": {
   "display_name": "Python 3 (ipykernel)",
   "language": "python",
   "name": "python3"
  },
  "language_info": {
   "codemirror_mode": {
    "name": "ipython",
    "version": 3
   },
   "file_extension": ".py",
   "mimetype": "text/x-python",
   "name": "python",
   "nbconvert_exporter": "python",
   "pygments_lexer": "ipython3",
   "version": "3.9.7"
  }
 },
 "nbformat": 4,
 "nbformat_minor": 2
}
