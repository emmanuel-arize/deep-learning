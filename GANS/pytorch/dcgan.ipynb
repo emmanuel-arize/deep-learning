{
 "cells": [
  {
   "cell_type": "code",
   "execution_count": 1,
   "id": "2d154b60",
   "metadata": {},
   "outputs": [],
   "source": [
    "import matplotlib.pyplot as plt\n",
    "import numpy as np\n",
    "import torch\n",
    "from torchvision import datasets\n",
    "from torch.utils.data import DataLoader\n",
    "import torch.nn as nn\n",
    "from torchvision.transforms import transforms\n",
    "plt.rcParams['image.cmap']='gray'\n",
    "from torchsummary import summary"
   ]
  },
  {
   "cell_type": "code",
   "execution_count": 2,
   "id": "631b6daf",
   "metadata": {},
   "outputs": [],
   "source": [
    "train_data=datasets.FashionMNIST(root='../data/',train=True,download=True,transform=transforms.ToTensor())\n",
    "test_data=datasets.FashionMNIST(root='../data/',train= False,download=True,transform=transforms.ToTensor())"
   ]
  },
  {
   "cell_type": "code",
   "execution_count": 3,
   "id": "4105d8af",
   "metadata": {},
   "outputs": [],
   "source": [
    "train_iter=DataLoader(train_data,batch_size=100,shuffle=True)\n",
    "test_iter=DataLoader(test_data,batch_size=100)"
   ]
  },
  {
   "cell_type": "code",
   "execution_count": 4,
   "id": "6aa228d7",
   "metadata": {},
   "outputs": [
    {
     "name": "stdout",
     "output_type": "stream",
     "text": [
      "torch.Size([100, 1, 28, 28])\n"
     ]
    }
   ],
   "source": [
    "for x,y in train_iter:\n",
    "    print(x.size())\n",
    "    break"
   ]
  },
  {
   "cell_type": "code",
   "execution_count": 5,
   "id": "e77f6f07",
   "metadata": {},
   "outputs": [],
   "source": [
    "class Reshape(nn.Module):\n",
    "    def __init__(self,*args):\n",
    "        super().__init__()\n",
    "        self.shape=args\n",
    "    def forward(self,x):\n",
    "        return x.view(self.shape)"
   ]
  },
  {
   "cell_type": "code",
   "execution_count": 6,
   "id": "a634f1ec",
   "metadata": {},
   "outputs": [],
   "source": [
    "latent_dim=100"
   ]
  },
  {
   "cell_type": "code",
   "execution_count": 13,
   "id": "2ae077d4",
   "metadata": {},
   "outputs": [],
   "source": [
    "class GAN(nn.Module):\n",
    "    def __init__(self,latent_dim):\n",
    "        super().__init__()\n",
    "        self.discriminator=nn.Sequential(\n",
    "                            Reshape(-1,1,28,28),\n",
    "                            #64*28*28\n",
    "                            nn.Conv2d(1,64,kernel_size=2,padding=1,bias=False),\n",
    "                            nn.BatchNorm2d(64),\n",
    "                            nn.LeakyReLU(0.2),\n",
    "                            #100*15*15\n",
    "                            nn.Conv2d(64,100,kernel_size=2,stride=2,padding=1,bias=False),\n",
    "                            nn.BatchNorm2d(100),\n",
    "                            nn.LeakyReLU(0.2),\n",
    "                            #120*8*8\n",
    "                            nn.Conv2d(100,120,kernel_size=2,stride=2,padding=1,bias=False),\n",
    "                            nn.BatchNorm2d(120),\n",
    "                            nn.LeakyReLU(0.2),\n",
    "                            nn.Flatten(),\n",
    "                            nn.Linear(7680,1,bias=False),\n",
    "                            nn.Sigmoid                          \n",
    "                                        )\n",
    "        self.generator=nn.Sequential(\n",
    "                        nn.Linear(latent_dim,490,bias=False),\n",
    "                        Reshape(-1,10,7,7),\n",
    "                        #120*14*14\n",
    "                        nn.ConvTranspose2d(10,120,kernel_size=4,stride=2,padding=1,bias=False),\n",
    "                        nn.BatchNorm2d(120),\n",
    "                        nn.ReLU(),\n",
    "                        nn.ConvTranspose2d(120,64,kernel_size=3,stride=1,padding=1,bias=False),\n",
    "                        nn.BatchNorm2d(64),\n",
    "                        nn.ReLU(),\n",
    "                        nn.ConvTranspose2d(64,72,kernel_size=4,stride=2,padding=1,bias=False),\n",
    "                        nn.BatchNorm2d(72),\n",
    "                        nn.ReLU(0.02),\n",
    "                        nn.Conv2d(72,1,kernel_size=3,padding=1,bias=False),\n",
    "                        nn.Tanh()\n",
    ")\n",
    "        self.latent_dim=latent_dim\n",
    "        \n",
    "    def discriminator_forward(self,x):\n",
    "        return self.discriminator(x)\n",
    "    \n",
    "    def generator_forward(self,x):\n",
    "        return self.generator(x)"
   ]
  },
  {
   "cell_type": "code",
   "execution_count": 14,
   "id": "5e4db50b",
   "metadata": {},
   "outputs": [],
   "source": [
    "def discriminator_loss(real_output,fake_output):\n",
    "    real_loss=nn.functional.binary_cross_entropy_with_logits(torch.ones_like(real_output),real_output)\n",
    "    fake_loss=nn.functional.binary_cross_entropy_with_logits(torch.zeros_like(fake_output), fake_output)\n",
    "    loss=real_loss + fake_loss\n",
    "    return loss\n",
    "\n",
    "def generator_loss( fake_output):\n",
    "    loss=nn.functional.binary_cross_entropy_with_logits(torch.ones_like(fake_output), fake_output)\n",
    "    return loss"
   ]
  },
  {
   "cell_type": "code",
   "execution_count": 15,
   "id": "ec7fcc58",
   "metadata": {},
   "outputs": [
    {
     "name": "stdout",
     "output_type": "stream",
     "text": [
      "==========================================================================================\n",
      "Layer (type:depth-idx)                   Output Shape              Param #\n",
      "==========================================================================================\n",
      "├─Reshape: 1-1                           [-1, 1, 28, 28]           --\n",
      "├─Conv2d: 1-2                            [-1, 64, 29, 29]          256\n",
      "├─BatchNorm2d: 1-3                       [-1, 64, 29, 29]          128\n",
      "├─LeakyReLU: 1-4                         [-1, 64, 29, 29]          --\n",
      "├─Conv2d: 1-5                            [-1, 100, 15, 15]         25,600\n",
      "├─BatchNorm2d: 1-6                       [-1, 100, 15, 15]         200\n",
      "├─LeakyReLU: 1-7                         [-1, 100, 15, 15]         --\n",
      "├─Conv2d: 1-8                            [-1, 120, 8, 8]           48,000\n",
      "├─BatchNorm2d: 1-9                       [-1, 120, 8, 8]           240\n",
      "├─LeakyReLU: 1-10                        [-1, 120, 8, 8]           --\n",
      "├─Flatten: 1-11                          [-1, 7680]                --\n",
      "├─Linear: 1-12                           [-1, 1]                   7,680\n",
      "├─Tanh: 1-13                             [-1, 1]                   --\n",
      "==========================================================================================\n",
      "Total params: 82,104\n",
      "Trainable params: 82,104\n",
      "Non-trainable params: 0\n",
      "Total mult-adds (M): 9.06\n",
      "==========================================================================================\n",
      "Input size (MB): 0.00\n",
      "Forward/backward pass size (MB): 1.28\n",
      "Params size (MB): 0.31\n",
      "Estimated Total Size (MB): 1.60\n",
      "==========================================================================================\n"
     ]
    },
    {
     "data": {
      "text/plain": [
       "==========================================================================================\n",
       "Layer (type:depth-idx)                   Output Shape              Param #\n",
       "==========================================================================================\n",
       "├─Reshape: 1-1                           [-1, 1, 28, 28]           --\n",
       "├─Conv2d: 1-2                            [-1, 64, 29, 29]          256\n",
       "├─BatchNorm2d: 1-3                       [-1, 64, 29, 29]          128\n",
       "├─LeakyReLU: 1-4                         [-1, 64, 29, 29]          --\n",
       "├─Conv2d: 1-5                            [-1, 100, 15, 15]         25,600\n",
       "├─BatchNorm2d: 1-6                       [-1, 100, 15, 15]         200\n",
       "├─LeakyReLU: 1-7                         [-1, 100, 15, 15]         --\n",
       "├─Conv2d: 1-8                            [-1, 120, 8, 8]           48,000\n",
       "├─BatchNorm2d: 1-9                       [-1, 120, 8, 8]           240\n",
       "├─LeakyReLU: 1-10                        [-1, 120, 8, 8]           --\n",
       "├─Flatten: 1-11                          [-1, 7680]                --\n",
       "├─Linear: 1-12                           [-1, 1]                   7,680\n",
       "├─Tanh: 1-13                             [-1, 1]                   --\n",
       "==========================================================================================\n",
       "Total params: 82,104\n",
       "Trainable params: 82,104\n",
       "Non-trainable params: 0\n",
       "Total mult-adds (M): 9.06\n",
       "==========================================================================================\n",
       "Input size (MB): 0.00\n",
       "Forward/backward pass size (MB): 1.28\n",
       "Params size (MB): 0.31\n",
       "Estimated Total Size (MB): 1.60\n",
       "=========================================================================================="
      ]
     },
     "execution_count": 15,
     "metadata": {},
     "output_type": "execute_result"
    }
   ],
   "source": [
    "gan=GAN(latent_dim=latent_dim)\n",
    "x=torch.rand((1,1,28,28))\n",
    "summary(gan.discriminator,x)"
   ]
  },
  {
   "cell_type": "code",
   "execution_count": 16,
   "id": "e906d64e",
   "metadata": {},
   "outputs": [
    {
     "name": "stdout",
     "output_type": "stream",
     "text": [
      "==========================================================================================\n",
      "Layer (type:depth-idx)                   Output Shape              Param #\n",
      "==========================================================================================\n",
      "├─Linear: 1-1                            [-1, 490]                 49,000\n",
      "├─Reshape: 1-2                           [-1, 10, 7, 7]            --\n",
      "├─ConvTranspose2d: 1-3                   [-1, 120, 14, 14]         19,200\n",
      "├─BatchNorm2d: 1-4                       [-1, 120, 14, 14]         240\n",
      "├─ReLU: 1-5                              [-1, 120, 14, 14]         --\n",
      "├─ConvTranspose2d: 1-6                   [-1, 64, 14, 14]          69,120\n",
      "├─BatchNorm2d: 1-7                       [-1, 64, 14, 14]          128\n",
      "├─ReLU: 1-8                              [-1, 64, 14, 14]          --\n",
      "├─ConvTranspose2d: 1-9                   [-1, 72, 28, 28]          73,728\n",
      "├─BatchNorm2d: 1-10                      [-1, 72, 28, 28]          144\n",
      "├─ReLU: 1-11                             [-1, 72, 28, 28]          --\n",
      "├─Conv2d: 1-12                           [-1, 1, 28, 28]           648\n",
      "├─Tanh: 1-13                             [-1, 1, 28, 28]           --\n",
      "==========================================================================================\n",
      "Total params: 212,208\n",
      "Trainable params: 212,208\n",
      "Non-trainable params: 0\n",
      "Total mult-adds (M): 75.67\n",
      "==========================================================================================\n",
      "Input size (MB): 0.00\n",
      "Forward/backward pass size (MB): 1.42\n",
      "Params size (MB): 0.81\n",
      "Estimated Total Size (MB): 2.23\n",
      "==========================================================================================\n"
     ]
    },
    {
     "data": {
      "text/plain": [
       "==========================================================================================\n",
       "Layer (type:depth-idx)                   Output Shape              Param #\n",
       "==========================================================================================\n",
       "├─Linear: 1-1                            [-1, 490]                 49,000\n",
       "├─Reshape: 1-2                           [-1, 10, 7, 7]            --\n",
       "├─ConvTranspose2d: 1-3                   [-1, 120, 14, 14]         19,200\n",
       "├─BatchNorm2d: 1-4                       [-1, 120, 14, 14]         240\n",
       "├─ReLU: 1-5                              [-1, 120, 14, 14]         --\n",
       "├─ConvTranspose2d: 1-6                   [-1, 64, 14, 14]          69,120\n",
       "├─BatchNorm2d: 1-7                       [-1, 64, 14, 14]          128\n",
       "├─ReLU: 1-8                              [-1, 64, 14, 14]          --\n",
       "├─ConvTranspose2d: 1-9                   [-1, 72, 28, 28]          73,728\n",
       "├─BatchNorm2d: 1-10                      [-1, 72, 28, 28]          144\n",
       "├─ReLU: 1-11                             [-1, 72, 28, 28]          --\n",
       "├─Conv2d: 1-12                           [-1, 1, 28, 28]           648\n",
       "├─Tanh: 1-13                             [-1, 1, 28, 28]           --\n",
       "==========================================================================================\n",
       "Total params: 212,208\n",
       "Trainable params: 212,208\n",
       "Non-trainable params: 0\n",
       "Total mult-adds (M): 75.67\n",
       "==========================================================================================\n",
       "Input size (MB): 0.00\n",
       "Forward/backward pass size (MB): 1.42\n",
       "Params size (MB): 0.81\n",
       "Estimated Total Size (MB): 2.23\n",
       "=========================================================================================="
      ]
     },
     "execution_count": 16,
     "metadata": {},
     "output_type": "execute_result"
    }
   ],
   "source": [
    "x=torch.rand((1,latent_dim))\n",
    "summary(gan.generator,x)"
   ]
  },
  {
   "cell_type": "code",
   "execution_count": 17,
   "id": "456e6909",
   "metadata": {},
   "outputs": [],
   "source": [
    "\n",
    "g_optimizer=torch.optim.Adam(gan.generator.parameters())\n",
    "d_optimizer=torch.optim.Adam(gan.discriminator.parameters())"
   ]
  },
  {
   "cell_type": "code",
   "execution_count": null,
   "id": "f5de39ae",
   "metadata": {},
   "outputs": [],
   "source": [
    "epochs=1\n",
    "for epoch in range(epochs):\n",
    "    gan=gan.train()\n",
    "    for x,_ in train_iter:\n",
    "        x=(x-0.5)*2\n",
    "        batch_size=x.size()[0]\n",
    "        \n",
    "        z_random_latent_vectors=torch.randn((batch_size,latent_dim))\n",
    "        generated_imgs=gan.generator_forward(z_random_latent_vectors)\n",
    "        fake_output=gan.discriminator_forward(generated_imgs)\n",
    "        real_output=gan.discriminator_forward(x)\n",
    "        \n",
    "        d_optimizer.zero_grad()\n",
    "        d_loss=discriminator_loss(real_output=real_output,fake_output= fake_output)\n",
    "        d_loss.backward()\n",
    "        d_optimizer.step()\n",
    "        \n",
    "        g_optimizer.zero_grad()\n",
    "        #z_random_latent_vectors=torch.randn((batch_size,latent_dim))\n",
    "        generated_imgs=gan.generator_forward(z_random_latent_vectors)\n",
    "        fake_output=gan.discriminator_forward(generated_imgs)\n",
    "        g_loss=generator_loss(fake_output)\n",
    "        g_loss.backward()\n",
    "        g_optimizer.step()\n",
    "        \n",
    "        print(\"Epoch %d: d_loss %.3f,  g_loss %.3f\" % (epoch+1, d_loss.detach().numpy().mean(),\n",
    "                                                       g_loss.detach().numpy().mean()))\n",
    "        "
   ]
  },
  {
   "cell_type": "markdown",
   "id": "a3cc9cf0",
   "metadata": {},
   "source": [
    "  **REFERENCE**\n",
    "\n",
    "- [Generative Adversarial Networks](http://d2l.ai/chapter_generative-adversarial-networks/gan.html)\n",
    "\n",
    "- [Generative Adversarial Nets](https://arxiv.org/pdf/1406.2661.pdf)\n",
    "\n",
    "- [NIPS 2016 Tutorial: Generative Adversarial Networks](https://arxiv.org/pdf/1701.00160.pdf)"
   ]
  },
  {
   "cell_type": "code",
   "execution_count": null,
   "id": "d6b495ec",
   "metadata": {},
   "outputs": [],
   "source": []
  }
 ],
 "metadata": {
  "kernelspec": {
   "display_name": "Python 3 (ipykernel)",
   "language": "python",
   "name": "python3"
  },
  "language_info": {
   "codemirror_mode": {
    "name": "ipython",
    "version": 3
   },
   "file_extension": ".py",
   "mimetype": "text/x-python",
   "name": "python",
   "nbconvert_exporter": "python",
   "pygments_lexer": "ipython3",
   "version": "3.9.7"
  }
 },
 "nbformat": 4,
 "nbformat_minor": 5
}
