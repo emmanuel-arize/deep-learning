{
 "cells": [
  {
   "cell_type": "markdown",
   "id": "4a003f5c",
   "metadata": {},
   "source": [
    "# Autoencoders\n",
    "\n",
    "An autoencoder encodes the input distribution into a low-dimensional vector that is commonly referred to as the **latent representation or vector or code**. The decoder the decode or reconstruct the latent vector to recover the original input. Since the latent vector is a low-dimensional compressed representation of the input data, the output recovered by the decoder is only an approximation of the input. Given an image, an autoencoder first encodes the image into a lower dimensional latent representation, then decodes the latent representation back to the original image. Autoencoders are made up of two parts\n",
    "\n",
    "$\\bullet$ **An encoder network** that compresses the high-dimensional input data into a lower dimensional latent vector. Since the latent vector is of low dimension, the encoder is forced to prioritize which aspects or features of the input should be learn or copied. It often learns useful properties of the data.\n",
    "\n",
    "$\\bullet$ **A decoder network** tries to reconstructe or recover as close as possible the original input data from the latent vector .\n",
    "\n",
    "An autoencoder whose latent representation  dimension is less than the input dimension is called undercomplete and this forces the autoencoder to capture the most salient features of the training data\n"
   ]
  },
  {
   "cell_type": "markdown",
   "id": "e5e32d7e",
   "metadata": {},
   "source": [
    " The network is trained to minimize the loss\n",
    "The Autoencoder network is trained to obtain weights for the encoder and decoder that best minimizes the loss between the original input and the reconstruction of the input after it has passed through the encoder and decoder.\n",
    " \n",
    "\n",
    "x=input data\n",
    "z=latent vector\n",
    "\n",
    "$\\acute x=$reconstructed image\n",
    "encoder function $f$\n",
    "\n",
    "decoder function $g$\n",
    "\n",
    "$z=f(x)$\n",
    "\n",
    "$\\acute x=g(z)= g(f(x))$\n",
    "\n",
    "$\\acute x \\approx x$\n",
    "\n",
    "\n",
    "\n",
    "$\\bullet$ Types of autoencoders based on size of hidden layer\n",
    "\n",
    "**Undercomplete autoencoders** have hidden layer size smaller than input layer size. Dimension of embedded space or laten representation lower than that of input space\n",
    "\n",
    "**Overcomplete autoencoders** have much larger hidden layer size. Regularize to avoid overfitting."
   ]
  },
  {
   "cell_type": "code",
   "execution_count": null,
   "id": "0d8b01d3",
   "metadata": {},
   "outputs": [],
   "source": []
  },
  {
   "cell_type": "code",
   "execution_count": 1,
   "id": "f205e6e3",
   "metadata": {},
   "outputs": [],
   "source": [
    "import matplotlib.pyplot as plt\n",
    "import numpy as np\n",
    "from torchvision import datasets\n",
    "from torchvision.transforms import ToTensor\n",
    "import torch\n",
    "from torch.utils.data import DataLoader\n",
    "import torch.nn as nn\n",
    "plt.rcParams['image.cmap']='gray'"
   ]
  },
  {
   "cell_type": "code",
   "execution_count": 2,
   "id": "88541712",
   "metadata": {},
   "outputs": [],
   "source": [
    "\n",
    "train_data = datasets.FashionMNIST(\n",
    "    root = './data',\n",
    "    train = True,                         \n",
    "    transform = ToTensor(), \n",
    "    download = True,            \n",
    ")\n",
    "test_data = datasets.FashionMNIST(\n",
    "    root = './data', \n",
    "    train = False, \n",
    "    transform = ToTensor()\n",
    ")"
   ]
  },
  {
   "cell_type": "code",
   "execution_count": 3,
   "id": "33059852",
   "metadata": {},
   "outputs": [
    {
     "data": {
      "text/plain": [
       "60000"
      ]
     },
     "execution_count": 3,
     "metadata": {},
     "output_type": "execute_result"
    }
   ],
   "source": [
    "len(train_data)"
   ]
  },
  {
   "cell_type": "code",
   "execution_count": 4,
   "id": "bae2aaf9",
   "metadata": {},
   "outputs": [],
   "source": [
    "train_data_loader=DataLoader(train_data,batch_size=100,shuffle=True)\n",
    "test_data_loader=DataLoader(test_data,batch_size=100,shuffle=True)"
   ]
  },
  {
   "cell_type": "code",
   "execution_count": 5,
   "id": "f526b02c",
   "metadata": {},
   "outputs": [
    {
     "name": "stdout",
     "output_type": "stream",
     "text": [
      "Image batch dimensions: torch.Size([100, 1, 28, 28])\n",
      "Image label dimensions: torch.Size([100])\n"
     ]
    }
   ],
   "source": [
    "for images, labels in train_data_loader:  \n",
    "    print('Image batch dimensions:', images.shape)\n",
    "    print('Image label dimensions:', labels.shape)\n",
    "    break"
   ]
  },
  {
   "cell_type": "code",
   "execution_count": 6,
   "id": "fd6d339e",
   "metadata": {},
   "outputs": [],
   "source": [
    "latent_dim = 64"
   ]
  },
  {
   "cell_type": "code",
   "execution_count": 7,
   "id": "a4b97d19",
   "metadata": {},
   "outputs": [],
   "source": [
    "class Autoencoder(nn.Module):\n",
    "    def __init__(self, latent_dim):\n",
    "        super(Autoencoder, self).__init__()\n",
    "        self.latent_dim = latent_dim   \n",
    "        self.encoder = nn.Sequential(\n",
    "                                     nn.Flatten(),\n",
    "                                     nn.Linear(784,512),\n",
    "                                     nn.ReLU(),\n",
    "                                     nn.Linear(512,self.latent_dim),\n",
    "                                     nn.ReLU()\n",
    "                                     )\n",
    "        self.decoder = nn.Sequential(\n",
    "                                     nn.Linear(self.latent_dim,512),\n",
    "                                     nn.ReLU(),\n",
    "                                     nn.Linear(512,784),\n",
    "                                     nn.Sigmoid()\n",
    "                                     )\n",
    "\n",
    "    def forward(self, x):\n",
    "        latent_vector = self.encoder(x)\n",
    "        decoded = self.decoder(latent_vector)\n",
    "        \n",
    "        return decoded\n",
    "    "
   ]
  },
  {
   "cell_type": "code",
   "execution_count": 43,
   "id": "8d21c68b",
   "metadata": {},
   "outputs": [],
   "source": [
    "autoencoder = Autoencoder(latent_dim) "
   ]
  },
  {
   "cell_type": "code",
   "execution_count": 44,
   "id": "f91c150e",
   "metadata": {},
   "outputs": [],
   "source": [
    "loss_fn=nn.MSELoss()\n",
    "optimizer=torch.optim.Adam(autoencoder.parameters(),lr=0.01)"
   ]
  },
  {
   "cell_type": "code",
   "execution_count": 9,
   "id": "16d8fd83",
   "metadata": {},
   "outputs": [
    {
     "name": "stdout",
     "output_type": "stream",
     "text": [
      "Epoch 1: train loss 0.017, val loss 0.017\n",
      "Epoch 2: train loss 0.015, val loss 0.014\n",
      "Epoch 3: train loss 0.014, val loss 0.014\n",
      "Epoch 4: train loss 0.011, val loss 0.012\n",
      "Epoch 5: train loss 0.014, val loss 0.013\n",
      "Epoch 6: train loss 0.013, val loss 0.014\n",
      "Epoch 7: train loss 0.014, val loss 0.016\n",
      "Epoch 8: train loss 0.012, val loss 0.013\n",
      "Epoch 9: train loss 0.011, val loss 0.013\n",
      "Epoch 10: train loss 0.013, val loss 0.014\n"
     ]
    }
   ],
   "source": [
    "for epoch in range(10):\n",
    "    autoencoder.train()\n",
    "    for x,_ in train_data_loader:\n",
    "        x=x.view(-1, 28*28)\n",
    "        output=autoencoder(x)\n",
    "        train_loss=loss_fn(output,x.reshape(output.shape))\n",
    "        optimizer.zero_grad()\n",
    "        train_loss.backward()\n",
    "        optimizer.step()\n",
    "    autoencoder.eval()\n",
    "    for x_test,_ in test_data_loader:\n",
    "        pred=autoencoder(x_test)\n",
    "        val_loss=loss_fn(pred,x_test.reshape(pred.shape))\n",
    "    print(\"Epoch %d: train loss %.3f, val loss %.3f\" % (epoch+1, train_loss.detach().numpy().mean(),\n",
    "                                                        val_loss.detach().numpy().mean()))\n",
    "    \n",
    "    "
   ]
  },
  {
   "cell_type": "code",
   "execution_count": 10,
   "id": "fa8168c9",
   "metadata": {},
   "outputs": [
    {
     "data": {
      "image/png": "[encoded data removed]",
      "text/plain": [
       "<Figure size 1440x288 with 20 Axes>"
      ]
     },
     "metadata": {
      "needs_background": "light"
     },
     "output_type": "display_data"
    }
   ],
   "source": [
    "n = 10\n",
    "image_width = 28\n",
    "\n",
    "plt.figure(figsize=(20, 4))\n",
    "orig_imgs = x_test[:n]\n",
    "decoded_imgs = pred[:n]\n",
    "\n",
    "for i in range(n):\n",
    "\n",
    "    # display original + noise\n",
    "    ax = plt.subplot(2, n, i + 1)\n",
    "    plt.title(\"original\")\n",
    "    plt.imshow(orig_imgs[i].detach().view((image_width, image_width)) )\n",
    "    plt.gray()\n",
    "    ax.get_xaxis().set_visible(False)\n",
    "    ax.get_yaxis().set_visible(False)\n",
    "\n",
    "    # display reconstruction\n",
    "    bx = plt.subplot(2, n, i + n + 1)\n",
    "    plt.title(\"reconstructed\")\n",
    "    plt.imshow(decoded_imgs[i].detach().view((image_width, image_width))   )\n",
    "    plt.gray()\n",
    "    bx.get_xaxis().set_visible(False)\n",
    "    bx.get_yaxis().set_visible(False)\n",
    "plt.show()"
   ]
  },
  {
   "cell_type": "code",
   "execution_count": null,
   "id": "b73fa517",
   "metadata": {},
   "outputs": [],
   "source": []
  },
  {
   "cell_type": "code",
   "execution_count": null,
   "id": "6aa51417",
   "metadata": {},
   "outputs": [],
   "source": []
  },
  {
   "cell_type": "code",
   "execution_count": 8,
   "id": "85ff75ea",
   "metadata": {},
   "outputs": [],
   "source": [
    "class Reshape(nn.Module):\n",
    "    def __init__(self,*args):\n",
    "        super().__init__()\n",
    "        self.shape=args\n",
    "    def forward(self, x):\n",
    "        return x.view(self.shape)\n",
    "\n",
    "class AutoEncoder1(nn.Module):\n",
    "    def __init__(self,latent_dim):\n",
    "        super().__init__()\n",
    "        self.latent_dim=latent_dim\n",
    "        \n",
    "        self.encoder = nn.Sequential( Reshape(-1,1,28,28),\n",
    "                nn.Conv2d(1, 32, kernel_size=3,stride=2, padding=1),\n",
    "                nn.LeakyReLU(0.01),\n",
    "                nn.Conv2d(32, 60, kernel_size=3,stride=2, padding=1),\n",
    "                nn.LeakyReLU(0.01),\n",
    "                nn.Conv2d(60, 32,  kernel_size=3,stride=2, padding=1),\n",
    "                nn.Flatten(),\n",
    "                nn.Linear(512,self.latent_dim),\n",
    "                                        )\n",
    "        self.decoder = nn.Sequential( \n",
    "                        nn.Linear(self.latent_dim, 512),\n",
    "                Reshape(-1, 32,4,4),\n",
    "                nn.ConvTranspose2d(32, 60, kernel_size=3,stride=2, padding=1),\n",
    "                nn.LeakyReLU(0.01),\n",
    "                nn.ConvTranspose2d(60, 32, kernel_size=4,stride=2,padding=1)   ,             \n",
    "                nn.LeakyReLU(0.01),\n",
    "               \n",
    "                nn.ConvTranspose2d( 32,1, kernel_size=4,stride=2, padding=1),                \n",
    "                nn.Sigmoid()\n",
    "                \n",
    "                )\n",
    "\n",
    "    def forward(self, x):\n",
    "        latent_vector  = self.encoder(x)\n",
    "        output = self.decoder(latent_vector)\n",
    "        return output\n",
    "autoencoder2=AutoEncoder1(latent_dim=latent_dim)"
   ]
  },
  {
   "cell_type": "code",
   "execution_count": 11,
   "id": "eb27a76e",
   "metadata": {},
   "outputs": [],
   "source": [
    "loss_fn=nn.MSELoss()\n",
    "optimizer=torch.optim.Adam(autoencoder2.parameters())"
   ]
  },
  {
   "cell_type": "code",
   "execution_count": 12,
   "id": "b9d3f755",
   "metadata": {},
   "outputs": [
    {
     "name": "stdout",
     "output_type": "stream",
     "text": [
      "Epoch 1: train loss 0.008, val loss 0.010\n",
      "Epoch 2: train loss 0.008, val loss 0.008\n",
      "Epoch 3: train loss 0.008, val loss 0.009\n",
      "Epoch 4: train loss 0.007, val loss 0.007\n",
      "Epoch 5: train loss 0.006, val loss 0.007\n",
      "Epoch 6: train loss 0.007, val loss 0.006\n",
      "Epoch 7: train loss 0.007, val loss 0.005\n",
      "Epoch 8: train loss 0.007, val loss 0.005\n",
      "Epoch 9: train loss 0.006, val loss 0.007\n",
      "Epoch 10: train loss 0.006, val loss 0.006\n"
     ]
    }
   ],
   "source": [
    "for epoch in range(10):\n",
    "    autoencoder2.train()\n",
    "    for x,_ in train_data_loader:\n",
    "        output=autoencoder2(x)\n",
    "        train_loss=loss_fn(output,x.reshape(output.shape))\n",
    "        optimizer.zero_grad()\n",
    "        train_loss.backward()\n",
    "        optimizer.step()\n",
    "    autoencoder2.eval()\n",
    "    for x_test,_ in test_data_loader:\n",
    "        pred_con=autoencoder2(x_test)\n",
    "        val_loss=loss_fn(pred_con,x_test.reshape(pred_con.shape))\n",
    "    print(\"Epoch %d: train loss %.3f, val loss %.3f\" % (epoch+1, train_loss.detach().numpy().mean(),\n",
    "                                                        val_loss.detach().numpy().mean()))\n",
    "    \n",
    "    "
   ]
  },
  {
   "cell_type": "code",
   "execution_count": 13,
   "id": "66bed8d5",
   "metadata": {},
   "outputs": [
    {
     "data": {
      "image/png": "[encoded data removed]",
      "text/plain": [
       "<Figure size 1440x288 with 20 Axes>"
      ]
     },
     "metadata": {
      "needs_background": "light"
     },
     "output_type": "display_data"
    }
   ],
   "source": [
    "n = 10\n",
    "image_width = 28\n",
    "\n",
    "plt.figure(figsize=(20, 4))\n",
    "orig_imgs = x_test[:n]\n",
    "decoded_imgs = pred_con[:n]\n",
    "\n",
    "for i in range(n):\n",
    "\n",
    "    # display original + noise\n",
    "    ax = plt.subplot(2, n, i + 1)\n",
    "    plt.title(\"original\")\n",
    "    plt.imshow(orig_imgs[i].detach().view((image_width, image_width)) )\n",
    "    plt.gray()\n",
    "    ax.get_xaxis().set_visible(False)\n",
    "    ax.get_yaxis().set_visible(False)\n",
    "\n",
    "    # display reconstruction\n",
    "    bx = plt.subplot(2, n, i + n + 1)\n",
    "    plt.title(\"reconstructed\")\n",
    "    plt.imshow(decoded_imgs[i].detach().view((image_width, image_width))   )\n",
    "    plt.gray()\n",
    "    bx.get_xaxis().set_visible(False)\n",
    "    bx.get_yaxis().set_visible(False)\n",
    "plt.show()"
   ]
  },
  {
   "cell_type": "code",
   "execution_count": null,
   "id": "cf801b1d",
   "metadata": {},
   "outputs": [],
   "source": []
  }
 ],
 "metadata": {
  "kernelspec": {
   "display_name": "Python 3 (ipykernel)",
   "language": "python",
   "name": "python3"
  },
  "language_info": {
   "codemirror_mode": {
    "name": "ipython",
    "version": 3
   },
   "file_extension": ".py",
   "mimetype": "text/x-python",
   "name": "python",
   "nbconvert_exporter": "python",
   "pygments_lexer": "ipython3",
   "version": "3.9.7"
  }
 },
 "nbformat": 4,
 "nbformat_minor": 5
}
