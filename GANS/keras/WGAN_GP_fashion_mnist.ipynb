{
 "cells": [
  {
   "cell_type": "markdown",
   "id": "79157c32",
   "metadata": {
    "id": "79157c32"
   },
   "source": [
    "# Wasserstein GAN gradient penalt (WGAN-GP)"
   ]
  },
  {
   "cell_type": "markdown",
   "id": "0fec073b",
   "metadata": {
    "id": "0fec073b"
   },
   "source": [
    "In WGAN  the discriminator is called the critic since it’s not trained to classify"
   ]
  },
  {
   "cell_type": "markdown",
   "id": "5ad9a03d",
   "metadata": {
    "id": "5ad9a03d"
   },
   "source": [
    "\n",
    "WGAN-GP is an alternative Wasserstein GAN (WGAN) involves weights  clipping.  WGAN-GP instead of clipping the weights, penalize the norm of gradient of the critic with respect to its input"
   ]
  },
  {
   "cell_type": "markdown",
   "id": "6c18b92d",
   "metadata": {
    "id": "6c18b92d"
   },
   "source": [
    "$$ L_{WGAN-GP}=E[D(G(z))]-E[D(x)]+\\lambda E[(||\\Delta_{z}D(G(z))||_{2}-1)^{2}] $$"
   ]
  },
  {
   "cell_type": "code",
   "execution_count": null,
   "id": "c328b32e",
   "metadata": {
    "id": "c328b32e"
   },
   "outputs": [],
   "source": []
  },
  {
   "cell_type": "code",
   "execution_count": null,
   "id": "f12af5dd",
   "metadata": {
    "id": "f12af5dd"
   },
   "outputs": [],
   "source": []
  },
  {
   "cell_type": "code",
   "execution_count": 1,
   "id": "a39b14a8",
   "metadata": {
    "id": "a39b14a8"
   },
   "outputs": [],
   "source": [
    "import numpy as np\n",
    "import os\n",
    "import matplotlib.pyplot as plt\n",
    "import tensorflow as tf\n",
    "from tensorflow import keras as K\n",
    "from tensorflow.keras.preprocessing.image import load_img\n",
    "from keras.datasets import fashion_mnist"
   ]
  },
  {
   "cell_type": "code",
   "execution_count": 2,
   "id": "47423757",
   "metadata": {
    "colab": {
     "base_uri": "https://localhost:8080/"
    },
    "id": "47423757",
    "outputId": "6e48b870-76e8-4e86-ef76-0775a464d753"
   },
   "outputs": [
    {
     "data": {
      "text/plain": [
       "('2.8.0', '2.8.0')"
      ]
     },
     "execution_count": 2,
     "metadata": {},
     "output_type": "execute_result"
    }
   ],
   "source": [
    "tf.random.set_seed(1000)\n",
    "np.random.seed(1000)\n",
    "plt.rcParams['image.cmap']='gray'\n",
    "K.__version__,tf.__version__"
   ]
  },
  {
   "cell_type": "code",
   "execution_count": 3,
   "id": "53125af1",
   "metadata": {
    "colab": {
     "base_uri": "https://localhost:8080/"
    },
    "id": "53125af1",
    "outputId": "6f032a1e-048b-4e7b-91b4-cf25de58dd8d"
   },
   "outputs": [
    {
     "name": "stdout",
     "output_type": "stream",
     "text": [
      "Downloading data from https://storage.googleapis.com/tensorflow/tf-keras-datasets/train-labels-idx1-ubyte.gz\n",
      "32768/29515 [=================================] - 0s 0us/step\n",
      "40960/29515 [=========================================] - 0s 0us/step\n",
      "Downloading data from https://storage.googleapis.com/tensorflow/tf-keras-datasets/train-images-idx3-ubyte.gz\n",
      "26427392/26421880 [==============================] - 0s 0us/step\n",
      "26435584/26421880 [==============================] - 0s 0us/step\n",
      "Downloading data from https://storage.googleapis.com/tensorflow/tf-keras-datasets/t10k-labels-idx1-ubyte.gz\n",
      "16384/5148 [===============================================================================================] - 0s 0us/step\n",
      "Downloading data from https://storage.googleapis.com/tensorflow/tf-keras-datasets/t10k-images-idx3-ubyte.gz\n",
      "4423680/4422102 [==============================] - 0s 0us/step\n",
      "4431872/4422102 [==============================] - 0s 0us/step\n"
     ]
    },
    {
     "data": {
      "text/plain": [
       "((60000, 28, 28, 1), (10000, 28, 28, 1))"
      ]
     },
     "execution_count": 3,
     "metadata": {},
     "output_type": "execute_result"
    }
   ],
   "source": [
    "(x_train,y_train),(x_test,y_test)=fashion_mnist.load_data()\n",
    "x_train=x_train.astype(np.float32)/255.0\n",
    "x_test=x_test.astype(np.float32)/255.0\n",
    "x_train=x_train.reshape(60000, 28, 28,1)\n",
    "x_test=x_test.reshape(10000, 28, 28,1)\n",
    "x_train.shape,x_test.shape"
   ]
  },
  {
   "cell_type": "code",
   "execution_count": 4,
   "id": "f5dcc7b7",
   "metadata": {
    "id": "f5dcc7b7"
   },
   "outputs": [],
   "source": [
    "latent_dim=100\n",
    "buffer_size=len(x_train)\n",
    "batch_size=100\n",
    "x_train_d=tf.data.Dataset.from_tensor_slices(x_train).shuffle(buffer_size).batch(batch_size)"
   ]
  },
  {
   "cell_type": "code",
   "execution_count": 5,
   "id": "103d4c46",
   "metadata": {
    "id": "103d4c46"
   },
   "outputs": [],
   "source": [
    "K.backend.clear_session()\n",
    "init_w=K.initializers.RandomNormal(mean=0,stddev=0.2)"
   ]
  },
  {
   "cell_type": "markdown",
   "id": "2132e595",
   "metadata": {
    "id": "2132e595"
   },
   "source": [
    "# Wasserstein Critic Network\n",
    "\n",
    "This network is very similar to Discriminator, but it is without the sigmoid function and outputs a scalar score rather than a probability"
   ]
  },
  {
   "cell_type": "code",
   "execution_count": 5,
   "id": "5cfb3b07",
   "metadata": {
    "id": "5cfb3b07"
   },
   "outputs": [],
   "source": []
  },
  {
   "cell_type": "code",
   "execution_count": 6,
   "id": "164d6c49",
   "metadata": {
    "colab": {
     "base_uri": "https://localhost:8080/"
    },
    "id": "164d6c49",
    "outputId": "c85069b5-c66d-44f3-a879-8abdfedd6e71"
   },
   "outputs": [
    {
     "name": "stdout",
     "output_type": "stream",
     "text": [
      "Model: \"critic\"\n",
      "_________________________________________________________________\n",
      " Layer (type)                Output Shape              Param #   \n",
      "=================================================================\n",
      " conv2d (Conv2D)             (None, 14, 14, 64)        1088      \n",
      "                                                                 \n",
      " leaky_re_lu (LeakyReLU)     (None, 14, 14, 64)        0         \n",
      "                                                                 \n",
      " conv2d_1 (Conv2D)           (None, 7, 7, 100)         102500    \n",
      "                                                                 \n",
      " leaky_re_lu_1 (LeakyReLU)   (None, 7, 7, 100)         0         \n",
      "                                                                 \n",
      " flatten (Flatten)           (None, 4900)              0         \n",
      "                                                                 \n",
      " dropout (Dropout)           (None, 4900)              0         \n",
      "                                                                 \n",
      " dense (Dense)               (None, 1)                 4901      \n",
      "                                                                 \n",
      "=================================================================\n",
      "Total params: 108,489\n",
      "Trainable params: 108,489\n",
      "Non-trainable params: 0\n",
      "_________________________________________________________________\n"
     ]
    }
   ],
   "source": [
    "critic=K.models.Sequential([\n",
    "                     K.layers.InputLayer(input_shape=(28,28,1)),\n",
    "    \n",
    "                     K.layers.Conv2D(64,kernel_size=4,strides=2,padding='same'),\n",
    "                     K.layers.LeakyReLU(alpha=0.2),\n",
    "    \n",
    "                     K.layers.Conv2D(100,kernel_size=4,strides=2,padding='same'),\n",
    "                     K.layers.LeakyReLU(alpha=0.2),\n",
    "    \n",
    "                     K.layers.Flatten(),\n",
    "                     K.layers.Dropout(0.2),\n",
    "                     K.layers.Dense(1)\n",
    "                                   ],name='critic')\n",
    "critic.summary()"
   ]
  },
  {
   "cell_type": "code",
   "execution_count": 7,
   "id": "41ecb8b4",
   "metadata": {
    "colab": {
     "base_uri": "https://localhost:8080/"
    },
    "id": "41ecb8b4",
    "outputId": "57c64a02-4a83-4a8c-d470-11ca78e751a0"
   },
   "outputs": [
    {
     "name": "stdout",
     "output_type": "stream",
     "text": [
      "Model: \"generator\"\n",
      "_________________________________________________________________\n",
      " Layer (type)                Output Shape              Param #   \n",
      "=================================================================\n",
      " dense_1 (Dense)             (None, 6400)              640000    \n",
      "                                                                 \n",
      " re_lu (ReLU)                (None, 6400)              0         \n",
      "                                                                 \n",
      " reshape (Reshape)           (None, 8, 8, 100)         0         \n",
      "                                                                 \n",
      " up_sampling2d (UpSampling2D  (None, 16, 16, 100)      0         \n",
      " )                                                               \n",
      "                                                                 \n",
      " conv2d_2 (Conv2D)           (None, 16, 16, 64)        102400    \n",
      "                                                                 \n",
      " batch_normalization (BatchN  (None, 16, 16, 64)       256       \n",
      " ormalization)                                                   \n",
      "                                                                 \n",
      " re_lu_1 (ReLU)              (None, 16, 16, 64)        0         \n",
      "                                                                 \n",
      " conv2d_transpose (Conv2DTra  (None, 16, 16, 128)      131072    \n",
      " nspose)                                                         \n",
      "                                                                 \n",
      " re_lu_2 (ReLU)              (None, 16, 16, 128)       0         \n",
      "                                                                 \n",
      " conv2d_3 (Conv2D)           (None, 16, 16, 128)       262144    \n",
      "                                                                 \n",
      " batch_normalization_1 (Batc  (None, 16, 16, 128)      512       \n",
      " hNormalization)                                                 \n",
      "                                                                 \n",
      " re_lu_3 (ReLU)              (None, 16, 16, 128)       0         \n",
      "                                                                 \n",
      " up_sampling2d_1 (UpSampling  (None, 32, 32, 128)      0         \n",
      " 2D)                                                             \n",
      "                                                                 \n",
      " conv2d_4 (Conv2D)           (None, 28, 28, 1)         3200      \n",
      "                                                                 \n",
      "=================================================================\n",
      "Total params: 1,139,584\n",
      "Trainable params: 1,139,200\n",
      "Non-trainable params: 384\n",
      "_________________________________________________________________\n"
     ]
    }
   ],
   "source": [
    "generator =K.Sequential( [\n",
    "        K.Input(shape=(latent_dim,)),\n",
    "        K.layers.Dense(8*8*100,use_bias=False),\n",
    "        K.layers.ReLU(),\n",
    "        K.layers.Reshape((8, 8, 100)),\n",
    "        K.layers.UpSampling2D(),\n",
    "    \n",
    "        K.layers.Conv2D(64, kernel_size=4, padding=\"same\",kernel_initializer=init_w,use_bias=False ),\n",
    "        K.layers.BatchNormalization(),\n",
    "        K.layers.ReLU(),\n",
    "        K.layers.Conv2DTranspose(128, kernel_size=4, strides=1, padding=\"same\",use_bias=False ),\n",
    "        K.layers.ReLU(),\n",
    "        \n",
    "        K.layers.Conv2D(128, kernel_size=4,  padding=\"same\",use_bias=False ),\n",
    "        K.layers.BatchNormalization(),\n",
    "        K.layers.ReLU(),\n",
    "       \n",
    "        K.layers.UpSampling2D(),\n",
    "    \n",
    "        K.layers.Conv2D(1, kernel_size=5, activation=\"tanh\",use_bias=False)\n",
    "                          ],'generator')\n",
    "generator.summary()"
   ]
  },
  {
   "cell_type": "code",
   "execution_count": 8,
   "id": "884fefec",
   "metadata": {
    "colab": {
     "base_uri": "https://localhost:8080/",
     "height": 282
    },
    "id": "884fefec",
    "outputId": "72839b4b-aa47-45bb-8621-ba5e5162b50f"
   },
   "outputs": [
    {
     "data": {
      "text/plain": [
       "<matplotlib.image.AxesImage at 0x7fcee0275f90>"
      ]
     },
     "execution_count": 8,
     "metadata": {},
     "output_type": "execute_result"
    },
    {
     "data": {
      "image/png": "[encoded data removed]",
      "text/plain": [
       "<Figure size 432x288 with 1 Axes>"
      ]
     },
     "metadata": {
      "needs_background": "light"
     },
     "output_type": "display_data"
    }
   ],
   "source": [
    "z_random_latent_vectors=tf.random.normal(shape=(1,latent_dim))\n",
    "generated_img=generator(z_random_latent_vectors)\n",
    "generated_img=tf.reshape(generated_img,(28,28))\n",
    "plt.imshow(generated_img.numpy())"
   ]
  },
  {
   "cell_type": "markdown",
   "id": "fb11f23b",
   "metadata": {
    "id": "bee007a7"
   },
   "source": [
    "![](./images/wgan_gp.jpg)\n",
    "\n",
    "[source of image](https://arxiv.org/pdf/1704.00028.pdf)"
   ]
  },
  {
   "cell_type": "code",
   "execution_count": 9,
   "id": "3f7251e9",
   "metadata": {
    "id": "3f7251e9"
   },
   "outputs": [],
   "source": [
    "class WGAN_GP(K.Model):\n",
    "    def __init__(self,critic,generator,latent_dim,n_critic=3,gp_weight=10.0):\n",
    "        super(WGAN_GP,self).__init__()\n",
    "        self.critic=critic\n",
    "        self.generator=generator\n",
    "        self.latent_dim=latent_dim\n",
    "        # the number of critic iterations per generator iteration\n",
    "        self.n_critic=n_critic\n",
    "        # The gradient penalty coefficient      \n",
    "        self.gp_weight=gp_weight\n",
    "        self.c_loss_metric=K.metrics.Mean(name='c_loss')\n",
    "        self.g_loss_metric=K.metrics.Mean(name='g_loss')\n",
    "    def compile(self,c_optimizer,g_optimizer):\n",
    "        super(WGAN_GP,self).compile()\n",
    "        self.c_optimizer=c_optimizer\n",
    "        self.g_optimizer=g_optimizer\n",
    "    \n",
    "    @property\n",
    "    def metrics(self):\n",
    "        return [self.c_loss_metric,self.g_loss_metric]\n",
    "    @tf.function\n",
    "    def wasserstein_loss(self,real_output,fake_output):\n",
    "        fake_l=tf.reduce_mean(fake_output)\n",
    "        real_l=tf.reduce_mean(real_output)\n",
    "        return fake_l-real_l\n",
    "    @tf.function\n",
    "    def generator_loss(self,fake_output):\n",
    "        return -tf.reduce_mean(fake_output)\n",
    "    \n",
    "    def gradient_penalty(self,batch_size,real_imgs,fake_imgs):\n",
    "        \"\"\" Calculates the gradient penalty. \n",
    "        This loss is calculated on an interpolated image and added to the discriminator loss.\n",
    "        \"\"\"\n",
    "        # Get the interpolated image\n",
    "        alpha = tf.random.normal([batch_size, 1, 1, 1])\n",
    "        interpolated_imgs=(alpha*real_imgs)+(1-alpha)*fake_imgs\n",
    "        with tf.GradientTape() as gp_tape:\n",
    "            gp_tape.watch(interpolated_imgs)\n",
    "            pred_interpolated=self.critic(interpolated_imgs)\n",
    "        grads=gp_tape.gradient(pred_interpolated,[interpolated_imgs])[0]\n",
    "        norm=tf.sqrt(tf.reduce_sum(tf.square(grads),axis=[1,2,3]))\n",
    "        gp=tf.reduce_mean((norm-1)**2)\n",
    "        return gp\n",
    "    \n",
    "    def train_step(self,real_imgs):\n",
    "        batch_size=tf.shape(real_imgs)[0]\n",
    "        for _ in range(self.n_critic):\n",
    "            # Get the latent vector\n",
    "            z_random_latent_vectors=tf.random.normal([batch_size,self.latent_dim])\n",
    "            with tf.GradientTape() as tape:\n",
    "                generated_imgs=self.generator(z_random_latent_vectors)\n",
    "                fake_output_=self.critic(generated_imgs)\n",
    "                real_output_=self.critic(real_imgs)\n",
    "                # Calculate the critic loss using the predicted fake and real output\n",
    "                c_loss_     =self.wasserstein_loss(real_output_,fake_output_)\n",
    "                # Calculate the gradient penalty\n",
    "                g_penalty=self.gradient_penalty(batch_size,real_imgs,generated_imgs)\n",
    "                # Add the gradient penalty to the original discriminator loss\n",
    "                c_loss=c_loss_+self.gp_weight*g_penalty\n",
    "            grads=tape.gradient(c_loss,self.critic.trainable_weights)\n",
    "            self.c_optimizer.apply_gradients(zip(grads,self.critic.trainable_weights))\n",
    "        # GENERATOR\n",
    "        z_random_latent_vectors=tf.random.normal([batch_size,self.latent_dim])\n",
    "        with tf.GradientTape() as tape:\n",
    "            generated_imgs=self.generator(z_random_latent_vectors)\n",
    "            fake_output=self.critic(generated_imgs)\n",
    "            g_loss=self.generator_loss(fake_output)\n",
    "            \n",
    "        # Get the gradients w.r.t the generator loss\n",
    "        gen_grads=tape.gradient(g_loss,self.generator.trainable_weights)\n",
    "        self.g_optimizer.apply_gradients(zip(gen_grads,self.generator.trainable_weights))\n",
    "        \n",
    "        self.c_loss_metric.update_state(c_loss)\n",
    "        self.g_loss_metric.update_state(g_loss)\n",
    "        return {'c_loss':self.c_loss_metric.result(),\"g_loss\":self.g_loss_metric.result()}"
   ]
  },
  {
   "cell_type": "code",
   "execution_count": 10,
   "id": "70d213c8",
   "metadata": {
    "id": "70d213c8"
   },
   "outputs": [],
   "source": [
    "K.backend.clear_session()"
   ]
  },
  {
   "cell_type": "code",
   "execution_count": 11,
   "id": "14ea71dc",
   "metadata": {
    "id": "14ea71dc"
   },
   "outputs": [],
   "source": [
    "wgan_gp=WGAN_GP(critic=critic,generator=generator,latent_dim=latent_dim)\n",
    "wgan_gp.compile(c_optimizer=K.optimizers.Adam( learning_rate=0.0002, beta_1=0.5, beta_2=0.9 ),\n",
    "                g_optimizer=K.optimizers.Adam(  learning_rate=0.0002, beta_1=0.5, beta_2=0.9 ))"
   ]
  },
  {
   "cell_type": "code",
   "execution_count": 11,
   "id": "cbc670d0",
   "metadata": {
    "id": "cbc670d0"
   },
   "outputs": [],
   "source": []
  },
  {
   "cell_type": "code",
   "execution_count": 12,
   "id": "2f0f7b9a",
   "metadata": {
    "id": "2f0f7b9a"
   },
   "outputs": [],
   "source": [
    "#wgan_gp.generator.summary()"
   ]
  },
  {
   "cell_type": "code",
   "execution_count": 13,
   "id": "48562796",
   "metadata": {
    "colab": {
     "base_uri": "https://localhost:8080/"
    },
    "id": "48562796",
    "outputId": "1139f702-1b9b-4ec8-e181-9a66034ae965"
   },
   "outputs": [
    {
     "name": "stdout",
     "output_type": "stream",
     "text": [
      "Epoch 1/100\n",
      "600/600 [==============================] - 60s 93ms/step - c_loss: -1.4512 - g_loss: -1.6426\n",
      "Epoch 2/100\n",
      "600/600 [==============================] - 56s 94ms/step - c_loss: -1.0249 - g_loss: 0.1820\n",
      "Epoch 3/100\n",
      "600/600 [==============================] - 56s 94ms/step - c_loss: -0.8888 - g_loss: 2.4732\n",
      "Epoch 4/100\n",
      "600/600 [==============================] - 56s 94ms/step - c_loss: -0.8604 - g_loss: 1.6785\n",
      "Epoch 5/100\n",
      "600/600 [==============================] - 57s 94ms/step - c_loss: -0.7758 - g_loss: -0.0123\n",
      "Epoch 6/100\n",
      "600/600 [==============================] - 56s 94ms/step - c_loss: -0.7375 - g_loss: -1.8377\n",
      "Epoch 7/100\n",
      "600/600 [==============================] - 57s 94ms/step - c_loss: -0.7130 - g_loss: -3.5757\n",
      "Epoch 8/100\n",
      "600/600 [==============================] - 56s 93ms/step - c_loss: -0.7310 - g_loss: -6.6672\n",
      "Epoch 9/100\n",
      "600/600 [==============================] - 56s 94ms/step - c_loss: -0.6937 - g_loss: -7.5175\n",
      "Epoch 10/100\n",
      "600/600 [==============================] - 56s 93ms/step - c_loss: -0.6774 - g_loss: -8.3701\n",
      "Epoch 11/100\n",
      "600/600 [==============================] - 56s 94ms/step - c_loss: -0.6545 - g_loss: -8.1911\n",
      "Epoch 12/100\n",
      "600/600 [==============================] - 56s 94ms/step - c_loss: -0.6520 - g_loss: -9.0324\n",
      "Epoch 13/100\n",
      "600/600 [==============================] - 55s 92ms/step - c_loss: -0.6375 - g_loss: -8.3365\n",
      "Epoch 14/100\n",
      "600/600 [==============================] - 55s 91ms/step - c_loss: -0.6064 - g_loss: -7.4555\n",
      "Epoch 15/100\n",
      "600/600 [==============================] - 55s 92ms/step - c_loss: -0.5880 - g_loss: -7.1919\n",
      "Epoch 16/100\n",
      "600/600 [==============================] - 56s 93ms/step - c_loss: -0.5898 - g_loss: -7.3048\n",
      "Epoch 17/100\n",
      "600/600 [==============================] - 56s 93ms/step - c_loss: -0.5603 - g_loss: -7.9376\n",
      "Epoch 18/100\n",
      "600/600 [==============================] - 55s 92ms/step - c_loss: -0.5575 - g_loss: -8.9283\n",
      "Epoch 19/100\n",
      "600/600 [==============================] - 56s 93ms/step - c_loss: -0.5691 - g_loss: -8.6580\n",
      "Epoch 20/100\n",
      "600/600 [==============================] - 56s 93ms/step - c_loss: -0.5393 - g_loss: -9.3061\n",
      "Epoch 21/100\n",
      "600/600 [==============================] - 55s 91ms/step - c_loss: -0.5368 - g_loss: -9.5338\n",
      "Epoch 22/100\n",
      "600/600 [==============================] - 55s 91ms/step - c_loss: -0.5224 - g_loss: -10.7391\n",
      "Epoch 23/100\n",
      "600/600 [==============================] - 55s 91ms/step - c_loss: -0.4979 - g_loss: -9.7101\n",
      "Epoch 24/100\n",
      "600/600 [==============================] - 55s 92ms/step - c_loss: -0.5095 - g_loss: -9.6841\n",
      "Epoch 25/100\n",
      "600/600 [==============================] - 56s 93ms/step - c_loss: -0.4925 - g_loss: -9.2779\n",
      "Epoch 26/100\n",
      "600/600 [==============================] - 55s 91ms/step - c_loss: -0.4829 - g_loss: -9.0380\n",
      "Epoch 27/100\n",
      "600/600 [==============================] - 55s 91ms/step - c_loss: -0.4878 - g_loss: -8.3702\n",
      "Epoch 28/100\n",
      "600/600 [==============================] - 54s 90ms/step - c_loss: -0.4710 - g_loss: -6.8102\n",
      "Epoch 29/100\n",
      "600/600 [==============================] - 55s 92ms/step - c_loss: -0.4822 - g_loss: -6.7493\n",
      "Epoch 30/100\n",
      "600/600 [==============================] - 55s 91ms/step - c_loss: -0.4645 - g_loss: -7.0116\n",
      "Epoch 31/100\n",
      "600/600 [==============================] - 55s 92ms/step - c_loss: -0.4701 - g_loss: -7.3968\n",
      "Epoch 32/100\n",
      "600/600 [==============================] - 55s 91ms/step - c_loss: -0.4575 - g_loss: -7.3361\n",
      "Epoch 33/100\n",
      "600/600 [==============================] - 54s 91ms/step - c_loss: -0.4586 - g_loss: -6.7446\n",
      "Epoch 34/100\n",
      "600/600 [==============================] - 55s 92ms/step - c_loss: -0.4451 - g_loss: -6.3086\n",
      "Epoch 35/100\n",
      "600/600 [==============================] - 56s 93ms/step - c_loss: -0.4540 - g_loss: -5.4631\n",
      "Epoch 36/100\n",
      "600/600 [==============================] - 56s 93ms/step - c_loss: -0.4348 - g_loss: -5.0108\n",
      "Epoch 37/100\n",
      "600/600 [==============================] - 56s 93ms/step - c_loss: -0.4313 - g_loss: -5.4196\n",
      "Epoch 38/100\n",
      "600/600 [==============================] - 56s 94ms/step - c_loss: -0.4367 - g_loss: -5.6931\n",
      "Epoch 39/100\n",
      "600/600 [==============================] - 55s 92ms/step - c_loss: -0.4157 - g_loss: -5.8603\n",
      "Epoch 40/100\n",
      "600/600 [==============================] - 55s 91ms/step - c_loss: -0.4221 - g_loss: -5.3132\n",
      "Epoch 41/100\n",
      "600/600 [==============================] - 54s 91ms/step - c_loss: -0.4264 - g_loss: -5.4715\n",
      "Epoch 42/100\n",
      "600/600 [==============================] - 55s 92ms/step - c_loss: -0.4181 - g_loss: -5.0369\n",
      "Epoch 43/100\n",
      "600/600 [==============================] - 55s 91ms/step - c_loss: -0.4164 - g_loss: -4.8955\n",
      "Epoch 44/100\n",
      "600/600 [==============================] - 55s 92ms/step - c_loss: -0.4013 - g_loss: -4.6744\n",
      "Epoch 45/100\n",
      "600/600 [==============================] - 56s 93ms/step - c_loss: -0.4015 - g_loss: -4.1939\n",
      "Epoch 46/100\n",
      "600/600 [==============================] - 56s 93ms/step - c_loss: -0.3951 - g_loss: -3.6647\n",
      "Epoch 47/100\n",
      "600/600 [==============================] - 55s 91ms/step - c_loss: -0.3970 - g_loss: -3.0620\n",
      "Epoch 48/100\n",
      "600/600 [==============================] - 55s 91ms/step - c_loss: -0.3828 - g_loss: -2.5479\n",
      "Epoch 49/100\n",
      "600/600 [==============================] - 55s 92ms/step - c_loss: -0.3934 - g_loss: -2.2903\n",
      "Epoch 50/100\n",
      "600/600 [==============================] - 56s 93ms/step - c_loss: -0.3782 - g_loss: -3.0545\n",
      "Epoch 51/100\n",
      "600/600 [==============================] - 56s 93ms/step - c_loss: -0.3834 - g_loss: -3.3829\n",
      "Epoch 52/100\n",
      "600/600 [==============================] - 55s 91ms/step - c_loss: -0.3806 - g_loss: -3.5951\n",
      "Epoch 53/100\n",
      "600/600 [==============================] - 55s 91ms/step - c_loss: -0.3662 - g_loss: -3.6788\n",
      "Epoch 54/100\n",
      "600/600 [==============================] - 55s 91ms/step - c_loss: -0.3701 - g_loss: -3.8973\n",
      "Epoch 55/100\n",
      "600/600 [==============================] - 55s 92ms/step - c_loss: -0.3597 - g_loss: -4.6342\n",
      "Epoch 56/100\n",
      "600/600 [==============================] - 55s 91ms/step - c_loss: -0.3680 - g_loss: -4.8347\n",
      "Epoch 57/100\n",
      "600/600 [==============================] - 55s 91ms/step - c_loss: -0.3586 - g_loss: -5.0312\n",
      "Epoch 58/100\n",
      "600/600 [==============================] - 55s 92ms/step - c_loss: -0.3509 - g_loss: -6.2983\n",
      "Epoch 59/100\n",
      "600/600 [==============================] - 55s 91ms/step - c_loss: -0.3431 - g_loss: -6.5023\n",
      "Epoch 60/100\n",
      "600/600 [==============================] - 56s 93ms/step - c_loss: -0.3483 - g_loss: -5.6348\n",
      "Epoch 61/100\n",
      "600/600 [==============================] - 55s 91ms/step - c_loss: -0.3595 - g_loss: -6.0288\n",
      "Epoch 62/100\n",
      "600/600 [==============================] - 55s 92ms/step - c_loss: -0.3623 - g_loss: -6.2887\n",
      "Epoch 63/100\n",
      "600/600 [==============================] - 56s 93ms/step - c_loss: -0.3494 - g_loss: -6.1749\n",
      "Epoch 64/100\n",
      "600/600 [==============================] - 56s 93ms/step - c_loss: -0.3673 - g_loss: -6.7970\n",
      "Epoch 65/100\n",
      "600/600 [==============================] - 55s 92ms/step - c_loss: -0.3681 - g_loss: -7.7247\n",
      "Epoch 66/100\n",
      "600/600 [==============================] - 55s 91ms/step - c_loss: -0.3476 - g_loss: -8.0005\n",
      "Epoch 67/100\n",
      "600/600 [==============================] - 55s 92ms/step - c_loss: -0.3477 - g_loss: -7.8742\n",
      "Epoch 68/100\n",
      "600/600 [==============================] - 55s 91ms/step - c_loss: -0.3448 - g_loss: -8.2957\n",
      "Epoch 69/100\n",
      "600/600 [==============================] - 55s 92ms/step - c_loss: -0.3570 - g_loss: -8.7243\n",
      "Epoch 70/100\n",
      "600/600 [==============================] - 56s 93ms/step - c_loss: -0.3520 - g_loss: -8.6308\n",
      "Epoch 71/100\n",
      "600/600 [==============================] - 55s 92ms/step - c_loss: -0.3504 - g_loss: -9.0851\n",
      "Epoch 72/100\n",
      "600/600 [==============================] - 55s 91ms/step - c_loss: -0.3500 - g_loss: -9.0236\n",
      "Epoch 73/100\n",
      "600/600 [==============================] - 55s 91ms/step - c_loss: -0.3475 - g_loss: -9.1062\n",
      "Epoch 74/100\n",
      "600/600 [==============================] - 55s 92ms/step - c_loss: -0.3307 - g_loss: -9.3237\n",
      "Epoch 75/100\n",
      "600/600 [==============================] - 56s 93ms/step - c_loss: -0.3565 - g_loss: -9.9562\n",
      "Epoch 76/100\n",
      "600/600 [==============================] - 55s 91ms/step - c_loss: -0.3372 - g_loss: -10.5855\n",
      "Epoch 77/100\n",
      "600/600 [==============================] - 56s 93ms/step - c_loss: -0.3432 - g_loss: -10.6508\n",
      "Epoch 78/100\n",
      "600/600 [==============================] - 56s 93ms/step - c_loss: -0.3377 - g_loss: -10.9111\n",
      "Epoch 79/100\n",
      "600/600 [==============================] - 56s 94ms/step - c_loss: -0.3352 - g_loss: -11.2350\n",
      "Epoch 80/100\n",
      "600/600 [==============================] - 56s 94ms/step - c_loss: -0.3251 - g_loss: -10.9605\n",
      "Epoch 81/100\n",
      "600/600 [==============================] - 56s 94ms/step - c_loss: -0.3195 - g_loss: -11.3065\n",
      "Epoch 82/100\n",
      "600/600 [==============================] - 55s 92ms/step - c_loss: -0.3316 - g_loss: -11.0055\n",
      "Epoch 83/100\n",
      "600/600 [==============================] - 55s 91ms/step - c_loss: -0.3289 - g_loss: -10.9947\n",
      "Epoch 84/100\n",
      "600/600 [==============================] - 55s 91ms/step - c_loss: -0.3283 - g_loss: -10.7157\n",
      "Epoch 85/100\n",
      "600/600 [==============================] - 54s 91ms/step - c_loss: -0.3147 - g_loss: -9.9078\n",
      "Epoch 86/100\n",
      "600/600 [==============================] - 54s 91ms/step - c_loss: -0.3165 - g_loss: -9.7666\n",
      "Epoch 87/100\n",
      "600/600 [==============================] - 55s 92ms/step - c_loss: -0.3098 - g_loss: -9.4176\n",
      "Epoch 88/100\n",
      "600/600 [==============================] - 55s 92ms/step - c_loss: -0.3180 - g_loss: -8.1303\n",
      "Epoch 89/100\n",
      "600/600 [==============================] - 55s 91ms/step - c_loss: -0.3170 - g_loss: -7.2947\n",
      "Epoch 90/100\n",
      "600/600 [==============================] - 56s 93ms/step - c_loss: -0.3328 - g_loss: -7.4222\n",
      "Epoch 91/100\n",
      "600/600 [==============================] - 55s 91ms/step - c_loss: -0.3214 - g_loss: -6.5949\n",
      "Epoch 92/100\n",
      "600/600 [==============================] - 55s 91ms/step - c_loss: -0.3158 - g_loss: -6.1956\n",
      "Epoch 93/100\n",
      "600/600 [==============================] - 54s 91ms/step - c_loss: -0.3019 - g_loss: -5.1714\n",
      "Epoch 94/100\n",
      "600/600 [==============================] - 54s 90ms/step - c_loss: -0.3106 - g_loss: -5.2314\n",
      "Epoch 95/100\n",
      "600/600 [==============================] - 55s 92ms/step - c_loss: -0.3056 - g_loss: -4.6180\n",
      "Epoch 96/100\n",
      "600/600 [==============================] - 56s 94ms/step - c_loss: -0.2965 - g_loss: -4.4986\n",
      "Epoch 97/100\n",
      "600/600 [==============================] - 56s 94ms/step - c_loss: -0.3027 - g_loss: -4.3323\n",
      "Epoch 98/100\n",
      "600/600 [==============================] - 56s 93ms/step - c_loss: -0.3003 - g_loss: -5.4237\n",
      "Epoch 99/100\n",
      "600/600 [==============================] - 56s 93ms/step - c_loss: -0.3019 - g_loss: -5.3225\n",
      "Epoch 100/100\n",
      "600/600 [==============================] - 56s 94ms/step - c_loss: -0.3053 - g_loss: -6.1335\n"
     ]
    },
    {
     "data": {
      "text/plain": [
       "<keras.callbacks.History at 0x7fcee00427d0>"
      ]
     },
     "execution_count": 13,
     "metadata": {},
     "output_type": "execute_result"
    }
   ],
   "source": [
    "wgan_gp.fit(x_train_d,epochs=100,batch_size=batch_size)"
   ]
  },
  {
   "cell_type": "code",
   "execution_count": 14,
   "id": "5ee37434",
   "metadata": {
    "colab": {
     "base_uri": "https://localhost:8080/",
     "height": 282
    },
    "id": "5ee37434",
    "outputId": "9ae05071-264e-4d27-e643-fab0ae9ba847"
   },
   "outputs": [
    {
     "data": {
      "text/plain": [
       "<matplotlib.image.AxesImage at 0x7fce603bc450>"
      ]
     },
     "execution_count": 14,
     "metadata": {},
     "output_type": "execute_result"
    },
    {
     "data": {
      "image/png": "[encoded data removed]",
      "text/plain": [
       "<Figure size 432x288 with 1 Axes>"
      ]
     },
     "metadata": {
      "needs_background": "light"
     },
     "output_type": "display_data"
    }
   ],
   "source": [
    "noise=tf.random.normal((1,latent_dim))\n",
    "gen=wgan_gp.generator.predict(noise)\n",
    "gen=tf.reshape(gen,(28,28))\n",
    "plt.imshow(gen)"
   ]
  },
  {
   "cell_type": "code",
   "execution_count": 15,
   "id": "fd26f28f",
   "metadata": {
    "id": "fd26f28f"
   },
   "outputs": [],
   "source": [
    "noise=tf.random.normal((10,latent_dim))\n",
    "imgs=wgan_gp.generator.predict(noise)\n"
   ]
  },
  {
   "cell_type": "code",
   "execution_count": 16,
   "id": "7e0a3163",
   "metadata": {
    "colab": {
     "base_uri": "https://localhost:8080/",
     "height": 130
    },
    "id": "7e0a3163",
    "outputId": "13e13a4a-cdfb-47c1-b9bb-843f9e986812"
   },
   "outputs": [
    {
     "data": {
      "image/png": "[encoded data removed]",
      "text/plain": [
       "<Figure size 1728x720 with 10 Axes>"
      ]
     },
     "metadata": {
      "needs_background": "light"
     },
     "output_type": "display_data"
    }
   ],
   "source": [
    "n=10\n",
    "plt.figure(figsize=(24,10))\n",
    "for i in range(n):\n",
    "  bx=plt.subplot(2,10,i+n+1)\n",
    "  plt.imshow(tf.squeeze(imgs[i]))\n",
    "  plt.axis('off')"
   ]
  },
  {
   "cell_type": "markdown",
   "id": "bbe3ee99",
   "metadata": {
    "id": "4qAYof7W-Oez"
   },
   "source": [
    "**Reference**\n",
    "- [WGAN-GP](https://arxiv.org/pdf/1704.00028.pdf)\n",
    "\n",
    "- [Keras](https://keras.io/examples/generative/wgan_gp/)"
   ]
  },
  {
   "cell_type": "code",
   "execution_count": null,
   "id": "6b600b4d",
   "metadata": {},
   "outputs": [],
   "source": []
  }
 ],
 "metadata": {
  "accelerator": "GPU",
  "colab": {
   "name": "WGAN_GP_fashion_mnist.ipynb",
   "provenance": []
  },
  "kernelspec": {
   "display_name": "Python 3 (ipykernel)",
   "language": "python",
   "name": "python3"
  },
  "language_info": {
   "codemirror_mode": {
    "name": "ipython",
    "version": 3
   },
   "file_extension": ".py",
   "mimetype": "text/x-python",
   "name": "python",
   "nbconvert_exporter": "python",
   "pygments_lexer": "ipython3",
   "version": "3.9.7"
  }
 },
 "nbformat": 4,
 "nbformat_minor": 5
}
