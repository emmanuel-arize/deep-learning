{
 "cells": [
  {
   "cell_type": "markdown",
   "id": "ba68ec19",
   "metadata": {},
   "source": [
    "# Autoencoders\n",
    "\n",
    "An autoencoder encodes the input distribution into a low-dimensional vector that is commonly referred to as the **latent representation or vector or code**. The decoder the decode or reconstruct the latent vector to recover the original input. Since the latent vector is a low-dimensional compressed representation of the input data, the output recovered by the decoder is only an approximation of the input. Given an image, an autoencoder first encodes the image into a lower dimensional latent representation, then decodes the latent representation back to the original image. Autoencoders are made up of two parts\n",
    "\n",
    "$\\bullet$ **An encoder network** that compresses the high-dimensional input data into a lower dimensional latent vector. Since the latent vector is of low dimension, the encoder is forced to prioritize which aspects or features of the input should be learn or copied. It often learns useful properties of the data.\n",
    "\n",
    "$\\bullet$ **A decoder network** tries to reconstructe or recover as close as possible the original input data from the latent vector .\n",
    "\n",
    "An autoencoder whose latent representation  dimension is less than the input dimension is called undercomplete and this forces the autoencoder to capture the most salient features of the training data\n"
   ]
  },
  {
   "cell_type": "markdown",
   "id": "bde12f73",
   "metadata": {},
   "source": [
    " The network is trained to minimize the loss\n",
    "The Autoencoder network is trained to obtain weights for the encoder and decoder that best minimizes the loss between the original input and the reconstruction of the input after it has passed through the encoder and decoder.\n",
    " \n",
    "\n",
    "x=input data\n",
    "z=latent vector\n",
    "\n",
    "$\\acute x=$reconstructed image\n",
    "encoder function $f$\n",
    "\n",
    "decoder function $g$\n",
    "\n",
    "$z=f(x)$\n",
    "\n",
    "$\\acute x=g(z)= g(f(x))$\n",
    "\n",
    "$\\acute x \\approx x$\n"
   ]
  },
  {
   "cell_type": "markdown",
   "id": "cf8dc6f5",
   "metadata": {},
   "source": [
    "$\\bullet$ Types of autoencoders based on size of hidden layer\n",
    "\n",
    "**Undercomplete autoencoders** have hidden layer size smaller than input layer size. Dimension of embedded space or laten representation lower than that of input space\n",
    "\n",
    "**Overcomplete autoencoders** have much larger hidden layer size. Regularize to avoid overfitting."
   ]
  },
  {
   "cell_type": "markdown",
   "id": "15382383",
   "metadata": {},
   "source": [
    "The latent space of autoencoders are unconstrained and are often not continuous ( they us have larger regions in  the latent space that does not correspond to any valid image)"
   ]
  },
  {
   "cell_type": "code",
   "execution_count": null,
   "id": "39510387",
   "metadata": {},
   "outputs": [],
   "source": []
  },
  {
   "cell_type": "code",
   "execution_count": 1,
   "id": "81ac9cc8",
   "metadata": {},
   "outputs": [],
   "source": [
    "import matplotlib.pyplot as plt\n",
    "import numpy as np\n",
    "from tensorflow import keras as K\n",
    "import tensorflow as tf\n",
    "from tensorflow.keras.models import Model\n",
    "plt.rcParams['image.cmap']='gray'"
   ]
  },
  {
   "cell_type": "code",
   "execution_count": 2,
   "id": "eeaaa520",
   "metadata": {},
   "outputs": [
    {
     "data": {
      "text/plain": [
       "((60000, 28, 28), (10000, 28, 28))"
      ]
     },
     "execution_count": 2,
     "metadata": {},
     "output_type": "execute_result"
    }
   ],
   "source": [
    "(x_train, _), (x_test, _) = tf.keras.datasets.fashion_mnist.load_data()\n",
    "x_train = x_train.astype(np.float32) / 255.0\n",
    "x_test = x_test.astype(np.float32) / 255.0\n",
    "x_train.shape, x_test.shape\n"
   ]
  },
  {
   "cell_type": "code",
   "execution_count": 3,
   "id": "d0347468",
   "metadata": {},
   "outputs": [],
   "source": [
    "K.backend.clear_session()"
   ]
  },
  {
   "cell_type": "code",
   "execution_count": 4,
   "id": "cebe24f2",
   "metadata": {},
   "outputs": [],
   "source": [
    "latent_dim = 64"
   ]
  },
  {
   "cell_type": "code",
   "execution_count": 5,
   "id": "11990a64",
   "metadata": {},
   "outputs": [],
   "source": [
    "\n",
    "class Autoencoder(K.models.Model):\n",
    "    def __init__(self, latent_dim):\n",
    "        super(Autoencoder, self).__init__()\n",
    "        self.latent_dim = latent_dim   \n",
    "        self.encoder = K.Sequential([\n",
    "                                     K.layers.Flatten(),\n",
    "                                     K.layers.Dense(512, activation='relu'),\n",
    "                                     K.layers.Dense(latent_dim, activation='relu')\n",
    "                                     ])\n",
    "        self.decoder = K.Sequential([\n",
    "                                     K.layers.Dense(512, activation='relu'),\n",
    "                                     K.layers.Dense(784, activation='sigmoid'),\n",
    "                                     K.layers.Reshape((28, 28))\n",
    "                                     ])\n",
    "\n",
    "    def call(self, x):\n",
    "        latent_vector = self.encoder(x)\n",
    "        decoded = self.decoder(latent_vector)\n",
    "        return decoded\n",
    "    "
   ]
  },
  {
   "cell_type": "code",
   "execution_count": 6,
   "id": "27163ef7",
   "metadata": {},
   "outputs": [],
   "source": [
    "autoencoder = Autoencoder(latent_dim=32) "
   ]
  },
  {
   "cell_type": "code",
   "execution_count": 7,
   "id": "7b475269",
   "metadata": {},
   "outputs": [],
   "source": [
    "autoencoder.compile(optimizer='adam', loss=K.losses.mean_squared_error)"
   ]
  },
  {
   "cell_type": "code",
   "execution_count": 8,
   "id": "d773d405",
   "metadata": {},
   "outputs": [
    {
     "name": "stdout",
     "output_type": "stream",
     "text": [
      "Epoch 1/20\n",
      "1875/1875 [==============================] - 23s 12ms/step - loss: 0.0200 - val_loss: 0.0138\n",
      "Epoch 2/20\n",
      "1875/1875 [==============================] - 22s 12ms/step - loss: 0.0126 - val_loss: 0.0119\n",
      "Epoch 3/20\n",
      "1875/1875 [==============================] - 21s 11ms/step - loss: 0.0114 - val_loss: 0.0111\n",
      "Epoch 4/20\n",
      "1875/1875 [==============================] - 25s 13ms/step - loss: 0.0108 - val_loss: 0.0109\n",
      "Epoch 5/20\n",
      "1875/1875 [==============================] - 24s 13ms/step - loss: 0.0104 - val_loss: 0.0104\n",
      "Epoch 6/20\n",
      "1875/1875 [==============================] - 23s 12ms/step - loss: 0.0101 - val_loss: 0.0102\n",
      "Epoch 7/20\n",
      "1875/1875 [==============================] - 22s 12ms/step - loss: 0.0099 - val_loss: 0.0100\n",
      "Epoch 8/20\n",
      "1875/1875 [==============================] - 23s 12ms/step - loss: 0.0097 - val_loss: 0.0099\n",
      "Epoch 9/20\n",
      "1875/1875 [==============================] - 24s 13ms/step - loss: 0.0095 - val_loss: 0.0097\n",
      "Epoch 10/20\n",
      "1875/1875 [==============================] - 23s 12ms/step - loss: 0.0094 - val_loss: 0.0096\n",
      "Epoch 11/20\n",
      "1875/1875 [==============================] - 23s 12ms/step - loss: 0.0093 - val_loss: 0.0096\n",
      "Epoch 12/20\n",
      "1875/1875 [==============================] - 23s 12ms/step - loss: 0.0092 - val_loss: 0.0095\n",
      "Epoch 13/20\n",
      "1875/1875 [==============================] - 23s 12ms/step - loss: 0.0091 - val_loss: 0.0095\n",
      "Epoch 14/20\n",
      "1875/1875 [==============================] - 23s 12ms/step - loss: 0.0090 - val_loss: 0.0093\n",
      "Epoch 15/20\n",
      "1875/1875 [==============================] - 23s 12ms/step - loss: 0.0090 - val_loss: 0.0093\n",
      "Epoch 16/20\n",
      "1875/1875 [==============================] - 24s 13ms/step - loss: 0.0089 - val_loss: 0.0093\n",
      "Epoch 17/20\n",
      "1875/1875 [==============================] - 23s 12ms/step - loss: 0.0089 - val_loss: 0.0094\n",
      "Epoch 18/20\n",
      "1875/1875 [==============================] - 23s 12ms/step - loss: 0.0088 - val_loss: 0.0091\n",
      "Epoch 19/20\n",
      "1875/1875 [==============================] - 22s 12ms/step - loss: 0.0088 - val_loss: 0.0092\n",
      "Epoch 20/20\n",
      "1875/1875 [==============================] - 22s 12ms/step - loss: 0.0088 - val_loss: 0.0092\n"
     ]
    },
    {
     "data": {
      "text/plain": [
       "<keras.callbacks.History at 0x22a0015ecd0>"
      ]
     },
     "execution_count": 8,
     "metadata": {},
     "output_type": "execute_result"
    }
   ],
   "source": [
    "autoencoder.fit(x_train, x_train,\n",
    "                epochs=20,\n",
    "                shuffle=True,\n",
    "                validation_data=(x_test, x_test))"
   ]
  },
  {
   "cell_type": "code",
   "execution_count": 9,
   "id": "aa454872",
   "metadata": {},
   "outputs": [],
   "source": [
    "decoded_imgs=autoencoder.predict(x_test)"
   ]
  },
  {
   "cell_type": "code",
   "execution_count": 10,
   "id": "bb78f521",
   "metadata": {},
   "outputs": [
    {
     "data": {
      "image/png": "[encoded data removed]",
      "text/plain": [
       "<Figure size 1440x288 with 20 Axes>"
      ]
     },
     "metadata": {
      "needs_background": "light"
     },
     "output_type": "display_data"
    }
   ],
   "source": [
    "n = 10\n",
    "plt.figure(figsize=(20, 4))\n",
    "for i in range(n):\n",
    "\n",
    "    # display original + noise\n",
    "    ax = plt.subplot(2, n, i + 1)\n",
    "    plt.title(\"original\")\n",
    "    plt.imshow(tf.squeeze(x_test[i]))\n",
    "    plt.gray()\n",
    "    ax.get_xaxis().set_visible(False)\n",
    "    ax.get_yaxis().set_visible(False)\n",
    "\n",
    "    # display reconstruction\n",
    "    bx = plt.subplot(2, n, i + n + 1)\n",
    "    plt.title(\"reconstructed\")\n",
    "    plt.imshow(tf.squeeze(decoded_imgs[i]))\n",
    "    plt.gray()\n",
    "    bx.get_xaxis().set_visible(False)\n",
    "    bx.get_yaxis().set_visible(False)\n",
    "plt.show()"
   ]
  },
  {
   "cell_type": "code",
   "execution_count": null,
   "id": "b686083e",
   "metadata": {},
   "outputs": [],
   "source": []
  },
  {
   "cell_type": "code",
   "execution_count": 11,
   "id": "6d1fe7ae",
   "metadata": {},
   "outputs": [],
   "source": [
    "K.backend.clear_session()"
   ]
  },
  {
   "cell_type": "code",
   "execution_count": 12,
   "id": "2bddb1b3",
   "metadata": {},
   "outputs": [],
   "source": [
    "x_train=x_train.reshape(-1,28,28,1)\n",
    "x_test=x_test.reshape(-1,28,28,1)\n"
   ]
  },
  {
   "cell_type": "code",
   "execution_count": 13,
   "id": "87cec7cc",
   "metadata": {},
   "outputs": [],
   "source": [
    "class AutoEncoder2(K.models.Model):\n",
    "    def __init__(self,latent_dim):\n",
    "        super().__init__()\n",
    "        self.latent_dim=latent_dim\n",
    "        self.encoder=K.models.Sequential([\n",
    "                                        K.layers.InputLayer(input_shape=(28, 28, 1)),\n",
    "                                        K.layers.Conv2D(32,kernel_size=2,padding='same',activation='relu'),\n",
    "                                        K.layers.Conv2D(32,kernel_size=2,strides=2,padding='same',activation='relu'),\n",
    "                                        K.layers.Conv2D(10,kernel_size=2,strides=2,padding='same',activation='relu'),\n",
    "                                        K.layers.Flatten(),\n",
    "                                        K.layers.Dense(self.latent_dim)\n",
    "                                        ])\n",
    "        self.decoder=K.models.Sequential([\n",
    "                                    K.layers.Dense(units=7*7*10,activation='relu'),\n",
    "                                    K.layers.Reshape(target_shape=( 7, 7, 10)),\n",
    "                                    K.layers.Conv2DTranspose(10,kernel_size=2,strides=2,padding='same',activation='relu'),\n",
    "                                    K.layers.Conv2DTranspose(32,kernel_size=2,strides=2,padding='same',activation='relu'),\n",
    "                                    K.layers.Conv2DTranspose(32,kernel_size=2,padding='same',activation='relu'),\n",
    "                                    K.layers.Conv2DTranspose(1,1,padding='same',activation='sigmoid')     \n",
    "                                     ])\n",
    "    def call(self,x):\n",
    "        latent_vector=self.encoder(x)\n",
    "        output=self.decoder(latent_vector)\n",
    "        return output\n",
    "    \n",
    "    \n",
    "autocencoder2=AutoEncoder2(latent_dim=latent_dim)"
   ]
  },
  {
   "cell_type": "code",
   "execution_count": 14,
   "id": "5294d61a",
   "metadata": {},
   "outputs": [],
   "source": [
    "autocencoder2.compile(optimizer='adam', loss=K.losses.mean_squared_error)"
   ]
  },
  {
   "cell_type": "code",
   "execution_count": 15,
   "id": "470ac931",
   "metadata": {},
   "outputs": [
    {
     "name": "stdout",
     "output_type": "stream",
     "text": [
      "Epoch 1/20\n",
      "1875/1875 [==============================] - 107s 56ms/step - loss: 0.0249 - val_loss: 0.0129\n",
      "Epoch 2/20\n",
      "1875/1875 [==============================] - 105s 56ms/step - loss: 0.0113 - val_loss: 0.0104\n",
      "Epoch 3/20\n",
      "1875/1875 [==============================] - 104s 56ms/step - loss: 0.0099 - val_loss: 0.0096\n",
      "Epoch 4/20\n",
      "1875/1875 [==============================] - 116s 62ms/step - loss: 0.0093 - val_loss: 0.0092\n",
      "Epoch 5/20\n",
      "1875/1875 [==============================] - 112s 60ms/step - loss: 0.0090 - val_loss: 0.0089\n",
      "Epoch 6/20\n",
      "1875/1875 [==============================] - 116s 62ms/step - loss: 0.0088 - val_loss: 0.0088\n",
      "Epoch 7/20\n",
      "1875/1875 [==============================] - 113s 60ms/step - loss: 0.0086 - val_loss: 0.0085\n",
      "Epoch 8/20\n",
      "1875/1875 [==============================] - 115s 61ms/step - loss: 0.0084 - val_loss: 0.0085\n",
      "Epoch 9/20\n",
      "1875/1875 [==============================] - 115s 61ms/step - loss: 0.0083 - val_loss: 0.0083\n",
      "Epoch 10/20\n",
      "1875/1875 [==============================] - 115s 61ms/step - loss: 0.0082 - val_loss: 0.0082\n",
      "Epoch 11/20\n",
      "1875/1875 [==============================] - 115s 61ms/step - loss: 0.0081 - val_loss: 0.0081\n",
      "Epoch 12/20\n",
      "1875/1875 [==============================] - 114s 61ms/step - loss: 0.0081 - val_loss: 0.0081\n",
      "Epoch 13/20\n",
      "1875/1875 [==============================] - 116s 62ms/step - loss: 0.0080 - val_loss: 0.0081\n",
      "Epoch 14/20\n",
      "1875/1875 [==============================] - 117s 62ms/step - loss: 0.0079 - val_loss: 0.0079\n",
      "Epoch 15/20\n",
      "1875/1875 [==============================] - 115s 61ms/step - loss: 0.0079 - val_loss: 0.0079\n",
      "Epoch 16/20\n",
      "1875/1875 [==============================] - 115s 61ms/step - loss: 0.0078 - val_loss: 0.0078\n",
      "Epoch 17/20\n",
      "1875/1875 [==============================] - 116s 62ms/step - loss: 0.0077 - val_loss: 0.0078\n",
      "Epoch 18/20\n",
      "1875/1875 [==============================] - 116s 62ms/step - loss: 0.0077 - val_loss: 0.0077\n",
      "Epoch 19/20\n",
      "1875/1875 [==============================] - 116s 62ms/step - loss: 0.0077 - val_loss: 0.0079\n",
      "Epoch 20/20\n",
      "1875/1875 [==============================] - 116s 62ms/step - loss: 0.0076 - val_loss: 0.0077\n"
     ]
    },
    {
     "data": {
      "text/plain": [
       "<keras.callbacks.History at 0x22a01596f70>"
      ]
     },
     "execution_count": 15,
     "metadata": {},
     "output_type": "execute_result"
    }
   ],
   "source": [
    "autocencoder2.fit(x_train, x_train,\n",
    "                epochs=20,\n",
    "                shuffle=True,\n",
    "                validation_data=(x_test, x_test))"
   ]
  },
  {
   "cell_type": "code",
   "execution_count": 16,
   "id": "dbdbcfac",
   "metadata": {},
   "outputs": [
    {
     "name": "stdout",
     "output_type": "stream",
     "text": [
      "Model: \"sequential\"\n",
      "_________________________________________________________________\n",
      " Layer (type)                Output Shape              Param #   \n",
      "=================================================================\n",
      " conv2d (Conv2D)             (None, 28, 28, 32)        160       \n",
      "                                                                 \n",
      " conv2d_1 (Conv2D)           (None, 14, 14, 32)        4128      \n",
      "                                                                 \n",
      " conv2d_2 (Conv2D)           (None, 7, 7, 10)          1290      \n",
      "                                                                 \n",
      " flatten (Flatten)           (None, 490)               0         \n",
      "                                                                 \n",
      " dense (Dense)               (None, 64)                31424     \n",
      "                                                                 \n",
      "=================================================================\n",
      "Total params: 37,002\n",
      "Trainable params: 37,002\n",
      "Non-trainable params: 0\n",
      "_________________________________________________________________\n"
     ]
    }
   ],
   "source": [
    "autocencoder2.encoder.summary()"
   ]
  },
  {
   "cell_type": "code",
   "execution_count": 17,
   "id": "adbe994b",
   "metadata": {},
   "outputs": [
    {
     "name": "stdout",
     "output_type": "stream",
     "text": [
      "Model: \"sequential_1\"\n",
      "_________________________________________________________________\n",
      " Layer (type)                Output Shape              Param #   \n",
      "=================================================================\n",
      " dense_1 (Dense)             (None, 490)               31850     \n",
      "                                                                 \n",
      " reshape (Reshape)           (None, 7, 7, 10)          0         \n",
      "                                                                 \n",
      " conv2d_transpose (Conv2DTra  (None, 14, 14, 10)       410       \n",
      " nspose)                                                         \n",
      "                                                                 \n",
      " conv2d_transpose_1 (Conv2DT  (None, 28, 28, 32)       1312      \n",
      " ranspose)                                                       \n",
      "                                                                 \n",
      " conv2d_transpose_2 (Conv2DT  (None, 28, 28, 32)       4128      \n",
      " ranspose)                                                       \n",
      "                                                                 \n",
      " conv2d_transpose_3 (Conv2DT  (None, 28, 28, 1)        33        \n",
      " ranspose)                                                       \n",
      "                                                                 \n",
      "=================================================================\n",
      "Total params: 37,733\n",
      "Trainable params: 37,733\n",
      "Non-trainable params: 0\n",
      "_________________________________________________________________\n"
     ]
    }
   ],
   "source": [
    "autocencoder2.decoder.summary()"
   ]
  },
  {
   "cell_type": "code",
   "execution_count": 18,
   "id": "c70d6fd7",
   "metadata": {},
   "outputs": [],
   "source": [
    "decoded_imgs=autocencoder2.predict(x_test)"
   ]
  },
  {
   "cell_type": "code",
   "execution_count": 19,
   "id": "9767ad22",
   "metadata": {},
   "outputs": [
    {
     "data": {
      "image/png": "[encoded data removed]",
      "text/plain": [
       "<Figure size 1440x288 with 20 Axes>"
      ]
     },
     "metadata": {
      "needs_background": "light"
     },
     "output_type": "display_data"
    }
   ],
   "source": [
    "n = 10\n",
    "plt.figure(figsize=(20, 4))\n",
    "for i in range(n):\n",
    "\n",
    "    # display original + noise\n",
    "    ax = plt.subplot(2, n, i + 1)\n",
    "    plt.title(\"original\")\n",
    "    plt.imshow(tf.squeeze(x_test[i]))\n",
    "    plt.gray()\n",
    "    ax.get_xaxis().set_visible(False)\n",
    "    ax.get_yaxis().set_visible(False)\n",
    "\n",
    "    # display reconstruction\n",
    "    bx = plt.subplot(2, n, i + n + 1)\n",
    "    plt.title(\"reconstructed\")\n",
    "    plt.imshow(tf.squeeze(decoded_imgs[i]))\n",
    "    plt.gray()\n",
    "    bx.get_xaxis().set_visible(False)\n",
    "    bx.get_yaxis().set_visible(False)\n",
    "plt.show()"
   ]
  },
  {
   "cell_type": "markdown",
   "id": "84460637",
   "metadata": {},
   "source": [
    "[Chapter 14: Autoencoders](https://www.deeplearningbook.org/contents/autoencoders.html)\n",
    "\n",
    "[Wikipedia-Autoencoder](https://en.wikipedia.org/wiki/Autoencoder)"
   ]
  },
  {
   "cell_type": "code",
   "execution_count": null,
   "id": "5356a8a5",
   "metadata": {},
   "outputs": [],
   "source": []
  }
 ],
 "metadata": {
  "kernelspec": {
   "display_name": "Python 3 (ipykernel)",
   "language": "python",
   "name": "python3"
  },
  "language_info": {
   "codemirror_mode": {
    "name": "ipython",
    "version": 3
   },
   "file_extension": ".py",
   "mimetype": "text/x-python",
   "name": "python",
   "nbconvert_exporter": "python",
   "pygments_lexer": "ipython3",
   "version": "3.9.7"
  }
 },
 "nbformat": 4,
 "nbformat_minor": 5
}
