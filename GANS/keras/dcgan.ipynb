{
 "cells": [
  {
   "cell_type": "markdown",
   "id": "ee3ccf97",
   "metadata": {},
   "source": [
    "# Deep Convolutional Generative Adversarial Networks\n",
    "The goal of GANs is to train a generator network $G(z)$ to capture the data distribution of the training dataset so as to \n",
    "generate fake samples from the data distribution, $P_{data}(x)$, by transforming vectors of noise $z$ as $\\acute x=P_{model}(x) = G(z)$"
   ]
  },
  {
   "cell_type": "markdown",
   "id": "9cd9355f",
   "metadata": {
    "id": "9cd9355f"
   },
   "source": [
    "\n",
    "GANs are deep neural networks architectures made up of two networks a generator network $G$ and a discriminator network $D$ which are simultaneously trained and arranged in competition with each other. The Generator $G$ is trained to capture the distribution of the training samples (real data) $P_{data}$ so as to generate fake samples that follow the distribution of the real samples which are indistinguishable from the real data (training) with the aim to minimize the probability of the discriminator to corrrectly distinguish fake data from the real ones. The discriminator is trained to maximize it probability of correctly assigning real label to real training samples and the fake label to the generated samples from  $G$."
   ]
  },
  {
   "cell_type": "markdown",
   "id": "e5422619",
   "metadata": {
    "id": "e5422619"
   },
   "source": [
    "The discriminator is a binary classifier to distinguish between real data assumd to have label $y=1$ and a\n",
    "fake data $y=0$.\n",
    "\n",
    "\n",
    "For $G$ to generate fake samples, the inputs $z$ to $G$ are randomly sampled from the model’s prior over the latent variables. It then applies the generator network $G$ to generate $\\acute x=G(z)$. The goal of the generator is to fool the discriminator by generating fake samples which are indistinguishable from the real data (training) by making $D$ detect that $D(G(z)) \\approx 1( real \\ data)$\n",
    "\n",
    "The discriminator strives to make $D(G(z)) \\approx 0$ while the generative strives to make $D(G(z)) \\approx 1$\n"
   ]
  },
  {
   "cell_type": "markdown",
   "id": "76079d72",
   "metadata": {
    "id": "76079d72"
   },
   "source": [
    "**Training objective of GANs**\n",
    "\n",
    "The discriminator is a binary classifier trained to distinguish between real data $x$ assumd to have lable $y=1$ and a\n",
    "fake data $\\acute x$ (from the generator) with lable $y=0$.The discriminator  is trained to minimize the binary cross-entropy loss\n",
    "\n",
    "$$ min_{D} \\{ -ylog D(x)-(1-y)log(1-D(x) \\} $$ \n",
    "\n",
    "\n",
    "For $G$ to generate fake samples, the inputs $z$ are randomly sampled from the model’s prior over the latent variables. It then applies the generator network $G$ to generate $\\acute x=G(z)$. The goal of the generator is to fool the discriminator by generating fake samples which are indistinguishable from the real data (training) by making $D$ detect that $D(G(z)) \\approx 1( real \\ data)$\n"
   ]
  },
  {
   "cell_type": "markdown",
   "id": "b614ad84",
   "metadata": {},
   "source": [
    "The generator $G$ is trained to maximize the cross-entropy loss when $y = 0$\n",
    "$$ max_{G}\\{- (1-y)log(1-D(G(Z))\\}=max_{G}\\{-log(1-D(G(z)) \\} $$\n",
    "\n",
    "If $G$ is generating fake samples which are indistinguishable from the real data, then $D(G(z)) ≈ 1$ leading to the above loss near 0. This results in the gradients being too small which affect the training of the  discriminator since the generator through it loss function does not provide enough gradient information to the discriminator to update it parameters.\n",
    " So commonly we minimize the following loss:\n",
    " \n",
    " $$ min_{G}\\{-ylogD(G(Z))\\}=max_{G}\\{-log D(G(z)) \\} $$\n",
    " \n",
    "which is just feed x′ = G(z) into the discriminator but giving label y = 1 "
   ]
  },
  {
   "cell_type": "markdown",
   "id": "06456e04",
   "metadata": {},
   "source": [
    "we Jointly train generator G and discriminator D with a minimax game\n",
    "\n",
    "\n",
    " $$ min_{D}max_{G} V(D,G)=-\\left[ E_{x \\sim P_{data}} log D(x)  + E_{z \\sim p(z)} log (1-D(G(z)) \\right] $$\n",
    "   "
   ]
  },
  {
   "cell_type": "code",
   "execution_count": null,
   "id": "73699e48",
   "metadata": {},
   "outputs": [],
   "source": []
  },
  {
   "cell_type": "code",
   "execution_count": 1,
   "id": "73fde0dc",
   "metadata": {
    "id": "73fde0dc"
   },
   "outputs": [],
   "source": [
    "import numpy as np\n",
    "import matplotlib.pyplot as plt\n",
    "import tensorflow as tf\n",
    "from tensorflow import keras as K\n",
    "from keras.datasets import fashion_mnist"
   ]
  },
  {
   "cell_type": "code",
   "execution_count": 2,
   "id": "d2c1bf01",
   "metadata": {
    "colab": {
     "base_uri": "https://localhost:8080/"
    },
    "id": "d2c1bf01",
    "outputId": "c071b595-7093-4674-d06b-11824dd7016a"
   },
   "outputs": [
    {
     "data": {
      "text/plain": [
       "('2.8.0', '2.8.0')"
      ]
     },
     "execution_count": 2,
     "metadata": {},
     "output_type": "execute_result"
    }
   ],
   "source": [
    "tf.random.set_seed(1000)\n",
    "np.random.seed(1000)\n",
    "plt.rcParams['image.cmap']='gray'\n",
    "K.__version__,tf.__version__"
   ]
  },
  {
   "cell_type": "code",
   "execution_count": 3,
   "id": "edb726d8",
   "metadata": {
    "colab": {
     "base_uri": "https://localhost:8080/"
    },
    "id": "edb726d8",
    "outputId": "cc0bc3d2-700d-4a32-9a7e-e06c462d1bac"
   },
   "outputs": [
    {
     "data": {
      "text/plain": [
       "((60000, 28, 28, 1), (10000, 28, 28, 1))"
      ]
     },
     "execution_count": 3,
     "metadata": {},
     "output_type": "execute_result"
    }
   ],
   "source": [
    "(x_train,y_train),(x_test,y_test)=fashion_mnist.load_data()\n",
    "x_train=x_train.astype(np.float32)/255.0\n",
    "x_test=x_test.astype(np.float32)/255.0\n",
    "x_train=x_train.reshape(60000, 28, 28,1)\n",
    "x_test=x_test.reshape(10000, 28, 28,1)\n",
    "x_train.shape,x_test.shape"
   ]
  },
  {
   "cell_type": "code",
   "execution_count": 4,
   "id": "77b0a667",
   "metadata": {
    "colab": {
     "base_uri": "https://localhost:8080/"
    },
    "id": "77b0a667",
    "outputId": "48324df8-55f8-4f7c-be37-30825fc418b8"
   },
   "outputs": [
    {
     "data": {
      "text/plain": [
       "(1.0, 0.0)"
      ]
     },
     "execution_count": 4,
     "metadata": {},
     "output_type": "execute_result"
    }
   ],
   "source": [
    "np.max(x_train[1]),np.min(x_train[1])"
   ]
  },
  {
   "cell_type": "code",
   "execution_count": 5,
   "id": "1175387c",
   "metadata": {
    "id": "1175387c"
   },
   "outputs": [],
   "source": [
    "latent_dim=100\n",
    "buffer_size=len(x_train)\n",
    "batch_size=100\n",
    "x_train_d=tf.data.Dataset.from_tensor_slices(x_train).shuffle(buffer_size).batch(batch_size)"
   ]
  },
  {
   "cell_type": "code",
   "execution_count": 6,
   "id": "dc481e27",
   "metadata": {
    "id": "dc481e27"
   },
   "outputs": [],
   "source": [
    "K.backend.clear_session()\n",
    "init_w=K.initializers.RandomNormal(mean=0,stddev=0.2)"
   ]
  },
  {
   "cell_type": "code",
   "execution_count": 7,
   "id": "563fe2b6",
   "metadata": {
    "id": "563fe2b6"
   },
   "outputs": [],
   "source": [
    "discriminator=K.models.Sequential([\n",
    "                     K.layers.InputLayer(input_shape=(28,28,1)),\n",
    "    \n",
    "                     K.layers.Conv2D(64,kernel_size=4,strides=2,padding='same'),\n",
    "                     K.layers.LeakyReLU(alpha=0.2),\n",
    "    \n",
    "                     K.layers.Conv2D(100,kernel_size=4,strides=2,padding='same'),\n",
    "                     K.layers.BatchNormalization(),\n",
    "                     K.layers.LeakyReLU(alpha=0.2),\n",
    "    \n",
    "                     K.layers.Flatten(),\n",
    "                     K.layers.Dropout(0.2),\n",
    "                     K.layers.Dense(1,activation='sigmoid')\n",
    "                                   ],name='discriminator')\n"
   ]
  },
  {
   "cell_type": "code",
   "execution_count": 8,
   "id": "bce2b1c7",
   "metadata": {
    "id": "bce2b1c7"
   },
   "outputs": [],
   "source": [
    "generator =K.Sequential( [\n",
    "        K.Input(shape=(latent_dim,)),\n",
    "        K.layers.Dense(8*8*100,use_bias=False),\n",
    "        K.layers.ReLU(),\n",
    "        K.layers.Reshape((8, 8, 100)),\n",
    "        K.layers.UpSampling2D(),\n",
    "    \n",
    "        K.layers.Conv2D(64, kernel_size=4, padding=\"same\",kernel_initializer=init_w,use_bias=False ),\n",
    "        K.layers.BatchNormalization(),\n",
    "        K.layers.ReLU(),\n",
    "        K.layers.Conv2DTranspose(128, kernel_size=4, strides=1, padding=\"same\",use_bias=False ),\n",
    "        K.layers.ReLU(),\n",
    "        \n",
    "        K.layers.Conv2D(128, kernel_size=4,  padding=\"same\",use_bias=False ),\n",
    "        K.layers.BatchNormalization(),\n",
    "        K.layers.ReLU(),\n",
    "       \n",
    "        K.layers.UpSampling2D(),\n",
    "    \n",
    "        K.layers.Conv2D(1, kernel_size=5, activation=\"tanh\",use_bias=False)\n",
    "                          ],'generator')"
   ]
  },
  {
   "cell_type": "code",
   "execution_count": 9,
   "id": "c4900025",
   "metadata": {
    "colab": {
     "base_uri": "https://localhost:8080/",
     "height": 282
    },
    "id": "c4900025",
    "outputId": "4f0c33cb-065b-40de-ed5f-2d46e39dd5dd"
   },
   "outputs": [
    {
     "data": {
      "text/plain": [
       "<matplotlib.image.AxesImage at 0x2748023a760>"
      ]
     },
     "execution_count": 9,
     "metadata": {},
     "output_type": "execute_result"
    },
    {
     "data": {
      "image/png": "[encoded data removed]",
      "text/plain": [
       "<Figure size 432x288 with 1 Axes>"
      ]
     },
     "metadata": {
      "needs_background": "light"
     },
     "output_type": "display_data"
    }
   ],
   "source": [
    "noise=tf.random.normal((1,latent_dim))\n",
    "gen=generator(noise,training=False  )\n",
    "d=tf.reshape(gen,(28,28))\n",
    "plt.imshow(d)"
   ]
  },
  {
   "cell_type": "code",
   "execution_count": 10,
   "id": "24c196dd",
   "metadata": {
    "colab": {
     "base_uri": "https://localhost:8080/"
    },
    "id": "24c196dd",
    "outputId": "9f74b3fb-3586-4260-ae27-7ce4666e2532"
   },
   "outputs": [
    {
     "data": {
      "text/plain": [
       "<tf.Tensor: shape=(1, 1), dtype=float32, numpy=array([[0.5098337]], dtype=float32)>"
      ]
     },
     "execution_count": 10,
     "metadata": {},
     "output_type": "execute_result"
    }
   ],
   "source": [
    "output=discriminator(gen)\n",
    "output"
   ]
  },
  {
   "cell_type": "markdown",
   "id": "d526a92f",
   "metadata": {
    "id": "d526a92f"
   },
   "source": [
    "![](./images/gan.svg)\n",
    "source [Generative Adversarial Networks](http://d2l.ai/chapter_generative-adversarial-networks/gan.html)"
   ]
  },
  {
   "cell_type": "code",
   "execution_count": 11,
   "id": "4412e3b0",
   "metadata": {
    "id": "4412e3b0"
   },
   "outputs": [],
   "source": [
    "class GAN(K.Model):\n",
    "    def __init__(self,discriminator,generator,latent_dim):\n",
    "        super(GAN,self).__init__()\n",
    "        self.discriminator=discriminator\n",
    "        self.generator=generator\n",
    "        self.latent_dim=latent_dim\n",
    "        self.d_loss_metric=K.metrics.Mean(name='d_loss')\n",
    "        self.g_loss_metric=K.metrics.Mean(name='g_loss')\n",
    "        self.bce=tf.keras.losses.BinaryCrossentropy( from_logits=True)\n",
    "    \n",
    "    def discriminator_loss(self,real_output,fake_output):\n",
    "        \n",
    "        real_loss=self.bce(tf.ones_like((real_output,)),real_output)\n",
    "        fake_loss=self.bce(tf.zeros_like((fake_output,)),fake_output) \n",
    "        total_loss=real_loss+fake_loss\n",
    "        return total_loss\n",
    "    \n",
    "    def generator_loss(self,fake_output):\n",
    "        fake_output_ones=tf.ones_like((fake_output,))\n",
    "        fake_loss=self.bce(fake_output_ones,fake_output)\n",
    "        return fake_loss\n",
    "        \n",
    "    def compile(self,g_optimizer,d_optimizer):\n",
    "        super(GAN,self).compile()\n",
    "        self.g_optimizer=g_optimizer\n",
    "        self.d_optimizer=d_optimizer\n",
    "        \n",
    "    @property\n",
    "    def metrics(self):\n",
    "        return [self.d_loss_metric,self.g_loss_metric]\n",
    "    \n",
    "    def train_step(self,real_data):\n",
    "        batch_size=tf.shape(real_data)[0]\n",
    "        z_random_latent_vectors=tf.random.normal(shape=(batch_size,self.latent_dim))\n",
    "        with tf.GradientTape() as tape:\n",
    "            fake_outputs=self.discriminator(self.generator(z_random_latent_vectors))\n",
    "            real_outputs=self.discriminator(real_data)\n",
    "            dis_loss=self.discriminator_loss(real_outputs,fake_outputs)\n",
    "        grads=tape.gradient(dis_loss,self.discriminator.trainable_weights)\n",
    "        self.d_optimizer.apply_gradients(zip(grads,self.discriminator.trainable_weights))  \n",
    "        \n",
    "        \n",
    "        z_random_latent_vectors=tf.random.normal(shape=(batch_size,self.latent_dim))\n",
    "        with tf.GradientTape() as tape:\n",
    "            fake_outputs=self.discriminator(self.generator(z_random_latent_vectors))\n",
    "            gen_loss=self.generator_loss(fake_outputs)\n",
    "        grads=tape.gradient(gen_loss,self.generator.trainable_weights)\n",
    "        self.g_optimizer.apply_gradients(zip(grads,self.generator.trainable_weights))\n",
    "    \n",
    "        self.d_loss_metric.update_state(dis_loss)\n",
    "        self.g_loss_metric.update_state(gen_loss)\n",
    "        return {'d_loss':self.d_loss_metric.result(),\"g_loss\":self.g_loss_metric.result()}\n",
    "           "
   ]
  },
  {
   "cell_type": "code",
   "execution_count": 12,
   "id": "32aee03b",
   "metadata": {
    "id": "32aee03b"
   },
   "outputs": [],
   "source": [
    "K.backend.clear_session()"
   ]
  },
  {
   "cell_type": "code",
   "execution_count": 13,
   "id": "866fade4",
   "metadata": {
    "id": "866fade4"
   },
   "outputs": [],
   "source": [
    "gan = GAN(discriminator=discriminator, generator=generator, latent_dim=latent_dim)\n",
    "gan.compile(d_optimizer=K.optimizers.Adam(1e-4 ), g_optimizer=K.optimizers.Adam(1e-4))"
   ]
  },
  {
   "cell_type": "code",
   "execution_count": 14,
   "id": "384572ad",
   "metadata": {
    "colab": {
     "base_uri": "https://localhost:8080/"
    },
    "id": "384572ad",
    "outputId": "0e868e1e-01df-487a-b620-0fe509a6d225"
   },
   "outputs": [
    {
     "name": "stdout",
     "output_type": "stream",
     "text": [
      "Model: \"generator\"\n",
      "_________________________________________________________________\n",
      " Layer (type)                Output Shape              Param #   \n",
      "=================================================================\n",
      " dense_1 (Dense)             (None, 6400)              640000    \n",
      "                                                                 \n",
      " re_lu (ReLU)                (None, 6400)              0         \n",
      "                                                                 \n",
      " reshape (Reshape)           (None, 8, 8, 100)         0         \n",
      "                                                                 \n",
      " up_sampling2d (UpSampling2D  (None, 16, 16, 100)      0         \n",
      " )                                                               \n",
      "                                                                 \n",
      " conv2d_2 (Conv2D)           (None, 16, 16, 64)        102400    \n",
      "                                                                 \n",
      " batch_normalization_1 (Batc  (None, 16, 16, 64)       256       \n",
      " hNormalization)                                                 \n",
      "                                                                 \n",
      " re_lu_1 (ReLU)              (None, 16, 16, 64)        0         \n",
      "                                                                 \n",
      " conv2d_transpose (Conv2DTra  (None, 16, 16, 128)      131072    \n",
      " nspose)                                                         \n",
      "                                                                 \n",
      " re_lu_2 (ReLU)              (None, 16, 16, 128)       0         \n",
      "                                                                 \n",
      " conv2d_3 (Conv2D)           (None, 16, 16, 128)       262144    \n",
      "                                                                 \n",
      " batch_normalization_2 (Batc  (None, 16, 16, 128)      512       \n",
      " hNormalization)                                                 \n",
      "                                                                 \n",
      " re_lu_3 (ReLU)              (None, 16, 16, 128)       0         \n",
      "                                                                 \n",
      " up_sampling2d_1 (UpSampling  (None, 32, 32, 128)      0         \n",
      " 2D)                                                             \n",
      "                                                                 \n",
      " conv2d_4 (Conv2D)           (None, 28, 28, 1)         3200      \n",
      "                                                                 \n",
      "=================================================================\n",
      "Total params: 1,139,584\n",
      "Trainable params: 1,139,200\n",
      "Non-trainable params: 384\n",
      "_________________________________________________________________\n"
     ]
    }
   ],
   "source": [
    "gan.generator.summary()"
   ]
  },
  {
   "cell_type": "code",
   "execution_count": null,
   "id": "1740859a",
   "metadata": {},
   "outputs": [],
   "source": [
    "gan.fit(x_train_d,epochs=100,batch_size=200)"
   ]
  },
  {
   "cell_type": "code",
   "execution_count": null,
   "id": "2653b481",
   "metadata": {},
   "outputs": [],
   "source": []
  },
  {
   "cell_type": "code",
   "execution_count": null,
   "id": "efc1130c",
   "metadata": {},
   "outputs": [],
   "source": []
  },
  {
   "cell_type": "code",
   "execution_count": 15,
   "id": "17f50f7e",
   "metadata": {
    "colab": {
     "base_uri": "https://localhost:8080/"
    },
    "id": "17f50f7e",
    "outputId": "00a6afe1-bc3a-4b1e-dc42-460c225de8d6"
   },
   "outputs": [
    {
     "metadata": {
      "tags": null
     },
     "name": "stdout",
     "output_type": "stream",
     "text": [
      "Epoch 1/100\n"
     ]
    },
    {
     "metadata": {
      "tags": null
     },
     "name": "stderr",
     "output_type": "stream",
     "text": [
      "/usr/local/lib/python3.7/dist-packages/tensorflow/python/util/dispatch.py:1082: UserWarning: \"`binary_crossentropy` received `from_logits=True`, but the `output` argument was produced by a sigmoid or softmax activation and thus does not represent logits. Was this intended?\"\n",
      "  return dispatch_target(*args, **kwargs)\n"
     ]
    },
    {
     "name": "stdout",
     "output_type": "stream",
     "text": [
      "600/600 [==============================] - 66s 101ms/step - d_loss: 0.8653 - g_loss: 3.3438\n",
      "Epoch 2/100\n",
      "600/600 [==============================] - 60s 100ms/step - d_loss: 1.3492 - g_loss: 0.7197\n",
      "Epoch 3/100\n",
      "600/600 [==============================] - 59s 99ms/step - d_loss: 1.3431 - g_loss: 0.7510\n",
      "Epoch 4/100\n",
      "600/600 [==============================] - 59s 99ms/step - d_loss: 1.3114 - g_loss: 0.7929\n",
      "Epoch 5/100\n",
      "600/600 [==============================] - 59s 98ms/step - d_loss: 1.2672 - g_loss: 0.8292\n",
      "Epoch 6/100\n",
      "600/600 [==============================] - 59s 98ms/step - d_loss: 1.2405 - g_loss: 0.9397\n",
      "Epoch 7/100\n",
      "600/600 [==============================] - 59s 98ms/step - d_loss: 1.2702 - g_loss: 0.8005\n",
      "Epoch 8/100\n",
      "600/600 [==============================] - 60s 99ms/step - d_loss: 1.1248 - g_loss: 1.0579\n",
      "Epoch 9/100\n",
      "600/600 [==============================] - 59s 98ms/step - d_loss: 1.2151 - g_loss: 0.8913\n",
      "Epoch 10/100\n",
      "600/600 [==============================] - 59s 99ms/step - d_loss: 1.0345 - g_loss: 1.1096\n",
      "Epoch 11/100\n",
      "600/600 [==============================] - 59s 98ms/step - d_loss: 1.1034 - g_loss: 1.0448\n",
      "Epoch 12/100\n",
      "600/600 [==============================] - 60s 99ms/step - d_loss: 1.1454 - g_loss: 1.0058\n",
      "Epoch 13/100\n",
      "600/600 [==============================] - 59s 99ms/step - d_loss: 1.0178 - g_loss: 1.1410\n",
      "Epoch 14/100\n",
      "600/600 [==============================] - 59s 98ms/step - d_loss: 0.7691 - g_loss: 1.5290\n",
      "Epoch 15/100\n",
      "600/600 [==============================] - 59s 98ms/step - d_loss: 0.7187 - g_loss: 1.6169\n",
      "Epoch 16/100\n",
      "600/600 [==============================] - 59s 98ms/step - d_loss: 0.8516 - g_loss: 1.3632\n",
      "Epoch 17/100\n",
      "600/600 [==============================] - 60s 99ms/step - d_loss: 0.8774 - g_loss: 1.3335\n",
      "Epoch 18/100\n",
      "600/600 [==============================] - 59s 99ms/step - d_loss: 0.9419 - g_loss: 1.4060\n",
      "Epoch 19/100\n",
      "600/600 [==============================] - 59s 98ms/step - d_loss: 0.8126 - g_loss: 1.3821\n",
      "Epoch 20/100\n",
      "600/600 [==============================] - 59s 99ms/step - d_loss: 0.7291 - g_loss: 1.6039\n",
      "Epoch 21/100\n",
      "600/600 [==============================] - 60s 99ms/step - d_loss: 0.7560 - g_loss: 1.4782\n",
      "Epoch 22/100\n",
      "600/600 [==============================] - 60s 99ms/step - d_loss: 0.6451 - g_loss: 1.7012\n",
      "Epoch 23/100\n",
      "600/600 [==============================] - 59s 98ms/step - d_loss: 0.6348 - g_loss: 1.7967\n",
      "Epoch 24/100\n",
      "600/600 [==============================] - 59s 98ms/step - d_loss: 0.5517 - g_loss: 2.0193\n",
      "Epoch 25/100\n",
      "600/600 [==============================] - 60s 99ms/step - d_loss: 0.6256 - g_loss: 1.8650\n",
      "Epoch 26/100\n",
      "600/600 [==============================] - 60s 99ms/step - d_loss: 0.7262 - g_loss: 1.6630\n",
      "Epoch 27/100\n",
      "600/600 [==============================] - 59s 99ms/step - d_loss: 0.8624 - g_loss: 1.4470\n",
      "Epoch 28/100\n",
      "600/600 [==============================] - 60s 99ms/step - d_loss: 0.9103 - g_loss: 1.3156\n",
      "Epoch 29/100\n",
      "600/600 [==============================] - 59s 99ms/step - d_loss: 1.0291 - g_loss: 1.2109\n",
      "Epoch 30/100\n",
      "600/600 [==============================] - 60s 99ms/step - d_loss: 0.9553 - g_loss: 1.1814\n",
      "Epoch 31/100\n",
      "600/600 [==============================] - 60s 100ms/step - d_loss: 0.9037 - g_loss: 1.2604\n",
      "Epoch 32/100\n",
      "600/600 [==============================] - 60s 99ms/step - d_loss: 0.8846 - g_loss: 1.2378\n",
      "Epoch 33/100\n",
      "600/600 [==============================] - 60s 100ms/step - d_loss: 0.9170 - g_loss: 1.2440\n",
      "Epoch 34/100\n",
      "600/600 [==============================] - 60s 100ms/step - d_loss: 0.9121 - g_loss: 1.2356\n",
      "Epoch 35/100\n",
      "600/600 [==============================] - 60s 99ms/step - d_loss: 0.8707 - g_loss: 1.3111\n",
      "Epoch 36/100\n",
      "600/600 [==============================] - 60s 100ms/step - d_loss: 0.8726 - g_loss: 1.2947\n",
      "Epoch 37/100\n",
      "600/600 [==============================] - 60s 100ms/step - d_loss: 0.8918 - g_loss: 1.2769\n",
      "Epoch 38/100\n",
      "600/600 [==============================] - 60s 100ms/step - d_loss: 0.9443 - g_loss: 1.2237\n",
      "Epoch 39/100\n",
      "600/600 [==============================] - 60s 99ms/step - d_loss: 0.9641 - g_loss: 1.1796\n",
      "Epoch 40/100\n",
      "600/600 [==============================] - 60s 100ms/step - d_loss: 0.9754 - g_loss: 1.2153\n",
      "Epoch 41/100\n",
      "600/600 [==============================] - 60s 100ms/step - d_loss: 0.8993 - g_loss: 1.3053\n",
      "Epoch 42/100\n",
      "600/600 [==============================] - 60s 100ms/step - d_loss: 0.8848 - g_loss: 1.3021\n",
      "Epoch 43/100\n",
      "600/600 [==============================] - 60s 100ms/step - d_loss: 0.8972 - g_loss: 1.2989\n",
      "Epoch 44/100\n",
      "600/600 [==============================] - 60s 100ms/step - d_loss: 0.9279 - g_loss: 1.2583\n",
      "Epoch 45/100\n",
      "600/600 [==============================] - 60s 100ms/step - d_loss: 0.8943 - g_loss: 1.3073\n",
      "Epoch 46/100\n",
      "600/600 [==============================] - 60s 100ms/step - d_loss: 0.8631 - g_loss: 1.3708\n",
      "Epoch 47/100\n",
      "600/600 [==============================] - 60s 100ms/step - d_loss: 0.9009 - g_loss: 1.2875\n",
      "Epoch 48/100\n",
      "600/600 [==============================] - 60s 99ms/step - d_loss: 0.8798 - g_loss: 1.3339\n",
      "Epoch 49/100\n",
      "600/600 [==============================] - 60s 100ms/step - d_loss: 0.8342 - g_loss: 1.4212\n",
      "Epoch 50/100\n",
      "600/600 [==============================] - 60s 99ms/step - d_loss: 0.8623 - g_loss: 1.3905\n",
      "Epoch 51/100\n",
      "600/600 [==============================] - 60s 100ms/step - d_loss: 0.8636 - g_loss: 1.3497\n",
      "Epoch 52/100\n",
      "600/600 [==============================] - 60s 100ms/step - d_loss: 0.8462 - g_loss: 1.3783\n",
      "Epoch 53/100\n",
      "600/600 [==============================] - 60s 100ms/step - d_loss: 0.7875 - g_loss: 1.5037\n",
      "Epoch 54/100\n",
      "600/600 [==============================] - 60s 100ms/step - d_loss: 0.8614 - g_loss: 1.4026\n",
      "Epoch 55/100\n",
      "600/600 [==============================] - 60s 100ms/step - d_loss: 0.8224 - g_loss: 1.4208\n",
      "Epoch 56/100\n",
      "600/600 [==============================] - 60s 100ms/step - d_loss: 0.7945 - g_loss: 1.4677\n",
      "Epoch 57/100\n",
      "600/600 [==============================] - 60s 99ms/step - d_loss: 0.7715 - g_loss: 1.5221\n",
      "Epoch 58/100\n",
      "600/600 [==============================] - 60s 100ms/step - d_loss: 0.7376 - g_loss: 1.5564\n",
      "Epoch 59/100\n",
      "600/600 [==============================] - 60s 100ms/step - d_loss: 0.6902 - g_loss: 1.6878\n",
      "Epoch 60/100\n",
      "600/600 [==============================] - 60s 100ms/step - d_loss: 0.6645 - g_loss: 1.7221\n",
      "Epoch 61/100\n",
      "600/600 [==============================] - 60s 99ms/step - d_loss: 0.6135 - g_loss: 1.8343\n",
      "Epoch 62/100\n",
      "600/600 [==============================] - 60s 100ms/step - d_loss: 0.6119 - g_loss: 1.8647\n",
      "Epoch 63/100\n",
      "600/600 [==============================] - 60s 99ms/step - d_loss: 0.6758 - g_loss: 1.9293\n",
      "Epoch 64/100\n",
      "600/600 [==============================] - 60s 99ms/step - d_loss: 0.6260 - g_loss: 1.8203\n",
      "Epoch 65/100\n",
      "600/600 [==============================] - 60s 100ms/step - d_loss: 0.6323 - g_loss: 1.7930\n",
      "Epoch 66/100\n",
      "600/600 [==============================] - 60s 99ms/step - d_loss: 0.6173 - g_loss: 1.8116\n",
      "Epoch 67/100\n",
      "600/600 [==============================] - 60s 99ms/step - d_loss: 0.6575 - g_loss: 1.7808\n",
      "Epoch 68/100\n",
      "600/600 [==============================] - 60s 100ms/step - d_loss: 0.5919 - g_loss: 1.8514\n",
      "Epoch 69/100\n",
      "600/600 [==============================] - 60s 100ms/step - d_loss: 0.6140 - g_loss: 1.8343\n",
      "Epoch 70/100\n",
      "600/600 [==============================] - 60s 99ms/step - d_loss: 0.5829 - g_loss: 1.8357\n",
      "Epoch 71/100\n",
      "600/600 [==============================] - 60s 100ms/step - d_loss: 0.6096 - g_loss: 1.8202\n",
      "Epoch 72/100\n",
      "600/600 [==============================] - 60s 100ms/step - d_loss: 0.5606 - g_loss: 1.9274\n",
      "Epoch 73/100\n",
      "600/600 [==============================] - 60s 99ms/step - d_loss: 0.5239 - g_loss: 1.9887\n",
      "Epoch 74/100\n",
      "600/600 [==============================] - 60s 99ms/step - d_loss: 0.5525 - g_loss: 2.0404\n",
      "Epoch 75/100\n",
      "600/600 [==============================] - 60s 99ms/step - d_loss: 0.4601 - g_loss: 2.1695\n",
      "Epoch 76/100\n",
      "600/600 [==============================] - 60s 100ms/step - d_loss: 0.4380 - g_loss: 2.2642\n",
      "Epoch 77/100\n",
      "600/600 [==============================] - 60s 99ms/step - d_loss: 0.4453 - g_loss: 2.2359\n",
      "Epoch 78/100\n",
      "600/600 [==============================] - 60s 100ms/step - d_loss: 0.4060 - g_loss: 2.3310\n",
      "Epoch 79/100\n",
      "600/600 [==============================] - 60s 99ms/step - d_loss: 0.4174 - g_loss: 2.3590\n",
      "Epoch 80/100\n",
      "600/600 [==============================] - 60s 100ms/step - d_loss: 0.4712 - g_loss: 2.2335\n",
      "Epoch 81/100\n",
      "600/600 [==============================] - 60s 100ms/step - d_loss: 0.4209 - g_loss: 2.2904\n",
      "Epoch 82/100\n",
      "600/600 [==============================] - 60s 100ms/step - d_loss: 0.4106 - g_loss: 2.2760\n",
      "Epoch 83/100\n",
      "600/600 [==============================] - 60s 100ms/step - d_loss: 0.3822 - g_loss: 2.3734\n",
      "Epoch 84/100\n",
      "600/600 [==============================] - 60s 100ms/step - d_loss: 0.3928 - g_loss: 2.4215\n",
      "Epoch 85/100\n",
      "600/600 [==============================] - 60s 100ms/step - d_loss: 0.4083 - g_loss: 2.4471\n",
      "Epoch 86/100\n",
      "600/600 [==============================] - 60s 100ms/step - d_loss: 0.4011 - g_loss: 2.4994\n",
      "Epoch 87/100\n",
      "600/600 [==============================] - 60s 100ms/step - d_loss: 0.3952 - g_loss: 2.4391\n",
      "Epoch 88/100\n",
      "600/600 [==============================] - 60s 100ms/step - d_loss: 0.3480 - g_loss: 2.4743\n",
      "Epoch 89/100\n",
      "600/600 [==============================] - 60s 100ms/step - d_loss: 0.3408 - g_loss: 2.5287\n",
      "Epoch 90/100\n",
      "600/600 [==============================] - 60s 100ms/step - d_loss: 0.4128 - g_loss: 2.4798\n",
      "Epoch 91/100\n",
      "600/600 [==============================] - 60s 99ms/step - d_loss: 0.4068 - g_loss: 2.3584\n",
      "Epoch 92/100\n",
      "600/600 [==============================] - 60s 99ms/step - d_loss: 0.3884 - g_loss: 2.3798\n",
      "Epoch 93/100\n",
      "600/600 [==============================] - 60s 100ms/step - d_loss: 0.3705 - g_loss: 2.4120\n",
      "Epoch 94/100\n",
      "600/600 [==============================] - 60s 100ms/step - d_loss: 0.4330 - g_loss: 2.2530\n",
      "Epoch 95/100\n",
      "600/600 [==============================] - 60s 100ms/step - d_loss: 0.4997 - g_loss: 2.2120\n",
      "Epoch 96/100\n",
      "600/600 [==============================] - 60s 100ms/step - d_loss: 0.4518 - g_loss: 2.2699\n",
      "Epoch 97/100\n",
      "600/600 [==============================] - 60s 100ms/step - d_loss: 0.4481 - g_loss: 2.4158\n",
      "Epoch 98/100\n",
      "600/600 [==============================] - 60s 100ms/step - d_loss: 0.4575 - g_loss: 2.3244\n",
      "Epoch 99/100\n",
      "600/600 [==============================] - 60s 100ms/step - d_loss: 0.4191 - g_loss: 2.2895\n",
      "Epoch 100/100\n",
      "600/600 [==============================] - 60s 100ms/step - d_loss: 0.4552 - g_loss: 2.3112\n"
     ]
    },
    {
     "data": {
      "text/plain": [
       "<keras.callbacks.History at 0x7fe2e6be5dd0>"
      ]
     },
     "execution_count": 15,
     "metadata": {},
     "output_type": "execute_result"
    }
   ],
   "source": [
    "gan.fit(x_train_d,epochs=100,batch_size=200)"
   ]
  },
  {
   "cell_type": "code",
   "execution_count": 16,
   "id": "7eb1a178",
   "metadata": {
    "colab": {
     "base_uri": "https://localhost:8080/",
     "height": 282
    },
    "id": "7eb1a178",
    "outputId": "9f711c53-3b6b-4a4a-c161-0f9179ccb509"
   },
   "outputs": [
    {
     "data": {
      "text/plain": [
       "<matplotlib.image.AxesImage at 0x7fe1fa057dd0>"
      ]
     },
     "execution_count": 16,
     "metadata": {},
     "output_type": "execute_result"
    },
    {
     "data": {
      "image/png": "[encoded data removed]",
      "text/plain": [
       "<Figure size 432x288 with 1 Axes>"
      ]
     },
     "metadata": {
      "needs_background": "light"
     },
     "output_type": "display_data"
    }
   ],
   "source": [
    "noise=tf.random.normal((1,latent_dim))\n",
    "gen=gan.generator.predict(noise)\n",
    "gen=tf.reshape(gen,(28,28))\n",
    "plt.imshow(gen)"
   ]
  },
  {
   "cell_type": "code",
   "execution_count": 17,
   "id": "JC6Vp_qzyTsR",
   "metadata": {
    "id": "JC6Vp_qzyTsR"
   },
   "outputs": [],
   "source": [
    "noise=tf.random.normal((10,latent_dim))\n",
    "imgs=gan.generator.predict(noise)\n"
   ]
  },
  {
   "cell_type": "code",
   "execution_count": 19,
   "id": "IXiWGJwY01if",
   "metadata": {
    "colab": {
     "base_uri": "https://localhost:8080/",
     "height": 130
    },
    "id": "IXiWGJwY01if",
    "outputId": "1df0450a-cfab-4e9e-bdfc-062d9e82d4aa"
   },
   "outputs": [
    {
     "data": {
      "image/png": "[encoded data removed]",
      "text/plain": [
       "<Figure size 1728x720 with 10 Axes>"
      ]
     },
     "metadata": {
      "needs_background": "light"
     },
     "output_type": "display_data"
    }
   ],
   "source": [
    "n=10\n",
    "plt.figure(figsize=(24,10))\n",
    "for i in range(n):\n",
    "  bx=plt.subplot(2,10,i+n+1)\n",
    "  plt.imshow(tf.squeeze(imgs[i]))\n",
    "  plt.axis('off')"
   ]
  },
  {
   "cell_type": "markdown",
   "id": "ced09730",
   "metadata": {
    "id": "ced09730"
   },
   "source": [
    "  **REFERENCE**\n",
    "\n",
    "- [Generative Adversarial Networks](http://d2l.ai/chapter_generative-adversarial-networks/gan.html)\n",
    "\n",
    "- [Generative Adversarial Nets](https://arxiv.org/pdf/1406.2661.pdf)\n",
    "\n",
    "- [NIPS 2016 Tutorial: Generative Adversarial Networks](https://arxiv.org/pdf/1701.00160.pdf)"
   ]
  },
  {
   "cell_type": "code",
   "execution_count": 16,
   "id": "de3790b9",
   "metadata": {
    "id": "de3790b9"
   },
   "outputs": [],
   "source": []
  }
 ],
 "metadata": {
  "accelerator": "GPU",
  "colab": {
   "name": "dcgan.ipynb",
   "provenance": []
  },
  "kernelspec": {
   "display_name": "Python 3 (ipykernel)",
   "language": "python",
   "name": "python3"
  },
  "language_info": {
   "codemirror_mode": {
    "name": "ipython",
    "version": 3
   },
   "file_extension": ".py",
   "mimetype": "text/x-python",
   "name": "python",
   "nbconvert_exporter": "python",
   "pygments_lexer": "ipython3",
   "version": "3.9.7"
  }
 },
 "nbformat": 4,
 "nbformat_minor": 5
}
