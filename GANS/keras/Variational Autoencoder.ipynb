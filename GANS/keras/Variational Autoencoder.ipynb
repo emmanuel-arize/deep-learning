{
 "cells": [
  {
   "cell_type": "markdown",
   "id": "87d6ee57",
   "metadata": {},
   "source": [
    "# Variational Autoencoders (VAE)"
   ]
  },
  {
   "cell_type": "markdown",
   "id": "6c661322",
   "metadata": {},
   "source": [
    "VAE is made up of two sub-networks, the encoder and decoder. The encoder instead of compressing the input data to a fixed latent vector in the latent space, turns the input image into two parameters of statistical distributions, the mean $\\mu$ which represent the most likely position of the image in the latent space and the standard deviation $\\sigma$ which represent the size of the circular area around the position where the image could be. A random latent vector $z$ is then sampled from a latent normal distribution $P_{model}(z)$ from the encoder in each forward pass. The decoder then pick the sampled $z$ (a multivariate normal distribution) and tries to reconstructe $z$ as close as possible to the original input data. \n"
   ]
  },
  {
   "cell_type": "markdown",
   "id": "ba348d13",
   "metadata": {},
   "source": [
    "Let’s use $x$ as the vector representing the set of all observed variables. We assumed to be sample from an unknown underlying process, whose true (probability) distribution $P^{*}(x)$ is unknown. We chose a model $P(x)$ to approximate the unknow underlying process and the true distribution of the data $P^{*}(x)$ \n",
    "$$x \\sim P(x) \\approx P^{*}(x)$$\n",
    "\n",
    "\n",
    "Approximating the conditional density of the latent variable given observed variable $P(z|x)$ is intractable. So we pick a $Q(z|x)$  to estimate $P(z|x)$  with the intention of making $Q(z|x)$ as close as possible to the true posterior $P(z|x)$. In this case $Q(z|x)$ is taking to be a Gaussian distribution\n"
   ]
  },
  {
   "cell_type": "markdown",
   "id": "af2f2114",
   "metadata": {},
   "source": [
    "$P(x)$ the marginal likelihood\n",
    "\n",
    "$Q(z|x)=encoder$\n",
    "\n",
    "$P(x|z)=decoder$"
   ]
  },
  {
   "cell_type": "markdown",
   "id": "78d97161",
   "metadata": {},
   "source": [
    "\n",
    "**Reparameterizing the Sampling layer**\n",
    "\n",
    "Sampling $z$ directly from $z \\sim \\mathcal{N}(0,1)$ creates a bottleneck since gradients cannot flow back through a random sampling operation we cannot directly backpropagate gradients through the random variable z. In order to allow gradients to flow during backpropagation instead of directly sampling $z$ from the encoder output, we use a **Reparameterization trick** in which $z$ is approximated by\n",
    "\n",
    "\n",
    "$$z=\\mu +\\sigma \\odot \\epsilon  $$ where $$\\epsilon \\sim \\mathcal{N}(0,1)$$\n",
    "\n",
    "Instead of using the variance directly we the **log-var vector**\n",
    "\n",
    "$$log(\\sigma ^2) =2 log(\\sigma)$$\n",
    "$$ \\sigma=exp^{\\frac{log(\\sigma^2)}{2}}$$\n",
    "so $z$ becomes \n",
    "\n",
    "$$z=\\mu +exp^{\\frac{log(\\sigma^2)}{2}} \\odot \\epsilon  $$ \n",
    "\n",
    "Because $\\epsilon$ (random noise) is random process it ensures that points in the neighborhood where you encode the input image decode something similar to the imput image, thus ensuring meanful continuous distribution. Points in the neighborhood will decode to highly similar images "
   ]
  },
  {
   "cell_type": "markdown",
   "id": "9faa0e71",
   "metadata": {},
   "source": [
    "![](./images/gan1.jpg)"
   ]
  },
  {
   "cell_type": "markdown",
   "id": "bbdbd5c0",
   "metadata": {},
   "source": [
    "# LOSS\n",
    " Using a loss function we want to know the amount of information lost when we go from $x$ to $z$ then to $\\acute{x}$.VAE is trained via two losses, the **rconstruction loss** which measures how effective the decoder has learned to\n",
    "reconstruct $x$ given the latent representation $z$ and **regularization term**\n",
    "\n",
    "Loss= rconstruction loss  +   regularization term\n",
    "\n",
    "$$P(𝑥, 𝑧) = P(𝑥 |𝑧) P (𝑧) = P (𝑧|𝑥) P(𝑥)$$\n",
    "\n",
    "Applying bayes' Rule\n",
    "\n",
    "$$P(x)=\\frac{P(x|z)P(z)}{P(z|x)}$$\n",
    "\n",
    "where $P(x|z)$ is computed using the decoder, $P(z)$ is the prior  latent vector distribution assumed to be a gaussian.\n",
    "Computing the true posterior $P(z|x)$ is intractable so we train another network called encoder $Q(z|x)$ to approximates the true but intractable posterior $P(z|x)$\n",
    "\n",
    "$$ Q(z|x) \\approx P(z|x)$$\n",
    "$$P(x)=\\frac{P(x|z)P(z)}{P(z|x)}$$\n",
    "\n",
    "Multiplying both  top and bottom by $Q(z|x)$ we get\n",
    "$$ P(x)=log \\ \\frac{P(x|z)P(z)}{P(z|x)} = \\frac{P(x|z)P(z) Q(z|x)}{P(z|x)Q(z|x)}$$\n",
    "\n",
    "$$log \\ P(x)=log \\ \\frac{P(x|z)P(z)}{P(z|x)} = log \\ \\frac{P(x|z)P(z) Q(z|x)}{P(z|x)Q(z|x)}$$\n",
    "\n"
   ]
  },
  {
   "cell_type": "markdown",
   "id": "3e606c5c",
   "metadata": {},
   "source": [
    "$$log \\ P(x) =log P(x|z) - \\ log \\frac{Q(z|x)}{P(z)} +  \\ log \\frac{Q(z|x)}{P(z|x)} $$\n",
    "**NOTE:**  $ log \\ P(x)=E_{z \\sim Q(z|x)}log \\ P(x)$\n",
    "$$log \\ P(x) =E_{z \\sim Q(z|x)} \\left[ log P(x|z) \\right] - E_{z \\sim Q(z|x)} \\left[ \\ log \\frac{Q(z|x)}{P(z)}\\right] +  E_{z \\sim Q(z|x)} \\left[\\ log \\frac{Q(z|x)}{P(z|x)} \\right]$$\n",
    "\n",
    "\n",
    "$$log \\ P(x) =E_{z \\sim Q(z|x)} \\left[ log P(x|z) \\right] - D_{KL}(Q(z|x)||P(z)+ \\ D_{KL}(Q(z|x)||P(z|x)  $$\n",
    "\n",
    "\n",
    "$E_{z \\sim Q(z|x)} \\left[ log P(x|z) \\right] $ is the data reconstruction error, $D_{KL}(Q(z|x)||P(z)$ is the KL divergence between the encoder network (the latent vector $z$ condition on the input $x$) and the prior and samples nwhich we assumed to be gaussian$z$  .\n",
    "\n",
    "\n",
    "$ D_{KL}(Q(z|x)||P(z|x) $ is the KL divergence between the encoder and posterior of decoder. Because $P(z|x)$ is intractable so we drop \n",
    "\n",
    "$ D_{KL}(Q(z|x)||P(z|x)$ and since $KL \\ge 0$, dropping $ D_{KL}(Q(z|x)||P(z|x) $  gives a lower bound on the data likelihood.\n",
    "\n",
    "$$log \\ P(x) \\ge E_{z \\sim Q(z|x)} \\left[ log P(x|z) \\right] - D_{KL}(Q(z|x)||P(z) $$\n"
   ]
  },
  {
   "cell_type": "markdown",
   "id": "dd0b0b00",
   "metadata": {},
   "source": [
    "From [Kullback–Leibler divergence](https://en.wikipedia.org/wiki/Kullback–Leibler_divergence)\n",
    "A special case, and a common quantity in variational inference, is the relative entropy between a diagonal multivariate normal, and a standard normal distribution (with zero mean and unit variance):\n",
    "\n",
    "$$D_{kL}(N(\\mu_i,\\sigma_i)||N(0,\\mathbb{1})=\\frac{1}{2}\\sum_i^{n}(1+\\sigma^2-\\mu^{2}-In(\\sigma^{2}))$$\n",
    "\n",
    "so in this tutorial \n",
    "\n",
    "**Loss=Binary cross entropy +$\\frac{1}{2}\\sum_i^{n}(1+\\sigma^2-\\mu^{2}-In(\\sigma^{2}))$**\n"
   ]
  },
  {
   "cell_type": "code",
   "execution_count": null,
   "id": "aa828c25",
   "metadata": {},
   "outputs": [],
   "source": []
  },
  {
   "cell_type": "code",
   "execution_count": 1,
   "id": "b6fa5142",
   "metadata": {},
   "outputs": [],
   "source": [
    "import matplotlib.pyplot as plt\n",
    "import numpy as np\n",
    "from tensorflow import keras as K\n",
    "import tensorflow as tf\n",
    "from tensorflow.keras.models import Model\n",
    "plt.rcParams['image.cmap']='gray'"
   ]
  },
  {
   "cell_type": "code",
   "execution_count": 2,
   "id": "1a470a24",
   "metadata": {},
   "outputs": [
    {
     "data": {
      "text/plain": [
       "((60000, 28, 28), (10000, 28, 28))"
      ]
     },
     "execution_count": 2,
     "metadata": {},
     "output_type": "execute_result"
    }
   ],
   "source": [
    "(x_train, _), (x_test, _) = tf.keras.datasets.fashion_mnist.load_data()\n",
    "x_train = x_train.astype(np.float32) / 255.0\n",
    "x_test = x_test.astype(np.float32) / 255.0\n",
    "x_train.shape, x_test.shape\n"
   ]
  },
  {
   "cell_type": "code",
   "execution_count": 3,
   "id": "f622922c",
   "metadata": {},
   "outputs": [],
   "source": [
    "x_train=x_train.reshape(-1,28,28,1)\n",
    "x_test=x_test.reshape(-1,28,28,1)\n"
   ]
  },
  {
   "cell_type": "code",
   "execution_count": 4,
   "id": "0e387ad8",
   "metadata": {},
   "outputs": [],
   "source": [
    "latent_dim=64"
   ]
  },
  {
   "cell_type": "code",
   "execution_count": 5,
   "id": "111972d9",
   "metadata": {},
   "outputs": [],
   "source": [
    "class VAE(K.models.Model):\n",
    "    def __init__(self,latent_dim):\n",
    "        super().__init__()\n",
    "        self.latent_dim=latent_dim\n",
    "        self.encoder=K.models.Sequential([ \n",
    "                          K.layers.InputLayer(input_shape=(28, 28, 1)),\n",
    "                          K.layers.Conv2D(72,kernel_size=2,padding='same',activation='relu'),\n",
    "                          K.layers.Conv2D(64,kernel_size=2,strides=2,padding='same',activation='relu'),\n",
    "                          K.layers.Conv2D(10,kernel_size=2,strides=2,padding='same',activation='relu'),\n",
    "                          K.layers.Flatten(),\n",
    "                          K.layers.Dense(70,activation='relu')\n",
    "                          ])\n",
    "        self.z_mean=K.layers.Dense(self.latent_dim,name='z_mean')\n",
    "        self.z_log_var=K.layers.Dense(self.latent_dim,name='z_log_var')\n",
    "        \n",
    "        self.decoder=K.models.Sequential([\n",
    "                          K.layers.InputLayer(input_shape=(self.latent_dim)),\n",
    "                          K.layers.Dense(units=7*7*10,activation='relu'),\n",
    "                          K.layers.Reshape(target_shape=( 7, 7, 10)),\n",
    "                          K.layers.Conv2DTranspose(10,kernel_size=2,strides=2,padding='same',activation='relu'),\n",
    "                          K.layers.Conv2DTranspose(64,kernel_size=2,strides=2,padding='same',activation='relu'),\n",
    "                          K.layers.Conv2DTranspose(72,kernel_size=2,padding='same',activation='relu'),\n",
    "                         K.layers.Conv2DTranspose(1,1,padding='same',activation='sigmoid')   \n",
    "                        ])\n",
    "        self.total_loss_tracker=K.metrics.Mean(name='total_loss')\n",
    "    \n",
    "    def Reparameterization(self,x):\n",
    "        z_mean=self.z_mean(x)\n",
    "        z_log_var=self.z_log_var(x)\n",
    "        batch = tf.shape(z_mean)[0]\n",
    "        dim = tf.shape(z_mean)[1]\n",
    "        epsilon = tf.random.normal(shape=(batch, dim))\n",
    "        return z_mean,z_log_var,z_mean + tf.exp(0.5 * z_log_var) * epsilon\n",
    "\n",
    "    @property\n",
    "    def metrics(self):\n",
    "        return [\n",
    "            self.total_loss_tracker\n",
    "        ]\n",
    "        \n",
    "    def train_step(self,data):\n",
    "        with tf.GradientTape() as tape:\n",
    "            x=self.encoder(data)\n",
    "            z_mean,z_log_var,latent_vector=self.Reparameterization(x)\n",
    "            decoded_imgs=self.decoder(latent_vector)\n",
    "            kl_loss = -0.5 * tf.reduce_mean(z_log_var - tf.square(z_mean) - tf.exp(z_log_var) + 1)\n",
    "            #decoded_loss=K.losses.mean_squared_error(data,decoded_imgs)\n",
    "            decoded_loss=tf.reduce_mean(\n",
    "                tf.reduce_sum(K.losses.binary_crossentropy(data, decoded_imgs), axis=(1, 2)))\n",
    "            total_loss=decoded_loss+kl_loss\n",
    "        grads=tape.gradient(total_loss,self.trainable_weights)\n",
    "        self.optimizer.apply_gradients(zip(grads,self.trainable_weights))\n",
    "        self.total_loss_tracker.update_state(total_loss)\n",
    "        return {'loss':self.total_loss_tracker.result()}\n",
    "            \n",
    "   "
   ]
  },
  {
   "cell_type": "code",
   "execution_count": 6,
   "id": "3de76ab3",
   "metadata": {},
   "outputs": [],
   "source": [
    "K.backend.clear_session()"
   ]
  },
  {
   "cell_type": "code",
   "execution_count": 7,
   "id": "e57f0a3e",
   "metadata": {},
   "outputs": [],
   "source": [
    "vae1=VAE(latent_dim=latent_dim)"
   ]
  },
  {
   "cell_type": "code",
   "execution_count": 8,
   "id": "485770e1",
   "metadata": {},
   "outputs": [],
   "source": [
    "optimizer = tf.keras.optimizers.Adam()\n",
    "vae1.compile(optimizer)"
   ]
  },
  {
   "cell_type": "code",
   "execution_count": 9,
   "id": "fa76ce88",
   "metadata": {},
   "outputs": [
    {
     "name": "stdout",
     "output_type": "stream",
     "text": [
      "Epoch 1/20\n",
      "600/600 [==============================] - 219s 363ms/step - loss: 340.8910\n",
      "Epoch 2/20\n",
      "600/600 [==============================] - 206s 344ms/step - loss: 236.7808\n",
      "Epoch 3/20\n",
      "600/600 [==============================] - 204s 341ms/step - loss: 228.9292\n",
      "Epoch 4/20\n",
      "600/600 [==============================] - 203s 339ms/step - loss: 225.6666\n",
      "Epoch 5/20\n",
      "600/600 [==============================] - 202s 336ms/step - loss: 223.6172\n",
      "Epoch 6/20\n",
      "600/600 [==============================] - 202s 336ms/step - loss: 222.3537\n",
      "Epoch 7/20\n",
      "600/600 [==============================] - 204s 341ms/step - loss: 220.7224\n",
      "Epoch 8/20\n",
      "600/600 [==============================] - 207s 345ms/step - loss: 218.7815\n",
      "Epoch 9/20\n",
      "600/600 [==============================] - 202s 337ms/step - loss: 218.6388\n",
      "Epoch 10/20\n",
      "600/600 [==============================] - 206s 344ms/step - loss: 218.2490\n",
      "Epoch 11/20\n",
      "600/600 [==============================] - 205s 342ms/step - loss: 216.6559\n",
      "Epoch 12/20\n",
      "600/600 [==============================] - 205s 341ms/step - loss: 217.1548\n",
      "Epoch 13/20\n",
      "600/600 [==============================] - 206s 344ms/step - loss: 216.9428\n",
      "Epoch 14/20\n",
      "600/600 [==============================] - 205s 341ms/step - loss: 216.2205\n",
      "Epoch 15/20\n",
      "600/600 [==============================] - 208s 346ms/step - loss: 215.6530\n",
      "Epoch 16/20\n",
      "600/600 [==============================] - 206s 343ms/step - loss: 215.5566\n",
      "Epoch 17/20\n",
      "600/600 [==============================] - 207s 344ms/step - loss: 214.6911\n",
      "Epoch 18/20\n",
      "600/600 [==============================] - 207s 345ms/step - loss: 214.7159\n",
      "Epoch 19/20\n",
      "600/600 [==============================] - 209s 348ms/step - loss: 214.7449\n",
      "Epoch 20/20\n",
      "600/600 [==============================] - 209s 348ms/step - loss: 215.2880\n"
     ]
    },
    {
     "data": {
      "text/plain": [
       "<keras.callbacks.History at 0x1f518f9f760>"
      ]
     },
     "execution_count": 9,
     "metadata": {},
     "output_type": "execute_result"
    }
   ],
   "source": [
    "vae1.fit(x_train, epochs=20,batch_size=100)"
   ]
  },
  {
   "cell_type": "code",
   "execution_count": 10,
   "id": "c16d27f5",
   "metadata": {},
   "outputs": [],
   "source": [
    "x=vae1.encoder.predict(x_test)\n",
    "z_mu,z_sigma,encoded_imgs=vae1.Reparameterization(x)\n",
    "decoded_imgs=vae1.decoder.predict(encoded_imgs)"
   ]
  },
  {
   "cell_type": "code",
   "execution_count": 11,
   "id": "9664d787",
   "metadata": {},
   "outputs": [
    {
     "data": {
      "image/png": "[encoded data removed]",
      "text/plain": [
       "<Figure size 1440x288 with 20 Axes>"
      ]
     },
     "metadata": {
      "needs_background": "light"
     },
     "output_type": "display_data"
    }
   ],
   "source": [
    "n = 10\n",
    "plt.figure(figsize=(20, 4))\n",
    "for i in range(n):\n",
    "\n",
    "    # display original + noise\n",
    "    ax = plt.subplot(2, n, i + 1)\n",
    "    plt.title(\"original\")\n",
    "    plt.imshow(tf.squeeze(x_test[i]))\n",
    "    plt.gray()\n",
    "    ax.get_xaxis().set_visible(False)\n",
    "    ax.get_yaxis().set_visible(False)\n",
    "\n",
    "    # display reconstruction\n",
    "    bx = plt.subplot(2, n, i + n + 1)\n",
    "    plt.title(\"reconstructed\")\n",
    "    plt.imshow(tf.squeeze(decoded_imgs[i]))\n",
    "    plt.gray()\n",
    "    bx.get_xaxis().set_visible(False)\n",
    "    bx.get_yaxis().set_visible(False)\n",
    "plt.show()"
   ]
  },
  {
   "cell_type": "code",
   "execution_count": null,
   "id": "9a68dc99",
   "metadata": {},
   "outputs": [],
   "source": []
  },
  {
   "cell_type": "code",
   "execution_count": null,
   "id": "d571ece2",
   "metadata": {},
   "outputs": [],
   "source": []
  },
  {
   "cell_type": "markdown",
   "id": "9fb27a66",
   "metadata": {},
   "source": [
    "<b>References </b>\n",
    "\n",
    "-  [Evidence lower bound](https://en.wikipedia.org/wiki/Evidence_lower_bound)\n",
    "-  [Kullback–Leibler divergence](https://en.wikipedia.org/wiki/Kullback–Leibler_divergence)\n",
    "- [ Variational Bayesian methods](https://en.wikipedia.org/wiki/Variational_Bayesian_methods)\n",
    "- [Tutorial on Variational Autoencoders](https://arxiv.org/abs/1606.05908)\n",
    "- [An Introduction to Variational Autoencoders](https://arxiv.org/abs/1906.02691)\n",
    "- [Variational AutoEncoder (keras.io)](https://keras.io/examples/generative/vae/)\n",
    "- [VAE example from \"Writing custom layers and models\" guide (tensorflow.org)](https://www.tensorflow.org/guide/keras/custom_layers_and_models#putting_it_all_together_an_end-to-end_example)\n"
   ]
  },
  {
   "cell_type": "code",
   "execution_count": null,
   "id": "07f224e5",
   "metadata": {},
   "outputs": [],
   "source": []
  }
 ],
 "metadata": {
  "kernelspec": {
   "display_name": "Python 3 (ipykernel)",
   "language": "python",
   "name": "python3"
  },
  "language_info": {
   "codemirror_mode": {
    "name": "ipython",
    "version": 3
   },
   "file_extension": ".py",
   "mimetype": "text/x-python",
   "name": "python",
   "nbconvert_exporter": "python",
   "pygments_lexer": "ipython3",
   "version": "3.9.7"
  }
 },
 "nbformat": 4,
 "nbformat_minor": 5
}
