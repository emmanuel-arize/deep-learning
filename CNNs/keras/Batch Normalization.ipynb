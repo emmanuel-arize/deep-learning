{
 "cells": [
  {
   "cell_type": "markdown",
   "metadata": {
    "toc": true
   },
   "source": [
    "<h1>Table of Contents<span class=\"tocSkip\"></span></h1>\n",
    "<div class=\"toc\"><ul class=\"toc-item\"><li><span><a href=\"#Batch-Normalization\" data-toc-modified-id=\"Batch-Normalization-1\"><span class=\"toc-item-num\">1&nbsp;&nbsp;</span>Batch Normalization</a></span></li><li><span><a href=\"#Batch-Normalization-layer\" data-toc-modified-id=\"Batch-Normalization-layer-2\"><span class=\"toc-item-num\">2&nbsp;&nbsp;</span>Batch Normalization layer</a></span></li><li><span><a href=\"#Batch-Normalization-layer\" data-toc-modified-id=\"Batch-Normalization-layer-3\"><span class=\"toc-item-num\">3&nbsp;&nbsp;</span>Batch Normalization layer</a></span></li><li><span><a href=\"#LeNet-5-architecture\" data-toc-modified-id=\"LeNet-5-architecture-4\"><span class=\"toc-item-num\">4&nbsp;&nbsp;</span>LeNet-5 architecture</a></span></li></ul></div>"
   ]
  },
  {
   "cell_type": "markdown",
   "metadata": {},
   "source": [
    "## Batch Normalization\n",
    "## Batch Normalization layer\n",
    "\n",
    "Batch normalization layer is <b>used before the activation layer </b> (according to the authors' original paper), instead of after activation layer.\n",
    "\n",
    "<img src='../images/batch.jpg'>\n",
    "<p>Source: <a href='https://arxiv.org/pdf/1502.03167.pdf'>Batch Normalization: Accelerating Deep Network Training by Reducing Internal Covariate Shift</a></p>\n",
    "\n",
    " for more on Batch Normalization\n",
    "<p><a href='https://arxiv.org/pdf/1502.03167.pdf'>Batch Normalization: Accelerating Deep Network Training by Reducing Internal Covariate Shift</a></p>\n",
    "<p><a href='https://arxiv.org/pdf/1806.02375.pdf'>Understanding Batch Normalization</a></p>\n",
    "\n",
    "<p><a href=></a></p>"
   ]
  },
  {
   "cell_type": "code",
   "execution_count": 1,
   "metadata": {},
   "outputs": [],
   "source": [
    "import tensorflow as tf\n",
    "from tensorflow import keras\n",
    "from tensorflow.keras import layers\n",
    "from tensorflow.keras.datasets import mnist\n",
    "from tensorflow.keras.utils import to_categorical"
   ]
  },
  {
   "cell_type": "code",
   "execution_count": 2,
   "metadata": {},
   "outputs": [],
   "source": [
    "(train_images, train_labels), (test_images, test_labels) = mnist.load_data()"
   ]
  },
  {
   "cell_type": "code",
   "execution_count": 3,
   "metadata": {},
   "outputs": [],
   "source": [
    "train_images = train_images.reshape((60000, 28, 28, 1)).astype('float32')/255\n",
    "test_images = test_images.reshape((10000, 28, 28, 1)).astype('float32')/255\n",
    "train_labels = to_categorical(train_labels)\n",
    "test_labels = to_categorical(test_labels)"
   ]
  },
  {
   "cell_type": "markdown",
   "metadata": {},
   "source": [
    "\n",
    "## Batch Normalization layer\n",
    "\n",
    "Batch normalization layer is <b>used before the activation layer </b> (according to the authors' original paper), instead of after activation layer.\n",
    "\n",
    "\n",
    "## LeNet-5 architecture\n",
    "we are going to integrate batch normalization into the LeNet-5 architecture displayed below\n",
    "<img src='../images/lenet5.jpg'>\n",
    " (source: Hands-On Computer Vision with TensorFlow 2 (Leverage deep learning to create powerful image processing apps with TensorFlow 2.0 and Keras) by Benjamin Planche Eliot Andres page 94)\n",
    "  "
   ]
  },
  {
   "cell_type": "code",
   "execution_count": 4,
   "metadata": {},
   "outputs": [],
   "source": [
    "lenet=keras.models.Sequential([\n",
    "        layers.Conv2D(filters=6,kernel_size=5,padding='same',input_shape=(28,28,1)),\n",
    "        layers.BatchNormalization(),\n",
    "        layers.Activation('relu'),\n",
    "        layers.MaxPool2D(pool_size=2,strides=2),\n",
    "        layers.Conv2D(filters=16,kernel_size=5),\n",
    "        layers.BatchNormalization(),\n",
    "        layers.Activation('relu'),\n",
    "        layers.MaxPool2D(pool_size=2,strides=2),\n",
    "        layers.Flatten(),\n",
    "        layers.Dense(120),\n",
    "        layers.BatchNormalization(),\n",
    "        layers.Activation('relu'),\n",
    "        layers.Dense(84),\n",
    "        layers.BatchNormalization(),\n",
    "        layers.Activation('relu'),\n",
    "        layers.Dense(10),\n",
    "       layers.BatchNormalization(),\n",
    "        layers.Activation('softmax')\n",
    "    ])"
   ]
  },
  {
   "cell_type": "code",
   "execution_count": 5,
   "metadata": {},
   "outputs": [],
   "source": [
    "lenet.compile(optimizer='rmsprop',loss='categorical_crossentropy',metrics=['accuracy'])"
   ]
  },
  {
   "cell_type": "code",
   "execution_count": 6,
   "metadata": {},
   "outputs": [
    {
     "name": "stdout",
     "output_type": "stream",
     "text": [
      "Train on 60000 samples\n",
      "Epoch 1/6\n",
      "60000/60000 [==============================] - 54s 905us/sample - loss: 0.6238 - accuracy: 0.9080\n",
      "Epoch 2/6\n",
      "60000/60000 [==============================] - 55s 920us/sample - loss: 0.3338 - accuracy: 0.9783\n",
      "Epoch 3/6\n",
      "60000/60000 [==============================] - 64s 1ms/sample - loss: 0.2614 - accuracy: 0.9861\n",
      "Epoch 4/6\n",
      "60000/60000 [==============================] - 58s 961us/sample - loss: 0.2146 - accuracy: 0.9893\n",
      "Epoch 5/6\n",
      "60000/60000 [==============================] - 58s 967us/sample - loss: 0.1788 - accuracy: 0.9916\n",
      "Epoch 6/6\n",
      "60000/60000 [==============================] - 58s 968us/sample - loss: 0.1499 - accuracy: 0.9931\n"
     ]
    },
    {
     "data": {
      "text/plain": [
       "<tensorflow.python.keras.callbacks.History at 0x212306d6160>"
      ]
     },
     "execution_count": 6,
     "metadata": {},
     "output_type": "execute_result"
    }
   ],
   "source": [
    "lenet.fit(train_images,train_labels,batch_size=1000,epochs=6)"
   ]
  },
  {
   "cell_type": "code",
   "execution_count": 7,
   "metadata": {},
   "outputs": [
    {
     "name": "stdout",
     "output_type": "stream",
     "text": [
      "10000/10000 [==============================] - 3s 341us/sample - loss: 0.3164 - accuracy: 0.9752\n"
     ]
    }
   ],
   "source": [
    "test_loss, test_acc = lenet.evaluate(test_images, test_labels)"
   ]
  },
  {
   "cell_type": "code",
   "execution_count": 8,
   "metadata": {},
   "outputs": [
    {
     "name": "stdout",
     "output_type": "stream",
     "text": [
      "0.9752\n"
     ]
    }
   ],
   "source": [
    "print(test_acc)"
   ]
  },
  {
   "cell_type": "code",
   "execution_count": null,
   "metadata": {},
   "outputs": [],
   "source": []
  }
 ],
 "metadata": {
  "kernelspec": {
   "display_name": "Python 3 (ipykernel)",
   "language": "python",
   "name": "python3"
  },
  "language_info": {
   "codemirror_mode": {
    "name": "ipython",
    "version": 3
   },
   "file_extension": ".py",
   "mimetype": "text/x-python",
   "name": "python",
   "nbconvert_exporter": "python",
   "pygments_lexer": "ipython3",
   "version": "3.9.7"
  },
  "latex_envs": {
   "LaTeX_envs_menu_present": true,
   "autoclose": false,
   "autocomplete": true,
   "bibliofile": "biblio.bib",
   "cite_by": "apalike",
   "current_citInitial": 1,
   "eqLabelWithNumbers": true,
   "eqNumInitial": 1,
   "hotkeys": {
    "equation": "Ctrl-E",
    "itemize": "Ctrl-I"
   },
   "labels_anchors": false,
   "latex_user_defs": false,
   "report_style_numbering": false,
   "user_envs_cfg": false
  },
  "nbTranslate": {
   "displayLangs": [
    "*"
   ],
   "hotkey": "alt-t",
   "langInMainMenu": true,
   "sourceLang": "en",
   "targetLang": "fr",
   "useGoogleTranslate": true
  },
  "toc": {
   "base_numbering": 1,
   "nav_menu": {},
   "number_sections": true,
   "sideBar": true,
   "skip_h1_title": true,
   "title_cell": "Table of Contents",
   "title_sidebar": "Contents",
   "toc_cell": true,
   "toc_position": {},
   "toc_section_display": true,
   "toc_window_display": true
  }
 },
 "nbformat": 4,
 "nbformat_minor": 2
}
