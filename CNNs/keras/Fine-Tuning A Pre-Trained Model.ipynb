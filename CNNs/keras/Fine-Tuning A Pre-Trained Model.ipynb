{
 "cells": [
  {
   "cell_type": "markdown",
   "metadata": {
    "toc": true
   },
   "source": [
    "<h1>Table of Contents<span class=\"tocSkip\"></span></h1>\n",
    "<div class=\"toc\"><ul class=\"toc-item\"><li><span><a href=\"#Fine-tuning\" data-toc-modified-id=\"Fine-tuning-1\"><span class=\"toc-item-num\">1&nbsp;&nbsp;</span>Fine-tuning</a></span></li></ul></div>"
   ]
  },
  {
   "cell_type": "markdown",
   "metadata": {},
   "source": [
    "## Fine-tuning\n",
    " Fine-tuning consists of unfreezing a few of  the top layers of a frozen model base (pretrained model) and jointly training both the newly added part of the model (on top of the pretrained model).\n",
    " \n",
    "\n",
    " Thus the steps for fine-tuning a network are as follow\n",
    "    1. Add your custom network on top of an already-trained base network.\n",
    "    2. Freeze the base network.\n",
    "    3  Train the part you added.\n",
    "    4  Unfreeze some layers in the base network.\n",
    "    5  Jointly train both these layers and the part you added"
   ]
  },
  {
   "cell_type": "code",
   "execution_count": 1,
   "metadata": {},
   "outputs": [],
   "source": [
    "from tensorflow.keras.applications import ResNet50\n",
    "from tensorflow import keras\n",
    "from tensorflow.keras import layers"
   ]
  },
  {
   "cell_type": "code",
   "execution_count": 2,
   "metadata": {},
   "outputs": [],
   "source": [
    "conv_base=ResNet50(include_top=False,input_shape=(250,250,3))"
   ]
  },
  {
   "cell_type": "code",
   "execution_count": 10,
   "metadata": {},
   "outputs": [],
   "source": [
    "net=keras.Sequential([\n",
    "    conv_base,\n",
    "    layers.Flatten(),\n",
    "    layers.Dense(24,activation='relu'),\n",
    "    layers.Dropout(rate=0.4),\n",
    "    layers.Dense(1,activation='sigmoid')\n",
    "])"
   ]
  },
  {
   "cell_type": "markdown",
   "metadata": {},
   "source": [
    "we will fine-tune the last two convolutional layers, which means all layers up to\n",
    "conv5_block3_1_relu should be frozen and the layers conv5_block3_2_conv and conv5_block3_3_conv should be trainable\n"
   ]
  },
  {
   "cell_type": "code",
   "execution_count": 11,
   "metadata": {},
   "outputs": [],
   "source": [
    "conv_base.trainable=True\n",
    "layer_to_fine_tune=False\n",
    "for layer in conv_base.layers:\n",
    "    if layer.name=='conv5_block3_2_conv':\n",
    "        layer_to_fine_tune=True\n",
    "    if layer_to_fine_tune==True:\n",
    "        layer.trainable=True\n",
    "    if layer.name=='conv5_block3_3_conv':\n",
    "        layer_to_fine_tune=True\n",
    "    if layer_to_fine_tune==True:\n",
    "        layer.trainable=True\n",
    "    else:\n",
    "        layer.trainable=False\n",
    "    "
   ]
  },
  {
   "cell_type": "code",
   "execution_count": 12,
   "metadata": {},
   "outputs": [
    {
     "name": "stdout",
     "output_type": "stream",
     "text": [
      "The number of trainable weights after unfreezing conv5_block3_2_conv and conv5_block3_3_conv of the conv base: 12\n"
     ]
    }
   ],
   "source": [
    "print('The number of trainable weights after unfreezing conv5_block3_2_conv', \n",
    "      'and conv5_block3_3_conv of the conv base:',len(net.trainable_weights))"
   ]
  },
  {
   "cell_type": "markdown",
   "metadata": {},
   "source": [
    "Training  this network, only parameters of the unfrozen layers and that of the fully connected layers will be fine-tunned (updating)."
   ]
  },
  {
   "cell_type": "code",
   "execution_count": null,
   "metadata": {},
   "outputs": [],
   "source": []
  }
 ],
 "metadata": {
  "kernelspec": {
   "display_name": "Python 3",
   "language": "python",
   "name": "python3"
  },
  "language_info": {
   "codemirror_mode": {
    "name": "ipython",
    "version": 3
   },
   "file_extension": ".py",
   "mimetype": "text/x-python",
   "name": "python",
   "nbconvert_exporter": "python",
   "pygments_lexer": "ipython3",
   "version": "3.6.5"
  },
  "latex_envs": {
   "LaTeX_envs_menu_present": true,
   "autoclose": false,
   "autocomplete": true,
   "bibliofile": "biblio.bib",
   "cite_by": "apalike",
   "current_citInitial": 1,
   "eqLabelWithNumbers": true,
   "eqNumInitial": 1,
   "hotkeys": {
    "equation": "Ctrl-E",
    "itemize": "Ctrl-I"
   },
   "labels_anchors": false,
   "latex_user_defs": false,
   "report_style_numbering": false,
   "user_envs_cfg": false
  },
  "nbTranslate": {
   "displayLangs": [
    "*"
   ],
   "hotkey": "alt-t",
   "langInMainMenu": true,
   "sourceLang": "en",
   "targetLang": "fr",
   "useGoogleTranslate": true
  },
  "toc": {
   "base_numbering": 1,
   "nav_menu": {},
   "number_sections": true,
   "sideBar": true,
   "skip_h1_title": true,
   "title_cell": "Table of Contents",
   "title_sidebar": "Contents",
   "toc_cell": true,
   "toc_position": {},
   "toc_section_display": true,
   "toc_window_display": true
  }
 },
 "nbformat": 4,
 "nbformat_minor": 2
}
