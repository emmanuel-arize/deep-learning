{
 "cells": [
  {
   "cell_type": "markdown",
   "metadata": {},
   "source": [
    "$\\textbf{machine-learning algorithms }$ automatically find transformations that turn data into more-useful representations for a given task. Machine-learning algorithms aren’t usually creative in finding these transformations; they’re merely searching through a predefined set of operations, called a $\\textbf{hypothesis space}$.\n",
    "So that’s what machine learning does is, technically: searching for useful representations of some input data, within a predefined space of possibilities, using guidance from a feedback signal. \n",
    "\n",
    "$\\textbf{From the book Deep learning with python by François Chollet}$"
   ]
  },
  {
   "cell_type": "markdown",
   "metadata": {},
   "source": [
    "# CLASSIFICATION PROBLEM\n",
    " \n",
    "In the previious section we talked about regression which deals with quatitative target variable answering\n",
    "questions such as how much? or how many?. Regression problems include predicting the price of a house, the age of students and  the salary of an employee. \n",
    "\n",
    "\n",
    "$\\textbf{In practice, we are more often interested in making categorical assignments: asking not how much? but which one (boy or girl)?}$. We consider a problem to be a classification problem when dealing with qualitative (categorical) target variable with the aim of assigning an input described by vector x to one of the n discrete categories (class) $C_{i}$  where $i = 1,2 \\cdots,n$.\n",
    "\n",
    "\n",
    "A classifier is a map $f(x) \\rightarrow C_{i}$\n",
    "\n",
    "\n",
    "There are numerous classification methods that can be used to predict categorical outcomes, including logistic regression,\n",
    "support vector machines (SVM) ,decision trees and neural networks but in this example we will be using a generalization of logistic regression know as  multinomial logistic regression"
   ]
  },
  {
   "cell_type": "markdown",
   "metadata": {},
   "source": [
    "$\\textbf{multinomial logistic regression, also called softmax multinomial logistic regression}$\n",
    "\n",
    "$\\textbf{The multinomial logistic classifier uses a generalization of the sigmoid function called the softmax function}$ to handle multi-class classification problems. where $y_{i}=1, 2,---,N$ with N being the number of classes. It takes N-dimensional vector of arbitrary real values and produces another N-dimensional vector with real values.\n",
    "\n",
    "\n",
    "Given an input vector $O$, softmax first exponentiates (ensuring non-negativity)  $e^{O_{i}}$, forcing all values to be strictly positive then normalizes it by $\\sum_{j}exp(O_{j})$ so that all predicted values for an input sum to $\\textbf{1}$. \n",
    "Given as input vector the softmax function is defined as"
   ]
  },
  {
   "cell_type": "markdown",
   "metadata": {},
   "source": [
    " $$ \\hat y_{i} =spftmax(O_{i})= \\frac{exp(O_{i})}{\\sum_{j}exp(O_{j})}  $$\n",
    "Where $O=Wx+b$\n",
    "\n",
    "\n",
    "\n",
    "# NOTE THAT\n",
    "$\\textbf{the bias term is now a vector, with one component for each output node}$\n",
    "\n",
    "Generally if we are given a minibatch X of examples with dimensionality $d$ and batch size $n$\n",
    "and and have a target variable with q categories (outputs). Then\n",
    "the minibatch features $X \\in R^{n\\times d}$, weights $W \\in R^{d\\times q}$, and the bias satisfies $b\\in R^{q}$\n",
    "\n",
    "Using a dataset of 3 examples and 4 features $(X \\in R^{3 \\times 4})$ and with 3 possible output categories, we will need 12 scalars to represent the weights, ($ w \\in R^{4 \\times 3}$) and 3 scalars to represent the biases ($b \\in R^{3}$).\n",
    "We compute these three logits, $O_{1}, O_{2},$ and $O_{3}$, for each input:\n",
    "\n",
    "\n",
    "$$O_{1} =w_{11}x_{1} + w_{12}x_{2}+w_{13}x_{3}+w_{14}x_{4} +b_{1}     $$\n",
    "$$O_{2} =w_{21}x_{1} + w_{22}x_{2}+w_{23}x_{3}+w_{24}x_{4} +b_{2}     $$\n",
    "$$O_{3} =w_{31}x_{1} + w_{32}x_{2}+w_{33}x_{3}+w_{34}x_{4} +b_{3}     $$\n",
    "\n",
    "Using softmax function defined above the outputs for the $O_{i}$ will be\n",
    "\n",
    "$OUTPUT(O_{1})=\\frac{\\exp(O_{1})}{\\exp(O_{1} ) + \\exp(O_{2}) +\\exp(O_{3})},   OUTPUT(O_{2})=\\frac{\\exp(O_{2})}{\\exp(O_{1} )+\\exp(O_{2})   +     \\exp(O_{3})},  OUTPUT(O_{3})=\\frac{\\exp(O_{3})}{\\exp(O_{1} )+\\exp(O_{2}) +\\exp(O_{3})}$\n",
    "\n",
    "\n",
    "and with the predicted class being the class with the highest probability\n",
    "  $$predicted \\ class=argmax_{i} \\hat y(O_{i}) $$\n",
    "  \n",
    "  the softmax classifier output values within the range $[0, 1]$. the denominator normalizes the values which causes these class probabilities to sum up to one"
   ]
  },
  {
   "cell_type": "markdown",
   "metadata": {},
   "source": [
    "importing the needed packages "
   ]
  },
  {
   "cell_type": "code",
   "execution_count": 1,
   "metadata": {
    "ExecuteTime": {
     "end_time": "2020-07-09T14:08:58.688395Z",
     "start_time": "2020-07-09T14:08:49.617352Z"
    }
   },
   "outputs": [
    {
     "name": "stderr",
     "output_type": "stream",
     "text": [
      "Using TensorFlow backend.\n"
     ]
    }
   ],
   "source": [
    "from keras.datasets import mnist\n",
    "from keras.utils import to_categorical\n",
    "from keras import models,layers\n",
    "import numpy as np\n",
    "import matplotlib.pyplot as plt\n",
    "%matplotlib inline"
   ]
  },
  {
   "cell_type": "markdown",
   "metadata": {
    "ExecuteTime": {
     "end_time": "2020-06-14T23:12:19.180188Z",
     "start_time": "2020-06-14T23:12:19.176185Z"
    }
   },
   "source": [
    "# downloading the dataset"
   ]
  },
  {
   "cell_type": "code",
   "execution_count": 2,
   "metadata": {
    "ExecuteTime": {
     "end_time": "2020-07-09T14:08:59.215569Z",
     "start_time": "2020-07-09T14:08:58.693512Z"
    }
   },
   "outputs": [],
   "source": [
    "(train_images, train_labels), (test_images, test_labels) = mnist.load_data()"
   ]
  },
  {
   "cell_type": "markdown",
   "metadata": {},
   "source": [
    "train_images and train_labels form the training set, and is the data which will be used in training the model in order for the model parameters to learn from the data and find a beter representation of the data. The model will then be tested on the test set (test_images and test_labels) to see how good our model is on newly unseen but similar dataset"
   ]
  },
  {
   "cell_type": "code",
   "execution_count": 3,
   "metadata": {
    "ExecuteTime": {
     "end_time": "2020-07-09T14:09:00.147948Z",
     "start_time": "2020-07-09T14:09:00.135953Z"
    }
   },
   "outputs": [
    {
     "data": {
      "text/plain": [
       "3"
      ]
     },
     "execution_count": 3,
     "metadata": {},
     "output_type": "execute_result"
    }
   ],
   "source": [
    "train_images.data.ndim"
   ]
  },
  {
   "cell_type": "markdown",
   "metadata": {},
   "source": [
    "# shape of the training input data"
   ]
  },
  {
   "cell_type": "code",
   "execution_count": 4,
   "metadata": {
    "ExecuteTime": {
     "end_time": "2020-07-09T14:09:01.394480Z",
     "start_time": "2020-07-09T14:09:01.386501Z"
    }
   },
   "outputs": [
    {
     "data": {
      "text/plain": [
       "(60000, 28, 28)"
      ]
     },
     "execution_count": 4,
     "metadata": {},
     "output_type": "execute_result"
    }
   ],
   "source": [
    "train_images.data.shape"
   ]
  },
  {
   "cell_type": "markdown",
   "metadata": {},
   "source": [
    "# shape of the testingin put data"
   ]
  },
  {
   "cell_type": "code",
   "execution_count": 5,
   "metadata": {
    "ExecuteTime": {
     "end_time": "2020-07-09T14:09:02.008388Z",
     "start_time": "2020-07-09T14:09:02.000411Z"
    }
   },
   "outputs": [
    {
     "data": {
      "text/plain": [
       "(10000, 28, 28)"
      ]
     },
     "execution_count": 5,
     "metadata": {},
     "output_type": "execute_result"
    }
   ],
   "source": [
    "test_images.shape"
   ]
  },
  {
   "cell_type": "markdown",
   "metadata": {
    "ExecuteTime": {
     "end_time": "2020-06-22T22:47:17.826661Z",
     "start_time": "2020-06-22T22:47:17.822662Z"
    }
   },
   "source": [
    "### the labels are an array of digits, ranging from 0 to 9 with each digit representing a class (category)"
   ]
  },
  {
   "cell_type": "code",
   "execution_count": 6,
   "metadata": {
    "ExecuteTime": {
     "end_time": "2020-07-09T14:09:02.379997Z",
     "start_time": "2020-07-09T14:09:02.370999Z"
    }
   },
   "outputs": [
    {
     "data": {
      "text/plain": [
       "array([5, 0, 4, ..., 5, 6, 8], dtype=uint8)"
      ]
     },
     "execution_count": 6,
     "metadata": {},
     "output_type": "execute_result"
    }
   ],
   "source": [
    "train_labels"
   ]
  },
  {
   "cell_type": "markdown",
   "metadata": {},
   "source": [
    "### reshaping the data into a shape (m by n) acceptable for our model"
   ]
  },
  {
   "cell_type": "code",
   "execution_count": 7,
   "metadata": {
    "ExecuteTime": {
     "end_time": "2020-07-09T14:09:02.794684Z",
     "start_time": "2020-07-09T14:09:02.789684Z"
    }
   },
   "outputs": [],
   "source": [
    "train_images=train_images.reshape(60000, 28* 28)\n",
    "test_images=test_images.reshape(10000, 28* 28)"
   ]
  },
  {
   "cell_type": "code",
   "execution_count": 8,
   "metadata": {
    "ExecuteTime": {
     "end_time": "2020-07-09T14:09:03.139392Z",
     "start_time": "2020-07-09T14:09:03.129394Z"
    }
   },
   "outputs": [
    {
     "data": {
      "text/plain": [
       "(60000, 784)"
      ]
     },
     "execution_count": 8,
     "metadata": {},
     "output_type": "execute_result"
    }
   ],
   "source": [
    "train_images.shape"
   ]
  },
  {
   "cell_type": "code",
   "execution_count": 9,
   "metadata": {
    "ExecuteTime": {
     "end_time": "2020-07-09T14:09:03.227392Z",
     "start_time": "2020-07-09T14:09:03.223393Z"
    }
   },
   "outputs": [],
   "source": [
    "# uncomment and you will see that the data values is within 0-255\n",
    "#test_images[3]\n"
   ]
  },
  {
   "cell_type": "markdown",
   "metadata": {
    "ExecuteTime": {
     "end_time": "2020-06-14T23:53:07.580521Z",
     "start_time": "2020-06-14T23:53:07.564522Z"
    }
   },
   "source": [
    "### transform the inputs into float32 array  and since the data has values between  0-255 we will divide each value by 255 to have  values between 0 and 1"
   ]
  },
  {
   "cell_type": "code",
   "execution_count": 10,
   "metadata": {
    "ExecuteTime": {
     "end_time": "2020-07-09T14:09:03.879219Z",
     "start_time": "2020-07-09T14:09:03.530228Z"
    }
   },
   "outputs": [],
   "source": [
    "train_images=train_images.astype('float32') / 255\n",
    "test_images=test_images.astype('float32') / 255"
   ]
  },
  {
   "cell_type": "markdown",
   "metadata": {},
   "source": [
    "# Defining our model"
   ]
  },
  {
   "cell_type": "code",
   "execution_count": 11,
   "metadata": {
    "ExecuteTime": {
     "end_time": "2020-07-09T14:09:04.024246Z",
     "start_time": "2020-07-09T14:09:03.931267Z"
    }
   },
   "outputs": [],
   "source": [
    "\n",
    "network=models.Sequential([\n",
    "    # model will take as input arrays of shape(*,784) and outpot (*,505)\n",
    "    # will have 505*785 params\n",
    "    layers.Dense(505,activation='relu',input_shape=(784,),use_bias=True,bias_initializer='zeros'),\n",
    "    ## you don't need to specify the size of the input anymore after the first layer\n",
    "    # This layer automatically inferred its input shape as being the output shape of the layer that came before\n",
    "    # # will have 506*32 params\n",
    "    layers.Dense(32,activation='relu'),\n",
    "    # This layer automatically inferred its input shape as being the output shape of the layer that came before\n",
    "    ## # will have 33*10 params\n",
    "    layers.Dense(10,activation='softmax')\n",
    "    \n",
    "])\n"
   ]
  },
  {
   "cell_type": "markdown",
   "metadata": {},
   "source": [
    "### To train the neural network we\n",
    "#### A loss function—  defines the feedback signal used for learning (  measures  how well the model predictions match that of the true label)\n",
    "#### An optimizer—A mechanism to update the model parameters\n",
    "\n",
    "#### Metrics to monitor during training and testing—Here, we’ll only care about accuracy (the fraction of the images that were correctly classified)"
   ]
  },
  {
   "cell_type": "code",
   "execution_count": 12,
   "metadata": {
    "ExecuteTime": {
     "end_time": "2020-07-09T14:09:04.323532Z",
     "start_time": "2020-07-09T14:09:04.319529Z"
    }
   },
   "outputs": [],
   "source": [
    " #here 785 where dim 784 + b=1"
   ]
  },
  {
   "cell_type": "code",
   "execution_count": 13,
   "metadata": {
    "ExecuteTime": {
     "end_time": "2020-07-09T14:09:05.029982Z",
     "start_time": "2020-07-09T14:09:04.948983Z"
    }
   },
   "outputs": [],
   "source": [
    "network.compile(optimizer='rmsprop',loss='categorical_crossentropy',metrics=['accuracy'])"
   ]
  },
  {
   "cell_type": "code",
   "execution_count": 14,
   "metadata": {
    "ExecuteTime": {
     "end_time": "2020-07-09T14:09:05.053005Z",
     "start_time": "2020-07-09T14:09:05.034982Z"
    },
    "scrolled": true
   },
   "outputs": [
    {
     "name": "stdout",
     "output_type": "stream",
     "text": [
      "Model: \"sequential_1\"\n",
      "_________________________________________________________________\n",
      "Layer (type)                 Output Shape              Param #   \n",
      "=================================================================\n",
      "dense_1 (Dense)              (None, 505)               396425    \n",
      "_________________________________________________________________\n",
      "dense_2 (Dense)              (None, 32)                16192     \n",
      "_________________________________________________________________\n",
      "dense_3 (Dense)              (None, 10)                330       \n",
      "=================================================================\n",
      "Total params: 412,947\n",
      "Trainable params: 412,947\n",
      "Non-trainable params: 0\n",
      "_________________________________________________________________\n"
     ]
    }
   ],
   "source": [
    "network.summary()"
   ]
  },
  {
   "cell_type": "code",
   "execution_count": 15,
   "metadata": {
    "ExecuteTime": {
     "end_time": "2020-07-09T14:09:05.711369Z",
     "start_time": "2020-07-09T14:09:05.703378Z"
    }
   },
   "outputs": [
    {
     "data": {
      "text/plain": [
       "396425"
      ]
     },
     "execution_count": 15,
     "metadata": {},
     "output_type": "execute_result"
    }
   ],
   "source": [
    "505*785"
   ]
  },
  {
   "cell_type": "code",
   "execution_count": 2,
   "metadata": {
    "ExecuteTime": {
     "end_time": "2020-07-13T23:40:14.233975Z",
     "start_time": "2020-07-13T23:40:14.225973Z"
    }
   },
   "outputs": [
    {
     "data": {
      "text/plain": [
       "16192"
      ]
     },
     "execution_count": 2,
     "metadata": {},
     "output_type": "execute_result"
    }
   ],
   "source": [
    "506*32"
   ]
  },
  {
   "cell_type": "code",
   "execution_count": 16,
   "metadata": {
    "ExecuteTime": {
     "end_time": "2020-07-09T14:09:05.770367Z",
     "start_time": "2020-07-09T14:09:05.761374Z"
    }
   },
   "outputs": [
    {
     "data": {
      "text/plain": [
       "330"
      ]
     },
     "execution_count": 16,
     "metadata": {},
     "output_type": "execute_result"
    }
   ],
   "source": [
    "33*10"
   ]
  },
  {
   "cell_type": "markdown",
   "metadata": {},
   "source": [
    "### since the label is not encoded as categorical data type we need to convert it to categorical data type"
   ]
  },
  {
   "cell_type": "code",
   "execution_count": 17,
   "metadata": {
    "ExecuteTime": {
     "end_time": "2020-07-09T14:09:07.573331Z",
     "start_time": "2020-07-09T14:09:07.564338Z"
    }
   },
   "outputs": [],
   "source": [
    "train_labels = to_categorical(train_labels)\n",
    "test_labels = to_categorical(test_labels)"
   ]
  },
  {
   "cell_type": "code",
   "execution_count": 18,
   "metadata": {
    "ExecuteTime": {
     "end_time": "2020-07-09T14:09:12.096276Z",
     "start_time": "2020-07-09T14:09:12.089271Z"
    }
   },
   "outputs": [
    {
     "data": {
      "text/plain": [
       "(60000, 784)"
      ]
     },
     "execution_count": 18,
     "metadata": {},
     "output_type": "execute_result"
    }
   ],
   "source": [
    "train_images.shape"
   ]
  },
  {
   "cell_type": "code",
   "execution_count": 19,
   "metadata": {
    "ExecuteTime": {
     "end_time": "2020-07-09T14:09:12.692690Z",
     "start_time": "2020-07-09T14:09:12.686687Z"
    }
   },
   "outputs": [],
   "source": [
    "x_train,x_vdata,y_train,y_vdata=train_images[30000:], train_images[:30000], train_labels[30000:],train_labels[:30000]"
   ]
  },
  {
   "cell_type": "code",
   "execution_count": 20,
   "metadata": {
    "ExecuteTime": {
     "end_time": "2020-07-09T14:09:14.130682Z",
     "start_time": "2020-07-09T14:09:14.123683Z"
    }
   },
   "outputs": [
    {
     "data": {
      "text/plain": [
       "((30000, 784), (30000, 784), (30000, 10), (30000, 10))"
      ]
     },
     "execution_count": 20,
     "metadata": {},
     "output_type": "execute_result"
    }
   ],
   "source": [
    "x_vdata.shape,x_train.shape,y_train.shape,y_vdata.shape"
   ]
  },
  {
   "cell_type": "markdown",
   "metadata": {},
   "source": [
    "# training"
   ]
  },
  {
   "cell_type": "code",
   "execution_count": 21,
   "metadata": {
    "ExecuteTime": {
     "end_time": "2020-07-09T14:10:01.024149Z",
     "start_time": "2020-07-09T14:09:15.434989Z"
    }
   },
   "outputs": [
    {
     "name": "stdout",
     "output_type": "stream",
     "text": [
      "Train on 30000 samples, validate on 30000 samples\n",
      "Epoch 1/9\n",
      "30000/30000 [==============================] - 5s 160us/step - loss: 0.3475 - accuracy: 0.8974 - val_loss: 0.2010 - val_accuracy: 0.9410\n",
      "Epoch 2/9\n",
      "30000/30000 [==============================] - 5s 155us/step - loss: 0.1371 - accuracy: 0.9587 - val_loss: 0.1320 - val_accuracy: 0.9601\n",
      "Epoch 3/9\n",
      "30000/30000 [==============================] - 5s 179us/step - loss: 0.0874 - accuracy: 0.9738 - val_loss: 0.1092 - val_accuracy: 0.9666\n",
      "Epoch 4/9\n",
      "30000/30000 [==============================] - 5s 166us/step - loss: 0.0616 - accuracy: 0.9803 - val_loss: 0.1002 - val_accuracy: 0.9705\n",
      "Epoch 5/9\n",
      "30000/30000 [==============================] - 5s 171us/step - loss: 0.0441 - accuracy: 0.9865 - val_loss: 0.1024 - val_accuracy: 0.9714\n",
      "Epoch 6/9\n",
      "30000/30000 [==============================] - 5s 164us/step - loss: 0.0320 - accuracy: 0.9896 - val_loss: 0.1056 - val_accuracy: 0.9714\n",
      "Epoch 7/9\n",
      "30000/30000 [==============================] - 5s 159us/step - loss: 0.0247 - accuracy: 0.9919 - val_loss: 0.0992 - val_accuracy: 0.9748\n",
      "Epoch 8/9\n",
      "30000/30000 [==============================] - 5s 157us/step - loss: 0.0187 - accuracy: 0.9941 - val_loss: 0.1050 - val_accuracy: 0.9744\n",
      "Epoch 9/9\n",
      "30000/30000 [==============================] - 6s 191us/step - loss: 0.0133 - accuracy: 0.9962 - val_loss: 0.1323 - val_accuracy: 0.9700\n"
     ]
    }
   ],
   "source": [
    "results=network.fit(x_train,y_train,batch_size=100,validation_data=(x_vdata,y_vdata),epochs=9)"
   ]
  },
  {
   "cell_type": "code",
   "execution_count": 22,
   "metadata": {
    "ExecuteTime": {
     "end_time": "2020-07-09T14:10:01.037128Z",
     "start_time": "2020-07-09T14:10:01.031128Z"
    }
   },
   "outputs": [],
   "source": [
    "results=results.history"
   ]
  },
  {
   "cell_type": "code",
   "execution_count": 23,
   "metadata": {
    "ExecuteTime": {
     "end_time": "2020-07-09T14:10:01.071125Z",
     "start_time": "2020-07-09T14:10:01.046126Z"
    }
   },
   "outputs": [
    {
     "data": {
      "text/plain": [
       "dict_keys(['val_loss', 'val_accuracy', 'loss', 'accuracy'])"
      ]
     },
     "execution_count": 23,
     "metadata": {},
     "output_type": "execute_result"
    }
   ],
   "source": [
    "results.keys()"
   ]
  },
  {
   "cell_type": "code",
   "execution_count": 24,
   "metadata": {
    "ExecuteTime": {
     "end_time": "2020-07-09T14:10:07.860559Z",
     "start_time": "2020-07-09T14:10:07.574008Z"
    }
   },
   "outputs": [
    {
     "data": {
      "image/png": "[encoded data removed]",
      "text/plain": [
       "<Figure size 432x288 with 1 Axes>"
      ]
     },
     "metadata": {},
     "output_type": "display_data"
    }
   ],
   "source": [
    "val_loss=results['val_loss']\n",
    "train_loss=results['loss']\n",
    "epoch=np.arange(0,9,1)+1\n",
    "with plt.style.context('seaborn-colorblind'):\n",
    "    plt.plot(epoch,val_loss,'k^:',markersize=6,label='validation loss')\n",
    "    plt.plot(epoch,train_loss,'r-o',markersize=4,label='training loss')\n",
    "    plt.legend()\n",
    "    plt.xlabel('Epoch')\n",
    "    plt.ylabel('Loss')\n",
    "    plt.grid()\n"
   ]
  },
  {
   "cell_type": "code",
   "execution_count": 25,
   "metadata": {
    "ExecuteTime": {
     "end_time": "2020-07-09T14:10:16.098502Z",
     "start_time": "2020-07-09T14:10:15.747675Z"
    }
   },
   "outputs": [
    {
     "data": {
      "image/png": "[encoded data removed]",
      "text/plain": [
       "<Figure size 640x480 with 1 Axes>"
      ]
     },
     "metadata": {},
     "output_type": "display_data"
    }
   ],
   "source": [
    "val_acc=results['val_accuracy']\n",
    "train_acc=results['accuracy']\n",
    "epoch=np.arange(0,9,1)+1\n",
    "with plt.style.context('_classic_test'):\n",
    "    plt.plot(epoch,val_acc,'H-',markersize=6,label='validation accuracy')\n",
    "    plt.plot(epoch,train_acc,'m-*',markersize=4,label='training accuracy')\n",
    "    plt.legend(loc='lower right')\n",
    "    plt.xlabel('Epoch')\n",
    "    plt.ylabel('Accuracy')\n",
    "    plt.grid()\n"
   ]
  },
  {
   "cell_type": "markdown",
   "metadata": {},
   "source": [
    "# evaluating our model on the test data"
   ]
  },
  {
   "cell_type": "code",
   "execution_count": 26,
   "metadata": {
    "ExecuteTime": {
     "end_time": "2020-07-09T14:10:30.101919Z",
     "start_time": "2020-07-09T14:10:29.285185Z"
    }
   },
   "outputs": [
    {
     "name": "stdout",
     "output_type": "stream",
     "text": [
      "10000/10000 [==============================] - 1s 81us/step\n"
     ]
    }
   ],
   "source": [
    "test_loss, test_acc = network.evaluate(test_images, test_labels)"
   ]
  },
  {
   "cell_type": "code",
   "execution_count": 27,
   "metadata": {
    "ExecuteTime": {
     "end_time": "2020-07-09T14:10:30.915653Z",
     "start_time": "2020-07-09T14:10:30.909652Z"
    }
   },
   "outputs": [
    {
     "name": "stdout",
     "output_type": "stream",
     "text": [
      "0.9700999855995178\n"
     ]
    }
   ],
   "source": [
    "print(test_acc)"
   ]
  },
  {
   "cell_type": "code",
   "execution_count": null,
   "metadata": {},
   "outputs": [],
   "source": []
  },
  {
   "cell_type": "code",
   "execution_count": null,
   "metadata": {},
   "outputs": [],
   "source": []
  }
 ],
 "metadata": {
  "kernelspec": {
   "display_name": "Python 3 (ipykernel)",
   "language": "python",
   "name": "python3"
  },
  "language_info": {
   "codemirror_mode": {
    "name": "ipython",
    "version": 3
   },
   "file_extension": ".py",
   "mimetype": "text/x-python",
   "name": "python",
   "nbconvert_exporter": "python",
   "pygments_lexer": "ipython3",
   "version": "3.9.7"
  }
 },
 "nbformat": 4,
 "nbformat_minor": 2
}
