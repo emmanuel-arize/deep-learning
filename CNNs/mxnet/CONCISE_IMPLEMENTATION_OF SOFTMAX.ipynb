{
 "cells": [
  {
   "cell_type": "markdown",
   "metadata": {},
   "source": [
    "# MULTICLASS LOGISTIC REGRESSION (SOFTMAX) WITH GLUON"
   ]
  },
  {
   "cell_type": "code",
   "execution_count": 1,
   "metadata": {
    "ExecuteTime": {
     "end_time": "2020-08-16T20:40:36.801405Z",
     "start_time": "2020-08-16T20:40:29.086456Z"
    }
   },
   "outputs": [],
   "source": [
    "import mxnet as mx\n",
    "from mxnet import nd, autograd, gluon\n",
    "import numpy as np\n",
    "from mxnet.gluon import nn\n",
    "import matplotlib.pyplot as plt\n",
    "%matplotlib inline"
   ]
  },
  {
   "cell_type": "code",
   "execution_count": 2,
   "metadata": {
    "ExecuteTime": {
     "end_time": "2020-08-16T20:40:37.742458Z",
     "start_time": "2020-08-16T20:40:37.737457Z"
    }
   },
   "outputs": [],
   "source": [
    "data_ctx=mx.cpu\n",
    "model_ctx=mx.cpu"
   ]
  },
  {
   "cell_type": "code",
   "execution_count": 3,
   "metadata": {
    "ExecuteTime": {
     "end_time": "2020-08-16T20:40:37.798457Z",
     "start_time": "2020-08-16T20:40:37.793454Z"
    }
   },
   "outputs": [],
   "source": [
    "batch_size = 200\n",
    "num_inputs = 784\n",
    "num_outputs = 10\n",
    "num_examples = 60000"
   ]
  },
  {
   "cell_type": "markdown",
   "metadata": {},
   "source": [
    "### the code belows loads the load the data and transform both the inputs and labels to float32 array. Since the input data has values between 0-255 we will then divide each value by 255 to have values between 0 and 1"
   ]
  },
  {
   "cell_type": "code",
   "execution_count": 4,
   "metadata": {
    "ExecuteTime": {
     "end_time": "2020-08-16T20:40:39.023421Z",
     "start_time": "2020-08-16T20:40:38.188759Z"
    }
   },
   "outputs": [],
   "source": [
    "def transform(data,labels):\n",
    "    return data.astype('float32')/255, labels.astype('float32')\n",
    "train_data = mx.gluon.data.DataLoader(mx.gluon.data.vision.MNIST(train=True,transform=transform),batch_size, shuffle=True)\n",
    "test_data = mx.gluon.data.DataLoader(mx.gluon.data.vision.MNIST(train=False, transform=transform),batch_size, shuffle=False)"
   ]
  },
  {
   "cell_type": "markdown",
   "metadata": {},
   "source": [
    "### we first created a hybridsequential object name net then added a fully connected input,hidden and output layers"
   ]
  },
  {
   "cell_type": "code",
   "execution_count": 5,
   "metadata": {
    "ExecuteTime": {
     "end_time": "2020-08-16T20:40:39.040421Z",
     "start_time": "2020-08-16T20:40:39.028426Z"
    }
   },
   "outputs": [],
   "source": [
    "net=nn.HybridSequential()\n",
    "#net.add(nn.Dense(num_outputs))\n",
    "net.add(nn.Dense(units=50, activation='relu'))\n",
    "net.add(nn.Dense(units=30, activation='relu'))  # input layer\n",
    "net.add(nn.Dense(units=10, activation='relu'))   # inner layer 1\n",
    "net.add(nn.Dense(units=5, activation='relu'))   # inner layer 2\n",
    "net.add(nn.Dense(units=num_outputs)) "
   ]
  },
  {
   "cell_type": "markdown",
   "metadata": {},
   "source": [
    "#### initialized model parameters using Xavier initialization for weights designed to keep the scale of gradients roughly the same in all layers"
   ]
  },
  {
   "cell_type": "code",
   "execution_count": 6,
   "metadata": {
    "ExecuteTime": {
     "end_time": "2020-08-16T20:40:40.086545Z",
     "start_time": "2020-08-16T20:40:40.067542Z"
    }
   },
   "outputs": [],
   "source": [
    "net.initialize(mx.init.Xavier())"
   ]
  },
  {
   "cell_type": "code",
   "execution_count": 7,
   "metadata": {
    "ExecuteTime": {
     "end_time": "2020-08-16T20:40:40.401541Z",
     "start_time": "2020-08-16T20:40:40.390549Z"
    }
   },
   "outputs": [
    {
     "data": {
      "text/plain": [
       "<bound method Block.load_parameters of HybridSequential(\n",
       "  (0): Dense(None -> 50, Activation(relu))\n",
       "  (1): Dense(None -> 30, Activation(relu))\n",
       "  (2): Dense(None -> 10, Activation(relu))\n",
       "  (3): Dense(None -> 5, Activation(relu))\n",
       "  (4): Dense(None -> 10, linear)\n",
       ")>"
      ]
     },
     "execution_count": 7,
     "metadata": {},
     "output_type": "execute_result"
    }
   ],
   "source": [
    "net.load_parameters"
   ]
  },
  {
   "cell_type": "markdown",
   "metadata": {},
   "source": [
    "# loss function\n",
    "A loss function— defines the feedback signal used for learning ( measures how well the model predictions match that of the true label)"
   ]
  },
  {
   "cell_type": "code",
   "execution_count": 8,
   "metadata": {
    "ExecuteTime": {
     "end_time": "2020-08-16T20:40:41.125997Z",
     "start_time": "2020-08-16T20:40:41.120995Z"
    }
   },
   "outputs": [],
   "source": [
    "softmax_cross_entropy = gluon.loss.SoftmaxCrossEntropyLoss()"
   ]
  },
  {
   "cell_type": "markdown",
   "metadata": {},
   "source": [
    "# Optimizer\n",
    "An optimizer—A mechanism to update the model parameters\n",
    "\n",
    " we will use minibatch stochastic gradient descent with a learning rate of 0:5 as the optimization algorithm\n",
    " \n",
    "## NOTE\n",
    "The learning rate is tuning parameter which determines how big a step is taking along the gradient in order to find a better weight. A too high value will make the learning jump over the minima but smaller values slow it down and will take too long to converge"
   ]
  },
  {
   "cell_type": "code",
   "execution_count": 9,
   "metadata": {
    "ExecuteTime": {
     "end_time": "2020-08-16T20:40:41.902960Z",
     "start_time": "2020-08-16T20:40:41.898955Z"
    }
   },
   "outputs": [],
   "source": [
    "trainer=gluon.Trainer(net.collect_params(),'sgd',{'learning_rate':.005})"
   ]
  },
  {
   "cell_type": "markdown",
   "metadata": {},
   "source": [
    "# Evaluation metrics to evaluate the model"
   ]
  },
  {
   "cell_type": "code",
   "execution_count": 10,
   "metadata": {
    "ExecuteTime": {
     "end_time": "2020-08-16T20:40:42.975811Z",
     "start_time": "2020-08-16T20:40:42.968809Z"
    }
   },
   "outputs": [],
   "source": [
    "def evaluate_accuracy(data_iterator, net):\n",
    "    acc = mx.metric.Accuracy()\n",
    "    for i, (data, label) in enumerate(data_iterator):\n",
    "        data = data.reshape((-1,784))\n",
    "        output = net(data)\n",
    "        predictions = nd.argmax(output, axis=1)\n",
    "        acc.update(preds=predictions, labels=label)\n",
    "    return acc.get()[1]"
   ]
  },
  {
   "cell_type": "code",
   "execution_count": 11,
   "metadata": {
    "ExecuteTime": {
     "end_time": "2020-08-16T20:40:46.474438Z",
     "start_time": "2020-08-16T20:40:43.459462Z"
    }
   },
   "outputs": [
    {
     "data": {
      "text/plain": [
       "0.0566"
      ]
     },
     "execution_count": 11,
     "metadata": {},
     "output_type": "execute_result"
    }
   ],
   "source": [
    "evaluate_accuracy(test_data, net)"
   ]
  },
  {
   "cell_type": "markdown",
   "metadata": {},
   "source": [
    "# Training the model"
   ]
  },
  {
   "cell_type": "code",
   "execution_count": 13,
   "metadata": {
    "ExecuteTime": {
     "end_time": "2020-08-16T20:59:48.485717Z",
     "start_time": "2020-08-16T20:42:32.124785Z"
    }
   },
   "outputs": [
    {
     "name": "stdout",
     "output_type": "stream",
     "text": [
      "Epoch 0. Loss: 1.7671856048583985, Train_acc 0.40165, Test_acc 0.4058\n",
      "Epoch 1. Loss: 1.4748452819824218, Train_acc 0.5288, Test_acc 0.5365\n",
      "Epoch 2. Loss: 1.2058245745340983, Train_acc 0.58525, Test_acc 0.5932\n",
      "Epoch 3. Loss: 1.067651650238037, Train_acc 0.6362, Test_acc 0.6455\n",
      "Epoch 4. Loss: 0.9708314893086751, Train_acc 0.67795, Test_acc 0.6846\n",
      "Epoch 5. Loss: 0.8825159322102865, Train_acc 0.7253, Test_acc 0.729\n",
      "Epoch 6. Loss: 0.7936992226918539, Train_acc 0.7612166666666667, Test_acc 0.7625\n",
      "Epoch 7. Loss: 0.7153467735290527, Train_acc 0.7889833333333334, Test_acc 0.792\n",
      "Epoch 8. Loss: 0.6547603649139404, Train_acc 0.8078166666666666, Test_acc 0.8118\n",
      "Epoch 9. Loss: 0.6082843456268311, Train_acc 0.8213166666666667, Test_acc 0.8253\n",
      "Epoch 10. Loss: 0.5713245082855225, Train_acc 0.8331333333333333, Test_acc 0.8391\n",
      "Epoch 11. Loss: 0.5407689072926839, Train_acc 0.8435666666666667, Test_acc 0.8487\n",
      "Epoch 12. Loss: 0.5141581837972006, Train_acc 0.85055, Test_acc 0.854\n",
      "Epoch 13. Loss: 0.4909813482920329, Train_acc 0.8582166666666666, Test_acc 0.8629\n",
      "Epoch 14. Loss: 0.47004909814198814, Train_acc 0.8658, Test_acc 0.8703\n",
      "Epoch 15. Loss: 0.45139524923960367, Train_acc 0.87085, Test_acc 0.8749\n",
      "Epoch 16. Loss: 0.4340789705912272, Train_acc 0.8763166666666666, Test_acc 0.8785\n",
      "Epoch 17. Loss: 0.41844319299062094, Train_acc 0.8806833333333334, Test_acc 0.883\n",
      "Epoch 18. Loss: 0.4038419045130412, Train_acc 0.8841666666666667, Test_acc 0.8886\n",
      "Epoch 19. Loss: 0.39003844254811604, Train_acc 0.88905, Test_acc 0.8922\n"
     ]
    }
   ],
   "source": [
    "epochs = 20\n",
    "moving_loss = 0.\n",
    "train_acc=[]\n",
    "test_acc=[]\n",
    "for e in range(epochs):\n",
    "    cumulative_loss = 0\n",
    "    for i, (data, label) in enumerate(train_data):\n",
    "        data = data.reshape((-1,784))\n",
    "        with autograd.record():\n",
    "            output = net(data)\n",
    "            loss = softmax_cross_entropy(output, label)\n",
    "        loss.backward()\n",
    "        trainer.step(batch_size)\n",
    "        cumulative_loss += nd.sum(loss).asscalar()\n",
    "    \n",
    "    test_accuracy = evaluate_accuracy(test_data, net)\n",
    "    train_accuracy = evaluate_accuracy(train_data, net)\n",
    "    train_acc.append(train_accuracy)\n",
    "    test_acc.append(test_accuracy)\n",
    "    print(\"Epoch %s. Loss: %s, Train_acc %s, Test_acc %s\" % (e, cumulative_loss/num_examples, train_accuracy, test_accuracy)) \n",
    "    "
   ]
  },
  {
   "cell_type": "code",
   "execution_count": 14,
   "metadata": {
    "ExecuteTime": {
     "end_time": "2020-08-16T20:59:48.787558Z",
     "start_time": "2020-08-16T20:59:48.493718Z"
    }
   },
   "outputs": [
    {
     "data": {
      "image/png": "[encoded data removed]",
      "text/plain": [
       "<Figure size 504x360 with 1 Axes>"
      ]
     },
     "metadata": {},
     "output_type": "display_data"
    }
   ],
   "source": [
    "epoch=range(1,len(train_acc)+1)\n",
    "with plt.style.context('seaborn-dark-palette'):\n",
    "    plt.figure(figsize=(7,5))\n",
    "    plt.plot(epoch,train_acc,'b-+',label='training accuracy')\n",
    "    plt.plot(epoch,test_acc,'r-*',label='testing accuracy')\n",
    "    plt.legend(loc='center')\n",
    "    plt.grid()\n",
    "    plt.ylabel('Accuracy')\n",
    "    plt.xlabel('Epoch')\n"
   ]
  },
  {
   "cell_type": "code",
   "execution_count": 15,
   "metadata": {
    "ExecuteTime": {
     "end_time": "2020-08-16T21:00:54.608772Z",
     "start_time": "2020-08-16T21:00:54.351434Z"
    }
   },
   "outputs": [
    {
     "name": "stdout",
     "output_type": "stream",
     "text": [
      "(10, 28, 28, 1)\n"
     ]
    },
    {
     "data": {
      "image/png": "[encoded data removed]",
      "text/plain": [
       "<Figure size 432x288 with 1 Axes>"
      ]
     },
     "metadata": {},
     "output_type": "display_data"
    },
    {
     "name": "stdout",
     "output_type": "stream",
     "text": [
      "model predictions are: \n",
      "[7. 7. 0. 0. 2. 5. 4. 3. 0. 3.]\n",
      "<NDArray 10 @cpu(0)>\n"
     ]
    }
   ],
   "source": [
    "def model_predict(net,data):\n",
    "    output = net(data)\n",
    "    return nd.argmax(output, axis=1)\n",
    "\n",
    "# let's sample 10 random data points from the test set\n",
    "sample_data = mx.gluon.data.DataLoader(mx.gluon.data.vision.MNIST(train=False, transform=transform),\n",
    "                              10, shuffle=True)\n",
    "for i, (data, label) in enumerate(sample_data):\n",
    "    print(data.shape)\n",
    "    im = nd.transpose(data,(1,0,2,3))\n",
    "    im = nd.reshape(im,(28,10*28,1))\n",
    "    imtiles = nd.tile(im, (1,1,3))\n",
    "    \n",
    "    plt.imshow(imtiles.asnumpy())\n",
    "    plt.show()\n",
    "    pred=model_predict(net,data.reshape((-1,784)))\n",
    "    print('model predictions are:', pred)\n",
    "    break\n"
   ]
  },
  {
   "cell_type": "code",
   "execution_count": null,
   "metadata": {},
   "outputs": [],
   "source": []
  }
 ],
 "metadata": {
  "kernelspec": {
   "display_name": "Python 3",
   "language": "python",
   "name": "python3"
  },
  "language_info": {
   "codemirror_mode": {
    "name": "ipython",
    "version": 3
   },
   "file_extension": ".py",
   "mimetype": "text/x-python",
   "name": "python",
   "nbconvert_exporter": "python",
   "pygments_lexer": "ipython3",
   "version": "3.6.5"
  }
 },
 "nbformat": 4,
 "nbformat_minor": 2
}
