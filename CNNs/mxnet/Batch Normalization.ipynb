{
 "cells": [
  {
   "cell_type": "markdown",
   "metadata": {
    "toc": true
   },
   "source": [
    "<h1>Table of Contents<span class=\"tocSkip\"></span></h1>\n",
    "<div class=\"toc\"><ul class=\"toc-item\"><li><span><a href=\"#Batch-Normalization\" data-toc-modified-id=\"Batch-Normalization-1\"><span class=\"toc-item-num\">1&nbsp;&nbsp;</span>Batch Normalization</a></span></li><li><span><a href=\"#Batch-Normalization-layer\" data-toc-modified-id=\"Batch-Normalization-layer-2\"><span class=\"toc-item-num\">2&nbsp;&nbsp;</span>Batch Normalization layer</a></span></li><li><span><a href=\"#LeNet-5-architecture\" data-toc-modified-id=\"LeNet-5-architecture-3\"><span class=\"toc-item-num\">3&nbsp;&nbsp;</span>LeNet-5 architecture</a></span></li><li><span><a href=\"#Parameter-initialization\" data-toc-modified-id=\"Parameter-initialization-4\"><span class=\"toc-item-num\">4&nbsp;&nbsp;</span>Parameter initialization</a></span></li><li><span><a href=\"#Using-Softmax-cross-entropy-Loss\" data-toc-modified-id=\"Using-Softmax-cross-entropy-Loss-5\"><span class=\"toc-item-num\">5&nbsp;&nbsp;</span>Using Softmax cross-entropy Loss</a></span></li></ul></div>"
   ]
  },
  {
   "cell_type": "markdown",
   "metadata": {},
   "source": [
    "## Batch Normalization\n",
    "<i style='color:blue'> Internal Covariate Shift</i> is defined as the change in the distribution of network activations due to the change in network parameters during training. \n",
    "<img src='../images/batch.jpg'>\n",
    "<p>Source: <a href='https://arxiv.org/pdf/1502.03167.pdf'>Batch Normalization: Accelerating Deep Network Training by Reducing Internal Covariate Shift</a></p>\n",
    "\n",
    " for more on Batch Normalization\n",
    "<p><a href='https://arxiv.org/pdf/1502.03167.pdf'>Batch Normalization: Accelerating Deep Network Training by Reducing Internal Covariate Shift</a></p>\n",
    "<p><a href='https://arxiv.org/pdf/1806.02375.pdf'>Understanding Batch Normalization</a></p>\n",
    "\n",
    "<p><a href=></a></p>"
   ]
  },
  {
   "cell_type": "code",
   "execution_count": 15,
   "metadata": {},
   "outputs": [],
   "source": [
    "import d2l\n",
    "from mxnet import autograd, np, npx, init\n",
    "from mxnet.gluon import nn\n",
    "import mxnet as mx\n",
    "from mxnet import gluon\n",
    "npx.set_np()"
   ]
  },
  {
   "cell_type": "code",
   "execution_count": 16,
   "metadata": {},
   "outputs": [],
   "source": [
    "ctx = mx.cpu()"
   ]
  },
  {
   "cell_type": "code",
   "execution_count": 17,
   "metadata": {},
   "outputs": [],
   "source": [
    "batch_size = 200\n",
    "num_inputs = 784\n",
    "num_outputs = 10\n",
    "num_examples = 60000"
   ]
  },
  {
   "cell_type": "code",
   "execution_count": 18,
   "metadata": {},
   "outputs": [],
   "source": [
    "def transform(data,labels):\n",
    "    return data.astype('float32')/255, labels.astype('float32')\n",
    "train_data = mx.gluon.data.DataLoader(mx.gluon.data.vision.MNIST(train=True,transform=transform),\n",
    "                                      batch_size, shuffle=True)\n",
    "test_data = mx.gluon.data.DataLoader(mx.gluon.data.vision.MNIST(train=False, transform=transform),\n",
    "                                     batch_size, shuffle=False)"
   ]
  },
  {
   "cell_type": "markdown",
   "metadata": {},
   "source": [
    "\n",
    "## Batch Normalization layer\n",
    "\n",
    "Batch normalization layer is <b>used before the activation layer </b> (according to the authors' original paper), instead of after activation layer.\n"
   ]
  },
  {
   "cell_type": "markdown",
   "metadata": {},
   "source": [
    "## LeNet-5 architecture\n",
    "we are going to integrate batch normalization into the LeNet-5 architecture displayed below\n",
    "<img src='../images/lenet5.jpg'>\n",
    " (source: Hands-On Computer Vision with TensorFlow 2 (Leverage deep learning to create powerful image processing apps with TensorFlow 2.0 and Keras) by Benjamin Planche Eliot Andres page 94)\n",
    "  "
   ]
  },
  {
   "cell_type": "code",
   "execution_count": 20,
   "metadata": {},
   "outputs": [],
   "source": [
    "lenet = nn.Sequential()\n",
    "lenet.add(nn.Conv2D(6, kernel_size=5,padding=2),\n",
    "        nn.BatchNorm(),\n",
    "        nn.Activation('relu'),\n",
    "        nn.MaxPool2D(pool_size=2, strides=2),\n",
    "        nn.Conv2D(16, kernel_size=5),\n",
    "        nn.BatchNorm(),\n",
    "        nn.Activation('relu'),\n",
    "        nn.MaxPool2D(pool_size=2, strides=2),\n",
    "        nn.Dense(120),\n",
    "        nn.BatchNorm(),\n",
    "        nn.Activation('relu'),\n",
    "        nn.Dense(84),\n",
    "        nn.BatchNorm(),\n",
    "        nn.Activation('relu'),\n",
    "        nn.Dense(10))"
   ]
  },
  {
   "cell_type": "markdown",
   "metadata": {},
   "source": [
    "## Parameter initialization\n"
   ]
  },
  {
   "cell_type": "code",
   "execution_count": 21,
   "metadata": {},
   "outputs": [],
   "source": [
    "lenet.initialize(mx.init.Xavier())"
   ]
  },
  {
   "cell_type": "markdown",
   "metadata": {},
   "source": [
    "## Using Softmax cross-entropy Loss"
   ]
  },
  {
   "cell_type": "code",
   "execution_count": 22,
   "metadata": {},
   "outputs": [],
   "source": [
    "softmax_cross_entropy=gluon.loss.SoftmaxCrossEntropyLoss()"
   ]
  },
  {
   "cell_type": "code",
   "execution_count": 23,
   "metadata": {},
   "outputs": [],
   "source": [
    "optimizer=gluon.Trainer(params=lenet.collect_params(),optimizer='adam',\n",
    "                        optimizer_params= {'learning_rate': 0.001})"
   ]
  },
  {
   "cell_type": "code",
   "execution_count": 24,
   "metadata": {},
   "outputs": [],
   "source": [
    "def evaluate_accuracy(data_iterator, net):\n",
    "    acc = mx.metric.Accuracy()\n",
    "    for i, (data, label) in enumerate(data_iterator):\n",
    "        data = data.as_in_context(ctx)\n",
    "        label = label.as_in_context(ctx)\n",
    "        data = data.reshape((-1,1, 28, 28))\n",
    "        output = net(data)\n",
    "        predictions = output.argmax(axis=1)\n",
    "        acc.update(preds=predictions, labels=label)\n",
    "    return acc.get()[1]"
   ]
  },
  {
   "cell_type": "code",
   "execution_count": 25,
   "metadata": {},
   "outputs": [
    {
     "data": {
      "text/plain": [
       "0.0923"
      ]
     },
     "execution_count": 25,
     "metadata": {},
     "output_type": "execute_result"
    }
   ],
   "source": [
    "evaluate_accuracy(test_data,lenet)"
   ]
  },
  {
   "cell_type": "code",
   "execution_count": 26,
   "metadata": {},
   "outputs": [
    {
     "name": "stdout",
     "output_type": "stream",
     "text": [
      "Epoch 0. Loss: 0.0011684117, Train_acc 0.98335, Test_acc 0.9817\n",
      "Epoch 1. Loss: 0.00027387743, Train_acc 0.9907833333333333, Test_acc 0.985\n",
      "Epoch 2. Loss: 0.00017864369, Train_acc 0.9939166666666667, Test_acc 0.9891\n",
      "Epoch 3. Loss: 0.00012929647, Train_acc 0.99495, Test_acc 0.9878\n",
      "Epoch 4. Loss: 9.661367e-05, Train_acc 0.9961166666666667, Test_acc 0.9885\n"
     ]
    }
   ],
   "source": [
    "epochs = 5\n",
    "moving_loss = 0.\n",
    "train_acc=[]\n",
    "test_acc=[]\n",
    "for e in range(epochs):\n",
    "    cumulative_loss = 0\n",
    "    for i, (data, label) in enumerate(train_data):\n",
    "        #data = data.reshape((-1,784))\n",
    "        with autograd.record():\n",
    "            data = data.as_in_context(ctx)\n",
    "            label = label.as_in_context(ctx)\n",
    "            data=data.reshape(200,-1,28,28)\n",
    "            output = lenet(data)\n",
    "            loss = softmax_cross_entropy(output, label)\n",
    "        loss.backward()\n",
    "        optimizer.step(batch_size)\n",
    "        cumulative_loss += np.mean(loss)\n",
    "    \n",
    "    test_accuracy = evaluate_accuracy(test_data, lenet)\n",
    "    train_accuracy = evaluate_accuracy(train_data, lenet)\n",
    "    train_acc.append(train_accuracy)\n",
    "    test_acc.append(test_accuracy)\n",
    "    print(\"Epoch %s. Loss: %s, Train_acc %s, Test_acc %s\" % (e, cumulative_loss/num_examples, \n",
    "                                                             train_accuracy, test_accuracy)) \n",
    "    "
   ]
  },
  {
   "cell_type": "code",
   "execution_count": null,
   "metadata": {},
   "outputs": [],
   "source": []
  }
 ],
 "metadata": {
  "kernelspec": {
   "display_name": "Python 3",
   "language": "python",
   "name": "python3"
  },
  "language_info": {
   "codemirror_mode": {
    "name": "ipython",
    "version": 3
   },
   "file_extension": ".py",
   "mimetype": "text/x-python",
   "name": "python",
   "nbconvert_exporter": "python",
   "pygments_lexer": "ipython3",
   "version": "3.6.5"
  },
  "latex_envs": {
   "LaTeX_envs_menu_present": true,
   "autoclose": false,
   "autocomplete": true,
   "bibliofile": "biblio.bib",
   "cite_by": "apalike",
   "current_citInitial": 1,
   "eqLabelWithNumbers": true,
   "eqNumInitial": 1,
   "hotkeys": {
    "equation": "Ctrl-E",
    "itemize": "Ctrl-I"
   },
   "labels_anchors": false,
   "latex_user_defs": false,
   "report_style_numbering": false,
   "user_envs_cfg": false
  },
  "nbTranslate": {
   "displayLangs": [
    "*"
   ],
   "hotkey": "alt-t",
   "langInMainMenu": true,
   "sourceLang": "en",
   "targetLang": "fr",
   "useGoogleTranslate": true
  },
  "toc": {
   "base_numbering": 1,
   "nav_menu": {},
   "number_sections": true,
   "sideBar": true,
   "skip_h1_title": true,
   "title_cell": "Table of Contents",
   "title_sidebar": "Contents",
   "toc_cell": true,
   "toc_position": {},
   "toc_section_display": true,
   "toc_window_display": true
  }
 },
 "nbformat": 4,
 "nbformat_minor": 2
}
