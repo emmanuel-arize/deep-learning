{
 "cells": [
  {
   "cell_type": "markdown",
   "metadata": {
    "toc": true
   },
   "source": [
    "<h1>Table of Contents<span class=\"tocSkip\"></span></h1>\n",
    "<div class=\"toc\"><ul class=\"toc-item\"><li><span><a href=\"#Downloading-and-Caching-Datasets\" data-toc-modified-id=\"Downloading-and-Caching-Datasets-1\"><span class=\"toc-item-num\">1&nbsp;&nbsp;</span>Downloading and Caching Datasets</a></span></li><li><span><a href=\"#NUMERICAL-FEATURES\" data-toc-modified-id=\"NUMERICAL-FEATURES-2\"><span class=\"toc-item-num\">2&nbsp;&nbsp;</span>NUMERICAL FEATURES</a></span></li><li><span><a href=\"#Categorical-Features\" data-toc-modified-id=\"Categorical-Features-3\"><span class=\"toc-item-num\">3&nbsp;&nbsp;</span>Categorical Features</a></span></li></ul></div>"
   ]
  },
  {
   "cell_type": "code",
   "execution_count": 1,
   "metadata": {},
   "outputs": [],
   "source": [
    "import os\n",
    "import requests\n",
    "import zipfile\n",
    "import tarfile\n",
    "import hashlib\n",
    "from mxnet import gluon, autograd, init, np, npx\n",
    "from mxnet.gluon import nn\n",
    "import d2l\n",
    "import matplotlib.pyplot as plt\n",
    "import pandas as pd\n",
    "npx.set_np()\n"
   ]
  },
  {
   "cell_type": "code",
   "execution_count": 2,
   "metadata": {},
   "outputs": [],
   "source": [
    "%matplotlib inline"
   ]
  },
  {
   "cell_type": "markdown",
   "metadata": {},
   "source": [
    "## Downloading and Caching Datasets"
   ]
  },
  {
   "cell_type": "code",
   "execution_count": 3,
   "metadata": {},
   "outputs": [],
   "source": [
    "DATA_HUB = dict() #@save\n",
    "DATA_URL = 'http://d2l-data.s3-accelerate.amazonaws.com/' #@save"
   ]
  },
  {
   "cell_type": "code",
   "execution_count": 4,
   "metadata": {},
   "outputs": [],
   "source": [
    "def download(name, cache_dir=os.path.join('..', 'data')):  #@save\n",
    "    \"\"\"Download a file inserted into DATA_HUB, return the local filename.\"\"\"\n",
    "    assert name in DATA_HUB, f\"{name} does not exist in {DATA_HUB}.\"\n",
    "    url, sha1_hash = DATA_HUB[name]\n",
    "    d2l.mkdir_if_not_exist(cache_dir)\n",
    "    fname = os.path.join(cache_dir, url.split('/')[-1])\n",
    "    if os.path.exists(fname):\n",
    "        sha1 = hashlib.sha1()\n",
    "        with open(fname, 'rb') as f:\n",
    "            while True:\n",
    "                data = f.read(1048576)\n",
    "                if not data:\n",
    "                    break\n",
    "                sha1.update(data)\n",
    "        if sha1.hexdigest() == sha1_hash:\n",
    "            return fname  # Hit cache\n",
    "    print(f'Downloading {fname} from {url}...')\n",
    "    r = requests.get(url, stream=True, verify=True)\n",
    "    with open(fname, 'wb') as f:\n",
    "        f.write(r.content)\n",
    "    return fname"
   ]
  },
  {
   "cell_type": "code",
   "execution_count": 5,
   "metadata": {},
   "outputs": [],
   "source": [
    "def download_extract(name, folder=None):  #@save\n",
    "    \"\"\"Download and extract a zip/tar file.\"\"\"\n",
    "    fname = download(name)\n",
    "    base_dir = os.path.dirname(fname)\n",
    "    data_dir, ext = os.path.splitext(fname)\n",
    "    if ext == '.zip':\n",
    "        fp = zipfile.ZipFile(fname, 'r')\n",
    "    elif ext in ('.tar', '.gz'):\n",
    "        fp = tarfile.open(fname, 'r')\n",
    "    else:\n",
    "        assert False, 'Only zip/tar files can be extracted.'\n",
    "    fp.extractall(base_dir)\n",
    "    return os.path.join(base_dir, folder) if folder else data_dir\n",
    "\n",
    "def download_all():  #@save\n",
    "    \"\"\"Download all files in the DATA_HUB.\"\"\"\n",
    "    for name in DATA_HUB:\n",
    "        download(name)"
   ]
  },
  {
   "cell_type": "code",
   "execution_count": 6,
   "metadata": {},
   "outputs": [],
   "source": [
    "DATA_HUB['kaggle_house_train'] = (  #@save\n",
    "    DATA_URL + 'kaggle_house_pred_train.csv',\n",
    "    '585e9cc93e70b39160e7921475f9bcd7d31219ce')\n",
    "\n",
    "DATA_HUB['kaggle_house_test'] = (  #@save\n",
    "    DATA_URL + 'kaggle_house_pred_test.csv',\n",
    "    'fa19780a7b011d9b009e8bff8e99922a8ee2eb90')"
   ]
  },
  {
   "cell_type": "code",
   "execution_count": 7,
   "metadata": {},
   "outputs": [],
   "source": [
    "train_data = pd.read_csv(download('kaggle_house_train'))\n",
    "test_data = pd.read_csv(download('kaggle_house_test'))"
   ]
  },
  {
   "cell_type": "code",
   "execution_count": 8,
   "metadata": {},
   "outputs": [
    {
     "name": "stdout",
     "output_type": "stream",
     "text": [
      "(1460, 81)\n",
      "(1459, 80)\n"
     ]
    }
   ],
   "source": [
    "print(train_data.shape)\n",
    "print(test_data.shape)"
   ]
  },
  {
   "cell_type": "markdown",
   "metadata": {},
   "source": [
    "The training dataset contain 1460 examples (observations), 80 features, and 1 label (SalePrice), while the test data contain 1459 examples and 80 features."
   ]
  },
  {
   "cell_type": "markdown",
   "metadata": {},
   "source": [
    "---\n",
    "a look at the first four, the eight, the tenth and last two features as well as the label (SalePrice) for the first 3 examples"
   ]
  },
  {
   "cell_type": "code",
   "execution_count": 9,
   "metadata": {},
   "outputs": [
    {
     "data": {
      "text/html": [
       "<div>\n",
       "<style scoped>\n",
       "    .dataframe tbody tr th:only-of-type {\n",
       "        vertical-align: middle;\n",
       "    }\n",
       "\n",
       "    .dataframe tbody tr th {\n",
       "        vertical-align: top;\n",
       "    }\n",
       "\n",
       "    .dataframe thead th {\n",
       "        text-align: right;\n",
       "    }\n",
       "</style>\n",
       "<table border=\"1\" class=\"dataframe\">\n",
       "  <thead>\n",
       "    <tr style=\"text-align: right;\">\n",
       "      <th></th>\n",
       "      <th>Id</th>\n",
       "      <th>MSSubClass</th>\n",
       "      <th>MSZoning</th>\n",
       "      <th>LotFrontage</th>\n",
       "      <th>LotShape</th>\n",
       "      <th>Utilities</th>\n",
       "      <th>SaleType</th>\n",
       "      <th>SaleCondition</th>\n",
       "      <th>SalePrice</th>\n",
       "    </tr>\n",
       "  </thead>\n",
       "  <tbody>\n",
       "    <tr>\n",
       "      <th>0</th>\n",
       "      <td>1</td>\n",
       "      <td>60</td>\n",
       "      <td>RL</td>\n",
       "      <td>65.0</td>\n",
       "      <td>Reg</td>\n",
       "      <td>AllPub</td>\n",
       "      <td>WD</td>\n",
       "      <td>Normal</td>\n",
       "      <td>208500</td>\n",
       "    </tr>\n",
       "    <tr>\n",
       "      <th>1</th>\n",
       "      <td>2</td>\n",
       "      <td>20</td>\n",
       "      <td>RL</td>\n",
       "      <td>80.0</td>\n",
       "      <td>Reg</td>\n",
       "      <td>AllPub</td>\n",
       "      <td>WD</td>\n",
       "      <td>Normal</td>\n",
       "      <td>181500</td>\n",
       "    </tr>\n",
       "    <tr>\n",
       "      <th>2</th>\n",
       "      <td>3</td>\n",
       "      <td>60</td>\n",
       "      <td>RL</td>\n",
       "      <td>68.0</td>\n",
       "      <td>IR1</td>\n",
       "      <td>AllPub</td>\n",
       "      <td>WD</td>\n",
       "      <td>Normal</td>\n",
       "      <td>223500</td>\n",
       "    </tr>\n",
       "  </tbody>\n",
       "</table>\n",
       "</div>"
      ],
      "text/plain": [
       "   Id  MSSubClass MSZoning  LotFrontage LotShape Utilities SaleType  \\\n",
       "0   1          60       RL         65.0      Reg    AllPub       WD   \n",
       "1   2          20       RL         80.0      Reg    AllPub       WD   \n",
       "2   3          60       RL         68.0      IR1    AllPub       WD   \n",
       "\n",
       "  SaleCondition  SalePrice  \n",
       "0        Normal     208500  \n",
       "1        Normal     181500  \n",
       "2        Normal     223500  "
      ]
     },
     "execution_count": 9,
     "metadata": {},
     "output_type": "execute_result"
    }
   ],
   "source": [
    "train_data.iloc[0:3,[0,1,2,3,7,9, -3, -2, -1]]"
   ]
  },
  {
   "cell_type": "markdown",
   "metadata": {},
   "source": [
    "we going to concatenante both the training and test data and dropping the ID feature since it contains no information but just servering as an indetifier"
   ]
  },
  {
   "cell_type": "code",
   "execution_count": 10,
   "metadata": {},
   "outputs": [],
   "source": [
    "all_features = pd.concat((train_data.iloc[:, 1:-1], test_data.iloc[:, 1:]))"
   ]
  },
  {
   "cell_type": "code",
   "execution_count": 11,
   "metadata": {},
   "outputs": [
    {
     "data": {
      "text/plain": [
       "(2919, 79)"
      ]
     },
     "execution_count": 11,
     "metadata": {},
     "output_type": "execute_result"
    }
   ],
   "source": [
    "all_features.shape"
   ]
  },
  {
   "cell_type": "code",
   "execution_count": 12,
   "metadata": {},
   "outputs": [
    {
     "name": "stdout",
     "output_type": "stream",
     "text": [
      "<class 'pandas.core.frame.DataFrame'>\n",
      "Int64Index: 2919 entries, 0 to 1458\n",
      "Data columns (total 79 columns):\n",
      " #   Column         Non-Null Count  Dtype  \n",
      "---  ------         --------------  -----  \n",
      " 0   MSSubClass     2919 non-null   int64  \n",
      " 1   MSZoning       2915 non-null   object \n",
      " 2   LotFrontage    2433 non-null   float64\n",
      " 3   LotArea        2919 non-null   int64  \n",
      " 4   Street         2919 non-null   object \n",
      " 5   Alley          198 non-null    object \n",
      " 6   LotShape       2919 non-null   object \n",
      " 7   LandContour    2919 non-null   object \n",
      " 8   Utilities      2917 non-null   object \n",
      " 9   LotConfig      2919 non-null   object \n",
      " 10  LandSlope      2919 non-null   object \n",
      " 11  Neighborhood   2919 non-null   object \n",
      " 12  Condition1     2919 non-null   object \n",
      " 13  Condition2     2919 non-null   object \n",
      " 14  BldgType       2919 non-null   object \n",
      " 15  HouseStyle     2919 non-null   object \n",
      " 16  OverallQual    2919 non-null   int64  \n",
      " 17  OverallCond    2919 non-null   int64  \n",
      " 18  YearBuilt      2919 non-null   int64  \n",
      " 19  YearRemodAdd   2919 non-null   int64  \n",
      " 20  RoofStyle      2919 non-null   object \n",
      " 21  RoofMatl       2919 non-null   object \n",
      " 22  Exterior1st    2918 non-null   object \n",
      " 23  Exterior2nd    2918 non-null   object \n",
      " 24  MasVnrType     2895 non-null   object \n",
      " 25  MasVnrArea     2896 non-null   float64\n",
      " 26  ExterQual      2919 non-null   object \n",
      " 27  ExterCond      2919 non-null   object \n",
      " 28  Foundation     2919 non-null   object \n",
      " 29  BsmtQual       2838 non-null   object \n",
      " 30  BsmtCond       2837 non-null   object \n",
      " 31  BsmtExposure   2837 non-null   object \n",
      " 32  BsmtFinType1   2840 non-null   object \n",
      " 33  BsmtFinSF1     2918 non-null   float64\n",
      " 34  BsmtFinType2   2839 non-null   object \n",
      " 35  BsmtFinSF2     2918 non-null   float64\n",
      " 36  BsmtUnfSF      2918 non-null   float64\n",
      " 37  TotalBsmtSF    2918 non-null   float64\n",
      " 38  Heating        2919 non-null   object \n",
      " 39  HeatingQC      2919 non-null   object \n",
      " 40  CentralAir     2919 non-null   object \n",
      " 41  Electrical     2918 non-null   object \n",
      " 42  1stFlrSF       2919 non-null   int64  \n",
      " 43  2ndFlrSF       2919 non-null   int64  \n",
      " 44  LowQualFinSF   2919 non-null   int64  \n",
      " 45  GrLivArea      2919 non-null   int64  \n",
      " 46  BsmtFullBath   2917 non-null   float64\n",
      " 47  BsmtHalfBath   2917 non-null   float64\n",
      " 48  FullBath       2919 non-null   int64  \n",
      " 49  HalfBath       2919 non-null   int64  \n",
      " 50  BedroomAbvGr   2919 non-null   int64  \n",
      " 51  KitchenAbvGr   2919 non-null   int64  \n",
      " 52  KitchenQual    2918 non-null   object \n",
      " 53  TotRmsAbvGrd   2919 non-null   int64  \n",
      " 54  Functional     2917 non-null   object \n",
      " 55  Fireplaces     2919 non-null   int64  \n",
      " 56  FireplaceQu    1499 non-null   object \n",
      " 57  GarageType     2762 non-null   object \n",
      " 58  GarageYrBlt    2760 non-null   float64\n",
      " 59  GarageFinish   2760 non-null   object \n",
      " 60  GarageCars     2918 non-null   float64\n",
      " 61  GarageArea     2918 non-null   float64\n",
      " 62  GarageQual     2760 non-null   object \n",
      " 63  GarageCond     2760 non-null   object \n",
      " 64  PavedDrive     2919 non-null   object \n",
      " 65  WoodDeckSF     2919 non-null   int64  \n",
      " 66  OpenPorchSF    2919 non-null   int64  \n",
      " 67  EnclosedPorch  2919 non-null   int64  \n",
      " 68  3SsnPorch      2919 non-null   int64  \n",
      " 69  ScreenPorch    2919 non-null   int64  \n",
      " 70  PoolArea       2919 non-null   int64  \n",
      " 71  PoolQC         10 non-null     object \n",
      " 72  Fence          571 non-null    object \n",
      " 73  MiscFeature    105 non-null    object \n",
      " 74  MiscVal        2919 non-null   int64  \n",
      " 75  MoSold         2919 non-null   int64  \n",
      " 76  YrSold         2919 non-null   int64  \n",
      " 77  SaleType       2918 non-null   object \n",
      " 78  SaleCondition  2919 non-null   object \n",
      "dtypes: float64(11), int64(25), object(43)\n",
      "memory usage: 1.8+ MB\n"
     ]
    }
   ],
   "source": [
    "all_features.info()"
   ]
  },
  {
   "cell_type": "markdown",
   "metadata": {},
   "source": [
    "from the result display above any features having a Non-Null Count value less than 2919 is an indication that the feature contain missing values. Data type (Dtype) represented by object are usually categorical features"
   ]
  },
  {
   "cell_type": "markdown",
   "metadata": {},
   "source": [
    "## NUMERICAL FEATURES"
   ]
  },
  {
   "cell_type": "code",
   "execution_count": 13,
   "metadata": {},
   "outputs": [],
   "source": [
    "numeric_features=all_features.dtypes[all_features.dtypes!='object'].index"
   ]
  },
  {
   "cell_type": "markdown",
   "metadata": {},
   "source": [
    "Number of numerical features "
   ]
  },
  {
   "cell_type": "code",
   "execution_count": 14,
   "metadata": {},
   "outputs": [
    {
     "data": {
      "text/plain": [
       "36"
      ]
     },
     "execution_count": 14,
     "metadata": {},
     "output_type": "execute_result"
    }
   ],
   "source": [
    "all_features[numeric_features].shape[1]"
   ]
  },
  {
   "cell_type": "markdown",
   "metadata": {},
   "source": [
    "number of missing value in each  numerical feature"
   ]
  },
  {
   "cell_type": "code",
   "execution_count": 15,
   "metadata": {},
   "outputs": [
    {
     "data": {
      "text/plain": [
       "MSSubClass         0\n",
       "LotFrontage      486\n",
       "LotArea            0\n",
       "OverallQual        0\n",
       "OverallCond        0\n",
       "YearBuilt          0\n",
       "YearRemodAdd       0\n",
       "MasVnrArea        23\n",
       "BsmtFinSF1         1\n",
       "BsmtFinSF2         1\n",
       "BsmtUnfSF          1\n",
       "TotalBsmtSF        1\n",
       "1stFlrSF           0\n",
       "2ndFlrSF           0\n",
       "LowQualFinSF       0\n",
       "GrLivArea          0\n",
       "BsmtFullBath       2\n",
       "BsmtHalfBath       2\n",
       "FullBath           0\n",
       "HalfBath           0\n",
       "BedroomAbvGr       0\n",
       "KitchenAbvGr       0\n",
       "TotRmsAbvGrd       0\n",
       "Fireplaces         0\n",
       "GarageYrBlt      159\n",
       "GarageCars         1\n",
       "GarageArea         1\n",
       "WoodDeckSF         0\n",
       "OpenPorchSF        0\n",
       "EnclosedPorch      0\n",
       "3SsnPorch          0\n",
       "ScreenPorch        0\n",
       "PoolArea           0\n",
       "MiscVal            0\n",
       "MoSold             0\n",
       "YrSold             0\n",
       "dtype: int64"
      ]
     },
     "execution_count": 15,
     "metadata": {},
     "output_type": "execute_result"
    }
   ],
   "source": [
    "all_features[numeric_features].isna().sum()"
   ]
  },
  {
   "cell_type": "markdown",
   "metadata": {},
   "source": [
    "to put all numerical features on a common scale, we standardize the numerical features by rescaling numerical features to zero mean and unit variance\n",
    "$$ \\frac{x-\\mu}{\\sigma^{2}} $$"
   ]
  },
  {
   "cell_type": "code",
   "execution_count": 16,
   "metadata": {},
   "outputs": [],
   "source": [
    "all_features[numeric_features]=all_features[numeric_features].apply(lambda x: (x-x.mean())/x.std())"
   ]
  },
  {
   "cell_type": "markdown",
   "metadata": {},
   "source": [
    "After standardizing the numerical features their means vanish (have 0 means), hence we can set the missing values to their means which is zero"
   ]
  },
  {
   "cell_type": "code",
   "execution_count": 17,
   "metadata": {},
   "outputs": [],
   "source": [
    "all_features[numeric_features]=all_features[numeric_features].fillna(0)"
   ]
  },
  {
   "cell_type": "markdown",
   "metadata": {},
   "source": [
    "## Categorical Features"
   ]
  },
  {
   "cell_type": "code",
   "execution_count": 18,
   "metadata": {},
   "outputs": [],
   "source": [
    "cat_features=all_features.dtypes[all_features.dtypes=='object'].index"
   ]
  },
  {
   "cell_type": "code",
   "execution_count": 19,
   "metadata": {},
   "outputs": [
    {
     "data": {
      "text/plain": [
       "MSZoning            4\n",
       "Street              0\n",
       "Alley            2721\n",
       "LotShape            0\n",
       "LandContour         0\n",
       "Utilities           2\n",
       "LotConfig           0\n",
       "LandSlope           0\n",
       "Neighborhood        0\n",
       "Condition1          0\n",
       "Condition2          0\n",
       "BldgType            0\n",
       "HouseStyle          0\n",
       "RoofStyle           0\n",
       "RoofMatl            0\n",
       "Exterior1st         1\n",
       "Exterior2nd         1\n",
       "MasVnrType         24\n",
       "ExterQual           0\n",
       "ExterCond           0\n",
       "Foundation          0\n",
       "BsmtQual           81\n",
       "BsmtCond           82\n",
       "BsmtExposure       82\n",
       "BsmtFinType1       79\n",
       "BsmtFinType2       80\n",
       "Heating             0\n",
       "HeatingQC           0\n",
       "CentralAir          0\n",
       "Electrical          1\n",
       "KitchenQual         1\n",
       "Functional          2\n",
       "FireplaceQu      1420\n",
       "GarageType        157\n",
       "GarageFinish      159\n",
       "GarageQual        159\n",
       "GarageCond        159\n",
       "PavedDrive          0\n",
       "PoolQC           2909\n",
       "Fence            2348\n",
       "MiscFeature      2814\n",
       "SaleType            1\n",
       "SaleCondition       0\n",
       "dtype: int64"
      ]
     },
     "execution_count": 19,
     "metadata": {},
     "output_type": "execute_result"
    }
   ],
   "source": [
    "all_features[cat_features].isna().sum()"
   ]
  },
  {
   "cell_type": "markdown",
   "metadata": {},
   "source": [
    " we are dropping categorical features with missing values >=100"
   ]
  },
  {
   "cell_type": "code",
   "execution_count": 20,
   "metadata": {},
   "outputs": [],
   "source": [
    "for i in cat_features:\n",
    "    if all_features[i].isna().sum() >=100:\n",
    "        all_features.drop(columns=[i],inplace=True)"
   ]
  },
  {
   "cell_type": "code",
   "execution_count": 21,
   "metadata": {},
   "outputs": [
    {
     "data": {
      "text/plain": [
       "(2919, 70)"
      ]
     },
     "execution_count": 21,
     "metadata": {},
     "output_type": "execute_result"
    }
   ],
   "source": [
    "all_features.shape"
   ]
  },
  {
   "cell_type": "code",
   "execution_count": 22,
   "metadata": {},
   "outputs": [],
   "source": [
    "cat_features=all_features.dtypes[all_features.dtypes=='object'].index"
   ]
  },
  {
   "cell_type": "code",
   "execution_count": 23,
   "metadata": {},
   "outputs": [
    {
     "data": {
      "text/plain": [
       "MSZoning          4\n",
       "Street            0\n",
       "LotShape          0\n",
       "LandContour       0\n",
       "Utilities         2\n",
       "LotConfig         0\n",
       "LandSlope         0\n",
       "Neighborhood      0\n",
       "Condition1        0\n",
       "Condition2        0\n",
       "BldgType          0\n",
       "HouseStyle        0\n",
       "RoofStyle         0\n",
       "RoofMatl          0\n",
       "Exterior1st       1\n",
       "Exterior2nd       1\n",
       "MasVnrType       24\n",
       "ExterQual         0\n",
       "ExterCond         0\n",
       "Foundation        0\n",
       "BsmtQual         81\n",
       "BsmtCond         82\n",
       "BsmtExposure     82\n",
       "BsmtFinType1     79\n",
       "BsmtFinType2     80\n",
       "Heating           0\n",
       "HeatingQC         0\n",
       "CentralAir        0\n",
       "Electrical        1\n",
       "KitchenQual       1\n",
       "Functional        2\n",
       "PavedDrive        0\n",
       "SaleType          1\n",
       "SaleCondition     0\n",
       "dtype: int64"
      ]
     },
     "execution_count": 23,
     "metadata": {},
     "output_type": "execute_result"
    }
   ],
   "source": [
    "all_features[cat_features].isna().sum()"
   ]
  },
  {
   "cell_type": "markdown",
   "metadata": {},
   "source": [
    " Number of unique category in each categorical feature"
   ]
  },
  {
   "cell_type": "code",
   "execution_count": 24,
   "metadata": {},
   "outputs": [
    {
     "name": "stdout",
     "output_type": "stream",
     "text": [
      "['RL' 'RM' 'C (all)' 'FV' 'RH' nan]\n",
      "['Pave' 'Grvl']\n",
      "['Reg' 'IR1' 'IR2' 'IR3']\n",
      "['Lvl' 'Bnk' 'Low' 'HLS']\n",
      "['AllPub' 'NoSeWa' nan]\n",
      "['Inside' 'FR2' 'Corner' 'CulDSac' 'FR3']\n",
      "['Gtl' 'Mod' 'Sev']\n",
      "['CollgCr' 'Veenker' 'Crawfor' 'NoRidge' 'Mitchel' 'Somerst' 'NWAmes'\n",
      " 'OldTown' 'BrkSide' 'Sawyer' 'NridgHt' 'NAmes' 'SawyerW' 'IDOTRR'\n",
      " 'MeadowV' 'Edwards' 'Timber' 'Gilbert' 'StoneBr' 'ClearCr' 'NPkVill'\n",
      " 'Blmngtn' 'BrDale' 'SWISU' 'Blueste']\n",
      "['Norm' 'Feedr' 'PosN' 'Artery' 'RRAe' 'RRNn' 'RRAn' 'PosA' 'RRNe']\n",
      "['Norm' 'Artery' 'RRNn' 'Feedr' 'PosN' 'PosA' 'RRAn' 'RRAe']\n",
      "['1Fam' '2fmCon' 'Duplex' 'TwnhsE' 'Twnhs']\n",
      "['2Story' '1Story' '1.5Fin' '1.5Unf' 'SFoyer' 'SLvl' '2.5Unf' '2.5Fin']\n",
      "['Gable' 'Hip' 'Gambrel' 'Mansard' 'Flat' 'Shed']\n",
      "['CompShg' 'WdShngl' 'Metal' 'WdShake' 'Membran' 'Tar&Grv' 'Roll'\n",
      " 'ClyTile']\n",
      "['VinylSd' 'MetalSd' 'Wd Sdng' 'HdBoard' 'BrkFace' 'WdShing' 'CemntBd'\n",
      " 'Plywood' 'AsbShng' 'Stucco' 'BrkComm' 'AsphShn' 'Stone' 'ImStucc'\n",
      " 'CBlock' nan]\n",
      "['VinylSd' 'MetalSd' 'Wd Shng' 'HdBoard' 'Plywood' 'Wd Sdng' 'CmentBd'\n",
      " 'BrkFace' 'Stucco' 'AsbShng' 'Brk Cmn' 'ImStucc' 'AsphShn' 'Stone'\n",
      " 'Other' 'CBlock' nan]\n",
      "['BrkFace' 'None' 'Stone' 'BrkCmn' nan]\n",
      "['Gd' 'TA' 'Ex' 'Fa']\n",
      "['TA' 'Gd' 'Fa' 'Po' 'Ex']\n",
      "['PConc' 'CBlock' 'BrkTil' 'Wood' 'Slab' 'Stone']\n",
      "['Gd' 'TA' 'Ex' nan 'Fa']\n",
      "['TA' 'Gd' nan 'Fa' 'Po']\n",
      "['No' 'Gd' 'Mn' 'Av' nan]\n",
      "['GLQ' 'ALQ' 'Unf' 'Rec' 'BLQ' nan 'LwQ']\n",
      "['Unf' 'BLQ' nan 'ALQ' 'Rec' 'LwQ' 'GLQ']\n",
      "['GasA' 'GasW' 'Grav' 'Wall' 'OthW' 'Floor']\n",
      "['Ex' 'Gd' 'TA' 'Fa' 'Po']\n",
      "['Y' 'N']\n",
      "['SBrkr' 'FuseF' 'FuseA' 'FuseP' 'Mix' nan]\n",
      "['Gd' 'TA' 'Ex' 'Fa' nan]\n",
      "['Typ' 'Min1' 'Maj1' 'Min2' 'Mod' 'Maj2' 'Sev' nan]\n",
      "['Y' 'N' 'P']\n",
      "['WD' 'New' 'COD' 'ConLD' 'ConLI' 'CWD' 'ConLw' 'Con' 'Oth' nan]\n",
      "['Normal' 'Abnorml' 'Partial' 'AdjLand' 'Alloca' 'Family']\n"
     ]
    }
   ],
   "source": [
    "for i in cat_features:\n",
    "    print(all_features[i].unique())"
   ]
  },
  {
   "cell_type": "markdown",
   "metadata": {},
   "source": [
    "fill the missing values in each categorical feature with the category in ecah feature having the highest value"
   ]
  },
  {
   "cell_type": "code",
   "execution_count": 25,
   "metadata": {},
   "outputs": [],
   "source": [
    "for i in cat_features:\n",
    "    all_features[i].fillna(max(all_features[i].value_counts()),inplace=True)"
   ]
  },
  {
   "cell_type": "code",
   "execution_count": 26,
   "metadata": {},
   "outputs": [
    {
     "data": {
      "text/plain": [
       "MSSubClass       0\n",
       "MSZoning         0\n",
       "LotFrontage      0\n",
       "LotArea          0\n",
       "Street           0\n",
       "                ..\n",
       "MiscVal          0\n",
       "MoSold           0\n",
       "YrSold           0\n",
       "SaleType         0\n",
       "SaleCondition    0\n",
       "Length: 70, dtype: int64"
      ]
     },
     "execution_count": 26,
     "metadata": {},
     "output_type": "execute_result"
    }
   ],
   "source": [
    "all_features.isna().sum()"
   ]
  },
  {
   "cell_type": "code",
   "execution_count": 27,
   "metadata": {},
   "outputs": [
    {
     "data": {
      "text/plain": [
       "(2919, 70)"
      ]
     },
     "execution_count": 27,
     "metadata": {},
     "output_type": "execute_result"
    }
   ],
   "source": [
    "all_features.shape"
   ]
  },
  {
   "cell_type": "code",
   "execution_count": 28,
   "metadata": {},
   "outputs": [
    {
     "data": {
      "text/plain": [
       "(2919, 265)"
      ]
     },
     "execution_count": 28,
     "metadata": {},
     "output_type": "execute_result"
    }
   ],
   "source": [
    "all_features = pd.get_dummies(all_features)\n",
    "all_features.shape"
   ]
  },
  {
   "cell_type": "code",
   "execution_count": 29,
   "metadata": {},
   "outputs": [],
   "source": [
    "n_train = train_data.shape[0]\n",
    "train_features = np.array(all_features[:n_train].values, dtype=np.float32)\n",
    "test_features = np.array(all_features[n_train:].values, dtype=np.float32)\n",
    "train_labels = np.array(train_data.SalePrice.values.reshape(-1, 1), dtype=np.float32)"
   ]
  },
  {
   "cell_type": "code",
   "execution_count": 30,
   "metadata": {},
   "outputs": [],
   "source": [
    "## Model"
   ]
  },
  {
   "cell_type": "code",
   "execution_count": 31,
   "metadata": {},
   "outputs": [],
   "source": [
    "def get_net():\n",
    "    net=nn.Sequential()\n",
    "    net.add(nn.Dense(20,activation='relu'))\n",
    "    net.add(nn.Dense(15,activation='relu'))\n",
    "    net.add(nn.Dense(10,activation='relu'))\n",
    "    net.add(nn.Dense(1))\n",
    "    net.initialize()\n",
    "    return net"
   ]
  },
  {
   "cell_type": "code",
   "execution_count": null,
   "metadata": {},
   "outputs": [],
   "source": []
  },
  {
   "cell_type": "markdown",
   "metadata": {},
   "source": [
    "# Loss\n",
    "<img src=\"images/pred_loss.jpg\" /><img src=\"images/pred_loss1.jpg\" />\n",
    "(source: From the book am using: Dive into Deep Learning by Aston Zhang, Zachary C. Lipton, Mu Li, and Alexander J. Smola page 192-193)\n",
    "\n",
    "np.clip(a, a_min, a_max, out=None)"
   ]
  },
  {
   "cell_type": "code",
   "execution_count": 32,
   "metadata": {},
   "outputs": [],
   "source": [
    "loss=gluon.loss.L2Loss()\n",
    "def log_rmse(net, features, labels):\n",
    "    # To further stabilize the value when the logarithm is taken, set the\n",
    "    # value less than 1 as 1\n",
    "    clipped_preds =np.clip(net(features),1,float('inf')) \n",
    "    return np.sqrt(2*loss(np.log(clipped_preds),np.log(labels)).mean())"
   ]
  },
  {
   "cell_type": "code",
   "execution_count": 33,
   "metadata": {},
   "outputs": [],
   "source": [
    "def train(net, train_features, train_labels, test_features, test_labels,num_epochs, learning_rate, \n",
    "          weight_decay, batch_size):\n",
    "    train_ls, test_ls = [], []\n",
    "    train_iter = d2l.load_array((train_features, train_labels), batch_size)\n",
    "    # The Adam optimization algorithm is used here\n",
    "    trainer =gluon.Trainer(net.collect_params(),'adam',{'learning_rate':0.5,'wd':weight_decay})\n",
    "    for epoch in range(num_epochs):\n",
    "        for X,y in train_iter:\n",
    "            with autograd.record():\n",
    "                l=loss(net(X),y)\n",
    "            l.backward()\n",
    "            trainer.step(batch_size)\n",
    "        train_ls.append(log_rmse(net,train_features,train_labels))\n",
    "        if test_labels is not None:\n",
    "            test_ls.append(log_rmse(net,test_features,test_labels))\n",
    "    return train_ls,test_ls       "
   ]
  },
  {
   "cell_type": "markdown",
   "metadata": {},
   "source": [
    "# K-Fold Cross-Validation"
   ]
  },
  {
   "cell_type": "code",
   "execution_count": 34,
   "metadata": {},
   "outputs": [],
   "source": [
    "def get_k_fold_data(k, i, X, y):\n",
    "    assert k>1\n",
    "    fold_size=X.shape[0]//k\n",
    "    X_train, y_train = None, None\n",
    "    for j in range(k):\n",
    "        idx=slice(j*fold_size,(j+1)*fold_size)\n",
    "        X_part,y_part=X[idx,:],y[idx]\n",
    "        if j==i:\n",
    "            X_valid, y_valid = X_part, y_part\n",
    "        elif X_train is None:\n",
    "            X_train,y_train=X_part,y_part\n",
    "        else:\n",
    "            X_train=np.concatenate([X_train,X_part],0)\n",
    "            y_train=np.concatenate([y_train,y_part],0)\n",
    "    return X_train,y_train,X_valid,y_valid"
   ]
  },
  {
   "cell_type": "code",
   "execution_count": 35,
   "metadata": {},
   "outputs": [],
   "source": [
    "def k_fold(k, X_train, y_train, num_epochs,learning_rate, weight_decay, batch_size):\n",
    "    train_l_sum, valid_l_sum = 0, 0\n",
    "    for i in range(k):\n",
    "        data = get_k_fold_data(k, i, X_train, y_train)\n",
    "        net = get_net()\n",
    "        train_ls, valid_ls = train(net, *data, num_epochs, learning_rate,weight_decay, batch_size)\n",
    "        train_l_sum += train_ls[-1]\n",
    "        valid_l_sum += valid_ls[-1]\n",
    "        print(f'fold {i + 1}, train log rmse {float(train_ls[-1]):f}, 'f'valid log rmse {float(valid_ls[-1]):f}')\n",
    "    return train_l_sum / k, valid_l_sum / k"
   ]
  },
  {
   "cell_type": "code",
   "execution_count": 36,
   "metadata": {},
   "outputs": [
    {
     "name": "stdout",
     "output_type": "stream",
     "text": [
      "fold 1, train log rmse 0.078861, valid log rmse 0.145665\n",
      "fold 2, train log rmse 0.078889, valid log rmse 0.181006\n",
      "fold 3, train log rmse 0.064732, valid log rmse 0.169467\n",
      "fold 4, train log rmse 0.266506, valid log rmse 0.141528\n",
      "fold 5, train log rmse 0.061772, valid log rmse 0.145504\n",
      "fold 6, train log rmse 0.066492, valid log rmse 0.185322\n",
      "6-fold validation: avg train log rmse: 0.102875, avg valid log rmse: 0.161415\n"
     ]
    }
   ],
   "source": [
    "k, num_epochs, lr, weight_decay, batch_size = 6, 100, 5, 0.2, 64\n",
    "train_l, valid_l = k_fold(k, train_features, train_labels, num_epochs, lr,weight_decay, batch_size)\n",
    "print(f'{k}-fold validation: avg train log rmse: {float(train_l):f}, 'f'avg valid log rmse: {float(valid_l):f}')"
   ]
  },
  {
   "cell_type": "code",
   "execution_count": null,
   "metadata": {},
   "outputs": [],
   "source": []
  },
  {
   "cell_type": "code",
   "execution_count": null,
   "metadata": {},
   "outputs": [],
   "source": []
  }
 ],
 "metadata": {
  "kernelspec": {
   "display_name": "Python 3",
   "language": "python",
   "name": "python3"
  },
  "language_info": {
   "codemirror_mode": {
    "name": "ipython",
    "version": 3
   },
   "file_extension": ".py",
   "mimetype": "text/x-python",
   "name": "python",
   "nbconvert_exporter": "python",
   "pygments_lexer": "ipython3",
   "version": "3.6.5"
  },
  "latex_envs": {
   "LaTeX_envs_menu_present": true,
   "autoclose": false,
   "autocomplete": true,
   "bibliofile": "biblio.bib",
   "cite_by": "apalike",
   "current_citInitial": 1,
   "eqLabelWithNumbers": true,
   "eqNumInitial": 1,
   "hotkeys": {
    "equation": "Ctrl-E",
    "itemize": "Ctrl-I"
   },
   "labels_anchors": false,
   "latex_user_defs": false,
   "report_style_numbering": false,
   "user_envs_cfg": false
  },
  "nbTranslate": {
   "displayLangs": [
    "*"
   ],
   "hotkey": "alt-t",
   "langInMainMenu": true,
   "sourceLang": "en",
   "targetLang": "fr",
   "useGoogleTranslate": true
  },
  "toc": {
   "base_numbering": 1,
   "nav_menu": {},
   "number_sections": true,
   "sideBar": true,
   "skip_h1_title": true,
   "title_cell": "Table of Contents",
   "title_sidebar": "Contents",
   "toc_cell": true,
   "toc_position": {},
   "toc_section_display": true,
   "toc_window_display": true
  }
 },
 "nbformat": 4,
 "nbformat_minor": 2
}
