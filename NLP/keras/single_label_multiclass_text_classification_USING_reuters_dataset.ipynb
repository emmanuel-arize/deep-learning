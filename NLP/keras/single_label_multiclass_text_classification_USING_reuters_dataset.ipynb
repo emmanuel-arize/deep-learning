{
 "cells": [
  {
   "cell_type": "markdown",
   "metadata": {},
   "source": [
    "# Reuters dataset\n",
    "Reuters dataset is a set of short newswires with 46 different topics widely used for text classification and was published by Reuters in 1986. The dataset has some topics more represented than others"
   ]
  },
  {
   "cell_type": "markdown",
   "metadata": {},
   "source": [
    "# loading the needed packages"
   ]
  },
  {
   "cell_type": "code",
   "execution_count": 1,
   "metadata": {
    "ExecuteTime": {
     "end_time": "2020-08-11T20:28:21.390936Z",
     "start_time": "2020-08-11T20:28:08.440715Z"
    }
   },
   "outputs": [
    {
     "name": "stderr",
     "output_type": "stream",
     "text": [
      "Using TensorFlow backend.\n"
     ]
    }
   ],
   "source": [
    "from keras.datasets import reuters\n",
    "import keras\n",
    "import nltk\n",
    "import numpy as np\n",
    "import pandas as pd\n",
    "import collections\n",
    "import matplotlib.pyplot as plt\n",
    "import seaborn as sns\n",
    "%matplotlib inline"
   ]
  },
  {
   "cell_type": "markdown",
   "metadata": {},
   "source": [
    "loading the reuters dataset"
   ]
  },
  {
   "cell_type": "code",
   "execution_count": 2,
   "metadata": {
    "ExecuteTime": {
     "end_time": "2020-08-11T20:28:22.364266Z",
     "start_time": "2020-08-11T20:28:21.395935Z"
    }
   },
   "outputs": [
    {
     "name": "stderr",
     "output_type": "stream",
     "text": [
      "C:\\Anaconda3\\lib\\site-packages\\keras\\datasets\\reuters.py:85: VisibleDeprecationWarning: Creating an ndarray from ragged nested sequences (which is a list-or-tuple of lists-or-tuples-or ndarrays with different lengths or shapes) is deprecated. If you meant to do this, you must specify 'dtype=object' when creating the ndarray\n",
      "  x_train, y_train = np.array(xs[:idx]), np.array(labels[:idx])\n",
      "C:\\Anaconda3\\lib\\site-packages\\keras\\datasets\\reuters.py:86: VisibleDeprecationWarning: Creating an ndarray from ragged nested sequences (which is a list-or-tuple of lists-or-tuples-or ndarrays with different lengths or shapes) is deprecated. If you meant to do this, you must specify 'dtype=object' when creating the ndarray\n",
      "  x_test, y_test = np.array(xs[idx:]), np.array(labels[idx:])\n"
     ]
    }
   ],
   "source": [
    "(train_data, train_labels), (test_data, test_labels) = reuters.load_data(\n",
    "num_words=10000)"
   ]
  },
  {
   "cell_type": "code",
   "execution_count": 3,
   "metadata": {
    "ExecuteTime": {
     "end_time": "2020-08-11T20:28:22.378262Z",
     "start_time": "2020-08-11T20:28:22.369266Z"
    }
   },
   "outputs": [
    {
     "name": "stdout",
     "output_type": "stream",
     "text": [
      "shape of the training set(8982,)\n",
      "shape of the testing set(2246,)\n"
     ]
    }
   ],
   "source": [
    "print('shape of the training set'+str(train_data.shape))\n",
    "print('shape of the testing set'+str(test_data.shape))"
   ]
  },
  {
   "cell_type": "markdown",
   "metadata": {},
   "source": [
    "each observation is a list of integers with 1 representing the most frequent occuring word, 2 the second most frequent occuring word and in that order"
   ]
  },
  {
   "cell_type": "code",
   "execution_count": 4,
   "metadata": {
    "ExecuteTime": {
     "end_time": "2020-08-11T20:28:22.394263Z",
     "start_time": "2020-08-11T20:28:22.384265Z"
    }
   },
   "outputs": [
    {
     "name": "stdout",
     "output_type": "stream",
     "text": [
      "[1, 2, 2, 8, 43, 10, 447, 5, 25, 207, 270, 5, 3095, 111, 16, 369, 186, 90, 67, 7, 89, 5, 19, 102, 6, 19, 124, 15, 90, 67, 84, 22, 482, 26, 7, 48, 4, 49, 8, 864, 39, 209, 154, 6, 151, 6, 83, 11, 15, 22, 155, 11, 15, 7, 48, 9, 4579, 1005, 504, 6, 258, 6, 272, 11, 15, 22, 134, 44, 11, 15, 16, 8, 197, 1245, 90, 67, 52, 29, 209, 30, 32, 132, 6, 109, 15, 17, 12]\n"
     ]
    }
   ],
   "source": [
    "print(train_data[0])"
   ]
  },
  {
   "cell_type": "markdown",
   "metadata": {},
   "source": [
    "getting the word index that is getting the words for which each integer in the data set represent. This is a dictionary, mapping each word to their respective integer (word:integer)"
   ]
  },
  {
   "cell_type": "code",
   "execution_count": 5,
   "metadata": {
    "ExecuteTime": {
     "end_time": "2020-08-11T20:28:22.465259Z",
     "start_time": "2020-08-11T20:28:22.399264Z"
    }
   },
   "outputs": [],
   "source": [
    "words_index = reuters.get_word_index()"
   ]
  },
  {
   "cell_type": "markdown",
   "metadata": {},
   "source": [
    "reversing word$\\textbf{:}$integer to integer$\\textbf{:}$word"
   ]
  },
  {
   "cell_type": "code",
   "execution_count": 6,
   "metadata": {
    "ExecuteTime": {
     "end_time": "2020-08-11T20:28:22.501266Z",
     "start_time": "2020-08-11T20:28:22.472265Z"
    },
    "scrolled": false
   },
   "outputs": [],
   "source": [
    "index_to_words = {integer+3:word for word, integer in words_index.items()}\n",
    "index_to_words[0]='PAD'\n",
    "index_to_words[1]='START'\n",
    "index_to_words[2]='UNKNOWN'"
   ]
  },
  {
   "cell_type": "code",
   "execution_count": 7,
   "metadata": {
    "ExecuteTime": {
     "end_time": "2020-08-11T20:28:22.534264Z",
     "start_time": "2020-08-11T20:28:22.515261Z"
    }
   },
   "outputs": [
    {
     "data": {
      "text/plain": [
       "('and', 'PAD')"
      ]
     },
     "execution_count": 7,
     "metadata": {},
     "output_type": "execute_result"
    }
   ],
   "source": [
    "index_to_words.get(9),index_to_words.get(0)"
   ]
  },
  {
   "cell_type": "markdown",
   "metadata": {},
   "source": [
    "### joining the words in the first observation (review) in order to view the first review as a sentence"
   ]
  },
  {
   "cell_type": "code",
   "execution_count": 8,
   "metadata": {
    "ExecuteTime": {
     "end_time": "2020-08-11T20:28:22.547262Z",
     "start_time": "2020-08-11T20:28:22.541268Z"
    }
   },
   "outputs": [],
   "source": [
    "# Note that our indices were offset by 3\n",
    "# because 0, 1 and 2 are reserved indices for \"padding\", \"start of sequence\", and \"unknown\".\n",
    "decoded_newswire = ' '.join([index_to_words.get(i) for i in train_data[50]])"
   ]
  },
  {
   "cell_type": "code",
   "execution_count": 9,
   "metadata": {
    "ExecuteTime": {
     "end_time": "2020-08-11T20:28:22.568262Z",
     "start_time": "2020-08-11T20:28:22.557262Z"
    }
   },
   "outputs": [
    {
     "data": {
      "text/plain": [
       "\"START warner communications inc said its warner communications investors inc unit acquired stock and warrants representing 416 668 shares of berkey inc common stock or the equivalent of 8 2 pct of the company's common stock outstanding in a filing with the securities and exchange commission warner communications investors said it paid about one mln dlrs to berkey on september 23 to acquire 104 167 shares of berkey series b convertible preferred stock the preferred stock is convertible into 208 334 berkey common shares and warrants to buy another 208 334 shares warner communications and its subsidiary said the berkey stock is held as an investment which they will review and evaluate from time to time reuter 3\""
      ]
     },
     "execution_count": 9,
     "metadata": {},
     "output_type": "execute_result"
    }
   ],
   "source": [
    "decoded_newswire"
   ]
  },
  {
   "cell_type": "code",
   "execution_count": 10,
   "metadata": {
    "ExecuteTime": {
     "end_time": "2020-08-11T20:28:22.672261Z",
     "start_time": "2020-08-11T20:28:22.574264Z"
    }
   },
   "outputs": [
    {
     "data": {
      "text/plain": [
       "9999"
      ]
     },
     "execution_count": 10,
     "metadata": {},
     "output_type": "execute_result"
    }
   ],
   "source": [
    "max([max(seq) for seq in train_data])"
   ]
  },
  {
   "cell_type": "code",
   "execution_count": 11,
   "metadata": {
    "ExecuteTime": {
     "end_time": "2020-08-11T20:28:22.687262Z",
     "start_time": "2020-08-11T20:28:22.678262Z"
    }
   },
   "outputs": [
    {
     "data": {
      "text/plain": [
       "array([ 3,  4,  3,  4,  4,  4,  4,  3,  3, 16,  3,  3,  4,  4, 19,  8, 16,\n",
       "        3,  3, 21, 11,  4,  4,  3,  3,  1,  3,  1,  3, 16,  1,  4, 13, 20,\n",
       "        1,  4,  4, 11,  3,  3,  3, 11, 16,  4,  4, 20, 18, 25, 19,  3,  4,\n",
       "        3,  4,  3,  4,  3,  3,  4,  4,  3,  4,  4,  3, 19, 35,  8,  4,  4,\n",
       "        3, 16, 25,  3, 11,  3,  9, 16, 38, 10,  4,  4], dtype=int64)"
      ]
     },
     "execution_count": 11,
     "metadata": {},
     "output_type": "execute_result"
    }
   ],
   "source": [
    "train_labels[0:80]"
   ]
  },
  {
   "cell_type": "markdown",
   "metadata": {},
   "source": [
    "<h2>the various categories (classes) for the  labels</h2>"
   ]
  },
  {
   "cell_type": "code",
   "execution_count": 12,
   "metadata": {
    "ExecuteTime": {
     "end_time": "2020-08-11T20:28:22.707264Z",
     "start_time": "2020-08-11T20:28:22.694264Z"
    }
   },
   "outputs": [],
   "source": [
    "names_categories = ['cocoa','grain','veg-oil','earn','acq','wheat','copper','housing','money-supply','coffee','sugar',\n",
    "                    'trade','reserves','ship','cotton','carcass','crude','nat-gas','cpi','money-fx','interest','gnp',\n",
    "                    'meal-feed','alum','oilseed','gold','tin','strategic-metal','livestock','retail','ipi','iron-steel',\n",
    "                    'rubber','heat','jobs','lei','bop','zinc','orange','pet-chem','dlr','gas','silver','wpi','hog','lead']"
   ]
  },
  {
   "cell_type": "markdown",
   "metadata": {},
   "source": [
    "## total number of documents classified under each category"
   ]
  },
  {
   "cell_type": "code",
   "execution_count": 13,
   "metadata": {
    "ExecuteTime": {
     "end_time": "2020-08-11T20:28:22.724265Z",
     "start_time": "2020-08-11T20:28:22.712263Z"
    }
   },
   "outputs": [
    {
     "name": "stdout",
     "output_type": "stream",
     "text": [
      "Counter({3: 3159, 4: 1949, 19: 549, 16: 444, 1: 432, 11: 390, 20: 269, 13: 172, 8: 139, 10: 124, 9: 101, 21: 100, 25: 92, 2: 74, 18: 66, 24: 62, 0: 55, 34: 50, 12: 49, 36: 49, 28: 48, 6: 48, 30: 45, 23: 41, 31: 39, 17: 39, 40: 36, 32: 32, 41: 30, 14: 26, 26: 24, 39: 24, 43: 21, 15: 20, 38: 19, 37: 19, 29: 19, 45: 18, 5: 17, 7: 16, 27: 15, 22: 15, 42: 13, 44: 12, 33: 11, 35: 10})\n"
     ]
    }
   ],
   "source": [
    "train_count=collections.Counter(train_labels)\n",
    "print(train_count)"
   ]
  },
  {
   "cell_type": "code",
   "execution_count": 14,
   "metadata": {
    "ExecuteTime": {
     "end_time": "2020-08-11T20:28:22.738266Z",
     "start_time": "2020-08-11T20:28:22.729264Z"
    }
   },
   "outputs": [
    {
     "name": "stdout",
     "output_type": "stream",
     "text": [
      "{'cocoa': 55, 'grain': 432, 'veg-oil': 74, 'earn': 3159, 'acq': 1949, 'wheat': 17, 'copper': 48, 'housing': 16, 'money-supply': 139, 'coffee': 101, 'sugar': 124, 'trade': 390, 'reserves': 49, 'ship': 172, 'cotton': 26, 'carcass': 20, 'crude': 444, 'nat-gas': 39, 'cpi': 66, 'money-fx': 549, 'interest': 269, 'gnp': 100, 'meal-feed': 15, 'alum': 41, 'oilseed': 62, 'gold': 92, 'tin': 24, 'strategic-metal': 15, 'livestock': 48, 'retail': 19, 'ipi': 45, 'iron-steel': 39, 'rubber': 32, 'heat': 11, 'jobs': 50, 'lei': 10, 'bop': 49, 'zinc': 19, 'orange': 19, 'pet-chem': 24, 'dlr': 36, 'gas': 30, 'silver': 13, 'wpi': 21, 'hog': 12, 'lead': 18}\n"
     ]
    }
   ],
   "source": [
    "mapping=dict([(names_categories[i],train_count[i]) for i in range(46)])\n",
    "print(mapping)"
   ]
  },
  {
   "cell_type": "code",
   "execution_count": 15,
   "metadata": {
    "ExecuteTime": {
     "end_time": "2020-08-11T20:28:50.408659Z",
     "start_time": "2020-08-11T20:28:50.400658Z"
    }
   },
   "outputs": [],
   "source": [
    "labels_count=pd.DataFrame(mapping.items(),columns=['class_name','total_num_of_each_topic_in_docs'])"
   ]
  },
  {
   "cell_type": "code",
   "execution_count": 25,
   "metadata": {
    "ExecuteTime": {
     "end_time": "2020-08-11T20:32:00.892529Z",
     "start_time": "2020-08-11T20:32:00.877535Z"
    }
   },
   "outputs": [
    {
     "name": "stdout",
     "output_type": "stream",
     "text": [
      "         class_name  total_num_of_each_topic_in_docs\n",
      "35              lei                               10\n",
      "33             heat                               11\n",
      "44              hog                               12\n",
      "42           silver                               13\n",
      "22        meal-feed                               15\n",
      "27  strategic-metal                               15\n",
      "7           housing                               16\n",
      "5             wheat                               17\n",
      "45             lead                               18\n",
      "29           retail                               19\n",
      "38           orange                               19\n",
      "37             zinc                               19\n",
      "15          carcass                               20\n",
      "43              wpi                               21\n",
      "26              tin                               24\n",
      "39         pet-chem                               24\n",
      "14           cotton                               26\n",
      "41              gas                               30\n",
      "32           rubber                               32\n",
      "40              dlr                               36\n",
      "17          nat-gas                               39\n",
      "31       iron-steel                               39\n",
      "23             alum                               41\n",
      "30              ipi                               45\n",
      "28        livestock                               48\n",
      "6            copper                               48\n",
      "36              bop                               49\n",
      "12         reserves                               49\n",
      "34             jobs                               50\n",
      "0             cocoa                               55\n",
      "24          oilseed                               62\n",
      "18              cpi                               66\n",
      "2           veg-oil                               74\n",
      "25             gold                               92\n",
      "21              gnp                              100\n",
      "9            coffee                              101\n",
      "10            sugar                              124\n",
      "8      money-supply                              139\n",
      "13             ship                              172\n",
      "20         interest                              269\n",
      "11            trade                              390\n",
      "1             grain                              432\n",
      "16            crude                              444\n",
      "19         money-fx                              549\n",
      "4               acq                             1949\n",
      "3              earn                             3159\n"
     ]
    }
   ],
   "source": [
    "print(labels_count.sort_values(by='total_num_of_each_topic_in_docs'))"
   ]
  },
  {
   "cell_type": "code",
   "execution_count": 20,
   "metadata": {
    "ExecuteTime": {
     "end_time": "2020-08-11T20:29:40.758307Z",
     "start_time": "2020-08-11T20:29:39.784782Z"
    }
   },
   "outputs": [
    {
     "data": {
      "text/plain": [
       "<matplotlib.axes._subplots.AxesSubplot at 0x1714c778d68>"
      ]
     },
     "execution_count": 20,
     "metadata": {},
     "output_type": "execute_result"
    },
    {
     "data": {
      "image/png": "[encoded data removed]",
      "text/plain": [
       "<Figure size 3600x504 with 1 Axes>"
      ]
     },
     "metadata": {},
     "output_type": "display_data"
    }
   ],
   "source": [
    "plt.figure(figsize=(50,7))\n",
    "sns.barplot(x='class_name',y='total_num_of_each_topic_in_docs',data=labels_count)"
   ]
  },
  {
   "cell_type": "code",
   "execution_count": 18,
   "metadata": {
    "ExecuteTime": {
     "end_time": "2020-08-01T23:28:21.382147Z",
     "start_time": "2020-08-01T23:28:21.370148Z"
    }
   },
   "outputs": [
    {
     "data": {
      "text/plain": [
       "FreqDist({3: 3159, 4: 1949, 19: 549, 16: 444, 1: 432, 11: 390, 20: 269, 13: 172, 8: 139, 10: 124, ...})"
      ]
     },
     "execution_count": 18,
     "metadata": {},
     "output_type": "execute_result"
    }
   ],
   "source": [
    "freq_distribution=nltk.FreqDist(train_count)\n",
    "freq_distribution"
   ]
  },
  {
   "cell_type": "code",
   "execution_count": 19,
   "metadata": {
    "ExecuteTime": {
     "end_time": "2020-08-01T23:28:22.087186Z",
     "start_time": "2020-08-01T23:28:21.487149Z"
    }
   },
   "outputs": [
    {
     "data": {
      "image/png": "[encoded data removed]",
      "text/plain": [
       "<Figure size 864x432 with 1 Axes>"
      ]
     },
     "metadata": {},
     "output_type": "display_data"
    }
   ],
   "source": [
    "plt.figure(figsize=(12,6))\n",
    "freq_distribution.plot(title='Frequency distribution of the various categories')"
   ]
  },
  {
   "cell_type": "code",
   "execution_count": 20,
   "metadata": {
    "ExecuteTime": {
     "end_time": "2020-08-01T23:28:22.308184Z",
     "start_time": "2020-08-01T23:28:22.301189Z"
    }
   },
   "outputs": [],
   "source": [
    "def vectorize_sequences(sequences,dim=10000):\n",
    "    result=np.zeros((len(sequences),dim))\n",
    "    for i,seq in enumerate(sequences):\n",
    "        result[i,seq]=1\n",
    "    return result"
   ]
  },
  {
   "cell_type": "code",
   "execution_count": 21,
   "metadata": {
    "ExecuteTime": {
     "end_time": "2020-08-01T23:28:24.575321Z",
     "start_time": "2020-08-01T23:28:23.577889Z"
    }
   },
   "outputs": [],
   "source": [
    "x_train = vectorize_sequences(train_data)\n",
    "x_test = vectorize_sequences(test_data)"
   ]
  },
  {
   "cell_type": "code",
   "execution_count": 22,
   "metadata": {
    "ExecuteTime": {
     "end_time": "2020-08-01T23:28:24.590311Z",
     "start_time": "2020-08-01T23:28:24.580305Z"
    }
   },
   "outputs": [
    {
     "data": {
      "text/plain": [
       "array([0., 1., 1., ..., 0., 0., 0.])"
      ]
     },
     "execution_count": 22,
     "metadata": {},
     "output_type": "execute_result"
    }
   ],
   "source": [
    "x_train[0]"
   ]
  },
  {
   "cell_type": "code",
   "execution_count": null,
   "metadata": {},
   "outputs": [],
   "source": []
  },
  {
   "cell_type": "markdown",
   "metadata": {},
   "source": [
    "# vectorizing the labels using one hot encoding"
   ]
  },
  {
   "cell_type": "code",
   "execution_count": 23,
   "metadata": {
    "ExecuteTime": {
     "end_time": "2020-08-01T23:28:25.451658Z",
     "start_time": "2020-08-01T23:28:25.443659Z"
    }
   },
   "outputs": [],
   "source": [
    "def to_one_hot(labels, dimension=46):\n",
    "    results = np.zeros((len(labels), dimension))\n",
    "    for i, label in enumerate(labels):\n",
    "        results[i, label] = 1.\n",
    "    return results"
   ]
  },
  {
   "cell_type": "code",
   "execution_count": 24,
   "metadata": {
    "ExecuteTime": {
     "end_time": "2020-08-01T23:28:32.015953Z",
     "start_time": "2020-08-01T23:28:31.996951Z"
    }
   },
   "outputs": [],
   "source": [
    "one_hot_train_labels = to_one_hot(train_labels)\n",
    "one_hot_test_labels = to_one_hot(test_labels)"
   ]
  },
  {
   "cell_type": "code",
   "execution_count": 25,
   "metadata": {
    "ExecuteTime": {
     "end_time": "2020-08-01T23:28:32.746267Z",
     "start_time": "2020-08-01T23:28:32.738263Z"
    }
   },
   "outputs": [
    {
     "data": {
      "text/plain": [
       "array([0., 0., 0., 1., 0., 0., 0., 0., 0., 0., 0., 0., 0., 0., 0., 0., 0.,\n",
       "       0., 0., 0., 0., 0., 0., 0., 0., 0., 0., 0., 0., 0., 0., 0., 0., 0.,\n",
       "       0., 0., 0., 0., 0., 0., 0., 0., 0., 0., 0., 0.])"
      ]
     },
     "execution_count": 25,
     "metadata": {},
     "output_type": "execute_result"
    }
   ],
   "source": [
    "one_hot_train_labels[0]"
   ]
  },
  {
   "cell_type": "markdown",
   "metadata": {},
   "source": [
    "## using keras builtin function"
   ]
  },
  {
   "cell_type": "code",
   "execution_count": 26,
   "metadata": {
    "ExecuteTime": {
     "end_time": "2020-08-01T23:28:33.590210Z",
     "start_time": "2020-08-01T23:28:33.586223Z"
    }
   },
   "outputs": [],
   "source": [
    "from keras.utils import to_categorical"
   ]
  },
  {
   "cell_type": "code",
   "execution_count": 27,
   "metadata": {
    "ExecuteTime": {
     "end_time": "2020-08-01T23:28:33.694209Z",
     "start_time": "2020-08-01T23:28:33.687208Z"
    }
   },
   "outputs": [],
   "source": [
    "one_hot_labels=to_categorical(train_labels)"
   ]
  },
  {
   "cell_type": "code",
   "execution_count": 28,
   "metadata": {
    "ExecuteTime": {
     "end_time": "2020-08-01T23:28:34.205208Z",
     "start_time": "2020-08-01T23:28:34.196210Z"
    }
   },
   "outputs": [
    {
     "data": {
      "text/plain": [
       "array([0., 0., 0., 1., 0., 0., 0., 0., 0., 0., 0., 0., 0., 0., 0., 0., 0.,\n",
       "       0., 0., 0., 0., 0., 0., 0., 0., 0., 0., 0., 0., 0., 0., 0., 0., 0.,\n",
       "       0., 0., 0., 0., 0., 0., 0., 0., 0., 0., 0., 0.], dtype=float32)"
      ]
     },
     "execution_count": 28,
     "metadata": {},
     "output_type": "execute_result"
    }
   ],
   "source": [
    "one_hot_labels[0]"
   ]
  },
  {
   "cell_type": "markdown",
   "metadata": {},
   "source": [
    "# building our model"
   ]
  },
  {
   "cell_type": "code",
   "execution_count": 29,
   "metadata": {
    "ExecuteTime": {
     "end_time": "2020-08-01T23:28:35.008350Z",
     "start_time": "2020-08-01T23:28:34.675211Z"
    }
   },
   "outputs": [],
   "source": [
    "def network(input_dim):\n",
    "    net=keras.models.Sequential()\n",
    "    net.add(keras.layers.Dense(52,activation='relu',input_shape=(input_dim,)))\n",
    "    net.add(keras.layers.Dense(30,activation='relu'))\n",
    "    net.add(keras.layers.Dropout(rate=0.001))\n",
    "    net.add(keras.layers.Dense(46,activation='softmax'))\n",
    "    net.compile(optimizer='rmsprop',loss='categorical_crossentropy',metrics=['accuracy'])\n",
    "    return net\n",
    "\n",
    "model=network(input_dim=10000)"
   ]
  },
  {
   "cell_type": "code",
   "execution_count": 30,
   "metadata": {
    "ExecuteTime": {
     "end_time": "2020-08-01T23:28:35.021353Z",
     "start_time": "2020-08-01T23:28:35.014352Z"
    }
   },
   "outputs": [],
   "source": [
    "x_val = x_train[:1000]\n",
    "x_training = x_train[1000:]\n",
    "y_val = one_hot_train_labels[:1000]\n",
    "y_training = one_hot_train_labels[1000:]"
   ]
  },
  {
   "cell_type": "code",
   "execution_count": 31,
   "metadata": {
    "ExecuteTime": {
     "end_time": "2020-08-01T23:28:35.244122Z",
     "start_time": "2020-08-01T23:28:35.238121Z"
    }
   },
   "outputs": [
    {
     "data": {
      "text/plain": [
       "((1000, 10000), (7982, 10000))"
      ]
     },
     "execution_count": 31,
     "metadata": {},
     "output_type": "execute_result"
    }
   ],
   "source": [
    "x_val.shape,x_training.shape"
   ]
  },
  {
   "cell_type": "markdown",
   "metadata": {},
   "source": [
    "training the model"
   ]
  },
  {
   "cell_type": "code",
   "execution_count": 32,
   "metadata": {
    "ExecuteTime": {
     "end_time": "2020-08-01T23:29:03.158490Z",
     "start_time": "2020-08-01T23:28:36.386658Z"
    },
    "scrolled": true
   },
   "outputs": [
    {
     "name": "stdout",
     "output_type": "stream",
     "text": [
      "Train on 7982 samples, validate on 1000 samples\n",
      "Epoch 1/13\n",
      "7982/7982 [==============================] - 4s 550us/step - loss: 3.0552 - accuracy: 0.4460 - val_loss: 2.2559 - val_accuracy: 0.6050\n",
      "Epoch 2/13\n",
      "7982/7982 [==============================] - 2s 271us/step - loss: 1.8220 - accuracy: 0.6642 - val_loss: 1.5770 - val_accuracy: 0.6800\n",
      "Epoch 3/13\n",
      "7982/7982 [==============================] - 2s 209us/step - loss: 1.3027 - accuracy: 0.7360 - val_loss: 1.3115 - val_accuracy: 0.7230\n",
      "Epoch 4/13\n",
      "7982/7982 [==============================] - 2s 205us/step - loss: 1.0452 - accuracy: 0.7839 - val_loss: 1.1840 - val_accuracy: 0.7370\n",
      "Epoch 5/13\n",
      "7982/7982 [==============================] - 2s 215us/step - loss: 0.8649 - accuracy: 0.8153 - val_loss: 1.0915 - val_accuracy: 0.7650\n",
      "Epoch 6/13\n",
      "7982/7982 [==============================] - 2s 229us/step - loss: 0.7190 - accuracy: 0.8459 - val_loss: 1.0233 - val_accuracy: 0.7760\n",
      "Epoch 7/13\n",
      "7982/7982 [==============================] - 2s 214us/step - loss: 0.5986 - accuracy: 0.8758 - val_loss: 0.9831 - val_accuracy: 0.7990\n",
      "Epoch 8/13\n",
      "7982/7982 [==============================] - 2s 232us/step - loss: 0.5019 - accuracy: 0.8953 - val_loss: 0.9566 - val_accuracy: 0.7990\n",
      "Epoch 9/13\n",
      "7982/7982 [==============================] - 2s 234us/step - loss: 0.4192 - accuracy: 0.9122 - val_loss: 0.9399 - val_accuracy: 0.8090\n",
      "Epoch 10/13\n",
      "7982/7982 [==============================] - 2s 244us/step - loss: 0.3545 - accuracy: 0.9241 - val_loss: 0.9277 - val_accuracy: 0.8150\n",
      "Epoch 11/13\n",
      "7982/7982 [==============================] - 2s 232us/step - loss: 0.3006 - accuracy: 0.9350 - val_loss: 0.9302 - val_accuracy: 0.8230\n",
      "Epoch 12/13\n",
      "7982/7982 [==============================] - 2s 221us/step - loss: 0.2601 - accuracy: 0.9434 - val_loss: 0.9408 - val_accuracy: 0.8160\n",
      "Epoch 13/13\n",
      "7982/7982 [==============================] - 2s 211us/step - loss: 0.2226 - accuracy: 0.9491 - val_loss: 0.9618 - val_accuracy: 0.8140\n"
     ]
    }
   ],
   "source": [
    "history=model.fit(x=x_training,y=y_training,batch_size=500,epochs=13,validation_data=(x_val,y_val))"
   ]
  },
  {
   "cell_type": "code",
   "execution_count": 33,
   "metadata": {
    "ExecuteTime": {
     "end_time": "2020-08-01T23:29:04.507214Z",
     "start_time": "2020-08-01T23:29:03.167491Z"
    }
   },
   "outputs": [
    {
     "name": "stdout",
     "output_type": "stream",
     "text": [
      "2246/2246 [==============================] - 1s 576us/step\n"
     ]
    }
   ],
   "source": [
    "loss,acc = model.evaluate(x_test, one_hot_test_labels)"
   ]
  },
  {
   "cell_type": "code",
   "execution_count": 34,
   "metadata": {
    "ExecuteTime": {
     "end_time": "2020-08-01T23:29:04.578218Z",
     "start_time": "2020-08-01T23:29:04.542216Z"
    }
   },
   "outputs": [
    {
     "data": {
      "text/plain": [
       "0.7858415246009827"
      ]
     },
     "execution_count": 34,
     "metadata": {},
     "output_type": "execute_result"
    }
   ],
   "source": [
    "acc"
   ]
  },
  {
   "cell_type": "code",
   "execution_count": 35,
   "metadata": {
    "ExecuteTime": {
     "end_time": "2020-08-01T23:29:04.624217Z",
     "start_time": "2020-08-01T23:29:04.590217Z"
    }
   },
   "outputs": [
    {
     "data": {
      "text/plain": [
       "1.0286675380577706"
      ]
     },
     "execution_count": 35,
     "metadata": {},
     "output_type": "execute_result"
    }
   ],
   "source": [
    "loss"
   ]
  },
  {
   "cell_type": "code",
   "execution_count": null,
   "metadata": {},
   "outputs": [],
   "source": []
  },
  {
   "cell_type": "code",
   "execution_count": null,
   "metadata": {},
   "outputs": [],
   "source": []
  },
  {
   "cell_type": "code",
   "execution_count": null,
   "metadata": {},
   "outputs": [],
   "source": []
  },
  {
   "cell_type": "code",
   "execution_count": null,
   "metadata": {},
   "outputs": [],
   "source": []
  }
 ],
 "metadata": {
  "kernelspec": {
   "display_name": "Python 3",
   "language": "python",
   "name": "python3"
  },
  "language_info": {
   "codemirror_mode": {
    "name": "ipython",
    "version": 3
   },
   "file_extension": ".py",
   "mimetype": "text/x-python",
   "name": "python",
   "nbconvert_exporter": "python",
   "pygments_lexer": "ipython3",
   "version": "3.6.5"
  }
 },
 "nbformat": 4,
 "nbformat_minor": 2
}
